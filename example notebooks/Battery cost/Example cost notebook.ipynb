{
 "cells": [
  {
   "cell_type": "markdown",
   "id": "37702f32",
   "metadata": {},
   "source": [
    "# Battery manufacturing costs example\n"
   ]
  },
  {
   "cell_type": "markdown",
   "id": "f77aa702",
   "metadata": {},
   "source": [
    "The following notebook provides an example of the battery cost model. "
   ]
  },
  {
   "cell_type": "markdown",
   "id": "1063794e",
   "metadata": {},
   "source": [
    "The price of the battery are determined ..\n",
    "\n",
    "Battery manufacturing costs are calculated through both methods. \n",
    "\n",
    "Price vector methods for upstream materials.... \n",
    "\n",
    "\n",
    "Value added per process ($b$) is determined for each battery system.. "
   ]
  },
  {
   "cell_type": "code",
   "execution_count": 2,
   "id": "0d07409b",
   "metadata": {},
   "outputs": [],
   "source": [
    "#Import required packages\n",
    "import numpy as np\n",
    "import pandas as pd\n",
    "import brightway2 as bw\n",
    "import sys\n",
    "import matplotlib.pyplot as plt\n",
    "\n",
    "#Import the battery design module from a local path\n",
    "local_path =r\"C:\\Users\\Joris\\OneDrive - Newcastle University\\Python\\Projects\\Batt_Sust_Model-1\\batt_sust_model\" #ADD PATH\n",
    "sys.path.insert(1, local_path)\n",
    "from battery_design import battery_design as bd\n",
    "import battery_cost as bat_cost\n",
    "import battery_emissions as bat_lca\n",
    "\n",
    "#Local path to BatPaC version 5\n",
    "path_batpac = r\"C:\\Users\\Joris\\OneDrive - Newcastle University\\PhD\\Models\\battery_sustainability_model\\Case study\\BatPaC 5.0 - 8March2022.xlsm\"#ADD PATH\n",
    "\n"
   ]
  },
  {
   "cell_type": "markdown",
   "id": "242d6b8d-887c-4890-9870-27aa313bdc6e",
   "metadata": {},
   "source": [
    "## Calculate battery design\n",
    "First, the material content of a single battery is obtained. The design of the Volkswagen ID.4. See also the battery design example notebook"
   ]
  },
  {
   "cell_type": "code",
   "execution_count": 3,
   "id": "3fe5040f",
   "metadata": {},
   "outputs": [],
   "source": [
    "#Establish battery system class of specific design:\n",
    "battery = bd.Battery_system (    \n",
    "                             vehicle_type='EV', \n",
    "                             electrode_pair='NMC622-G (Energy)',                              \n",
    "                             cells_per_module=24, \n",
    "                             modules_per_row=6,\n",
    "                             rows_of_modules=2, \n",
    "                             sep_film_thickness = 17,\n",
    "                             negative_foil_thickness = 12,\n",
    "                             positive_foil_thickness = 14,\n",
    "                             positive_electrode_thickness = 87.3,\n",
    "                             cells_in_parallel=3, #https://static.nhtsa.gov/odi/tsbs/2021/MC-10186407-0001.pdf\n",
    "                             modules_in_parallel = 1,  \n",
    "                             silicon_anode= 0.00, \n",
    "                             calculate_fast_charge = 'Yes',\n",
    "                             max_charging_time = 33,  \n",
    "                             max_charge_power = 135, \n",
    "                             available_energy=94,\n",
    "                             A_coefficient=135.9999272, #based on EPA data\n",
    "                             B_coefficient= 3.732390689,#based on EPA data\n",
    "                             C_coefficient=0.406771986,#based on EPA data\n",
    "                             vehicle_range_miles =410*0.6214, #EV-database using the 'EVDB Real Range' (converted to miles) https://ev-database.org/car/1273/Volkswagen-ID4-1st\n",
    "                             motor_power = 150 #Based on adac.de VW ID.4 Pro Performance https://www.adac.de/rund-ums-fahrzeug/auto       \n",
    "                             )\n",
    "#Establish parameter dictionary\n",
    "parameter_dict = battery.parameter_dictionary()"
   ]
  },
  {
   "cell_type": "code",
   "execution_count": 4,
   "id": "7da8e83d",
   "metadata": {},
   "outputs": [],
   "source": [
    "# #Solve battery design in BatPaC returning nested dictionary with material contents and parameter values\n",
    "# #Make sure BatPaC is not open or running in the background\n",
    "bp_output = bd.solve_batpac_battery_system (batpac_path = path_batpac, parameter_dict=parameter_dict, visible=True)"
   ]
  },
  {
   "cell_type": "markdown",
   "id": "3645bd0d-5647-4513-a9b2-a762f0ef33d2",
   "metadata": {},
   "source": [
    "## Calculate the factor requirement matrix ($\\mathbf{F}$)"
   ]
  },
  {
   "cell_type": "markdown",
   "id": "30be5b1a",
   "metadata": {},
   "source": [
    "The factor requirements included are land/building area, capital equipment and labour.\n",
    "\n",
    "The factor requirement matrix ($\\mathbf{F}$) represents the factors (rows) and battery production processes (columns). \n",
    "\n",
    "Factor requirement ($F$) for all battery production process are based on the calculations of BatPaC as described in the BatPaC manual. Here factor requirements are adjusted to account for varying production volumes with the following equation:\n",
    "$$F= F_b \\left(\\frac{P}{P_b}\\right)^p$$\n",
    "\n",
    "where $F_b$ refers to the baseline factor requirement matrix, $P$ to the modelled annual production process rate, $P_b$ to the base line process rate and $p$ is the scale factor. $F_b$, $P_b$ and $p$ are obtained from BatPaC.\n",
    "\n",
    "\n",
    "The BatPaC calculations are used and converted to a Python model"
   ]
  },
  {
   "cell_type": "code",
   "execution_count": 5,
   "id": "6c03c3da-6b13-417b-af4f-1cdf4c4f482d",
   "metadata": {},
   "outputs": [],
   "source": [
    "#Convert BatPaC output to Brightway project parameter names \n",
    "result_dict = bat_lca.output_as_bw_param(bp_output)\n",
    "\n",
    "# Append additional project parameters and recalculate project parameters (e.g. total anode active material based on process yield)\n",
    "result_dict = {**bat_lca.get_project_parameters_dict(bp_output), **result_dict}\n",
    "#Append battery design parameters:\n",
    "result_dict.update(bp_output['general_battery_parameters'])"
   ]
  },
  {
   "cell_type": "markdown",
   "id": "82d2e44b",
   "metadata": {},
   "source": [
    "The factors_battery_production function returns the annual physical factor requirement matrix for land (m2) and labour (hr) and monetary value for capital requirement for a desired production capacity"
   ]
  },
  {
   "cell_type": "code",
   "execution_count": 6,
   "id": "12da6694",
   "metadata": {},
   "outputs": [],
   "source": [
    "#Define annual manufacturing capacity (packs per year)\n",
    "result_dict['battery_manufacturing_capacity'] = 500000\n",
    "\n",
    "#Returns the aggregated matrix whereby the processes match the LCA processes:\n",
    "F = bat_cost.factors_battery_production(result_dict, return_aggregated=True)"
   ]
  },
  {
   "cell_type": "code",
   "execution_count": 7,
   "id": "a9654096",
   "metadata": {},
   "outputs": [
    {
     "data": {
      "image/png": "[encoded data removed]",
      "text/plain": [
       "<Figure size 576x720 with 3 Axes>"
      ]
     },
     "metadata": {
      "needs_background": "light"
     },
     "output_type": "display_data"
    }
   ],
   "source": [
    "fig, ax = plt.subplots(3,1, sharex=True, figsize=(8,10))\n",
    "for i, row in enumerate(F.index):\n",
    "    F.loc[row].plot.bar(ax=ax[i], zorder=2)\n",
    "    ax[i].set_title(row)\n",
    "    ax[i].grid(lw=0.4, axis='y', zorder=0)\n",
    "ax[0].set_ylabel('hours per year')\n",
    "ax[1].set_ylabel('Million $ per year')\n",
    "ax[2].set_ylabel(r'm$^2$')\n",
    "fig.tight_layout()"
   ]
  },
  {
   "cell_type": "markdown",
   "id": "10dfdf10",
   "metadata": {},
   "source": [
    "The monetary $\\bf{F}$ matrix ($\\bf{F}_m$) can be obtained by multiplying $\\bf{F}$ with the factor cost ($\\mathbf{\\pi}$). \n",
    "\n",
    "The operating expenses (e.g. R&D investments and depreciation rates) are allocated to the factor cost based on the multipliers for overhead to basic costs as used in BatPaC.\n",
    "\n",
    "\n"
   ]
  },
  {
   "cell_type": "code",
   "execution_count": 8,
   "id": "c8c8e109",
   "metadata": {},
   "outputs": [],
   "source": [
    "#Default BatPaC values (labour ($/hr), capital ($) land ($/m2)):\n",
    "factor_cost          = pd.Series([25, 1000000, 3000], index=['labour', 'capital', 'land'])\n",
    "factor_cost_multiplier = pd.Series(bat_cost.factor_overhead_multiplier())\n",
    "#Monetary factor requirement matrix:\n",
    "F_m = ((factor_cost*factor_cost_multiplier)*F.T).T\n"
   ]
  },
  {
   "cell_type": "markdown",
   "id": "9aaf0747",
   "metadata": {},
   "source": [
    "Using the same factor prices as in BatPaC, the total labour, capital and land cost are identical to the values in BatPaC, sheet 'Cost Breakdown', cell K71, K82, K93"
   ]
  },
  {
   "cell_type": "code",
   "execution_count": 9,
   "id": "d1c46e46",
   "metadata": {},
   "outputs": [
    {
     "data": {
      "text/plain": [
       "labour      287.583151\n",
       "capital    1845.062664\n",
       "land        224.227973\n",
       "dtype: float64"
      ]
     },
     "execution_count": 9,
     "metadata": {},
     "output_type": "execute_result"
    }
   ],
   "source": [
    "F_m.sum(axis=1)/500000"
   ]
  },
  {
   "cell_type": "markdown",
   "id": "0ae34dcf",
   "metadata": {},
   "source": [
    "## Calculate material cost matrix ($\\mathbf{C}$)\n",
    "\n",
    "The material cost matrix is based on the computational structure for life cycle cost (see also [Moreau and Weidema, 2015](https://link.springer.com/article/10.1007/s11367-015-0952-1) and [Heijungs et al., 2013](https://link.springer.com/article/10.1007/s11367-012-0461-4)).\n",
    "\n",
    "\n",
    "The material cost matrix, the monetary equivalent of the technology matrix ($\\mathbf{A}$), is obtained by multiplying the technology matrix with the material price vector ($\\mathbf{\\alpha}$) \n",
    "\n",
    "We first obtain the cut-off foreground matrix as a Dataframe as established in the Brightway (see also LCA example notebook)."
   ]
  },
  {
   "cell_type": "code",
   "execution_count": 10,
   "id": "0d710fc3",
   "metadata": {},
   "outputs": [
    {
     "name": "stdout",
     "output_type": "stream",
     "text": [
      "Biosphere database already present!!! No setup is needed\n"
     ]
    }
   ],
   "source": [
    "#Brightway2 general setup:\n",
    "bw.projects.set_current('parameterised_battery_lca')\n",
    "bw.bw2setup()\n",
    "#Import ecoinvent 3.7.1:\n",
    "if 'eidb 3.7' in bw.databases:\n",
    "    pass\n",
    "else:\n",
    "    pathi37 = 'path to ecoinvent'\n",
    "    eidb37 = bw.SingleOutputEcospold2Importer(pathi37, 'eidb 3.7')\n",
    "    eidb37.apply_strategies()\n",
    "    eidb37.statistics()\n"
   ]
  },
  {
   "cell_type": "code",
   "execution_count": 11,
   "id": "90b97571",
   "metadata": {},
   "outputs": [],
   "source": [
    "# First the Brightway project parameters are updated\n",
    "bat_lca.update_param_battery_bw(result_dict)\n",
    "\n",
    "\n",
    "# # Cut off the exchanges if activity if present in the 'cut off database'. E.g. 6um copper foil production is present in the 'cut of database' and will be cut in the anode coating process. All cut-off exchanges are set to zero\n",
    "a = bat_lca.modules_with_cuts('cut_off')"
   ]
  },
  {
   "cell_type": "code",
   "execution_count": 12,
   "id": "425c2de2",
   "metadata": {},
   "outputs": [
    {
     "data": {
      "text/html": [
       "<div>\n",
       "<style scoped>\n",
       "    .dataframe tbody tr th:only-of-type {\n",
       "        vertical-align: middle;\n",
       "    }\n",
       "\n",
       "    .dataframe tbody tr th {\n",
       "        vertical-align: top;\n",
       "    }\n",
       "\n",
       "    .dataframe thead th {\n",
       "        text-align: right;\n",
       "    }\n",
       "</style>\n",
       "<table border=\"1\" class=\"dataframe\">\n",
       "  <thead>\n",
       "    <tr style=\"text-align: right;\">\n",
       "      <th></th>\n",
       "      <th>cathode current collector Al (15um) production</th>\n",
       "      <th>mixing cathode materials</th>\n",
       "      <th>busbar production</th>\n",
       "      <th>separator (11um) production</th>\n",
       "      <th>cell group interconnect production</th>\n",
       "      <th>NMC811 precursor production</th>\n",
       "      <th>coated separator (5um+2um) production</th>\n",
       "      <th>cathode current collector Al (14um) production</th>\n",
       "      <th>module interconnect panels production</th>\n",
       "      <th>jelly roll enclosing</th>\n",
       "      <th>...</th>\n",
       "      <th>market for module elastomer pads</th>\n",
       "      <th>cathode electrode scrap handling</th>\n",
       "      <th>pack terminals production</th>\n",
       "      <th>anode binder additive (SBR) production</th>\n",
       "      <th>deep drawing, steel, 10000 kN press, single stroke</th>\n",
       "      <th>cathode current collector Al (10um) production</th>\n",
       "      <th>separator (17um) production</th>\n",
       "      <th>market for wastewater, average</th>\n",
       "      <th>anode current collector Cu (10um) production</th>\n",
       "      <th>cell stacking</th>\n",
       "    </tr>\n",
       "  </thead>\n",
       "  <tbody>\n",
       "    <tr>\n",
       "      <th>cathode current collector Al (15um)</th>\n",
       "      <td>1.0</td>\n",
       "      <td>0.000000</td>\n",
       "      <td>0.0</td>\n",
       "      <td>0</td>\n",
       "      <td>0.0</td>\n",
       "      <td>0.0</td>\n",
       "      <td>0.0</td>\n",
       "      <td>0.0</td>\n",
       "      <td>0</td>\n",
       "      <td>0.0</td>\n",
       "      <td>...</td>\n",
       "      <td>0.0</td>\n",
       "      <td>0</td>\n",
       "      <td>0.0</td>\n",
       "      <td>0.0</td>\n",
       "      <td>0</td>\n",
       "      <td>0.0</td>\n",
       "      <td>0</td>\n",
       "      <td>0</td>\n",
       "      <td>0.0</td>\n",
       "      <td>0.000000</td>\n",
       "    </tr>\n",
       "    <tr>\n",
       "      <th>cathode slurry</th>\n",
       "      <td>0.0</td>\n",
       "      <td>0.443003</td>\n",
       "      <td>0.0</td>\n",
       "      <td>0</td>\n",
       "      <td>0.0</td>\n",
       "      <td>0.0</td>\n",
       "      <td>0.0</td>\n",
       "      <td>0.0</td>\n",
       "      <td>0</td>\n",
       "      <td>0.0</td>\n",
       "      <td>...</td>\n",
       "      <td>0.0</td>\n",
       "      <td>0</td>\n",
       "      <td>0.0</td>\n",
       "      <td>0.0</td>\n",
       "      <td>0</td>\n",
       "      <td>0.0</td>\n",
       "      <td>0</td>\n",
       "      <td>0</td>\n",
       "      <td>0.0</td>\n",
       "      <td>0.000000</td>\n",
       "    </tr>\n",
       "    <tr>\n",
       "      <th>busbar</th>\n",
       "      <td>0.0</td>\n",
       "      <td>0.000000</td>\n",
       "      <td>1.0</td>\n",
       "      <td>0</td>\n",
       "      <td>0.0</td>\n",
       "      <td>0.0</td>\n",
       "      <td>0.0</td>\n",
       "      <td>0.0</td>\n",
       "      <td>0</td>\n",
       "      <td>0.0</td>\n",
       "      <td>...</td>\n",
       "      <td>0.0</td>\n",
       "      <td>0</td>\n",
       "      <td>0.0</td>\n",
       "      <td>0.0</td>\n",
       "      <td>0</td>\n",
       "      <td>0.0</td>\n",
       "      <td>0</td>\n",
       "      <td>0</td>\n",
       "      <td>0.0</td>\n",
       "      <td>0.000000</td>\n",
       "    </tr>\n",
       "    <tr>\n",
       "      <th>separator (11um)</th>\n",
       "      <td>0.0</td>\n",
       "      <td>0.000000</td>\n",
       "      <td>0.0</td>\n",
       "      <td>1</td>\n",
       "      <td>0.0</td>\n",
       "      <td>0.0</td>\n",
       "      <td>0.0</td>\n",
       "      <td>0.0</td>\n",
       "      <td>0</td>\n",
       "      <td>0.0</td>\n",
       "      <td>...</td>\n",
       "      <td>0.0</td>\n",
       "      <td>0</td>\n",
       "      <td>0.0</td>\n",
       "      <td>0.0</td>\n",
       "      <td>0</td>\n",
       "      <td>0.0</td>\n",
       "      <td>0</td>\n",
       "      <td>0</td>\n",
       "      <td>0.0</td>\n",
       "      <td>0.000000</td>\n",
       "    </tr>\n",
       "    <tr>\n",
       "      <th>cell group interconnect</th>\n",
       "      <td>0.0</td>\n",
       "      <td>0.000000</td>\n",
       "      <td>0.0</td>\n",
       "      <td>0</td>\n",
       "      <td>1.0</td>\n",
       "      <td>0.0</td>\n",
       "      <td>0.0</td>\n",
       "      <td>0.0</td>\n",
       "      <td>0</td>\n",
       "      <td>0.0</td>\n",
       "      <td>...</td>\n",
       "      <td>0.0</td>\n",
       "      <td>0</td>\n",
       "      <td>0.0</td>\n",
       "      <td>0.0</td>\n",
       "      <td>0</td>\n",
       "      <td>0.0</td>\n",
       "      <td>0</td>\n",
       "      <td>0</td>\n",
       "      <td>0.0</td>\n",
       "      <td>0.000000</td>\n",
       "    </tr>\n",
       "    <tr>\n",
       "      <th>...</th>\n",
       "      <td>...</td>\n",
       "      <td>...</td>\n",
       "      <td>...</td>\n",
       "      <td>...</td>\n",
       "      <td>...</td>\n",
       "      <td>...</td>\n",
       "      <td>...</td>\n",
       "      <td>...</td>\n",
       "      <td>...</td>\n",
       "      <td>...</td>\n",
       "      <td>...</td>\n",
       "      <td>...</td>\n",
       "      <td>...</td>\n",
       "      <td>...</td>\n",
       "      <td>...</td>\n",
       "      <td>...</td>\n",
       "      <td>...</td>\n",
       "      <td>...</td>\n",
       "      <td>...</td>\n",
       "      <td>...</td>\n",
       "      <td>...</td>\n",
       "    </tr>\n",
       "    <tr>\n",
       "      <th>cathode current collector Al (10um)</th>\n",
       "      <td>0.0</td>\n",
       "      <td>0.000000</td>\n",
       "      <td>0.0</td>\n",
       "      <td>0</td>\n",
       "      <td>0.0</td>\n",
       "      <td>0.0</td>\n",
       "      <td>0.0</td>\n",
       "      <td>0.0</td>\n",
       "      <td>0</td>\n",
       "      <td>0.0</td>\n",
       "      <td>...</td>\n",
       "      <td>0.0</td>\n",
       "      <td>0</td>\n",
       "      <td>0.0</td>\n",
       "      <td>0.0</td>\n",
       "      <td>0</td>\n",
       "      <td>1.0</td>\n",
       "      <td>0</td>\n",
       "      <td>0</td>\n",
       "      <td>0.0</td>\n",
       "      <td>0.000000</td>\n",
       "    </tr>\n",
       "    <tr>\n",
       "      <th>separator (17um)</th>\n",
       "      <td>0.0</td>\n",
       "      <td>0.000000</td>\n",
       "      <td>0.0</td>\n",
       "      <td>0</td>\n",
       "      <td>0.0</td>\n",
       "      <td>0.0</td>\n",
       "      <td>0.0</td>\n",
       "      <td>0.0</td>\n",
       "      <td>0</td>\n",
       "      <td>0.0</td>\n",
       "      <td>...</td>\n",
       "      <td>0.0</td>\n",
       "      <td>0</td>\n",
       "      <td>0.0</td>\n",
       "      <td>0.0</td>\n",
       "      <td>0</td>\n",
       "      <td>0.0</td>\n",
       "      <td>1</td>\n",
       "      <td>0</td>\n",
       "      <td>0.0</td>\n",
       "      <td>-0.008335</td>\n",
       "    </tr>\n",
       "    <tr>\n",
       "      <th>wastewater, average</th>\n",
       "      <td>0.0</td>\n",
       "      <td>0.000000</td>\n",
       "      <td>0.0</td>\n",
       "      <td>0</td>\n",
       "      <td>0.0</td>\n",
       "      <td>0.0</td>\n",
       "      <td>0.0</td>\n",
       "      <td>0.0</td>\n",
       "      <td>0</td>\n",
       "      <td>0.0</td>\n",
       "      <td>...</td>\n",
       "      <td>0.0</td>\n",
       "      <td>0</td>\n",
       "      <td>0.0</td>\n",
       "      <td>0.0</td>\n",
       "      <td>0</td>\n",
       "      <td>0.0</td>\n",
       "      <td>0</td>\n",
       "      <td>-1</td>\n",
       "      <td>0.0</td>\n",
       "      <td>0.000000</td>\n",
       "    </tr>\n",
       "    <tr>\n",
       "      <th>anode current collector Cu (10um)</th>\n",
       "      <td>0.0</td>\n",
       "      <td>0.000000</td>\n",
       "      <td>0.0</td>\n",
       "      <td>0</td>\n",
       "      <td>0.0</td>\n",
       "      <td>0.0</td>\n",
       "      <td>0.0</td>\n",
       "      <td>0.0</td>\n",
       "      <td>0</td>\n",
       "      <td>0.0</td>\n",
       "      <td>...</td>\n",
       "      <td>0.0</td>\n",
       "      <td>0</td>\n",
       "      <td>0.0</td>\n",
       "      <td>0.0</td>\n",
       "      <td>0</td>\n",
       "      <td>0.0</td>\n",
       "      <td>0</td>\n",
       "      <td>0</td>\n",
       "      <td>1.0</td>\n",
       "      <td>0.000000</td>\n",
       "    </tr>\n",
       "    <tr>\n",
       "      <th>jelly roll</th>\n",
       "      <td>0.0</td>\n",
       "      <td>0.000000</td>\n",
       "      <td>0.0</td>\n",
       "      <td>0</td>\n",
       "      <td>0.0</td>\n",
       "      <td>0.0</td>\n",
       "      <td>0.0</td>\n",
       "      <td>0.0</td>\n",
       "      <td>0</td>\n",
       "      <td>0.0</td>\n",
       "      <td>...</td>\n",
       "      <td>0.0</td>\n",
       "      <td>0</td>\n",
       "      <td>0.0</td>\n",
       "      <td>0.0</td>\n",
       "      <td>0</td>\n",
       "      <td>0.0</td>\n",
       "      <td>0</td>\n",
       "      <td>0</td>\n",
       "      <td>0.0</td>\n",
       "      <td>0.524232</td>\n",
       "    </tr>\n",
       "  </tbody>\n",
       "</table>\n",
       "<p>132 rows × 132 columns</p>\n",
       "</div>"
      ],
      "text/plain": [
       "                                     cathode current collector Al (15um) production  \\\n",
       "cathode current collector Al (15um)                                             1.0   \n",
       "cathode slurry                                                                  0.0   \n",
       "busbar                                                                          0.0   \n",
       "separator (11um)                                                                0.0   \n",
       "cell group interconnect                                                         0.0   \n",
       "...                                                                             ...   \n",
       "cathode current collector Al (10um)                                             0.0   \n",
       "separator (17um)                                                                0.0   \n",
       "wastewater, average                                                             0.0   \n",
       "anode current collector Cu (10um)                                               0.0   \n",
       "jelly roll                                                                      0.0   \n",
       "\n",
       "                                     mixing cathode materials  \\\n",
       "cathode current collector Al (15um)                  0.000000   \n",
       "cathode slurry                                       0.443003   \n",
       "busbar                                               0.000000   \n",
       "separator (11um)                                     0.000000   \n",
       "cell group interconnect                              0.000000   \n",
       "...                                                       ...   \n",
       "cathode current collector Al (10um)                  0.000000   \n",
       "separator (17um)                                     0.000000   \n",
       "wastewater, average                                  0.000000   \n",
       "anode current collector Cu (10um)                    0.000000   \n",
       "jelly roll                                           0.000000   \n",
       "\n",
       "                                     busbar production  \\\n",
       "cathode current collector Al (15um)                0.0   \n",
       "cathode slurry                                     0.0   \n",
       "busbar                                             1.0   \n",
       "separator (11um)                                   0.0   \n",
       "cell group interconnect                            0.0   \n",
       "...                                                ...   \n",
       "cathode current collector Al (10um)                0.0   \n",
       "separator (17um)                                   0.0   \n",
       "wastewater, average                                0.0   \n",
       "anode current collector Cu (10um)                  0.0   \n",
       "jelly roll                                         0.0   \n",
       "\n",
       "                                     separator (11um) production  \\\n",
       "cathode current collector Al (15um)                            0   \n",
       "cathode slurry                                                 0   \n",
       "busbar                                                         0   \n",
       "separator (11um)                                               1   \n",
       "cell group interconnect                                        0   \n",
       "...                                                          ...   \n",
       "cathode current collector Al (10um)                            0   \n",
       "separator (17um)                                               0   \n",
       "wastewater, average                                            0   \n",
       "anode current collector Cu (10um)                              0   \n",
       "jelly roll                                                     0   \n",
       "\n",
       "                                     cell group interconnect production  \\\n",
       "cathode current collector Al (15um)                                 0.0   \n",
       "cathode slurry                                                      0.0   \n",
       "busbar                                                              0.0   \n",
       "separator (11um)                                                    0.0   \n",
       "cell group interconnect                                             1.0   \n",
       "...                                                                 ...   \n",
       "cathode current collector Al (10um)                                 0.0   \n",
       "separator (17um)                                                    0.0   \n",
       "wastewater, average                                                 0.0   \n",
       "anode current collector Cu (10um)                                   0.0   \n",
       "jelly roll                                                          0.0   \n",
       "\n",
       "                                     NMC811 precursor production  \\\n",
       "cathode current collector Al (15um)                          0.0   \n",
       "cathode slurry                                               0.0   \n",
       "busbar                                                       0.0   \n",
       "separator (11um)                                             0.0   \n",
       "cell group interconnect                                      0.0   \n",
       "...                                                          ...   \n",
       "cathode current collector Al (10um)                          0.0   \n",
       "separator (17um)                                             0.0   \n",
       "wastewater, average                                          0.0   \n",
       "anode current collector Cu (10um)                            0.0   \n",
       "jelly roll                                                   0.0   \n",
       "\n",
       "                                     coated separator (5um+2um) production  \\\n",
       "cathode current collector Al (15um)                                    0.0   \n",
       "cathode slurry                                                         0.0   \n",
       "busbar                                                                 0.0   \n",
       "separator (11um)                                                       0.0   \n",
       "cell group interconnect                                                0.0   \n",
       "...                                                                    ...   \n",
       "cathode current collector Al (10um)                                    0.0   \n",
       "separator (17um)                                                       0.0   \n",
       "wastewater, average                                                    0.0   \n",
       "anode current collector Cu (10um)                                      0.0   \n",
       "jelly roll                                                             0.0   \n",
       "\n",
       "                                     cathode current collector Al (14um) production  \\\n",
       "cathode current collector Al (15um)                                             0.0   \n",
       "cathode slurry                                                                  0.0   \n",
       "busbar                                                                          0.0   \n",
       "separator (11um)                                                                0.0   \n",
       "cell group interconnect                                                         0.0   \n",
       "...                                                                             ...   \n",
       "cathode current collector Al (10um)                                             0.0   \n",
       "separator (17um)                                                                0.0   \n",
       "wastewater, average                                                             0.0   \n",
       "anode current collector Cu (10um)                                               0.0   \n",
       "jelly roll                                                                      0.0   \n",
       "\n",
       "                                     module interconnect panels production  \\\n",
       "cathode current collector Al (15um)                                      0   \n",
       "cathode slurry                                                           0   \n",
       "busbar                                                                   0   \n",
       "separator (11um)                                                         0   \n",
       "cell group interconnect                                                  0   \n",
       "...                                                                    ...   \n",
       "cathode current collector Al (10um)                                      0   \n",
       "separator (17um)                                                         0   \n",
       "wastewater, average                                                      0   \n",
       "anode current collector Cu (10um)                                        0   \n",
       "jelly roll                                                               0   \n",
       "\n",
       "                                     jelly roll enclosing  ...  \\\n",
       "cathode current collector Al (15um)                   0.0  ...   \n",
       "cathode slurry                                        0.0  ...   \n",
       "busbar                                                0.0  ...   \n",
       "separator (11um)                                      0.0  ...   \n",
       "cell group interconnect                               0.0  ...   \n",
       "...                                                   ...  ...   \n",
       "cathode current collector Al (10um)                   0.0  ...   \n",
       "separator (17um)                                      0.0  ...   \n",
       "wastewater, average                                   0.0  ...   \n",
       "anode current collector Cu (10um)                     0.0  ...   \n",
       "jelly roll                                            0.0  ...   \n",
       "\n",
       "                                     market for module elastomer pads  \\\n",
       "cathode current collector Al (15um)                               0.0   \n",
       "cathode slurry                                                    0.0   \n",
       "busbar                                                            0.0   \n",
       "separator (11um)                                                  0.0   \n",
       "cell group interconnect                                           0.0   \n",
       "...                                                               ...   \n",
       "cathode current collector Al (10um)                               0.0   \n",
       "separator (17um)                                                  0.0   \n",
       "wastewater, average                                               0.0   \n",
       "anode current collector Cu (10um)                                 0.0   \n",
       "jelly roll                                                        0.0   \n",
       "\n",
       "                                     cathode electrode scrap handling  \\\n",
       "cathode current collector Al (15um)                                 0   \n",
       "cathode slurry                                                      0   \n",
       "busbar                                                              0   \n",
       "separator (11um)                                                    0   \n",
       "cell group interconnect                                             0   \n",
       "...                                                               ...   \n",
       "cathode current collector Al (10um)                                 0   \n",
       "separator (17um)                                                    0   \n",
       "wastewater, average                                                 0   \n",
       "anode current collector Cu (10um)                                   0   \n",
       "jelly roll                                                          0   \n",
       "\n",
       "                                     pack terminals production  \\\n",
       "cathode current collector Al (15um)                        0.0   \n",
       "cathode slurry                                             0.0   \n",
       "busbar                                                     0.0   \n",
       "separator (11um)                                           0.0   \n",
       "cell group interconnect                                    0.0   \n",
       "...                                                        ...   \n",
       "cathode current collector Al (10um)                        0.0   \n",
       "separator (17um)                                           0.0   \n",
       "wastewater, average                                        0.0   \n",
       "anode current collector Cu (10um)                          0.0   \n",
       "jelly roll                                                 0.0   \n",
       "\n",
       "                                     anode binder additive (SBR) production  \\\n",
       "cathode current collector Al (15um)                                     0.0   \n",
       "cathode slurry                                                          0.0   \n",
       "busbar                                                                  0.0   \n",
       "separator (11um)                                                        0.0   \n",
       "cell group interconnect                                                 0.0   \n",
       "...                                                                     ...   \n",
       "cathode current collector Al (10um)                                     0.0   \n",
       "separator (17um)                                                        0.0   \n",
       "wastewater, average                                                     0.0   \n",
       "anode current collector Cu (10um)                                       0.0   \n",
       "jelly roll                                                              0.0   \n",
       "\n",
       "                                     deep drawing, steel, 10000 kN press, single stroke  \\\n",
       "cathode current collector Al (15um)                                                  0    \n",
       "cathode slurry                                                                       0    \n",
       "busbar                                                                               0    \n",
       "separator (11um)                                                                     0    \n",
       "cell group interconnect                                                              0    \n",
       "...                                                                                ...    \n",
       "cathode current collector Al (10um)                                                  0    \n",
       "separator (17um)                                                                     0    \n",
       "wastewater, average                                                                  0    \n",
       "anode current collector Cu (10um)                                                    0    \n",
       "jelly roll                                                                           0    \n",
       "\n",
       "                                     cathode current collector Al (10um) production  \\\n",
       "cathode current collector Al (15um)                                             0.0   \n",
       "cathode slurry                                                                  0.0   \n",
       "busbar                                                                          0.0   \n",
       "separator (11um)                                                                0.0   \n",
       "cell group interconnect                                                         0.0   \n",
       "...                                                                             ...   \n",
       "cathode current collector Al (10um)                                             1.0   \n",
       "separator (17um)                                                                0.0   \n",
       "wastewater, average                                                             0.0   \n",
       "anode current collector Cu (10um)                                               0.0   \n",
       "jelly roll                                                                      0.0   \n",
       "\n",
       "                                     separator (17um) production  \\\n",
       "cathode current collector Al (15um)                            0   \n",
       "cathode slurry                                                 0   \n",
       "busbar                                                         0   \n",
       "separator (11um)                                               0   \n",
       "cell group interconnect                                        0   \n",
       "...                                                          ...   \n",
       "cathode current collector Al (10um)                            0   \n",
       "separator (17um)                                               1   \n",
       "wastewater, average                                            0   \n",
       "anode current collector Cu (10um)                              0   \n",
       "jelly roll                                                     0   \n",
       "\n",
       "                                     market for wastewater, average  \\\n",
       "cathode current collector Al (15um)                               0   \n",
       "cathode slurry                                                    0   \n",
       "busbar                                                            0   \n",
       "separator (11um)                                                  0   \n",
       "cell group interconnect                                           0   \n",
       "...                                                             ...   \n",
       "cathode current collector Al (10um)                               0   \n",
       "separator (17um)                                                  0   \n",
       "wastewater, average                                              -1   \n",
       "anode current collector Cu (10um)                                 0   \n",
       "jelly roll                                                        0   \n",
       "\n",
       "                                     anode current collector Cu (10um) production  \\\n",
       "cathode current collector Al (15um)                                           0.0   \n",
       "cathode slurry                                                                0.0   \n",
       "busbar                                                                        0.0   \n",
       "separator (11um)                                                              0.0   \n",
       "cell group interconnect                                                       0.0   \n",
       "...                                                                           ...   \n",
       "cathode current collector Al (10um)                                           0.0   \n",
       "separator (17um)                                                              0.0   \n",
       "wastewater, average                                                           0.0   \n",
       "anode current collector Cu (10um)                                             1.0   \n",
       "jelly roll                                                                    0.0   \n",
       "\n",
       "                                     cell stacking  \n",
       "cathode current collector Al (15um)       0.000000  \n",
       "cathode slurry                            0.000000  \n",
       "busbar                                    0.000000  \n",
       "separator (11um)                          0.000000  \n",
       "cell group interconnect                   0.000000  \n",
       "...                                            ...  \n",
       "cathode current collector Al (10um)       0.000000  \n",
       "separator (17um)                         -0.008335  \n",
       "wastewater, average                       0.000000  \n",
       "anode current collector Cu (10um)         0.000000  \n",
       "jelly roll                                0.524232  \n",
       "\n",
       "[132 rows x 132 columns]"
      ]
     },
     "execution_count": 12,
     "metadata": {},
     "output_type": "execute_result"
    }
   ],
   "source": [
    "\n",
    "\n",
    "# Divide all battery production activities by total battery system weight:\n",
    "bat_product_act = [act['name'] for act in bw.Database('battery_production')]\n",
    "for act in bat_product_act:\n",
    "    pack_weight = result_dict['battery_pack']\n",
    "    a[act]['amount'] = a[act]['amount']/pack_weight\n",
    "    for exc in a[act]['cuts'].keys():\n",
    "        a[act]['cuts'][exc][1] = a[act]['cuts'][exc][1]/pack_weight\n",
    "        \n",
    "#Cut modules:\n",
    "bat_lca.cut_modules_to_zero(a)\n",
    "\n",
    "# Establish product-module dataframe of base system\n",
    "A=bat_lca.modular_technology_matrix(a)\n",
    "\n",
    "A"
   ]
  },
  {
   "cell_type": "markdown",
   "id": "f8a853ec",
   "metadata": {},
   "source": [
    "The technology matrix can now be multiplied by the material price vector. <br>\n",
    "\n",
    "\n",
    "We utilise the same calculations as in BatPaC to obtain the material cost and therefore include both prices per kg as well as the plus per unit. \n",
    "\n",
    "Some items are only based on a unit price (e.g. pack heating system) and others include both a mass price and unit price (e.g. row racks or the pack jacket) "
   ]
  },
  {
   "cell_type": "code",
   "execution_count": 13,
   "id": "49f6da72",
   "metadata": {},
   "outputs": [],
   "source": [
    "#import BatPaC material prices:\n",
    "df_pr_mass = pd.read_excel('material_price_mass_batpac.xlsx').set_index('Goods')\n",
    "df_pr_unit = pd.read_excel('material_price_unit_batpac.xlsx').set_index(['Good', 'Parameter'])\n",
    "df_pr_unit = df_pr_unit['Value'].unstack().fillna(0)\n",
    "dict_pr_unit = {}\n",
    "for k, v in df_pr_unit.T.to_dict().items():\n",
    "    dict_pr_unit[k] = {}\n",
    "    for k2, v2 in v.items():\n",
    "        if v2 != 0:\n",
    "            dict_pr_unit[k][k2] = v2"
   ]
  },
  {
   "cell_type": "markdown",
   "id": "c68ad303",
   "metadata": {},
   "source": [
    "# ADD THE ENERGY COST/OVERHEAD MULTIPLIER"
   ]
  },
  {
   "cell_type": "code",
   "execution_count": 63,
   "id": "69fba74e",
   "metadata": {},
   "outputs": [],
   "source": [
    "import importlib\n",
    "importlib.reload(bat_cost)\n",
    "\n",
    "C = bat_cost.material_cost_matrix (A, df_pr_mass['Value'], dict_pr_unit,  result_dict, overhead_multiplier=None )\n"
   ]
  },
  {
   "cell_type": "markdown",
   "id": "6cf07a5a",
   "metadata": {},
   "source": [
    "next we establish the scaling vector $\\mathbf{s}$ using the matrix based LCI model:  "
   ]
  },
  {
   "cell_type": "code",
   "execution_count": 64,
   "id": "ed8d5600",
   "metadata": {},
   "outputs": [],
   "source": [
    "#Inverse the A' matrix:\n",
    "A_inv = pd.DataFrame(np.linalg.pinv(A.values), A.columns, A.index)\n",
    "\n",
    "#Establish final product demand vector for 1 battery based on pack weight\n",
    "y = pd.Series(data = 0, index=A.index)\n",
    "y.loc['battery pack'] = pack_weight \n",
    "\n",
    "#Calculate scaling vector:\n",
    "s = A_inv.dot(y)\n",
    "\n",
    "C_scaled = C*s"
   ]
  },
  {
   "cell_type": "markdown",
   "id": "64d17511",
   "metadata": {},
   "source": [
    "Now the total battery cost can be calculated:"
   ]
  },
  {
   "cell_type": "code",
   "execution_count": 65,
   "id": "c36cf9cd",
   "metadata": {},
   "outputs": [
    {
     "name": "stdout",
     "output_type": "stream",
     "text": [
      "Total battery material costs are: $ 7381.15\n",
      "Total battery factor costs are: $ 2356.87\n",
      "Total pack level cost: $ 9738.02\n",
      "Total kWh level cost: $ 110.76 kWh\n"
     ]
    }
   ],
   "source": [
    "F_m_pack = pd.DataFrame(columns = C.columns, index=F.index).fillna(0)\n",
    "F_m_pack[F_m.columns] = (F_m/500000)\n",
    "\n",
    "print ('Total battery material costs are: $' , round(C.dot(s).sum(), 2))\n",
    "print ('Total battery factor costs are: $' , round(F_m_pack.sum(axis=1).sum(), 2))\n",
    "\n",
    "print ('Total pack level cost: $',round(round(F_m_pack.sum(axis=1).sum(), 2)+ round(C.dot(s).sum(), 2),2))\n",
    "print ('Total kWh level cost: $', round( (F_m_pack.sum(axis=1).sum() + C.dot(s).sum())/result_dict['pack_energy_kWh'], 2), 'kWh')"
   ]
  },
  {
   "cell_type": "markdown",
   "id": "0ef2bdb2",
   "metadata": {},
   "source": [
    "As you can see, the kWh cost are almost identical to BatPaC. The minor difference can be explained by minor differences in terms of process yields included/excluded for cell container, cell terminals, cathode solvent and rounding of process yields"
   ]
  },
  {
   "cell_type": "code",
   "execution_count": 66,
   "id": "9a0f3944",
   "metadata": {},
   "outputs": [
    {
     "name": "stderr",
     "output_type": "stream",
     "text": [
      "C:\\Users\\Joris\\AppData\\Local\\Temp\\ipykernel_2112\\1952572730.py:15: FutureWarning: The series.append method is deprecated and will be removed from pandas in a future version. Use pandas.concat instead.\n",
      "  df_cost_results = pd.DataFrame(C_scaled.sum(axis=1).append(F_m.sum(axis=1)/500000).sort_values().tail(10), columns=['Modelled'])\n"
     ]
    },
    {
     "data": {
      "image/png": "[encoded data removed]",
      "text/plain": [
       "<Figure size 432x288 with 1 Axes>"
      ]
     },
     "metadata": {
      "needs_background": "light"
     },
     "output_type": "display_data"
    }
   ],
   "source": [
    "batpac_cost = {\n",
    "    'cathode active material (NMC622)': 3578,\n",
    "    'capital' :1844,\n",
    "    \"anode active material (synthetic graphite)\": 864,\n",
    "    \"separator (17um)\": 460,\n",
    "    \"anode current collector Cu (12um)\": 371, \n",
    "    \"battery management system\":368,\n",
    "    \"electrolyte (NMC/NCA)\": 294,\n",
    "    \"pack heater\": 315,\n",
    "    \"module electronics\": 282,\n",
    "    \"labour\" : 288    \n",
    "    \n",
    "}\n",
    "\n",
    "df_cost_results = pd.DataFrame(C_scaled.sum(axis=1).append(F_m.sum(axis=1)/500000).sort_values().tail(10), columns=['Modelled'])\n",
    "df_batpac = pd.DataFrame.from_dict( batpac_cost, orient='index').rename(columns={0:'BatPaC'})\n",
    "df_cost_results.join(df_batpac).plot.barh(zorder=2)\n",
    "\n",
    "plt.xlabel('Item cost ($)')\n",
    "plt.grid(axis='x',zorder=0)"
   ]
  },
  {
   "cell_type": "markdown",
   "id": "b9eb2287",
   "metadata": {},
   "source": [
    "### Impact of production scale"
   ]
  },
  {
   "cell_type": "code",
   "execution_count": 110,
   "id": "ce8fb464",
   "metadata": {},
   "outputs": [
    {
     "data": {
      "text/plain": [
       "Text(0.5, 1.0, 'Factor cost per battery pack by battery production capacity')"
      ]
     },
     "execution_count": 110,
     "metadata": {},
     "output_type": "execute_result"
    },
    {
     "data": {
      "image/png": "[encoded data removed]",
      "text/plain": [
       "<Figure size 432x288 with 1 Axes>"
      ]
     },
     "metadata": {
      "needs_background": "light"
     },
     "output_type": "display_data"
    }
   ],
   "source": [
    "production = list(range(100000, 750000, 50000))\n",
    "land = []\n",
    "labour = []\n",
    "capital = []\n",
    "material = []\n",
    "\n",
    "for x in production:\n",
    "    result_dict['battery_manufacturing_capacity'] = x\n",
    "    F = bat_cost.factors_battery_production(result_dict, return_aggregated=True)\n",
    "    factor_cost_overhead = list(bat_cost.factor_overhead_multiplier().values())    \n",
    "    a = (F.T*(factor_cost*factor_cost_overhead))\n",
    "    f = a.sum()/x\n",
    "    labour.append(f[0])\n",
    "    capital.append(f[1])\n",
    "    land.append(f[2])\n",
    "    C = bat_cost.material_cost_matrix (A, df_pr_mass['Value'], dict_pr_unit,  result_dict)\n",
    "    C_scaled = C*s\n",
    "    material.append(C_scaled.values.sum())\n",
    "    \n",
    "#reset production capacity\n",
    "result_dict['battery_manufacturing_capacity'] = 500000\n",
    "from matplotlib.ticker import StrMethodFormatter\n",
    "a = [land, labour, capital, material]\n",
    "factor_cost_all = sum(map(np.array, a))\n",
    "fig, ax = plt.subplots()\n",
    "ax.plot(production, factor_cost_all,label='Factor costs')\n",
    "plt.ylabel('Battery pack price (US$)')\n",
    "\n",
    "plt.xlabel('Production capacity (packs/year)')\n",
    "ax.xaxis.set_major_formatter(StrMethodFormatter('{x:,g}'))\n",
    "ax.yaxis.set_major_formatter(StrMethodFormatter('{x:,g}'))\n",
    "plt.title('Factor cost per battery pack by battery production capacity')"
   ]
  },
  {
   "cell_type": "markdown",
   "id": "73deb053",
   "metadata": {},
   "source": [
    "### Changing production location:"
   ]
  },
  {
   "cell_type": "code",
   "execution_count": 187,
   "id": "ae61d15c",
   "metadata": {},
   "outputs": [],
   "source": [
    "df_factor_price = pd.read_csv(\"factor_prices_europe.csv\", index_col=0).dropna()\n",
    "df_factor_price\n",
    "df_cost_total = pd.DataFrame (index = ['labour', 'capital', 'land', 'material'], columns = df_factor_price.columns)\n",
    "\n",
    "\n",
    "for country, factor_cost in df_factor_price.iteritems():\n",
    "    F = bat_cost.factors_battery_production(result_dict, return_aggregated=True)\n",
    "    factor_cost_overhead = list(bat_cost.factor_overhead_multiplier().values())    \n",
    "    a = (F.T*(factor_cost*factor_cost_overhead))\n",
    "    df_cost_total[country] =a.sum()/500000\n",
    "    C = bat_cost.material_cost_matrix (A, df_pr_mass['Value'], dict_pr_unit,  result_dict)\n",
    "    df_cost_total.loc['material', country] = (C*s).values.sum()\n",
    "\n",
    "\n",
    "df_cost_total.drop('European average', axis=1, inplace=True)\n",
    "index_structure= df_cost_total.sum()\n"
   ]
  },
  {
   "cell_type": "code",
   "execution_count": 196,
   "id": "d6711d3a",
   "metadata": {},
   "outputs": [
    {
     "data": {
      "text/plain": [
       "Text(0.5, 0, 'Battery production location')"
      ]
     },
     "execution_count": 196,
     "metadata": {},
     "output_type": "execute_result"
    },
    {
     "data": {
      "image/png": "[encoded data removed]",
      "text/plain": [
       "<Figure size 432x288 with 1 Axes>"
      ]
     },
     "metadata": {
      "needs_background": "light"
     },
     "output_type": "display_data"
    }
   ],
   "source": [
    "df_cost_total.sort_values(by='FR', ascending=False)[index_structure.sort_values(ascending=True).index[:]].T.plot.bar(stacked=True, rot=0)\n",
    "plt.ylabel('Battery pack cost (US$')\n",
    "plt.xlabel('Battery production location')"
   ]
  },
  {
   "cell_type": "markdown",
   "id": "05f3f9a2-c3f9-45a2-b972-8a6ce87efce1",
   "metadata": {},
   "source": [
    "# Calculate the value added per process ($\\pi$) \n",
    "\n",
    "The battery value added refers to the cost of the primary production factors, similar to the system cost of MFCA. The value added ($v$) per process is based on the rectangular choice-of-technology model (RCOT) by Duchin and Levine (2011) and the LCA extension by Katelhon et al 2016. Here value added per process is calculated with \n",
    "\n",
    "$$v = F'\\pi$$\n",
    "\n",
    "where $F'$ is the transpose ($'$) of the physical factor requirement matrix where rows refer to the factors and columns to the process, and $\\pi$ is the price per unit factor.  <br>\n"
   ]
  },
  {
   "cell_type": "markdown",
   "id": "ff214e18-ee45-4259-89c2-e183ec0f54e9",
   "metadata": {},
   "source": [
    "## Factor requirement matrix ($F$)"
   ]
  },
  {
   "cell_type": "markdown",
   "id": "de08966b-1bbf-4da6-8b89-17020240531d",
   "metadata": {},
   "source": []
  },
  {
   "cell_type": "code",
   "execution_count": 19,
   "id": "0e39ba75-6b7f-4535-91e0-97b67e8c81b6",
   "metadata": {},
   "outputs": [
    {
     "ename": "KeyError",
     "evalue": "'design_parameters'",
     "output_type": "error",
     "traceback": [
      "\u001b[1;31m---------------------------------------------------------------------------\u001b[0m",
      "\u001b[1;31mKeyError\u001b[0m                                  Traceback (most recent call last)",
      "\u001b[1;32mc:\\Users\\Joris\\OneDrive - Newcastle University\\Python\\Projects\\Batt_Sust_Model-1\\example notebooks\\Battery cost\\Example cost notebook.ipynb Cell 36'\u001b[0m in \u001b[0;36m<cell line: 3>\u001b[1;34m()\u001b[0m\n\u001b[0;32m      <a href='vscode-notebook-cell:/c%3A/Users/Joris/OneDrive%20-%20Newcastle%20University/Python/Projects/Batt_Sust_Model-1/example%20notebooks/Battery%20cost/Example%20cost%20notebook.ipynb#ch0000034?line=0'>1</a>\u001b[0m baseline_parameters_path \u001b[39m=\u001b[39m \u001b[39mr\u001b[39m\u001b[39m\"\u001b[39m\u001b[39mC:\u001b[39m\u001b[39m\\\u001b[39m\u001b[39mUsers\u001b[39m\u001b[39m\\\u001b[39m\u001b[39mJoris\u001b[39m\u001b[39m\\\u001b[39m\u001b[39mOneDrive - Newcastle University\u001b[39m\u001b[39m\\\u001b[39m\u001b[39mPhD\u001b[39m\u001b[39m\\\u001b[39m\u001b[39mModels\u001b[39m\u001b[39m\\\u001b[39m\u001b[39mME optimisation model\u001b[39m\u001b[39m\\\u001b[39m\u001b[39mME_battery_supply_chain\u001b[39m\u001b[39m\\\u001b[39m\u001b[39mModel\u001b[39m\u001b[39m\\\u001b[39m\u001b[39mdata\u001b[39m\u001b[39m\\\u001b[39m\u001b[39mmanufacturing_cost_parameters.xlsx\u001b[39m\u001b[39m\"\u001b[39m\n\u001b[0;32m      <a href='vscode-notebook-cell:/c%3A/Users/Joris/OneDrive%20-%20Newcastle%20University/Python/Projects/Batt_Sust_Model-1/example%20notebooks/Battery%20cost/Example%20cost%20notebook.ipynb#ch0000034?line=1'>2</a>\u001b[0m \u001b[39m#\u001b[39;00m\n\u001b[1;32m----> <a href='vscode-notebook-cell:/c%3A/Users/Joris/OneDrive%20-%20Newcastle%20University/Python/Projects/Batt_Sust_Model-1/example%20notebooks/Battery%20cost/Example%20cost%20notebook.ipynb#ch0000034?line=2'>3</a>\u001b[0m result_dict[\u001b[39m'\u001b[39;49m\u001b[39mdesign_parameters\u001b[39;49m\u001b[39m'\u001b[39;49m][\u001b[39m'\u001b[39m\u001b[39mbattery_manufacturing_capacity\u001b[39m\u001b[39m'\u001b[39m] \u001b[39m=\u001b[39m \u001b[39m100000\u001b[39m\n\u001b[0;32m      <a href='vscode-notebook-cell:/c%3A/Users/Joris/OneDrive%20-%20Newcastle%20University/Python/Projects/Batt_Sust_Model-1/example%20notebooks/Battery%20cost/Example%20cost%20notebook.ipynb#ch0000034?line=3'>4</a>\u001b[0m F \u001b[39m=\u001b[39m bat_cost\u001b[39m.\u001b[39mfactors_battery_production(result_dict, baseline_parameters_path, return_aggregated\u001b[39m=\u001b[39m\u001b[39mTrue\u001b[39;00m)\n\u001b[0;32m      <a href='vscode-notebook-cell:/c%3A/Users/Joris/OneDrive%20-%20Newcastle%20University/Python/Projects/Batt_Sust_Model-1/example%20notebooks/Battery%20cost/Example%20cost%20notebook.ipynb#ch0000034?line=4'>5</a>\u001b[0m F\n",
      "\u001b[1;31mKeyError\u001b[0m: 'design_parameters'"
     ]
    }
   ],
   "source": [
    "baseline_parameters_path = r\"C:\\Users\\Joris\\OneDrive - Newcastle University\\PhD\\Models\\ME optimisation model\\ME_battery_supply_chain\\Model\\data\\manufacturing_cost_parameters.xlsx\"\n",
    "#\n",
    "result_dict['design_parameters']['battery_manufacturing_capacity'] = 100000\n",
    "F = bat_cost.factors_battery_production(result_dict, baseline_parameters_path, return_aggregated=True)\n",
    "F"
   ]
  },
  {
   "cell_type": "markdown",
   "id": "d26dc1e4-83e1-410a-8a07-621243ae8636",
   "metadata": {},
   "source": [
    "## Factor cost per process \n",
    "Factor cost per unit process ($b$) is calculated based on the element-wise multiplication (Hadamard product, $\\circ$) of the factor requirement matrix ($F'$) and the factor price ($\\pi$):\n",
    "$$b=F'\\circ \\pi$$\n",
    "\n",
    "In BatPaC, additional variable overhead costs (indirect cost related to materials, labour, utilities and plant maintance) and fixed expenses are included as reported in BatPaC. \n",
    "Overhead costs are here all attributed to single processes, such that $pi$ is calculated with:\n",
    "$$\\pi = \\pi_{cost} \\pi_{overhead}$$\n",
    "\n",
    "where $\\pi_{overhead}$ is the overhead multiplier. The overhead multiplier for capital ($cap$) and land ($land$) are  calculatd with:\n",
    "$$\\pi_{overhead} = \\frac{default_{overhead} default_{capacity}}{capacity}$$"
   ]
  },
  {
   "cell_type": "code",
   "execution_count": null,
   "id": "7b072a01-7b21-42fb-a5ff-4b2611ff5af8",
   "metadata": {},
   "outputs": [],
   "source": [
    "# BatPaC default factor cost (land ($/m2), labour ($/hr), capital ($)):\n",
    "factor_cost          = np.array([3000, 25, 1])\n",
    "\n",
    "# factor_cost = ParameterDict['3_PR_factor_price'].Values[:,4]\n",
    "result_dict['design_parameters']['battery_manufacturing_capacity'] = 100000\n",
    "F = bat_cost.factors_battery_production(result_dict, baseline_parameters_path, return_aggregated=True)\n",
    "F\n",
    "\n",
    "factor_cost_overhead = list(bat_cost.factor_overhead_multiplier (100000).values())\n",
    "B = (F.T*(factor_cost*factor_cost_overhead))\n",
    "B.sum().astype(int)/100000\n"
   ]
  },
  {
   "cell_type": "markdown",
   "id": "6a6ee43f-3f2e-4dc3-ae32-6884a41a983d",
   "metadata": {},
   "source": [
    "## Value added per pack and per process ($v$)"
   ]
  },
  {
   "cell_type": "code",
   "execution_count": null,
   "id": "5b16dd64-bb3f-49cc-a8a8-28e2040b6155",
   "metadata": {},
   "outputs": [],
   "source": [
    "b = B.T.sum(axis=0)/100000\n",
    "b"
   ]
  },
  {
   "cell_type": "code",
   "execution_count": null,
   "id": "42dbfeb7-8110-4f0d-b136-b1b12b6777dd",
   "metadata": {},
   "outputs": [],
   "source": [
    "pack_cost_kwh = [x/60 for x in pack_cost]\n",
    "\n",
    "plt.plot(pack_cost_kwh)"
   ]
  },
  {
   "cell_type": "markdown",
   "id": "8f1702f7-1494-400b-8169-1511170401a7",
   "metadata": {},
   "source": [
    "### Impact of production capacity:"
   ]
  },
  {
   "cell_type": "code",
   "execution_count": null,
   "id": "51924701-ef23-4e04-a4b0-4941556f97f2",
   "metadata": {},
   "outputs": [],
   "source": []
  },
  {
   "cell_type": "code",
   "execution_count": null,
   "id": "1bd24b4d",
   "metadata": {},
   "outputs": [],
   "source": []
  },
  {
   "cell_type": "markdown",
   "id": "d9efe8bd-3c5e-4068-b9b4-16a96b9da961",
   "metadata": {},
   "source": [
    "### Factor cost for different countries:"
   ]
  },
  {
   "cell_type": "code",
   "execution_count": null,
   "id": "1c6459a7-763f-4d41-929a-6bf832263d2f",
   "metadata": {},
   "outputs": [],
   "source": [
    "ParameterDict['3_PR_factor_price'].Values\n",
    "\n",
    "production = list(range(100000, 600000, 10000))\n",
    "cost_total = []\n",
    "\n",
    "for x in range(ParameterDict['3_PR_factor_price'].Values.shape[1]):\n",
    "    factor_cost = (ParameterDict['3_PR_factor_price'].Values[:,x])    \n",
    "    factor_cost_overhead = list(bat_cost.factor_overhead_multiplier(100000).values())\n",
    "    a = (F.T*(factor_cost*factor_cost_overhead))\n",
    "    f = a.sum()/100000\n",
    "    cost_total.append(f.sum())\n",
    "\n",
    "df = pd.DataFrame(cost_total, IndexTable.loc['Regions', 'Classification'].Items,)    \n",
    "    \n",
    "(df.sort_values(by=0)/60).plot.bar()\n",
    "plt.ylabel('US$')"
   ]
  }
 ],
 "metadata": {
  "interpreter": {
   "hash": "77b1a39b2e46dae2d06de88b1d8cb6f5c7562cfa1125541e21b7ad9f29b27783"
  },
  "kernelspec": {
   "display_name": "Python 3 (ipykernel)",
   "language": "python",
   "name": "python3"
  },
  "language_info": {
   "codemirror_mode": {
    "name": "ipython",
    "version": 3
   },
   "file_extension": ".py",
   "mimetype": "text/x-python",
   "name": "python",
   "nbconvert_exporter": "python",
   "pygments_lexer": "ipython3",
   "version": "3.9.12"
  },
  "toc": {
   "base_numbering": 1,
   "nav_menu": {},
   "number_sections": true,
   "sideBar": true,
   "skip_h1_title": true,
   "title_cell": "Table of Contents",
   "title_sidebar": "Contents",
   "toc_cell": false,
   "toc_position": {
    "height": "calc(100% - 180px)",
    "left": "10px",
    "top": "150px",
    "width": "165px"
   },
   "toc_section_display": true,
   "toc_window_display": false
  },
  "toc-autonumbering": true,
  "toc-showtags": false
 },
 "nbformat": 4,
 "nbformat_minor": 5
}
