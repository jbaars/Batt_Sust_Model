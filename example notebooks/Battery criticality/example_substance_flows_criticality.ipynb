{
 "cells": [
  {
   "cell_type": "markdown",
   "id": "106a403f-b606-46fb-a47e-355a0954cccb",
   "metadata": {},
   "source": [
    "# <strong> Example substance flows and material criticality\n",
    "   "
   ]
  },
  {
   "cell_type": "markdown",
   "id": "4c1b3964",
   "metadata": {},
   "source": [
    "Example notebook to obtain the battery manufacturing substance flows and calculate material criticality. "
   ]
  },
  {
   "cell_type": "code",
   "execution_count": 3,
   "id": "8507e83a-bbc3-49a9-993e-ad57c2c38e6c",
   "metadata": {},
   "outputs": [],
   "source": [
    "#Import required packages\n",
    "\n",
    "import pandas as pd\n",
    "import sys\n",
    "import matplotlib.pyplot as plt\n",
    "from tabulate import tabulate\n",
    "\n",
    "\n",
    "#Import the battery design module from a local path\n",
    "local_path =r\"C:\\Users\\Joris\\OneDrive - Newcastle University\\Python\\Projects\\Batt_Sust_Model\\batt_sust_model\" #ADD PATH\n",
    "sys.path.insert(1, local_path)\n",
    "from battery_design import battery_design as bd\n",
    "import battery_emissions as bat_lca\n",
    "\n",
    "\n",
    "#Local path to BatPaC version 5\n",
    "path_batpac = r\"C:\\Users\\Joris\\OneDrive - Newcastle University\\PhD\\Models\\battery_sustainability_model\\Case study\\BatPaC 5.0 10Feb2022.xlsm\"#ADD PATH\n"
   ]
  },
  {
   "cell_type": "markdown",
   "id": "16bc162b-fcc0-44e3-a615-dd3b4926b7e7",
   "metadata": {},
   "source": [
    "## Solve battery design\n",
    "The design of the Volkswagen MEB platform, 77 kWh version as reported by\n",
    "[PushEVS.com](https://pushevs.com/2020/05/13/volkswagen-meb-details/) is used as an example (NMC622 is used instead of NMC712, as the latter is not in the public version of BatPaC V5l). All other parameters are BatPaC default parameters.\n",
    "\n",
    "* usable battery energy: 94%\n",
    "* Total pack energy: 82 kWh\n",
    "* Electrode pair: NMC622-G\n",
    "* Silicon additive anode: 0%\n",
    "* Cells per module: 24\n",
    "* Modules per pack: 12\n",
    "* Modules in parallel: 2 \n",
    "* Maximum charging time: 33 minutes (ev-database.org)\n",
    "* Maximum charge power: 135 kW (ev-database.org)\n",
    "<br>\n",
    "\n",
    "<!-- <a href=https://www.volkswagen-newsroom.com/en/press-releases/long-range-and-rapid-charging-the-battery-system-is-at-the-heart-of-the-volkswagen-id3-id4-and-id4-gtx-7130>\n",
    "<center><img src='../docs/ID pack.jpg' width=600/> <br></center>\n",
    "<figcaption align = \"center\"><b>Structure of the Volkswagen MEB platform (VW, 2021) </b></figcaption>\n",
    "</a> -->"
   ]
  },
  {
   "cell_type": "code",
   "execution_count": 2,
   "id": "5f8c65ac-84d6-40d7-9f26-22e6f7d01c6f",
   "metadata": {},
   "outputs": [],
   "source": [
    "#Establish battery system class of specific design:\n",
    "battery = bd.Battery_system ( vehicle_type='EV', \n",
    "                             electrode_pair='NMC622-G (Energy)', \n",
    "                             cells_per_module=24, \n",
    "                             modules_per_row=6,\n",
    "                             rows_of_modules=2, \n",
    "                             cells_in_parallel=1,\n",
    "                             silicon_anode= 0.00, \n",
    "                             pack_energy=82, \n",
    "                             calculate_fast_charge = 'Yes',\n",
    "                             max_charging_time = 33,  \n",
    "                             max_charge_power = 135, \n",
    "                             available_energy=94)\n",
    "#Establish parameter dictionary\n",
    "parameter_dict = battery.parameter_dictionary()\n",
    "\n",
    "# #Solve battery design in BatPaC returning nested dictionary with material contents and parameter values\n",
    "# #Make sure BatPaC is not open or running in the background. \n",
    "# #BatPaC can run in the foreground if visible=True\n",
    "result_dict = bd.solve_batpac_battery_system (batpac_path = path_batpac, parameter_dict=parameter_dict, visible=False)"
   ]
  },
  {
   "cell_type": "markdown",
   "id": "a36c6cd4",
   "metadata": {},
   "source": [
    "## Calculate material and energy flow foreground system"
   ]
  },
  {
   "cell_type": "code",
   "execution_count": null,
   "id": "f1b7cd88",
   "metadata": {},
   "outputs": [],
   "source": []
  },
  {
   "cell_type": "code",
   "execution_count": null,
   "id": "09b617d5-0009-4d64-a12a-b5619890f14b",
   "metadata": {},
   "outputs": [],
   "source": [
    "# process_formula = r\"C:\\Users\\Joris\\OneDrive - Newcastle University\\PhD\\Models\\ME optimisation model\\ME_battery_supply_chain\\Model\\data\\process_formulas.xlsx\"\n",
    "# process_formula =pd.read_excel(process_formula, sheet_name = 'activity_functions_cut_off', index_col=[1,2]).T.to_dict()\n",
    "# project_param_formulas =r\"C:\\Users\\Joris\\OneDrive - Newcastle University\\PhD\\Models\\ME optimisation model\\ME_battery_supply_chain\\Model\\data\\bw_default_project_parameters.xlsx\"\n",
    "# project_param_formulas = pd.read_excel(project_param_formulas, index_col=0).fillna(0).T.to_dict()\n",
    "\n",
    "\n",
    "IndexTable\n",
    "\n",
    "#Empty np array of size total design*py scenarios * electricity_scenario* goods * processes\n",
    "A_matrix_nested = np.zeros((len(D), IndexTable.loc['Yield_scenario', 'IndexSize'], len(g), len(p)))\n",
    "\n",
    "#Dictionary of all system parameters:\n",
    "param_dict_all = {}\n",
    "A_base = df_A_base.copy(deep=True)\n",
    "\n",
    "for x in tqdm(D):#pack designs\n",
    "    for s in range(IndexTable.loc['Yield_scenario', 'IndexSize']):\n",
    "        process_parameters = {param: value for param, value in zip (IndexTable.loc['Process_parameter', 'Classification'].Items, \n",
    "                                                                    ParameterDict['4_PY_battery_manufacturing'].Values[:,s])}\n",
    "        process_parameters.update({param: value for param, value in zip (IndexTable.loc['Process_parameter', 'Classification'].Items, \n",
    "                                                                    ParameterDict['4_PAR_energy_consumption'].Values[:,1]) if value > 0})\n",
    "        param_dict_all[x] = bat_lca.parameter_dictionary (mc_battery_design_dct[x], process_parameters, bat_design_param_dct[x], project_param_formulas)\n",
    "        A_matrix = bat_lca.calculate_modular_A(A_base,param_dict_all[x], process_formula, project_param_formulas)\n",
    "        \n",
    "        \n",
    "        A_matrix_nested[x,s,:] = A_matrix\n",
    "\n"
   ]
  },
  {
   "cell_type": "code",
   "execution_count": null,
   "id": "fe9bdf45",
   "metadata": {},
   "outputs": [],
   "source": []
  }
 ],
 "metadata": {
  "kernelspec": {
   "display_name": "Python 3 (ipykernel)",
   "language": "python",
   "name": "python3"
  },
  "language_info": {
   "codemirror_mode": {
    "name": "ipython",
    "version": 3
   },
   "file_extension": ".py",
   "mimetype": "text/x-python",
   "name": "python",
   "nbconvert_exporter": "python",
   "pygments_lexer": "ipython3",
   "version": "3.9.7"
  }
 },
 "nbformat": 4,
 "nbformat_minor": 5
}
