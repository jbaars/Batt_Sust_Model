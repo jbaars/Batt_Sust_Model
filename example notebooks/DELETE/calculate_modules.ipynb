{
 "cells": [
  {
   "cell_type": "code",
   "execution_count": 1,
   "metadata": {},
   "outputs": [],
   "source": [
    "#Import required packages\n",
    "\n",
    "import brightway2 as bw\n",
    "import numpy as np\n",
    "import pandas as pd\n",
    "from bw2data.parameters import ProjectParameter\n",
    "import sys\n",
    "import matplotlib.pyplot as plt\n",
    "from bw2data.parameters import ActivityParameter, DatabaseParameter, ProjectParameter, Group\n",
    "\n",
    "\n",
    "#Import the battery design module from a local path\n",
    "sys.path.insert(1, r'C:\\Users\\Joris\\OneDrive - Newcastle University\\PhD\\Models\\ME optimisation model\\ME_battery_supply_chain\\Model')\n",
    "import battery_design.battery_design as bd\n",
    "\n",
    "\n",
    "import battery_emissions as bat_lca\n",
    "import battery_cost as bat_cost\n",
    "\n",
    "\n",
    "path_batpac = r\"C:\\Users\\Joris\\OneDrive - Newcastle University\\PhD\\Models\\ME optimisation model\\Case study\\BatPaC 4.0 - 1Oct2020 - Original.xlsm\"\n"
   ]
  },
  {
   "cell_type": "markdown",
   "metadata": {},
   "source": [
    "## Calculate LCIA module values"
   ]
  },
  {
   "cell_type": "code",
   "execution_count": 2,
   "metadata": {},
   "outputs": [
    {
     "name": "stdout",
     "output_type": "stream",
     "text": [
      "Biosphere database already present!!! No setup is needed\n",
      "anode_material  already present\n",
      "anode_materials  already present\n",
      "battery_production  already present\n",
      "cathode  already present\n",
      "cathode_material  already present\n",
      "cell_container  already present\n",
      "cell_other  already present\n",
      "current_collectors  already present\n",
      "cut_off_materials  already present\n",
      "cut_off_materials  already present\n",
      "cut_off_production  already present\n",
      "electrolyte  already present\n",
      "manufacturing_waste_scrap  already present\n",
      "module  already present\n",
      "MyModelName  already present\n",
      "other_material  already present\n",
      "other_materials  already present\n",
      "pack  already present\n",
      "separator  already present\n",
      "separators  already present\n"
     ]
    }
   ],
   "source": [
    "#Brightway2 general setup:\n",
    "bw.projects.set_current('parameterised_battery_lca')\n",
    "bw.bw2setup()\n",
    "#Import ecoinvent 3.7.1:\n",
    "if 'eidb 3.7' in bw.databases:\n",
    "    pass\n",
    "else:\n",
    "    pathi37 = 'path to ecoinvent'\n",
    "    eidb37 = bw.SingleOutputEcospold2Importer(pathi37, 'eidb 3.7')\n",
    "    eidb37.apply_strategies()\n",
    "    eidb37.statistics()\n",
    "    \n",
    "#Battery LCA setup:\n",
    "# Import all Brightway2 databases (BW2Package format) required for the battery LCA: \n",
    "bat_lca.import_db_brightway()\n",
    "\n",
    "# Import the default project parameters such as process yield and energy consumption (see Excel file: 'bw_default_project_parameters.xlsx' ):\n",
    "bat_lca.import_project_parameters()\n",
    "\n",
    "# # Import the BW activity functions CHECK IF NEEDED IF THE BW2PACKAGES ARE UPLOADED!!!!"
   ]
  },
  {
   "cell_type": "code",
   "execution_count": null,
   "metadata": {},
   "outputs": [],
   "source": []
  },
  {
   "cell_type": "markdown",
   "metadata": {},
   "source": [
    "## Solve battery pack design"
   ]
  },
  {
   "cell_type": "code",
   "execution_count": 3,
   "metadata": {},
   "outputs": [],
   "source": [
    "## Solve single pack design in BatPaC for base case:\n",
    "\n",
    "#Establish base case pack:\n",
    "battery = bd.Battery_system ( vehicle_type='EV', \n",
    "                             electrode_pair='NMC622-G',  \n",
    "                             silicon_anode= 0.00, \n",
    "                             pack_energy=40,)\n",
    "#Establish parameter dictionary\n",
    "parameter_dict = battery.parameter_dictionary()\n",
    "\n",
    "#Solve battery design in BatPaC:\n",
    "battery_design = bd.solve_batpac_battery_system (batpac_path = path_batpac, parameter_dict=parameter_dict, visible=False)"
   ]
  },
  {
   "cell_type": "markdown",
   "metadata": {},
   "source": [
    "## Calculate modular emissions base case:"
   ]
  },
  {
   "cell_type": "code",
   "execution_count": 4,
   "metadata": {},
   "outputs": [],
   "source": [
    "#Include default process parameters:\n",
    "process_parameters = {\n",
    "    'py_am_mixing': 0.99,\n",
    "    'py_cell_aging': 0.95,\n",
    "    'py_electrode_stacking':0.99,\n",
    "    'py_electrolyte_filling':0.94,\n",
    "    'py_foil_coating': 0.99,\n",
    "    'py_foil_slitting': 0.92,\n",
    "    'py_nmp_recovery': 0.995,\n",
    "    'py_separator_stacking':0.98,\n",
    "    'py_slurry_coating': 0.95,\n",
    "    'py_slurry_slitting':0.99,\n",
    "    'battery_manufacturing_capacity': 100000, #Total packs per year\n",
    "    'battery_manufacturing_location': 'RER'  # Battery production\n",
    "}\n",
    "\n",
    "#Dictionary of all system parameters (non-alphanumeric parameters) needed to solve LCA in Brightway. Parameters match Brightway project parameters:\n",
    "project_param_all = bat_lca.parameter_dictionary (battery_design['material_content_pack'], process_parameters, battery_design['general_battery_parameters'])\n"
   ]
  },
  {
   "cell_type": "code",
   "execution_count": null,
   "metadata": {},
   "outputs": [],
   "source": []
  },
  {
   "cell_type": "code",
   "execution_count": 5,
   "metadata": {},
   "outputs": [],
   "source": [
    "#Update Brightway default values with battery design values:\n",
    "bat_lca.update_param_battery_bw(project_param_all)"
   ]
  },
  {
   "cell_type": "code",
   "execution_count": 6,
   "metadata": {},
   "outputs": [],
   "source": [
    "#Check if parameter matches Brightway project parameters:\n",
    "\n",
    "bw_project_names = [x.name for x in ProjectParameter.select()]\n",
    "for param in project_param_all.keys():\n",
    "    if param in bw_project_names:\n",
    "        select = [x for x in ProjectParameter.select() if x.name == param][0]\n",
    "        if project_param_all[param] != select.amount:\n",
    "            print (f\"Parameter {param} with value {project_param_all[param]} is not equal to Brightway project parameter {select.amount}\")\n",
    "            \n",
    "        \n",
    "\n"
   ]
  },
  {
   "cell_type": "code",
   "execution_count": 7,
   "metadata": {},
   "outputs": [],
   "source": [
    "# Cut off the exchanges if activity if present in the 'cut off database'. \n",
    "# E.g. 6um copper foil production is present in the 'cut of database' and will be cut in the anode coating process. All cut-off exchanges are set to zero\n",
    "cut_off_dict = bat_lca.modules_with_cuts('cut_off_materials')\n",
    "\n",
    "# # Divide all battery production activities by total battery system weight:\n",
    "bat_product_act = [act['name'] for act in bw.Database('battery_production')]\n",
    "\n",
    "for act in bat_product_act:\n",
    "    pack_weight = project_param_all['battery_pack']\n",
    "\n",
    "    cut_off_dict[act]['amount'] = cut_off_dict[act]['amount']/pack_weight\n",
    "    for exc in cut_off_dict[act]['cuts'].keys():\n",
    "        cut_off_dict[act]['cuts'][exc][1] = cut_off_dict[act]['cuts'][exc][1]/pack_weight\n",
    "\n",
    "# #Cut-off exchanges:\n",
    "bat_lca.cut_modules_to_zero(cut_off_dict)\n",
    "\n",
    "# # Establish product-module dataframe of base system\n",
    "technology_matrix_cut_off = bat_lca.modular_technology_matrix(cut_off_dict)        \n",
    "\n",
    "# #Select all Recipe Midpoint impacts:\n",
    "impacts = [m for m in bw.methods if 'ReCiPe Midpoint (H) V1.13' in str(m) and 'no LT' in str(m)]\n",
    "\n",
    "#Establish numpy array of module emissions:\n",
    "H_m = bat_lca.lcia_modules (cut_off_dict, impacts)"
   ]
  },
  {
   "cell_type": "markdown",
   "metadata": {},
   "source": [
    "## Total emissions pack:\n",
    "\n"
   ]
  },
  {
   "cell_type": "code",
   "execution_count": 8,
   "metadata": {},
   "outputs": [],
   "source": [
    "A_matrix = technology_matrix_cut_off\n",
    "#Parameter shortcuts:\n",
    "pack_weight = battery_design['material_content_pack']['battery pack']\n",
    "capacity = battery_design['general_battery_parameters']['battery_capacity']\n",
    "\n",
    "#Inverse the A' matrix:\n",
    "A_inv = pd.DataFrame(np.linalg.pinv(A_matrix.values), A_matrix.columns, A_matrix.index)\n",
    "\n",
    "#Establish final product demand vector for 1 battery based on pack weight\n",
    "y_prime = pd.Series(data = 0, index=A_matrix.index)\n",
    "y_prime.loc['battery pack'] = pack_weight\n",
    "\n",
    "#Calculate scaling vector:\n",
    "s_prime = A_inv.dot(y_prime)\n",
    "\n",
    "# Emissions for all categories and modules:\n",
    "h_all =  np.multiply(np.transpose([s_prime]),H_m)"
   ]
  },
  {
   "cell_type": "markdown",
   "metadata": {},
   "source": [
    "## Export base to Excel\n"
   ]
  },
  {
   "cell_type": "code",
   "execution_count": 109,
   "metadata": {},
   "outputs": [],
   "source": [
    "df_h=pd.DataFrame(H_m,A_matrix.columns, columns=impacts).to_excel('H_all.xlsx')"
   ]
  },
  {
   "cell_type": "code",
   "execution_count": 9,
   "metadata": {},
   "outputs": [],
   "source": [
    "\n",
    "#Remove duplicate products on A rows:\n",
    "\n",
    "A_matrix_rect = A_matrix[~A_matrix.index.duplicated(keep='first')]\n",
    "#Save to excel\n",
    "A_matrix_rect.to_excel('A_base.xlsx')"
   ]
  },
  {
   "cell_type": "code",
   "execution_count": null,
   "metadata": {},
   "outputs": [],
   "source": []
  },
  {
   "cell_type": "code",
   "execution_count": null,
   "metadata": {},
   "outputs": [],
   "source": []
  },
  {
   "cell_type": "code",
   "execution_count": null,
   "metadata": {},
   "outputs": [],
   "source": []
  },
  {
   "cell_type": "code",
   "execution_count": 35,
   "metadata": {},
   "outputs": [
    {
     "data": {
      "text/plain": [
       "1.9838709677419355"
      ]
     },
     "execution_count": 35,
     "metadata": {},
     "output_type": "execute_result"
    }
   ],
   "source": [
    "123/62"
   ]
  },
  {
   "cell_type": "code",
   "execution_count": 31,
   "metadata": {},
   "outputs": [
    {
     "data": {
      "text/plain": [
       "0.4641509433962264"
      ]
     },
     "execution_count": 31,
     "metadata": {},
     "output_type": "execute_result"
    }
   ],
   "source": [
    "123/265"
   ]
  }
 ],
 "metadata": {
  "interpreter": {
   "hash": "77b1a39b2e46dae2d06de88b1d8cb6f5c7562cfa1125541e21b7ad9f29b27783"
  },
  "kernelspec": {
   "display_name": "Python 3.9.7 64-bit (conda)",
   "language": "python",
   "name": "python3"
  },
  "language_info": {
   "codemirror_mode": {
    "name": "ipython",
    "version": 3
   },
   "file_extension": ".py",
   "mimetype": "text/x-python",
   "name": "python",
   "nbconvert_exporter": "python",
   "pygments_lexer": "ipython3",
   "version": "3.9.7"
  },
  "orig_nbformat": 4
 },
 "nbformat": 4,
 "nbformat_minor": 2
}
