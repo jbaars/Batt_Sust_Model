{
 "cells": [
  {
   "cell_type": "code",
   "execution_count": 2,
   "metadata": {},
   "outputs": [],
   "source": [
    "import os\n",
    "import pickle\n",
    "import copy\n",
    "import pandas as pd\n",
    "import copy\n"
   ]
  },
  {
   "cell_type": "code",
   "execution_count": 10,
   "metadata": {},
   "outputs": [],
   "source": [
    "## Import pickle\n",
    "with open(r\"C:\\Users\\Joris\\OneDrive - Newcastle University\\PhD\\Models\\ME optimisation model\\Case study\\Data\\raw\\segmentABCD2.pickle\", 'rb') as handle:\n",
    "    dict_all = pickle.load(handle)\n"
   ]
  },
  {
   "cell_type": "code",
   "execution_count": null,
   "metadata": {},
   "outputs": [],
   "source": []
  },
  {
   "cell_type": "code",
   "execution_count": 207,
   "metadata": {},
   "outputs": [],
   "source": [
    "# path = r'C:\\Users\\Joris\\OneDrive - Newcastle University\\PhD\\Models\\ME optimisation model\\ME_battery_supply_chain\\notebooks\\model run\\run1\\LMO.pickle'\n",
    "\n",
    "# with open(path, 'rb') as handle:\n",
    "#     lmo = pickle.load(handle)"
   ]
  },
  {
   "cell_type": "code",
   "execution_count": 208,
   "metadata": {},
   "outputs": [],
   "source": [
    "#replace lmo in ABCD pickle:\n",
    "All_temp = copy.deepcopy(dict_pack_designs)\n",
    "LMO_temp = copy.deepcopy(lmo)"
   ]
  },
  {
   "cell_type": "code",
   "execution_count": 240,
   "metadata": {},
   "outputs": [],
   "source": [
    "param_cate = All_temp[0]['general_battery_parameters'].keys()\n",
    "for x in LMO_temp.keys():\n",
    "    values = {k:v for k,v in LMO_temp[x]['general_battery_parameters'].items() if k in param_cate}\n",
    "    LMO_temp[x]['general_battery_parameters'] = values\n",
    "\n",
    "    \n",
    "\n",
    "\n"
   ]
  },
  {
   "cell_type": "code",
   "execution_count": 242,
   "metadata": {},
   "outputs": [
    {
     "data": {
      "text/plain": [
       "64"
      ]
     },
     "execution_count": 242,
     "metadata": {},
     "output_type": "execute_result"
    }
   ],
   "source": [
    "len(All_temp[0]['general_battery_parameters'])"
   ]
  },
  {
   "cell_type": "code",
   "execution_count": 253,
   "metadata": {},
   "outputs": [],
   "source": [
    "parameters = [\n",
    "                'electrode_pair',\n",
    "              'A_coefficient',\n",
    "              'B_coefficient',\n",
    "              'C_coefficient',\n",
    "              'silicon_anode',\n",
    "              'motor_power',\n",
    "              'positive_foil_thickness',\n",
    "              'negative_foil_thickness',\n",
    "              'sep_foil_thickness',\n",
    "              'sep_coat_thickness',\n",
    "              'cell_thickness_target',\n",
    "                            ]\n",
    "\n",
    "\n",
    "\n",
    "index_a = {}\n",
    "index_l = {}\n",
    "\n",
    "        \n",
    "param_values_A = {} \n",
    "param_values_L = {} \n",
    "\n",
    "for k, v in All_temp.items():\n",
    "    \n",
    "    if v['batpac_input']['electrode_pair']['value'] == 'LMO-G':\n",
    "        param_values_A[k] = []\n",
    "        for param in parameters:\n",
    "            param_values_A[k].append(v['batpac_input'][param]['value'])\n",
    "            \n",
    "            \n",
    "for k, v in LMO_temp.items():\n",
    "    param_values_L[k] = []\n",
    "    for param in parameters:\n",
    "        param_values_L[k].append(v['batpac_input'][param]['value'])\n",
    "    \n",
    "index_all = []     \n",
    "for k,v in param_values_A.items():\n",
    "    index_all.append({k:k2 for k2 in param_values_L.keys() if param_values_L[k2] == v})\n",
    "    \n",
    " \n",
    "#         # list(index_l.values()).index(v)\n",
    "for x in index_all:\n",
    "    f = list(x.keys())[0]\n",
    "    s = list(x.values())[0]\n",
    "    All_temp[f] = LMO_temp[s]"
   ]
  },
  {
   "cell_type": "code",
   "execution_count": 244,
   "metadata": {},
   "outputs": [],
   "source": [
    "import matplotlib.pyplot as plt\n",
    "\n",
    "wt_1 = []\n",
    "wt_2 = []\n",
    "\n",
    "\n",
    "for x in All_temp.keys():\n",
    "    wt_1.append(All_temp[x]['material_content_pack']['battery pack'])\n",
    "    wt_2.append(dict_pack_designs[x]['material_content_pack']['battery pack'])"
   ]
  },
  {
   "cell_type": "code",
   "execution_count": null,
   "metadata": {},
   "outputs": [],
   "source": []
  },
  {
   "cell_type": "markdown",
   "metadata": {},
   "source": [
    "## Copy pack design dictionary and include natural graphite:"
   ]
  },
  {
   "cell_type": "code",
   "execution_count": 254,
   "metadata": {},
   "outputs": [],
   "source": [
    "\n",
    "dict_pack_designs = All_temp\n",
    "\n",
    "dict_all = {}\n",
    "count = 0\n",
    "\n",
    "\n",
    "dict_pack_designs_ng_temp = copy.deepcopy(dict_pack_designs)\n",
    "\n",
    "dict_pack_designs_ng = {}\n",
    "\n",
    "for k,v in dict_pack_designs_ng_temp.items():\n",
    "    dict_pack_designs_ng[len(dict_pack_designs)+k] = v\n",
    "    dict_pack_designs_ng[len(dict_pack_designs)+k]['material_content_pack']['anode active material (natural graphite)'] = v['material_content_pack']['anode active material (synthetic graphite)']\n",
    "    dict_pack_designs_ng[len(dict_pack_designs)+k]['material_content_pack']['anode active material (synthetic graphite)'] = 0    \n",
    "    dict_pack_designs_ng[len(dict_pack_designs)+k]['general_battery_parameters']['graphite_type'] = 'natural'\n",
    "    \n",
    "\n",
    "dict_all = {**dict_pack_designs, **dict_pack_designs_ng}\n",
    "\n",
    "\n"
   ]
  },
  {
   "cell_type": "markdown",
   "metadata": {},
   "source": [
    "## Establish dataframe for design parameter dict"
   ]
  },
  {
   "cell_type": "code",
   "execution_count": 11,
   "metadata": {},
   "outputs": [
    {
     "name": "stderr",
     "output_type": "stream",
     "text": [
      "C:\\Users\\Joris\\AppData\\Local\\Temp/ipykernel_28780/2733847600.py:7: PerformanceWarning: DataFrame is highly fragmented.  This is usually the result of calling `frame.insert` many times, which has poor performance.  Consider joining all columns at once using pd.concat(axis=1) instead.  To get a de-fragmented frame, use `newframe = frame.copy()`\n",
      "  df_parameters[k] = v['general_battery_parameters'].values()\n"
     ]
    }
   ],
   "source": [
    "parameter_categories = dict_all[0]['general_battery_parameters'].keys()\n",
    "\n",
    "df_parameters = pd.DataFrame(index=parameter_categories)\n",
    "\n",
    "for k,v in dict_all.items():\n",
    "    # parameter_values = [v['general_battery_parameters'][param] for param in parameter_categories]\n",
    "    df_parameters[k] = v['general_battery_parameters'].values()\n",
    "\n",
    "# #Sort values by vehicle range and pack energy:    \n",
    "# df_parameters = df_parameters.sort_values(by=['Vehicle_range_km', 'pack_energy_kWh'], axis=1).T\n",
    "# df_parameters.reset_index(inplace=True)\n",
    "\n",
    "\n"
   ]
  },
  {
   "cell_type": "code",
   "execution_count": 13,
   "metadata": {},
   "outputs": [],
   "source": [
    "df_parameters.T.to_excel(r\"C:\\Users\\Joris\\OneDrive - Newcastle University\\PhD\\Models\\ME optimisation model\\Case study\\Data\\raw\\3_PAR_battery_parameters_v3.xlsx\")"
   ]
  },
  {
   "cell_type": "markdown",
   "metadata": {},
   "source": [
    "## Establish dataframe for material content dict\n"
   ]
  },
  {
   "cell_type": "code",
   "execution_count": 15,
   "metadata": {},
   "outputs": [
    {
     "name": "stderr",
     "output_type": "stream",
     "text": [
      "C:\\Users\\Joris\\AppData\\Local\\Temp/ipykernel_28780/1125123606.py:8: PerformanceWarning: DataFrame is highly fragmented.  This is usually the result of calling `frame.insert` many times, which has poor performance.  Consider joining all columns at once using pd.concat(axis=1) instead.  To get a de-fragmented frame, use `newframe = frame.copy()`\n",
      "  df_mc[k] = dict_all[k]['material_content_pack'].values()\n"
     ]
    }
   ],
   "source": [
    "df_mc = pd.DataFrame(index=dict_all[0]['material_content_pack'].keys())\n",
    "\n",
    "\n",
    "#Sort by index from df_parameters\n",
    "\n",
    "for k,v in dict_all.items():\n",
    "    # parameter_values = [v['general_battery_parameters'][param] for param in parameter_categories]\n",
    "    df_mc[k] = dict_all[k]['material_content_pack'].values()\n",
    "\n",
    "    \n",
    "df_mc = df_mc.T\n"
   ]
  },
  {
   "cell_type": "markdown",
   "metadata": {},
   "source": [
    "## Save to Excel:"
   ]
  },
  {
   "cell_type": "code",
   "execution_count": 16,
   "metadata": {},
   "outputs": [],
   "source": [
    "# df_parameters.to_excel(r'C:\\Users\\Joris\\OneDrive - Newcastle University\\PhD\\Models\\ME optimisation model\\Case study\\Data\\raw\\3_PAR_battery_parameters_v2_raw.xlsx')\n",
    "\n",
    "df_mc.to_excel(r'C:\\Users\\Joris\\OneDrive - Newcastle University\\PhD\\Models\\ME optimisation model\\Case study\\Data\\raw\\3_MC_materials_pack_design_v3_raw.xlsx')"
   ]
  },
  {
   "cell_type": "code",
   "execution_count": 263,
   "metadata": {},
   "outputs": [],
   "source": [
    "with open(r'C:\\Users\\Joris\\OneDrive - Newcastle University\\PhD\\Models\\ME optimisation model\\Case study\\Data\\raw\\segmentABCD2.pickle', 'wb') as handle:\n",
    "    pickle.dump(All_temp, handle, protocol=pickle.HIGHEST_PROTOCOL)"
   ]
  },
  {
   "cell_type": "code",
   "execution_count": 268,
   "metadata": {},
   "outputs": [
    {
     "data": {
      "text/plain": [
       "20736"
      ]
     },
     "execution_count": 268,
     "metadata": {},
     "output_type": "execute_result"
    }
   ],
   "source": [
    "len(All_temp)*2"
   ]
  },
  {
   "cell_type": "code",
   "execution_count": null,
   "metadata": {},
   "outputs": [],
   "source": []
  }
 ],
 "metadata": {
  "interpreter": {
   "hash": "77b1a39b2e46dae2d06de88b1d8cb6f5c7562cfa1125541e21b7ad9f29b27783"
  },
  "kernelspec": {
   "display_name": "Python 3.9.7 64-bit (conda)",
   "language": "python",
   "name": "python3"
  },
  "language_info": {
   "codemirror_mode": {
    "name": "ipython",
    "version": 3
   },
   "file_extension": ".py",
   "mimetype": "text/x-python",
   "name": "python",
   "nbconvert_exporter": "python",
   "pygments_lexer": "ipython3",
   "version": "3.9.7"
  },
  "orig_nbformat": 4
 },
 "nbformat": 4,
 "nbformat_minor": 2
}
