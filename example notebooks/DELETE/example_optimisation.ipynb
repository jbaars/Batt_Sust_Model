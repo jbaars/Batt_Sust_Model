{
 "cells": [
  {
   "cell_type": "markdown",
   "id": "07ad7913",
   "metadata": {},
   "source": [
    "# Modelling material efficient design choices in product chains: the case of electric vehicle batteries\n",
    "\n",
    "\n",
    "*By Joris Baars, Newcastle University, UK, 2021* <br> <br>\n",
    "\n"
   ]
  }
 ],
 "metadata": {
  "kernelspec": {
   "display_name": "Python 3",
   "language": "python",
   "name": "python3"
  },
  "language_info": {
   "codemirror_mode": {
    "name": "ipython",
    "version": 3
   },
   "file_extension": ".py",
   "mimetype": "text/x-python",
   "name": "python",
   "nbconvert_exporter": "python",
   "pygments_lexer": "ipython3",
   "version": "3.8.5"
  }
 },
 "nbformat": 4,
 "nbformat_minor": 5
}
