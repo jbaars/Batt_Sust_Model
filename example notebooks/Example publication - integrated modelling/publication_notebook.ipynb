{
 "cells": [
  {
   "cell_type": "markdown",
   "metadata": {},
   "source": [
    "<font size=\"6\"> Integrated modelling - the case of lithium-ion batteries <br>\n",
    "<font size=\"3\">_By Joris Baars, Newcastle University, UK, 2022_ (joris.baars@hotmail.com) <br>\n",
    "\n",
    "The following notebook is used to model the cost, carbon footprint, performance and material criticality of different battery designs. Multi-objective optimisation is used to identify optimal design.\n",
    "The results are published in:\n",
    "\n",
    "    ADD PUBLICATION\n",
    "\n",
    "<!--     Baars, Joris & Heidrich, Oliver  -->\n",
    "\n",
    "<center><img src='../../docs/model_overview.png' width=800/></center>\n"
   ]
  },
  {
   "cell_type": "markdown",
   "metadata": {},
   "source": [
    "# <b> Goal and scope definition phase </b>\n"
   ]
  },
  {
   "cell_type": "markdown",
   "metadata": {},
   "source": [
    "## <b> STEP 1. </b> Macro goal definition\n"
   ]
  },
  {
   "cell_type": "markdown",
   "metadata": {},
   "source": [
    "## <b> STEP 2. </b> Technology system map\n"
   ]
  },
  {
   "cell_type": "markdown",
   "metadata": {},
   "source": [
    "<center><img src='../../docs/technology_system_map.jpg' width=800/></center>\n"
   ]
  },
  {
   "cell_type": "markdown",
   "metadata": {},
   "source": [
    "## <b> STEP 3. </b> Context description\n"
   ]
  },
  {
   "cell_type": "markdown",
   "metadata": {},
   "source": [
    "# <b> Modelling phase </b>\n",
    "\n",
    "Import all required packages\n"
   ]
  },
  {
   "cell_type": "code",
   "execution_count": 4,
   "metadata": {},
   "outputs": [],
   "source": [
    "\n",
    "import numpy as np\n",
    "import pandas as pd\n",
    "import matplotlib.pyplot as plt\n",
    "import logging as log\n",
    "import sys, os\n",
    "import copy\n",
    "import pyomo.environ as pyo\n",
    "import sys\n",
    "import openpyxl\n",
    "from tqdm import tqdm\n",
    "import pkg_resources\n",
    "\n",
    "%matplotlib inline"
   ]
  },
  {
   "cell_type": "markdown",
   "metadata": {},
   "source": [
    "The ODYM, battery cost and emission scripts need to be imported locally. The ODYM (Open Dynamic Material Systems Model) model is used to establish a general system and data structure and import all parameters. The latest ODYM version can be found here: https://github.com/IndEcol/ODYM\n"
   ]
  },
  {
   "cell_type": "code",
   "execution_count": 5,
   "metadata": {},
   "outputs": [],
   "source": [
    "# path to ODYM:\n",
    "sys.path.insert(\n",
    "    0,\n",
    "    os.path.join(\n",
    "        r\"C:\\Users\\Joris\\OneDrive - Newcastle University\\PhD\\Models\\battery_sustainability_model\\ME_battery_supply_chain\\Model\\ODYM\"\n",
    "    ),\n",
    ")\n",
    "\n",
    "\n",
    "import ODYM_Classes as msc\n",
    "import ODYM_Functions as msf\n",
    "\n",
    "# Logfile ODYM\n",
    "log_verbosity = eval(\"log.INFO\")\n",
    "log_filename = \"log_file.md\"\n",
    "[Mylog, console_log, file_log] = msf.function_logger(log_filename, os.getcwd(), log_verbosity, log_verbosity)\n",
    "\n",
    "\n",
    "# Path to the battery cost and emission scripts:\n",
    "local_path = r\"C:\\Users\\Joris\\OneDrive - Newcastle University\\Python\\Projects\\Bat_Sust_Model\"  # ADD PATH\n",
    "sys.path.insert(1, local_path)\n",
    "from batt_sust_model import battery_emissions as bat_lca\n",
    "from batt_sust_model import battery_cost as bat_cost\n",
    "\n",
    "\n",
    "# Local path to all case study parameter files:\n",
    "datapath = \".\"\n"
   ]
  },
  {
   "cell_type": "markdown",
   "metadata": {},
   "source": [
    "## <b> STEP 4.</b> Data model setup\n",
    "\n",
    "In the following block, the index table and parameter dictionary are established. This step is based on the first two steps of a ODYM model run (initialization and classification and data read). More details can be found [here](https://github.com/IndEcol/ODYM/wiki/The-ODYM-project-script) and a tutorial can be found [here](https://github.com/IndEcol/ODYM/blob/master/docs/ODYM%20Example%20and%20Tutorial%20No.%204.%20ODYM_Database.ipynb)\n",
    "\n",
    "### Read config and classification file\n",
    "\n",
    "In the first step, the model config (model_config.xlsx) and classification (model_classfication.xlsx) files are loaded\n"
   ]
  },
  {
   "cell_type": "code",
   "execution_count": 6,
   "metadata": {},
   "outputs": [
    {
     "name": "stderr",
     "output_type": "stream",
     "text": [
      "INFO (ODYM_Functions.py <ParseConfigFile>): Read parameter list from model config sheet.\n",
      "INFO (ODYM_Functions.py <ParseConfigFile>): Read process list from model config sheet.\n",
      "INFO (ODYM_Functions.py <ParseConfigFile>): Read model run control from model config sheet.\n",
      "INFO (ODYM_Functions.py <ParseConfigFile>): Read model output control from model config sheet.\n"
     ]
    }
   ],
   "source": [
    "# Read ODYM config file\n",
    "config_file = openpyxl.load_workbook(datapath + \"\\model_config.xlsx\", data_only=True)\n",
    "script_config = {\"Model Setting\": config_file[\"Cover\"][\"D4\"].value}\n",
    "config_sheet = config_file[\"Setting_\" + script_config[\"Model Setting\"]]\n",
    "project_name = config_sheet[\"D2\"].value\n",
    "ScriptConfig = msf.ParseModelControl(config_sheet, script_config)\n",
    "\n",
    "# Parse configfile\n",
    "(\n",
    "    IT_Aspects,\n",
    "    IT_Description,\n",
    "    IT_Dimension,\n",
    "    IT_Classification,\n",
    "    IT_Selector,\n",
    "    IT_IndexLetter,\n",
    "    PL_Names,\n",
    "    PL_Description,\n",
    "    PL_Version,\n",
    "    PL_IndexStructure,\n",
    "    PL_IndexMatch,\n",
    "    PL_IndexLayer,\n",
    "    PrL_Number,\n",
    "    PrL_Name,\n",
    "    PrL_Comment,\n",
    "    PrL_Type,\n",
    "    ScriptConfig,\n",
    ") = msf.ParseConfigFile(config_sheet, script_config, Mylog)\n",
    "\n",
    "# Load classification file and establish classification dictionary:\n",
    "Classfile = openpyxl.load_workbook(datapath + \"\\model_classification.xlsx\", data_only=True)\n",
    "Classsheet = Classfile[\"MAIN_Table\"]\n",
    "MasterClassification = msf.ParseClassificationFile_Main(Classsheet, Mylog)\n",
    "\n",
    "ModelClassification = {}  # Dict of model classifications\n",
    "for m in range(0, len(IT_Aspects)):\n",
    "    ModelClassification[IT_Aspects[m]] = copy.deepcopy(MasterClassification[IT_Classification[m]])\n",
    "    EvalString = msf.EvalItemSelectString(IT_Selector[m], len(ModelClassification[IT_Aspects[m]].Items))\n",
    "    if EvalString.find(\":\") > -1:  # range of items is taken\n",
    "        RangeStart = int(EvalString[0 : EvalString.find(\":\")])\n",
    "        RangeStop = int(EvalString[EvalString.find(\":\") + 1 : :])\n",
    "        ModelClassification[IT_Aspects[m]].Items = ModelClassification[IT_Aspects[m]].Items[RangeStart:RangeStop]\n",
    "    elif EvalString.find(\"[\") > -1:  # selected items are taken\n",
    "        ModelClassification[IT_Aspects[m]].Items = [ModelClassification[IT_Aspects[m]].Items[i] for i in eval(EvalString)]\n",
    "    elif EvalString == \"all\":\n",
    "        None\n",
    "    else:\n",
    "        Mylog.info(\"ITEM SELECT ERROR for aspect \" + IT_Aspects[m] + \" were found in datafile.</br>\")\n",
    "        break\n"
   ]
  },
  {
   "cell_type": "markdown",
   "metadata": {
    "vscode": {
     "languageId": "plaintext"
    }
   },
   "source": [
    "### Establish index table\n",
    "\n",
    "Next the index table is established. Each row of the index table consist of the model aspect, a unique index letter and the classification.\n"
   ]
  },
  {
   "cell_type": "code",
   "execution_count": 7,
   "metadata": {},
   "outputs": [
    {
     "name": "stderr",
     "output_type": "stream",
     "text": [
      "INFO (1485820818.py <<cell line: 1>>): Define index table dataframe\n"
     ]
    },
    {
     "data": {
      "text/html": [
       "<div>\n",
       "<style scoped>\n",
       "    .dataframe tbody tr th:only-of-type {\n",
       "        vertical-align: middle;\n",
       "    }\n",
       "\n",
       "    .dataframe tbody tr th {\n",
       "        vertical-align: top;\n",
       "    }\n",
       "\n",
       "    .dataframe thead th {\n",
       "        text-align: right;\n",
       "    }\n",
       "</style>\n",
       "<table border=\"1\" class=\"dataframe\">\n",
       "  <thead>\n",
       "    <tr style=\"text-align: right;\">\n",
       "      <th></th>\n",
       "      <th>Description</th>\n",
       "      <th>Dimension</th>\n",
       "      <th>Classification</th>\n",
       "      <th>IndexLetter</th>\n",
       "      <th>IndexSize</th>\n",
       "    </tr>\n",
       "    <tr>\n",
       "      <th>Aspect</th>\n",
       "      <th></th>\n",
       "      <th></th>\n",
       "      <th></th>\n",
       "      <th></th>\n",
       "      <th></th>\n",
       "    </tr>\n",
       "  </thead>\n",
       "  <tbody>\n",
       "    <tr>\n",
       "      <th>Regions</th>\n",
       "      <td>Battery production locations in Europe</td>\n",
       "      <td>Region</td>\n",
       "      <td>&lt;ODYM_Classes.Classification object at 0x00000...</td>\n",
       "      <td>r</td>\n",
       "      <td>8</td>\n",
       "    </tr>\n",
       "    <tr>\n",
       "      <th>Process</th>\n",
       "      <td>All foreground processes</td>\n",
       "      <td>Process</td>\n",
       "      <td>&lt;ODYM_Classes.Classification object at 0x00000...</td>\n",
       "      <td>p</td>\n",
       "      <td>146</td>\n",
       "    </tr>\n",
       "    <tr>\n",
       "      <th>Bat_process</th>\n",
       "      <td>Battery manufacturing process</td>\n",
       "      <td>Process</td>\n",
       "      <td>&lt;ODYM_Classes.Classification object at 0x00000...</td>\n",
       "      <td>b</td>\n",
       "      <td>27</td>\n",
       "    </tr>\n",
       "    <tr>\n",
       "      <th>Goods</th>\n",
       "      <td>All foreground goods</td>\n",
       "      <td>Material</td>\n",
       "      <td>&lt;ODYM_Classes.Classification object at 0x00000...</td>\n",
       "      <td>g</td>\n",
       "      <td>132</td>\n",
       "    </tr>\n",
       "    <tr>\n",
       "      <th>Internal_goods</th>\n",
       "      <td>Goods flowing inside factory</td>\n",
       "      <td>Material</td>\n",
       "      <td>&lt;ODYM_Classes.Classification object at 0x00000...</td>\n",
       "      <td>i</td>\n",
       "      <td>15</td>\n",
       "    </tr>\n",
       "    <tr>\n",
       "      <th>Waste</th>\n",
       "      <td>Waste materials</td>\n",
       "      <td>Material</td>\n",
       "      <td>&lt;ODYM_Classes.Classification object at 0x00000...</td>\n",
       "      <td>w</td>\n",
       "      <td>12</td>\n",
       "    </tr>\n",
       "    <tr>\n",
       "      <th>Energy</th>\n",
       "      <td>Electricity and heat</td>\n",
       "      <td>Energy</td>\n",
       "      <td>&lt;ODYM_Classes.Classification object at 0x00000...</td>\n",
       "      <td>n</td>\n",
       "      <td>2</td>\n",
       "    </tr>\n",
       "    <tr>\n",
       "      <th>Elements</th>\n",
       "      <td>Chemical elements</td>\n",
       "      <td>Material</td>\n",
       "      <td>&lt;ODYM_Classes.Classification object at 0x00000...</td>\n",
       "      <td>e</td>\n",
       "      <td>11</td>\n",
       "    </tr>\n",
       "    <tr>\n",
       "      <th>Emissions</th>\n",
       "      <td>ReCiPe Midpoint (H) V1.13 no LT</td>\n",
       "      <td>Satellite</td>\n",
       "      <td>&lt;ODYM_Classes.Classification object at 0x00000...</td>\n",
       "      <td>h</td>\n",
       "      <td>17</td>\n",
       "    </tr>\n",
       "    <tr>\n",
       "      <th>Supply_risks</th>\n",
       "      <td>ESSENZ material supply risk</td>\n",
       "      <td>Satellite</td>\n",
       "      <td>&lt;ODYM_Classes.Classification object at 0x00000...</td>\n",
       "      <td>S</td>\n",
       "      <td>1</td>\n",
       "    </tr>\n",
       "    <tr>\n",
       "      <th>Factors</th>\n",
       "      <td>Primary production factors</td>\n",
       "      <td>Factors</td>\n",
       "      <td>&lt;ODYM_Classes.Classification object at 0x00000...</td>\n",
       "      <td>F</td>\n",
       "      <td>3</td>\n",
       "    </tr>\n",
       "    <tr>\n",
       "      <th>Technical_parameters</th>\n",
       "      <td>Technical battery design parameters</td>\n",
       "      <td>Parameter</td>\n",
       "      <td>&lt;ODYM_Classes.Classification object at 0x00000...</td>\n",
       "      <td>P</td>\n",
       "      <td>79</td>\n",
       "    </tr>\n",
       "    <tr>\n",
       "      <th>Battery_designs</th>\n",
       "      <td>Unique number for all pack designs</td>\n",
       "      <td>Parameter</td>\n",
       "      <td>&lt;ODYM_Classes.Classification object at 0x00000...</td>\n",
       "      <td>D</td>\n",
       "      <td>20736</td>\n",
       "    </tr>\n",
       "    <tr>\n",
       "      <th>Pack_design_choices</th>\n",
       "      <td>Battery pack design choices, input to BatPaC</td>\n",
       "      <td>Parameter</td>\n",
       "      <td>&lt;ODYM_Classes.Classification object at 0x00000...</td>\n",
       "      <td>c</td>\n",
       "      <td>51</td>\n",
       "    </tr>\n",
       "    <tr>\n",
       "      <th>Process_parameter</th>\n",
       "      <td>Process yield parameters for battery manufactu...</td>\n",
       "      <td>Parameter</td>\n",
       "      <td>&lt;ODYM_Classes.Classification object at 0x00000...</td>\n",
       "      <td>o</td>\n",
       "      <td>30</td>\n",
       "    </tr>\n",
       "    <tr>\n",
       "      <th>Yield_scenario</th>\n",
       "      <td>Process yield scenario</td>\n",
       "      <td>Scenario</td>\n",
       "      <td>&lt;ODYM_Classes.Classification object at 0x00000...</td>\n",
       "      <td>y</td>\n",
       "      <td>2</td>\n",
       "    </tr>\n",
       "    <tr>\n",
       "      <th>Energy_scenario</th>\n",
       "      <td>Low, average and high energy consumption for b...</td>\n",
       "      <td>Scenario</td>\n",
       "      <td>&lt;ODYM_Classes.Classification object at 0x00000...</td>\n",
       "      <td>G</td>\n",
       "      <td>3</td>\n",
       "    </tr>\n",
       "    <tr>\n",
       "      <th>Mineral_price_scenario</th>\n",
       "      <td>High, used and low historic mineral prices</td>\n",
       "      <td>Scenario</td>\n",
       "      <td>&lt;ODYM_Classes.Classification object at 0x00000...</td>\n",
       "      <td>A</td>\n",
       "      <td>3</td>\n",
       "    </tr>\n",
       "  </tbody>\n",
       "</table>\n",
       "</div>"
      ],
      "text/plain": [
       "                                                              Description  \\\n",
       "Aspect                                                                      \n",
       "Regions                            Battery production locations in Europe   \n",
       "Process                                          All foreground processes   \n",
       "Bat_process                                 Battery manufacturing process   \n",
       "Goods                                                All foreground goods   \n",
       "Internal_goods                               Goods flowing inside factory   \n",
       "Waste                                                     Waste materials   \n",
       "Energy                                              Electricity and heat    \n",
       "Elements                                                Chemical elements   \n",
       "Emissions                                 ReCiPe Midpoint (H) V1.13 no LT   \n",
       "Supply_risks                                  ESSENZ material supply risk   \n",
       "Factors                                        Primary production factors   \n",
       "Technical_parameters                  Technical battery design parameters   \n",
       "Battery_designs                        Unique number for all pack designs   \n",
       "Pack_design_choices          Battery pack design choices, input to BatPaC   \n",
       "Process_parameter       Process yield parameters for battery manufactu...   \n",
       "Yield_scenario                                     Process yield scenario   \n",
       "Energy_scenario         Low, average and high energy consumption for b...   \n",
       "Mineral_price_scenario         High, used and low historic mineral prices   \n",
       "\n",
       "                        Dimension  \\\n",
       "Aspect                              \n",
       "Regions                    Region   \n",
       "Process                   Process   \n",
       "Bat_process               Process   \n",
       "Goods                    Material   \n",
       "Internal_goods           Material   \n",
       "Waste                    Material   \n",
       "Energy                     Energy   \n",
       "Elements                 Material   \n",
       "Emissions               Satellite   \n",
       "Supply_risks            Satellite   \n",
       "Factors                   Factors   \n",
       "Technical_parameters    Parameter   \n",
       "Battery_designs         Parameter   \n",
       "Pack_design_choices     Parameter   \n",
       "Process_parameter       Parameter   \n",
       "Yield_scenario           Scenario   \n",
       "Energy_scenario          Scenario   \n",
       "Mineral_price_scenario   Scenario   \n",
       "\n",
       "                                                           Classification  \\\n",
       "Aspect                                                                      \n",
       "Regions                 <ODYM_Classes.Classification object at 0x00000...   \n",
       "Process                 <ODYM_Classes.Classification object at 0x00000...   \n",
       "Bat_process             <ODYM_Classes.Classification object at 0x00000...   \n",
       "Goods                   <ODYM_Classes.Classification object at 0x00000...   \n",
       "Internal_goods          <ODYM_Classes.Classification object at 0x00000...   \n",
       "Waste                   <ODYM_Classes.Classification object at 0x00000...   \n",
       "Energy                  <ODYM_Classes.Classification object at 0x00000...   \n",
       "Elements                <ODYM_Classes.Classification object at 0x00000...   \n",
       "Emissions               <ODYM_Classes.Classification object at 0x00000...   \n",
       "Supply_risks            <ODYM_Classes.Classification object at 0x00000...   \n",
       "Factors                 <ODYM_Classes.Classification object at 0x00000...   \n",
       "Technical_parameters    <ODYM_Classes.Classification object at 0x00000...   \n",
       "Battery_designs         <ODYM_Classes.Classification object at 0x00000...   \n",
       "Pack_design_choices     <ODYM_Classes.Classification object at 0x00000...   \n",
       "Process_parameter       <ODYM_Classes.Classification object at 0x00000...   \n",
       "Yield_scenario          <ODYM_Classes.Classification object at 0x00000...   \n",
       "Energy_scenario         <ODYM_Classes.Classification object at 0x00000...   \n",
       "Mineral_price_scenario  <ODYM_Classes.Classification object at 0x00000...   \n",
       "\n",
       "                       IndexLetter  IndexSize  \n",
       "Aspect                                         \n",
       "Regions                          r          8  \n",
       "Process                          p        146  \n",
       "Bat_process                      b         27  \n",
       "Goods                            g        132  \n",
       "Internal_goods                   i         15  \n",
       "Waste                            w         12  \n",
       "Energy                           n          2  \n",
       "Elements                         e         11  \n",
       "Emissions                        h         17  \n",
       "Supply_risks                     S          1  \n",
       "Factors                          F          3  \n",
       "Technical_parameters             P         79  \n",
       "Battery_designs                  D      20736  \n",
       "Pack_design_choices              c         51  \n",
       "Process_parameter                o         30  \n",
       "Yield_scenario                   y          2  \n",
       "Energy_scenario                  G          3  \n",
       "Mineral_price_scenario           A          3  "
      ]
     },
     "execution_count": 7,
     "metadata": {},
     "output_type": "execute_result"
    }
   ],
   "source": [
    "Mylog.info(\"Define index table dataframe\")\n",
    "IndexTable = pd.DataFrame(\n",
    "    {\n",
    "        \"Aspect\": IT_Aspects,\n",
    "        \"Description\": IT_Description,\n",
    "        \"Dimension\": IT_Dimension,\n",
    "        \"Classification\": [ModelClassification[Aspect] for Aspect in IT_Aspects],\n",
    "        \"IndexLetter\": IT_IndexLetter,\n",
    "    }\n",
    ")  # Unique one letter indices to be used later for calculations.\n",
    "\n",
    "# Default indexing of IndexTable\n",
    "IndexTable.set_index(\"Aspect\", inplace=True)\n",
    "\n",
    "# Add indexSize to IndexTable:\n",
    "IndexTable[\"IndexSize\"] = pd.Series(\n",
    "    [len(IndexTable.Classification[i].Items) for i in range(0, len(IndexTable.IndexLetter))],\n",
    "    index=IndexTable.index,\n",
    ")\n",
    "\n",
    "# list of the classifications used for each indexletter\n",
    "IndexTable_ClassificationNames = [IndexTable.Classification[i].Name for i in range(0, len(IndexTable.IndexLetter))]\n",
    "\n",
    "IndexTable\n"
   ]
  },
  {
   "cell_type": "markdown",
   "metadata": {
    "vscode": {
     "languageId": "plaintext"
    }
   },
   "source": [
    "The index table makes it easy to access the model classification items and assures that the order of the item lists is consistent throughout the model and data.<br><br> The classification items of the aspect `region` for example can be easily accessed:\n"
   ]
  },
  {
   "cell_type": "code",
   "execution_count": 8,
   "metadata": {},
   "outputs": [
    {
     "data": {
      "text/plain": [
       "['FR', 'DE', 'HU', 'NO', 'PL', 'SE', 'GB', 'European average']"
      ]
     },
     "execution_count": 8,
     "metadata": {},
     "output_type": "execute_result"
    }
   ],
   "source": [
    "IndexTable.loc[\"Regions\", \"Classification\"].Items\n"
   ]
  },
  {
   "cell_type": "code",
   "execution_count": 9,
   "metadata": {},
   "outputs": [],
   "source": [
    "# Index shortcuts:\n",
    "r = IndexTable.loc[\"Regions\", \"Classification\"].Items\n",
    "p = IndexTable.loc[\"Process\", \"Classification\"].Items\n",
    "g = IndexTable.loc[\"Goods\", \"Classification\"].Items\n",
    "D = IndexTable.loc[\"Battery_designs\", \"Classification\"].Items\n",
    "P = IndexTable.loc[\"Technical_parameters\", \"Classification\"].Items\n",
    "bp = IndexTable.loc[\"Bat_process\", \"Classification\"].Items\n",
    "h = IndexTable.loc[\"Emissions\", \"Classification\"].Items\n",
    "f = IndexTable.loc[\"Factors\", \"Classification\"].Items\n",
    "e = IndexTable.loc[\"Elements\", \"Classification\"].Items\n",
    "p_electricity = [x for x in p if \"market group for electricity battery production, medium voltage\" in x]\n",
    "p_gas = [x for x in p if \"market group for heat, district or industrial, natural gas\" in x]\n"
   ]
  },
  {
   "cell_type": "markdown",
   "metadata": {},
   "source": [
    "### Load model parameters\n",
    "\n",
    "Next, all model datasets are imported. All datasets are stored in Excel files using the [ODYM data file template](https://github.com/IndEcol/ODYM/wiki/Data-templates) and stored as Numpy arrays in the parameter dictionary. The following data sets are imported:\n",
    "\n",
    "| Dataset name               | Description                                                                      |\n",
    "| :------------------------- | :------------------------------------------------------------------------------- |\n",
    "| 3_PR_factor_price          | Production factor price per unit                                                 |\n",
    "| 3_PR_material_price_unit   | External material price per unit                                                 |\n",
    "| 3_PR_material_price_mass   | External material price per mass of material in US dollar                        |\n",
    "| 3_PR_mineral_price         | Mineral prices and scenarios                                                     |\n",
    "| 3_PR_regional_energy_price | Regional electricity and gas price                                               |\n",
    "| 3_MC_materials_pack_design | Material content of battery design                                               |\n",
    "| 3_MC_element_goods         | Chemical elements in battery materials                                           |\n",
    "| 3_PAR_battery_parameters   | Technical pararameters and Brightway Project Parameters for all battery designs  |\n",
    "| 4_PY_battery_manufacturing | Battery process yield parameters for each scenario                               |\n",
    "| 4_UPI_foreground_base      | Rectangular foreground good-process matrix of first battery design (base system) |\n",
    "| 4_PE_modules_base          | Gate-to-gate emissions of base system modules                                    |\n",
    "| 4_PE_sensitivity_materials | High and low GWP values for material extraction for senstivity analysis          |\n",
    "| 4_PAR_energy_consumption   | Battery electricity consumption parameters for each scenario                     |\n",
    "| 6_CR_ESSENZ_CF_elements    | ESSENZ supply risks characterisation factors for all considered elements         |\n"
   ]
  },
  {
   "cell_type": "code",
   "execution_count": 329,
   "metadata": {},
   "outputs": [
    {
     "name": "stderr",
     "output_type": "stream",
     "text": [
      "INFO (4186096917.py <<cell line: 1>>): Reading data files into ParameterDict\n",
      "INFO (4186096917.py <<cell line: 5>>): Reading parameter 3_PR_factor_price\n",
      "INFO (ODYM_Functions.py <ReadParameterXLSX>): A total of 93 values was read from file for parameter 3_PR_factor_price.\n",
      "INFO (ODYM_Functions.py <ReadParameterXLSX>): 24.0 of 24 values for parameter 3_PR_factor_price were assigned.\n",
      "INFO (4186096917.py <<cell line: 5>>): _\n",
      "INFO (4186096917.py <<cell line: 5>>): Reading parameter 3_PR_material_price_unit\n",
      "INFO (ODYM_Functions.py <ReadParameterXLSX>): A total of 23 values was read from file for parameter 3_PR_material_price_unit.\n",
      "INFO (ODYM_Functions.py <ReadParameterXLSX>): 23.0 of 10428 values for parameter 3_PR_material_price_unit were assigned.\n",
      "INFO (4186096917.py <<cell line: 5>>): _\n",
      "INFO (4186096917.py <<cell line: 5>>): Reading parameter 3_PR_material_price_mass\n",
      "INFO (ODYM_Functions.py <ReadParameterXLSX>): A total of 67 values was read from file for parameter 3_PR_material_price_mass.\n",
      "INFO (ODYM_Functions.py <ReadParameterXLSX>): 67.0 of 132 values for parameter 3_PR_material_price_mass were assigned.\n",
      "INFO (4186096917.py <<cell line: 5>>): _\n",
      "INFO (4186096917.py <<cell line: 5>>): Reading parameter 3_PR_mineral_price\n",
      "INFO (ODYM_Functions.py <ReadParameterXLSX>): A total of 44 values was read from file for parameter 3_PR_mineral_price.\n",
      "INFO (ODYM_Functions.py <ReadParameterXLSX>): 30.0 of 33 values for parameter 3_PR_mineral_price were assigned.\n",
      "INFO (4186096917.py <<cell line: 5>>): _\n",
      "INFO (4186096917.py <<cell line: 5>>): Reading parameter 3_PR_regional_energy_price\n",
      "INFO (ODYM_Functions.py <ReadParameterXLSX>): A total of 93 values was read from file for parameter 3_PR_regional_energy_price.\n",
      "INFO (ODYM_Functions.py <ReadParameterXLSX>): 16.0 of 16 values for parameter 3_PR_regional_energy_price were assigned.\n",
      "INFO (4186096917.py <<cell line: 5>>): _\n",
      "INFO (4186096917.py <<cell line: 5>>): Reading parameter 3_MC_materials_pack_design\n",
      "INFO (ODYM_Functions.py <ReadParameterXLSX>): A total of 2115072 values was read from file for parameter 3_MC_materials_pack_design.\n",
      "INFO (ODYM_Functions.py <ReadParameterXLSX>): 1534464.0 of 2737152 values for parameter 3_MC_materials_pack_design were assigned.\n",
      "INFO (4186096917.py <<cell line: 5>>): _\n",
      "INFO (4186096917.py <<cell line: 5>>): Reading parameter 3_MC_element_goods\n",
      "INFO (ODYM_Functions.py <ReadParameterXLSX>): A total of 70 values was read from file for parameter 3_MC_element_goods.\n",
      "INFO (ODYM_Functions.py <ReadParameterXLSX>): 70.0 of 1452 values for parameter 3_MC_element_goods were assigned.\n",
      "INFO (4186096917.py <<cell line: 5>>): _\n",
      "INFO (4186096917.py <<cell line: 5>>): Reading parameter 3_PAR_battery_parameters\n",
      "INFO (4186096917.py <<cell line: 5>>): 3_PAR_battery_parameters includes strings\n",
      "INFO (ODYM_Functions.py <ReadParameterXLSX>): A total of 1617408 values was read from file for parameter 3_PAR_battery_parameters.\n",
      "INFO (ODYM_Functions.py <ReadParameterXLSX>): 1617408.0 of 1638144 values for parameter 3_PAR_battery_parameters were assigned.\n",
      "INFO (4186096917.py <<cell line: 5>>): _\n",
      "INFO (4186096917.py <<cell line: 5>>): Reading parameter 4_PY_battery_manufacturing\n",
      "INFO (ODYM_Functions.py <ReadParameterXLSX>): A total of 20 values was read from file for parameter 4_PY_battery_manufacturing.\n",
      "INFO (ODYM_Functions.py <ReadParameterXLSX>): 20.0 of 60 values for parameter 4_PY_battery_manufacturing were assigned.\n",
      "INFO (4186096917.py <<cell line: 5>>): _\n",
      "INFO (4186096917.py <<cell line: 5>>): Reading parameter 4_UPI_foreground_base\n",
      "INFO (ODYM_Functions.py <ReadParameterXLSX>): A total of 17907 values was read from file for parameter 4_UPI_foreground_base.\n",
      "INFO (ODYM_Functions.py <ReadParameterXLSX>): 17907.0 of 19272 values for parameter 4_UPI_foreground_base were assigned.\n",
      "INFO (4186096917.py <<cell line: 5>>): _\n",
      "INFO (4186096917.py <<cell line: 5>>): Reading parameter 4_PE_modules_base\n",
      "INFO (ODYM_Functions.py <ReadParameterXLSX>): A total of 2628 values was read from file for parameter 4_PE_modules_base.\n",
      "INFO (ODYM_Functions.py <ReadParameterXLSX>): 2482.0 of 2482 values for parameter 4_PE_modules_base were assigned.\n",
      "INFO (4186096917.py <<cell line: 5>>): _\n",
      "INFO (4186096917.py <<cell line: 5>>): Reading parameter 4_PE_sensitivity_materials\n",
      "INFO (ODYM_Functions.py <ReadParameterXLSX>): A total of 22 values was read from file for parameter 4_PE_sensitivity_materials.\n",
      "INFO (ODYM_Functions.py <ReadParameterXLSX>): 22.0 of 438 values for parameter 4_PE_sensitivity_materials were assigned.\n",
      "INFO (4186096917.py <<cell line: 5>>): _\n",
      "INFO (4186096917.py <<cell line: 5>>): Reading parameter 4_PAR_energy_consumption\n",
      "INFO (ODYM_Functions.py <ReadParameterXLSX>): A total of 80 values was read from file for parameter 4_PAR_energy_consumption.\n",
      "INFO (ODYM_Functions.py <ReadParameterXLSX>): 57.0 of 90 values for parameter 4_PAR_energy_consumption were assigned.\n",
      "INFO (4186096917.py <<cell line: 5>>): _\n",
      "INFO (4186096917.py <<cell line: 5>>): Reading parameter 6_CR_ESSENZ_CF_elements\n",
      "INFO (ODYM_Functions.py <ReadParameterXLSX>): A total of 10 values was read from file for parameter 6_CR_ESSENZ_CF_elements.\n",
      "INFO (ODYM_Functions.py <ReadParameterXLSX>): 10.0 of 11 values for parameter 6_CR_ESSENZ_CF_elements were assigned.\n",
      "INFO (4186096917.py <<cell line: 5>>): _\n",
      "INFO (4186096917.py <<cell line: 66>>): Reading of parameters finished.\n"
     ]
    },
    {
     "name": "stdout",
     "output_type": "stream",
     "text": [
      "ParameterDict loaded {'3_PR_factor_price': <ODYM_Classes.Parameter object at 0x0000017B469BDAF0>, '3_PR_material_price_unit': <ODYM_Classes.Parameter object at 0x0000017B46D57E50>, '3_PR_material_price_mass': <ODYM_Classes.Parameter object at 0x0000017B46A38130>, '3_PR_mineral_price': <ODYM_Classes.Parameter object at 0x0000017B1B98C4F0>, '3_PR_regional_energy_price': <ODYM_Classes.Parameter object at 0x0000017B468683A0>, '3_MC_materials_pack_design': <ODYM_Classes.Parameter object at 0x0000017B4F965A90>, '3_MC_element_goods': <ODYM_Classes.Parameter object at 0x0000017B4F965C10>, '3_PAR_battery_parameters': <ODYM_Classes.Parameter object at 0x0000017B482D1DC0>, '4_PY_battery_manufacturing': <ODYM_Classes.Parameter object at 0x0000017B7E1D6A30>, '4_UPI_foreground_base': <ODYM_Classes.Parameter object at 0x0000017B48367550>, '4_PE_modules_base': <ODYM_Classes.Parameter object at 0x0000017BE22848B0>, '4_PE_sensitivity_materials': <ODYM_Classes.Parameter object at 0x0000017B5C252E50>, '4_PAR_energy_consumption': <ODYM_Classes.Parameter object at 0x0000017B5AAC81C0>, '6_CR_ESSENZ_CF_elements': <ODYM_Classes.Parameter object at 0x0000017D6A493160>}\n"
     ]
    }
   ],
   "source": [
    "Mylog.info(\"Reading data files into ParameterDict\")\n",
    "\n",
    "ParameterDict = {}\n",
    "mo_start = 0  # set mo for re-reading a certain parameter\n",
    "for mo in range(mo_start, len(PL_Names)):\n",
    "    # print (PL_Names[mo] )\n",
    "    try:\n",
    "        ParPath = os.path.join(datapath + \"\\Data\\ODYM_database\", PL_Names[mo] + \"_\" + PL_Version[mo])\n",
    "        Mylog.info(\"Reading parameter \" + PL_Names[mo])\n",
    "        # Do not change order of parameters handed over to function!\n",
    "        MetaData, Values = msf.ReadParameterXLSX(\n",
    "            ParPath,\n",
    "            PL_Names[mo],\n",
    "            PL_IndexStructure[mo],\n",
    "            PL_IndexMatch[mo],\n",
    "            PL_IndexLayer[mo],\n",
    "            MasterClassification,\n",
    "            IndexTable,\n",
    "            IndexTable_ClassificationNames,\n",
    "            ScriptConfig,\n",
    "            Mylog,\n",
    "            False,\n",
    "        )\n",
    "        ParameterDict[PL_Names[mo]] = msc.Parameter(\n",
    "            Name=MetaData[\"Dataset_Name\"],\n",
    "            ID=MetaData[\"Dataset_ID\"],\n",
    "            UUID=MetaData[\"Dataset_UUID\"],\n",
    "            P_Res=None,\n",
    "            MetaData=MetaData,\n",
    "            Indices=PL_IndexStructure[mo],\n",
    "            Values=Values,\n",
    "            Uncert=None,\n",
    "            Unit=MetaData[\"Dataset_Unit\"],\n",
    "        )\n",
    "\n",
    "    except ValueError:  # If parameter file contains string (e.g. cathode material type)\n",
    "        PL_Names[mo]\n",
    "        Mylog.info(f\"{PL_Names[mo]} includes strings\")\n",
    "        MetaData, Values = msf.ReadParameterXLSX(\n",
    "            ParPath,\n",
    "            PL_Names[mo],\n",
    "            PL_IndexStructure[mo],\n",
    "            PL_IndexMatch[mo],\n",
    "            PL_IndexLayer[mo],\n",
    "            MasterClassification,\n",
    "            IndexTable,\n",
    "            IndexTable_ClassificationNames,\n",
    "            ScriptConfig,\n",
    "            Mylog,\n",
    "            False,\n",
    "            string_data=True,\n",
    "        )  # Add string_data is True to include string dtype in np array.\n",
    "        ParameterDict[PL_Names[mo]] = msc.Parameter(\n",
    "            Name=MetaData[\"Dataset_Name\"],\n",
    "            ID=MetaData[\"Dataset_ID\"],\n",
    "            UUID=MetaData[\"Dataset_UUID\"],\n",
    "            P_Res=None,\n",
    "            MetaData=MetaData,\n",
    "            Indices=PL_IndexStructure[mo],\n",
    "            Values=Values,\n",
    "            Uncert=None,\n",
    "            Unit=MetaData[\"Dataset_Unit\"],\n",
    "        )\n",
    "\n",
    "    Mylog.info(\"_\")\n",
    "Mylog.info(\"Reading of parameters finished.\")\n",
    "print(\"ParameterDict loaded\", ParameterDict)\n"
   ]
  },
  {
   "cell_type": "code",
   "execution_count": 11,
   "metadata": {},
   "outputs": [],
   "source": [
    "# Parameter shortcuts:\n",
    "# dataframe of A default matrix:\n",
    "df_A_base = pd.DataFrame(data=ParameterDict[\"4_UPI_foreground_base\"].Values, index=g, columns=p)\n",
    "# np array of default gate-to-gate emission modules\n",
    "H_base = ParameterDict[\"4_PE_modules_base\"].Values\n",
    "# np array of battery design parameters\n",
    "bat_design_param = ParameterDict[\"3_PAR_battery_parameters\"].Values\n",
    "# np array of battery design material content\n",
    "mc_battery_designs = ParameterDict[\"3_MC_materials_pack_design\"].Values\n",
    "# material content and battery design dictionary shortcut:\n",
    "mc_battery_design_dct = pd.DataFrame(data=mc_battery_designs.T, index=g, columns=D).to_dict()\n",
    "bat_design_param_dct = pd.DataFrame(data=bat_design_param.T, index=P, columns=D).to_dict()\n"
   ]
  },
  {
   "cell_type": "markdown",
   "metadata": {},
   "source": [
    "## <b>STEP 5.</b> Product design modelling\n",
    "\n",
    "In this step the bill of materials (BOM) and technical performance parameters for all battery designs are obtained. The `battery_design` script is used for this purpose which uses BatPaC V5 and a linked vehicle model to automatically extract the desired data based on user specified design parameters:\n",
    "\n",
    "<center><img src='../../docs/batpac_python.jpg' width=800/></center>\n",
    "\n",
    "A example notebook of the `battery_design` model can be found [here](https://github.com/jbaars2/Batt_Sust_Model/blob/main/example%20notebooks/Battery%20design/Example%20notebook%20battery%20design.ipynb)\n"
   ]
  },
  {
   "cell_type": "markdown",
   "metadata": {},
   "source": [
    "For this case study, A total of 5,184 battery design options for four vehicle segments are included and precalculated.\n",
    "\n",
    "The battery design model outputs are stored in the ODYM database and include the material content (`3_MC_materials_pack_design`) of each design such as the calculated vehicle, glider, battery and cathode active material weight:\n"
   ]
  },
  {
   "cell_type": "code",
   "execution_count": 12,
   "metadata": {},
   "outputs": [
    {
     "data": {
      "image/png": "[encoded data removed]",
      "text/plain": [
       "<Figure size 1080x216 with 4 Axes>"
      ]
     },
     "metadata": {
      "needs_background": "light"
     },
     "output_type": "display_data"
    }
   ],
   "source": [
    "segments = {\n",
    "    \"Compact\": range(0, int(len(D) / 4)),\n",
    "    \"Small\": range(int(len(D) / 4), int(len(D) / 4) * 2),\n",
    "    \"Medium\": range(int(len(D) / 4) * 2, int(len(D) / 4) * 3),\n",
    "    \"Large\": range(int(len(D) / 4) * 3, int(len(D) / 4) * 4),\n",
    "}\n",
    "\n",
    "\n",
    "fig, ax = plt.subplots(1, 4, figsize=(15, 3))\n",
    "vehicle_weight = {}\n",
    "glider_weight = {}\n",
    "battery_weight = {}\n",
    "cam_weight = {}\n",
    "\n",
    "for k, v in segments.items():\n",
    "    vehicle_weight[k] = [bat_design_param_dct[x][\"vehicle_weight\"] for x in v]\n",
    "    glider_weight[k] = [bat_design_param_dct[x][\"glider_weight\"] for x in v]\n",
    "    battery_weight[k] = [bat_design_param_dct[x][\"battery_system_weight\"] for x in v]\n",
    "    cam_weight[k] = [bat_design_param_dct[x][\"positive_am_per_cell\"] * bat_design_param_dct[x][\"cells_per_pack\"] / 1000 for x in v]\n",
    "\n",
    "ax[0].violinplot(vehicle_weight.values())\n",
    "ax[0].set_title(\"Vehicle weight\", fontsize=14)\n",
    "ax[1].violinplot(glider_weight.values())\n",
    "ax[1].set_title(\"Glider weight\", fontsize=14)\n",
    "ax[2].violinplot(battery_weight.values())\n",
    "ax[2].set_title(\"Battery weight\", fontsize=14)\n",
    "ax[3].violinplot(cam_weight.values())\n",
    "ax[3].set_title(\"Cathode material weight\", fontsize=14)\n",
    "\n",
    "\n",
    "for i, x in enumerate(ax.flatten()):\n",
    "    x.yaxis.grid(True, linestyle=\"--\", lw=0.6)\n",
    "    x.set_xticks([y + 1 for y in range(len(segments.keys()))])\n",
    "    x.set_xticklabels(segments.keys(), fontsize=11)\n",
    "    x.set_ylabel(\"kilogram\", fontsize=12)\n",
    "fig.tight_layout()\n"
   ]
  },
  {
   "cell_type": "markdown",
   "metadata": {},
   "source": [
    "and technical performance parameters (`3_PAR_battery_parameters`) such as pack level density:\n"
   ]
  },
  {
   "cell_type": "code",
   "execution_count": 14,
   "metadata": {},
   "outputs": [
    {
     "data": {
      "image/png": "[encoded data removed]",
      "text/plain": [
       "<Figure size 1224x288 with 4 Axes>"
      ]
     },
     "metadata": {
      "needs_background": "light"
     },
     "output_type": "display_data"
    }
   ],
   "source": [
    "gr_density = {}\n",
    "vol_density = {}\n",
    "cam_choices = set([bat_design_param_dct[x][\"electrode_pair\"] for x in D])\n",
    "\n",
    "fig, ax = plt.subplots(1, 4, figsize=(17, 4), sharey=True, sharex=True)\n",
    "cmap = plt.get_cmap('tab10')\n",
    "\n",
    "for i, k in enumerate(segments.keys()):\n",
    "    for idx, cathode in enumerate(cam_choices):\n",
    "\n",
    "        gr_density[k] = [\n",
    "            bat_design_param_dct[x][\"pack_usable_energy_kWh\"] / bat_design_param_dct[x][\"battery_system_weight\"] * 1000\n",
    "            for x in segments[k]\n",
    "            if bat_design_param_dct[x][\"electrode_pair\"] == cathode\n",
    "        ]\n",
    "        vol_density[k] = [\n",
    "            bat_design_param_dct[x][\"pack_usable_energy_kWh\"] / bat_design_param_dct[x][\"system_volume\"] * 1000\n",
    "            for x in segments[k]\n",
    "            if bat_design_param_dct[x][\"electrode_pair\"] == cathode\n",
    "        ]\n",
    "\n",
    "        ax[i].scatter(gr_density[k], vol_density[k], alpha=0.1, color=cmap(idx), s=70, label=cathode.split(\" (Energy\")[0].split(\"-G\")[0])\n",
    "        ax[i].set_title(k)\n",
    "        ax[i].set_xlabel(r\"Gravimetric density (Wh kg$^{-1}$)\", fontsize=10)\n",
    "        ax[i].yaxis.grid(\n",
    "            True,\n",
    "            linestyle=\"--\",\n",
    "            lw=0.6,\n",
    "        )\n",
    "        ax[i].xaxis.grid(\n",
    "            True,\n",
    "            linestyle=\"--\",\n",
    "            lw=0.6,\n",
    "        )\n",
    "ax[0].set_ylabel(r\"Volumetric density (Wh L$^{-1}$)\", fontsize=10)\n",
    "leg = ax[0].legend(fontsize=8, ncol=2)\n",
    "for lh in leg.legendHandles:\n",
    "    lh.set_alpha(1)\n",
    "fig.tight_layout()\n"
   ]
  },
  {
   "cell_type": "markdown",
   "metadata": {},
   "source": [
    "A vehicle model was linked to BatPaC based on [Yelin et al., 2017](https://www.sciencedirect.com/science/article/abs/pii/S0378775317300368), whereby the battery weight and required battery energy are based on a desired vehicle range and segment specific vehicle characteristics.\n",
    "\n",
    "For the case study the following input parameters where used for the vehicle model:\n",
    "\n",
    "| parameter              | unit          | Compact | Small  | Medium | Large |\n",
    "| ---------------------- | ------------- | ------- | ------ | ------ | ----- |\n",
    "| rolling resistance     | N             | 101.86  | 110.59 | 136    | 209.4 |\n",
    "| rotation resistance    | N/(m/s)       | 3.42    | -1.99  | 3.73   | 2.59  |\n",
    "| aerodynamic resistance | N/(m/s)$^{2}$ | 0.37    | 0.46   | 0.41   | 0.47  |\n",
    "| distance               | km            | 200     | 322    | 411    | 460   |\n",
    "| auxiliary power        | W             | 475     | 575    | 715    | 775   |\n",
    "| motor power            | kW            | 55      | 150    | 150    | 209   |\n",
    "\n",
    "<br>\n",
    "\n",
    "Comparing the modelled electricity consumption and vehicle weight with real values based on registration data from the European Environmental Agency illustrates that the modelled results match the real values:\n"
   ]
  },
  {
   "cell_type": "code",
   "execution_count": 15,
   "metadata": {},
   "outputs": [
    {
     "data": {
      "image/png": "[encoded data removed]",
      "text/plain": [
       "<Figure size 720x432 with 1 Axes>"
      ]
     },
     "metadata": {
      "needs_background": "light"
     },
     "output_type": "display_data"
    }
   ],
   "source": [
    "# Import prepared BEV registration data from the European Environmental Agency:\n",
    "eea_2020 = pd.read_csv(\".\\data\\\\result_comparison\\EEA_BEV_2020.gzip\", compression=\"gzip\", low_memory=False)\n",
    "ener_cons_eea = eea_2020[\"z (Wh/km)\"]\n",
    "veh_mass = eea_2020[\"m (kg)\"]\n",
    "\n",
    "# Calculate vehicle electricity consumption from modelled data:\n",
    "vehicle_weight = [bat_design_param_dct[x][\"vehicle_weight\"] for x in D]\n",
    "ener_cons_modelled = [bat_design_param_dct[x][\"pack_usable_energy_kWh\"] / bat_design_param_dct[x][\"Vehicle_range_km\"] * 1000 for x in D]\n",
    "\n",
    "fig, ax = plt.subplots(1, 1, figsize=(10, 6))\n",
    "ax.scatter(veh_mass, ener_cons_eea, color=\"black\", s=25, alpha=0.3, label=\"EEA WLTP data\")\n",
    "ax.scatter(vehicle_weight, ener_cons_modelled, color=\"r\", s=30, alpha=0.03, label=\"Modelled\")\n",
    "\n",
    "ax.set_ylabel(r\"Electricity consumption (Wh km$^{-1}$)\")\n",
    "ax.set_xlabel(\"Vehicle weight (kg)\")\n",
    "ax.set_title(\"Modelled vs. real electricity consumption (WLTP)\")\n",
    "ax.xaxis.grid(\n",
    "    True,\n",
    "    linestyle=\"--\",\n",
    "    lw=0.6,\n",
    ")\n",
    "ax.yaxis.grid(\n",
    "    True,\n",
    "    linestyle=\"--\",\n",
    "    lw=0.6,\n",
    ")\n",
    "leg = plt.legend()\n",
    "for lh in leg.legendHandles:\n",
    "    lh.set_alpha(1)\n"
   ]
  },
  {
   "cell_type": "markdown",
   "metadata": {},
   "source": [
    "And comparing the modelled result with real battery weights based on BEVs registered in 2017 and 2020\n"
   ]
  },
  {
   "cell_type": "code",
   "execution_count": 16,
   "metadata": {},
   "outputs": [
    {
     "data": {
      "image/png": "[encoded data removed]",
      "text/plain": [
       "<Figure size 720x288 with 2 Axes>"
      ]
     },
     "metadata": {
      "needs_background": "light"
     },
     "output_type": "display_data"
    }
   ],
   "source": [
    "import string\n",
    "\n",
    "# import battery weight data:\n",
    "battery_wt_real = pd.read_excel(\".\\data\\\\result_comparison\\pack_weight_2017_2020.xlsx\", sheet_name=\"values\")\n",
    "\n",
    "\n",
    "fig, ax = plt.subplots(1, 2, figsize=(10, 4))\n",
    "\n",
    "density_usable = {}\n",
    "weight = {}\n",
    "density_nominal = {}\n",
    "for i, k in enumerate(segments.keys()):\n",
    "\n",
    "    density_usable[k] = [\n",
    "        bat_design_param_dct[x][\"pack_usable_energy_kWh\"] / bat_design_param_dct[x][\"battery_system_weight\"] * 1000 for x in segments[k]\n",
    "    ]\n",
    "    weight[k] = [bat_design_param_dct[x][\"battery_system_weight\"] for x in segments[k]]\n",
    "ax[0].boxplot(weight.values())\n",
    "ax[1].boxplot(density_usable.values())\n",
    "for index, row in battery_wt_real.iterrows():\n",
    "    x = string.ascii_lowercase.index(row[\"Segment\"].lower())\n",
    "    y = row[\"battery weight\"]\n",
    "    y1 = row[\"energy density\"] * 1000\n",
    "    if row[\"year\"] == 2017:\n",
    "        label = \"2017 models\"\n",
    "        color = \"k\"\n",
    "    else:\n",
    "        label = \"2020 models\"\n",
    "        color = \"y\"\n",
    "    ax[1].scatter(x + 1, y1, color=color, label=label, s=110, facecolor=\"None\", linewidth=2)\n",
    "    ax[0].scatter(x + 1, y, color=color, label=label, s=110, facecolor=\"None\", linewidth=2)\n",
    "ax[0].set_xticklabels({\"Compact\", \"Small\", \"Medium\", \"Large\"})\n",
    "ax[1].set_xticklabels({\"Compact\", \"Small\", \"Medium\", \"Large\"})\n",
    "\n",
    "handles, labels = ax[0].get_legend_handles_labels()\n",
    "lgd = dict(zip(labels, handles))\n",
    "ax[0].legend(\n",
    "    lgd.values(),\n",
    "    lgd.keys(),\n",
    "    fontsize=10,\n",
    "    markerscale=1,\n",
    "    loc=\"upper left\",\n",
    ")\n",
    "ax[0].set_ylabel(r\"Battery pack weight (kg)\")\n",
    "ax[0].set_title(r\"Modelled vs. real battery weight\")\n",
    "\n",
    "ax[1].set_ylabel(r\"Gravimetric density (Wh kg$^{-1}$)\")\n",
    "ax[1].set_title(r\"Modelled vs. real pack level density\")\n",
    "fig.tight_layout()\n"
   ]
  },
  {
   "cell_type": "markdown",
   "metadata": {},
   "source": [
    "The modelled battery weight and density match the real values relatively well. This is especially the case for vehicles registered post 2020, highlighting the improvements made in terms of energy density. For example,, the VW E-golf in 2017 had a density of 103 wh/kg ([36 kWh and battery weight 349 kg](https://dis.epa.gov/otaqpub/publist1.jsp)) as compared to 166 Wh/kg for the VW ID.4 ([82 kWh and battery weight of 493](https://www.vwpress.co.uk/assets/documents/original/29187-ID4presspackMarch2021.pdf)).\n"
   ]
  },
  {
   "cell_type": "markdown",
   "metadata": {},
   "source": [
    "## <b> Step 6.</b> foreground system modelling\n",
    "\n",
    "The foreground system consists of all material and energy activity flows affected by the battery design choice:\n",
    "\n",
    "<center><img src='../../docs/flow_map.png' width=1200/></center>\n",
    "\n",
    "Due to the size constraints of Excel, the foreground matrix ($\\bf{A_{foreground}}$) is not imported from the database but instead calculated and stored as a nested matrix. <br>\n",
    "\n",
    "The calculation is based on process formula and parameters as established in Brightway\n"
   ]
  },
  {
   "cell_type": "code",
   "execution_count": 17,
   "metadata": {},
   "outputs": [],
   "source": [
    "# Selecting process yield and energy consumption scenarios:\n",
    "\n",
    "# energy\n",
    "process_parameters = {\n",
    "    param: process_yield\n",
    "    for param, process_yield in zip(\n",
    "        IndexTable.loc[\"Process_parameter\", \"Classification\"].Items,\n",
    "        ParameterDict[\"4_PY_battery_manufacturing\"].Values[:, 0],  # default scenario is 0\n",
    "    )\n",
    "}\n",
    "# energy consumption\n",
    "process_parameters.update(\n",
    "    {\n",
    "        param: energy_consumption\n",
    "        for param, energy_consumption in zip(\n",
    "            IndexTable.loc[\"Process_parameter\", \"Classification\"].Items,\n",
    "            ParameterDict[\"4_PAR_energy_consumption\"].Values[:, 1],  # default scenario is 1\n",
    "        )\n",
    "        if energy_consumption > 0\n",
    "    }\n",
    ")\n",
    "\n",
    "# Import other default project parameters as used in Brightway\n",
    "data_path_model = pkg_resources.resource_filename(\"batt_sust_model\", \"data/\")\n",
    "\n",
    "default_parameters = pd.read_excel(data_path_model + \"bw_default_project_parameters.xlsx\", index_col=0).fillna(0).T.to_dict()\n"
   ]
  },
  {
   "cell_type": "markdown",
   "metadata": {},
   "source": [
    "The foreground matrix for each battery design is calculated based on the defined process parameters and battery design parameters as solved with BatPaC. <br>\n"
   ]
  },
  {
   "cell_type": "code",
   "execution_count": 18,
   "metadata": {},
   "outputs": [
    {
     "name": "stderr",
     "output_type": "stream",
     "text": [
      "100%|██████████| 20736/20736 [02:11<00:00, 157.83it/s]\n"
     ]
    }
   ],
   "source": [
    "# Empty np array of size all pack design * materials * processes\n",
    "A_matrix_nested = np.zeros((len(D), len(g), len(p)))\n",
    "\n",
    "A_base = df_A_base.copy(deep=True)\n",
    "\n",
    "\n",
    "# dictionary of the battery design parameters for all designs in non-alphanumeric parameters\n",
    "param_dict_all = {}\n",
    "\n",
    "# iterate over all pack designs and solve the process formulas based on specific pack parameters and process formulas:\n",
    "for design in tqdm(D):\n",
    "    param_dict_all[design] = bat_lca.parameter_dictionary(\n",
    "        mc_battery_design_dct[design],\n",
    "        process_parameters,\n",
    "        bat_design_param_dct[design],\n",
    "        default_parameters,\n",
    "    )\n",
    "    A_matrix_temp = bat_lca.calculate_modular_A(A_base, param_dict_all[design])\n",
    "\n",
    "    A_matrix_nested[design] = A_matrix_temp\n"
   ]
  },
  {
   "cell_type": "markdown",
   "metadata": {},
   "source": [
    "The result is a multi-dimensional numpy array of size Design X Goods X Processes:\n"
   ]
  },
  {
   "cell_type": "code",
   "execution_count": 19,
   "metadata": {},
   "outputs": [
    {
     "data": {
      "text/plain": [
       "(20736, 132, 146)"
      ]
     },
     "execution_count": 19,
     "metadata": {},
     "output_type": "execute_result"
    }
   ],
   "source": [
    "A_matrix_nested.shape\n"
   ]
  },
  {
   "cell_type": "markdown",
   "metadata": {},
   "source": [
    "Using the ODYM index table the material flows for each battery design can be easy obtained. For example, all energy input for the production of battery design #30 can be obtained as follow:\n"
   ]
  },
  {
   "cell_type": "code",
   "execution_count": 20,
   "metadata": {},
   "outputs": [
    {
     "data": {
      "text/html": [
       "<div>\n",
       "<style scoped>\n",
       "    .dataframe tbody tr th:only-of-type {\n",
       "        vertical-align: middle;\n",
       "    }\n",
       "\n",
       "    .dataframe tbody tr th {\n",
       "        vertical-align: top;\n",
       "    }\n",
       "\n",
       "    .dataframe thead th {\n",
       "        text-align: right;\n",
       "    }\n",
       "</style>\n",
       "<table border=\"1\" class=\"dataframe\">\n",
       "  <thead>\n",
       "    <tr style=\"text-align: right;\">\n",
       "      <th></th>\n",
       "      <th>mixing anode materials</th>\n",
       "      <th>final electrode drying</th>\n",
       "      <th>cathode slitting</th>\n",
       "      <th>anode slitting</th>\n",
       "      <th>mixing cathode materials</th>\n",
       "      <th>anode coating and drying</th>\n",
       "      <th>cell stacking</th>\n",
       "      <th>cathode calendering</th>\n",
       "      <th>anode calendering</th>\n",
       "      <th>cathode coating and drying</th>\n",
       "      <th>electrolyte filling and sealing</th>\n",
       "      <th>module and pack assembly</th>\n",
       "      <th>cell formation</th>\n",
       "    </tr>\n",
       "  </thead>\n",
       "  <tbody>\n",
       "    <tr>\n",
       "      <th>Electricity (kWh)</th>\n",
       "      <td>0.024242</td>\n",
       "      <td>0.033030</td>\n",
       "      <td>0.042121</td>\n",
       "      <td>0.042121</td>\n",
       "      <td>0.044848</td>\n",
       "      <td>0.116970</td>\n",
       "      <td>0.127879</td>\n",
       "      <td>0.155455</td>\n",
       "      <td>0.155455</td>\n",
       "      <td>0.370909</td>\n",
       "      <td>2.645455</td>\n",
       "      <td>2.699091</td>\n",
       "      <td>7.152121</td>\n",
       "    </tr>\n",
       "    <tr>\n",
       "      <th>Natural gas (MJ)</th>\n",
       "      <td>0.000000</td>\n",
       "      <td>3.353333</td>\n",
       "      <td>0.000000</td>\n",
       "      <td>0.000000</td>\n",
       "      <td>0.000000</td>\n",
       "      <td>4.713333</td>\n",
       "      <td>0.000000</td>\n",
       "      <td>0.000000</td>\n",
       "      <td>0.000000</td>\n",
       "      <td>14.925455</td>\n",
       "      <td>17.632424</td>\n",
       "      <td>0.000000</td>\n",
       "      <td>1.223636</td>\n",
       "    </tr>\n",
       "  </tbody>\n",
       "</table>\n",
       "</div>"
      ],
      "text/plain": [
       "                   mixing anode materials  final electrode drying  \\\n",
       "Electricity (kWh)                0.024242                0.033030   \n",
       "Natural gas (MJ)                 0.000000                3.353333   \n",
       "\n",
       "                   cathode slitting  anode slitting  mixing cathode materials  \\\n",
       "Electricity (kWh)          0.042121        0.042121                  0.044848   \n",
       "Natural gas (MJ)           0.000000        0.000000                  0.000000   \n",
       "\n",
       "                   anode coating and drying  cell stacking  \\\n",
       "Electricity (kWh)                  0.116970       0.127879   \n",
       "Natural gas (MJ)                   4.713333       0.000000   \n",
       "\n",
       "                   cathode calendering  anode calendering  \\\n",
       "Electricity (kWh)             0.155455           0.155455   \n",
       "Natural gas (MJ)              0.000000           0.000000   \n",
       "\n",
       "                   cathode coating and drying  \\\n",
       "Electricity (kWh)                    0.370909   \n",
       "Natural gas (MJ)                    14.925455   \n",
       "\n",
       "                   electrolyte filling and sealing  module and pack assembly  \\\n",
       "Electricity (kWh)                         2.645455                  2.699091   \n",
       "Natural gas (MJ)                         17.632424                  0.000000   \n",
       "\n",
       "                   cell formation  \n",
       "Electricity (kWh)        7.152121  \n",
       "Natural gas (MJ)         1.223636  "
      ]
     },
     "execution_count": 20,
     "metadata": {},
     "output_type": "execute_result"
    }
   ],
   "source": [
    "energy = A_matrix_nested[30, :, [p.index(process) for process in bp]][\n",
    "    :,\n",
    "    [\n",
    "        g.index(\"electricity for battery production, medium voltage\"),\n",
    "        g.index(\"heat, district or industrial, natural gas for battery production\"),\n",
    "    ],\n",
    "]\n",
    "\n",
    "df_electr = pd.DataFrame(energy, index=bp, columns=[\"Electricity (kWh)\", \"Natural gas (MJ)\"]).abs()\n",
    "(df_electr[df_electr[\"Electricity (kWh)\"] > 0].dropna().T.round(2).sort_values(by=\"Electricity (kWh)\", axis=1) / 33)\n"
   ]
  },
  {
   "cell_type": "markdown",
   "metadata": {},
   "source": [
    "## <b>STEP 7.</b> Satellite accounts\n",
    "\n",
    "Satellite accounts are linked to the identified impact indicators and calculated using different analytical methods. In this case study, four satellite accounts are included and calculated with the following methods:\n",
    "\n",
    "| Impact indicator      | Satellite account (notation)                                  | Unit                                | Calculation method                             |\n",
    "| --------------------- | ------------------------------------------------------------- | ----------------------------------- | ---------------------------------------------- |\n",
    "| Carbon footprint      | Global warming potential ($\\mathbf{h}$)                       | kg CO<sub>2</sub> eq.               | Life cycle impact assessment                   |\n",
    "| Battery cost          | Value added ($\\mathbf{v}$)                                    | US$                                 | Life cycle costing                             |\n",
    "| Material criticality  | Substance flows ($\\mathbf{E}$) and value added ($\\mathbf{v}$) | kg & US$                            | Substance flow analysis and life cycle costing |\n",
    "| Technical performance | Pack level gravimetric energy density ($\\mathbf{p}$)          | Wh<sub>usable</sub> kg<sup>-1</sup> | Technical performance model (BatPaC)           |\n"
   ]
  },
  {
   "cell_type": "markdown",
   "metadata": {},
   "source": [
    "### Global warming potential ($\\mathbf{h}$)\n"
   ]
  },
  {
   "cell_type": "markdown",
   "metadata": {},
   "source": [
    "The global warming potential (GWP) refers to all cradle-to-gate carbon emissions and is calculated based on the modular LCA approach (see also [Steubing et al., 2016](https://link.springer.com/article/10.1007/s11367-015-1015-3)). The GWP for each process in the foreground matrix are thereby pre-calculated to obtain the emissions of that activity ($h$) using the matrix based calculation for life cycle impact assessment. The result is a vector of the gate-to-gate GWP of the foreground processes ($\\bf{h}$). \n",
    "\n",
    "\n",
    "The modular emissions for all foreground processes are precalculated in Brightway2 using the ReCiPe Midpoint V1.13 impact category. \n",
    "\n",
    "Exchanges that are present in the foreground matrix are thereby cut-off from each activity. For example, electricity inputs for battery production are cut-off from the battery production processes. The fully parameterised Brightway model to calculate battery production emissions based on specific BatPaC battery designs is available in the GitHub repository. An example notebook on how to link BatPaC to the Brightway model and establish the modular database can be viewed [here](https://github.com/jbaars2/Batt_Sust_Model/blob/main/example%20notebooks/Battery%20emissions/Example%20LCA%20notebook.ipynb)\n",
    "\n",
    "\n",
    "\n",
    "\n",
    "\n",
    "The functional unit of each gate-to-gate module is set to one unit (e.g. 1 kg, kWh or MJ). All gate-to-gate emissions of the foreground processes are stored in the `4_PE_modules_base` datasets. The dataset includes for example all regional electricity production processes:"
   ]
  },
  {
   "cell_type": "code",
   "execution_count": 26,
   "metadata": {},
   "outputs": [
    {
     "data": {
      "text/plain": [
       "market group for electricity battery production, medium voltage, DE                  0.154175\n",
       "market group for electricity battery production, medium voltage, European average    0.106321\n",
       "market group for electricity battery production, medium voltage, FR                  0.036531\n",
       "market group for electricity battery production, medium voltage, GB                  0.146719\n",
       "market group for electricity battery production, medium voltage, HU                  0.137503\n",
       "market group for electricity battery production, medium voltage, NO                  0.003050\n",
       "market group for electricity battery production, medium voltage, PL                  0.260326\n",
       "market group for electricity battery production, medium voltage, SE                  0.005945\n",
       "Name: ('ReCiPe Midpoint (H) V1.13 no LT', 'climate change', 'GWP100'), dtype: float64"
      ]
     },
     "execution_count": 26,
     "metadata": {},
     "output_type": "execute_result"
    }
   ],
   "source": [
    "pd.DataFrame(ParameterDict[\"4_PE_modules_base\"].Values, IndexTable.loc['Emissions', 'Classification'].Items, p).loc[\"('ReCiPe Midpoint (H) V1.13 no LT', 'climate change', 'GWP100')\", [x for x in p if 'electricity' in x]]"
   ]
  },
  {
   "cell_type": "code",
   "execution_count": 28,
   "metadata": {},
   "outputs": [],
   "source": [
    "# The imported modular h base contains all ReCiPe impact indictors, in this study we only select GWP\n",
    "impact_cat = 2  # GWP100\n",
    "\n",
    "# h nested array modular emissions by repeating the modular emission matrix by the total amount of designs:\n",
    "h_nested = np.tile(H_base[impact_cat], (len(D),1))\n"
   ]
  },
  {
   "cell_type": "markdown",
   "metadata": {},
   "source": [
    "### Value added ($\\mathbf{v}$)\n",
    "\n",
    "The value added is calculated with the `battery_cost.py` script. The script can be used as stand-alone model to calculate battery cost and is largely based on the BatPaC cost model. A example notebook of the model can be found [here](https://github.com/jbaars2/Batt_Sust_Model/blob/main/example%20notebooks/Battery%20cost/Example%20notebook%20battery%20cost.ipynb). <br>\n",
    "\n",
    "\n",
    "The value added is based on two sub-satellite accounts: the factor cost ($\\bf{F}$) and material cost ($\\bf{C}$).\n",
    "\n",
    "\n",
    "#### Battery production factor cost ($\\mathbf{F}$)\n",
    "\n",
    "First, the value added for battery production ($\\mathbf{v}_{bat}$) is calculated based on the primary production factor requirements, including building/land, labour and capital requirement. This is calculated by multiplying the physical factor matrix ($\\mathbf{F'}$) and a vector of factor cost ($\\mathbf{\\pi}$) as described by Duchin and Levin (2011):\n",
    "$$\\mathbf{v}_{bat}= \\mathbf{F}_{bat}\\mathbf{\\pi}$$\n",
    "\n",
    "The battery production process factor requirement is calculated with the battery_cost.py script and the `factors_battery_production` formula. The underlying calculations are based on BatPaC and account for the manufacturing output scale.\n"
   ]
  },
  {
   "cell_type": "code",
   "execution_count": 30,
   "metadata": {},
   "outputs": [
    {
     "name": "stderr",
     "output_type": "stream",
     "text": [
      "100%|██████████| 20736/20736 [03:41<00:00, 93.83it/s] \n"
     ]
    }
   ],
   "source": [
    "# Default BatPaC capacity of 500,000 packs per year is used:\n",
    "manufacturing_capacity = 500000\n",
    "\n",
    "# Change the capacity parameter for all battery designs\n",
    "for x in param_dict_all.keys():\n",
    "    param_dict_all[x][\"battery_manufacturing_capacity\"] = manufacturing_capacity\n",
    "\n",
    "# Returns the nested F matrix with factors (rows) for all battery production processes (columns)\n",
    "F_physical_nested_temp = bat_cost.factors_battery_production(param_dict_all, run_multiple=True, return_index=f, return_columns=bp)\n",
    "\n",
    "# Include all foreground processes:\n",
    "F_physical_nested = np.zeros([len(D), len(f), len(p)])\n",
    "\n",
    "F_physical_nested[:, :, [p.index(process) for process in set(bat_cost.process_mapping.values())]] = F_physical_nested_temp\n"
   ]
  },
  {
   "cell_type": "markdown",
   "metadata": {},
   "source": [
    "The physical factor requirements (land and labour) are multiplied with the factor prices ($\\pi$) to obtain the monetary factor requirements. <br>\n",
    "\n",
    "The price factors are country specific. Capital is multiplied by 1,000,000 to convert from million $\n"
   ]
  },
  {
   "cell_type": "code",
   "execution_count": 31,
   "metadata": {},
   "outputs": [
    {
     "data": {
      "text/html": [
       "<div>\n",
       "<style scoped>\n",
       "    .dataframe tbody tr th:only-of-type {\n",
       "        vertical-align: middle;\n",
       "    }\n",
       "\n",
       "    .dataframe tbody tr th {\n",
       "        vertical-align: top;\n",
       "    }\n",
       "\n",
       "    .dataframe thead th {\n",
       "        text-align: right;\n",
       "    }\n",
       "</style>\n",
       "<table border=\"1\" class=\"dataframe\">\n",
       "  <thead>\n",
       "    <tr style=\"text-align: right;\">\n",
       "      <th></th>\n",
       "      <th>Unit</th>\n",
       "      <th>FR</th>\n",
       "      <th>DE</th>\n",
       "      <th>HU</th>\n",
       "      <th>NO</th>\n",
       "      <th>PL</th>\n",
       "      <th>SE</th>\n",
       "      <th>GB</th>\n",
       "      <th>European average</th>\n",
       "    </tr>\n",
       "  </thead>\n",
       "  <tbody>\n",
       "    <tr>\n",
       "      <th>land</th>\n",
       "      <td>$/m2</td>\n",
       "      <td>2380.08</td>\n",
       "      <td>2213.95</td>\n",
       "      <td>1219.94</td>\n",
       "      <td>3683.20</td>\n",
       "      <td>1503.39</td>\n",
       "      <td>3074.60</td>\n",
       "      <td>2291.40</td>\n",
       "      <td>2338.08</td>\n",
       "    </tr>\n",
       "    <tr>\n",
       "      <th>labour</th>\n",
       "      <td>$/hr</td>\n",
       "      <td>43.25</td>\n",
       "      <td>42.18</td>\n",
       "      <td>11.73</td>\n",
       "      <td>59.48</td>\n",
       "      <td>12.68</td>\n",
       "      <td>43.25</td>\n",
       "      <td>33.77</td>\n",
       "      <td>35.19</td>\n",
       "    </tr>\n",
       "    <tr>\n",
       "      <th>capital</th>\n",
       "      <td>$/$</td>\n",
       "      <td>1000000.00</td>\n",
       "      <td>1000000.00</td>\n",
       "      <td>1000000.00</td>\n",
       "      <td>1000000.00</td>\n",
       "      <td>1000000.00</td>\n",
       "      <td>1000000.00</td>\n",
       "      <td>1000000.00</td>\n",
       "      <td>1000000.00</td>\n",
       "    </tr>\n",
       "  </tbody>\n",
       "</table>\n",
       "</div>"
      ],
      "text/plain": [
       "         Unit          FR          DE          HU          NO          PL  \\\n",
       "land     $/m2     2380.08     2213.95     1219.94     3683.20     1503.39   \n",
       "labour   $/hr       43.25       42.18       11.73       59.48       12.68   \n",
       "capital   $/$  1000000.00  1000000.00  1000000.00  1000000.00  1000000.00   \n",
       "\n",
       "                 SE          GB  European average  \n",
       "land        3074.60     2291.40           2338.08  \n",
       "labour        43.25       33.77             35.19  \n",
       "capital  1000000.00  1000000.00        1000000.00  "
      ]
     },
     "execution_count": 31,
     "metadata": {},
     "output_type": "execute_result"
    }
   ],
   "source": [
    "df_factor_cost = pd.DataFrame(ParameterDict[\"3_PR_factor_price\"].Values, index=f, columns=r).round(2)\n",
    "df_factor_cost.insert(0, \"Unit\", [\"$/m2\", \"$/hr\", \"$/$\"])\n",
    "df_factor_cost\n"
   ]
  },
  {
   "cell_type": "markdown",
   "metadata": {},
   "source": [
    "Operating expenses (e.g. R&D investments and depreciation rates) are allocated to the factor cost based on the multipliers for overhead to basic cost calculation as used in BatPaC.\n"
   ]
  },
  {
   "cell_type": "code",
   "execution_count": 32,
   "metadata": {},
   "outputs": [
    {
     "data": {
      "text/plain": [
       "{'land': 0.153252, 'labour': 1.8664800000000001, 'capital': 0.253704}"
      ]
     },
     "execution_count": 32,
     "metadata": {},
     "output_type": "execute_result"
    }
   ],
   "source": [
    "bat_cost.factor_overhead_multiplier(return_index=f)\n"
   ]
  },
  {
   "cell_type": "markdown",
   "metadata": {},
   "source": [
    "Multiplying physical factor matrix by the region specific factor prices using np.einsum to establish the monetary factor matrix:\n"
   ]
  },
  {
   "cell_type": "code",
   "execution_count": 42,
   "metadata": {},
   "outputs": [],
   "source": [
    "#Selected country:\n",
    "country = 'European average'\n",
    "\n",
    "factor_cost = ParameterDict[\"3_PR_factor_price\"].Values[:, IndexTable.loc[\"Regions\", \"Classification\"].Items.index(country)]\n",
    "factor_cost\n",
    "\n",
    "F_monetary_nested = np.einsum(\n",
    "    \"dfp, f -> dfp\", F_physical_nested, (factor_cost * list(bat_cost.factor_overhead_multiplier(return_index=f).values()))\n",
    ")\n",
    "# divided by the manufacturing capacity to obtain the factor cost per pack:\n",
    "F_monetary_nested = F_monetary_nested / manufacturing_capacity\n"
   ]
  },
  {
   "cell_type": "code",
   "execution_count": 39,
   "metadata": {},
   "outputs": [
    {
     "data": {
      "text/plain": [
       "37689391.389846236"
      ]
     },
     "execution_count": 39,
     "metadata": {},
     "output_type": "execute_result"
    }
   ],
   "source": [
    "F_monetary_nested.sum()"
   ]
  },
  {
   "cell_type": "markdown",
   "metadata": {},
   "source": [
    "The resulting matrix represents the value added in terms of land, labour and capital requirement for each battery production process. <br>\n",
    "\n",
    "For battery design 30 for example, the value added for each battery production process is:\n"
   ]
  },
  {
   "cell_type": "code",
   "execution_count": 43,
   "metadata": {},
   "outputs": [
    {
     "data": {
      "text/plain": [
       "Text(0.5, 0, 'Cost ($)')"
      ]
     },
     "execution_count": 43,
     "metadata": {},
     "output_type": "execute_result"
    },
    {
     "data": {
      "image/png": "[encoded data removed]",
      "text/plain": [
       "<Figure size 576x432 with 1 Axes>"
      ]
     },
     "metadata": {
      "needs_background": "light"
     },
     "output_type": "display_data"
    }
   ],
   "source": [
    "pd.DataFrame(F_monetary_nested[30,:, [p.index(x) for x in bp]].T,  f, bp).drop([x for x in bp if 'waste' in x or 'scrap' in x], axis=1).round(3).T.plot.barh(title='Factor costs for one battery pack (including overhead)', figsize=(8,6), width=0.8 );\n",
    "plt.xlabel ('Cost ($)')"
   ]
  },
  {
   "cell_type": "markdown",
   "metadata": {
    "tags": []
   },
   "source": [
    "#### Battery material cost ($\\mathbf{C}$)\n",
    "\n",
    "The second step of the value added layer are the value added calculation outside the battery factory. This refers to the material cost ($\\mathbf{C}$) and is based on the computational structure of life cycle cost as proposed by Heijungs et al. (2012) and Moreau and Weidema (2015) to obain the monetary equivalant of the technology matrix:\n",
    "\n",
    "$$\\mathbf{C} = \\mathbf{A}\\mathbf{\\alpha}$$\n",
    "\n",
    "<br>\n",
    "\n",
    "The general material cost can obtained from the technology matrix ($\\mathbf{A}$) and the material cost vector ($\\mathbf{\\alpha}$).\n",
    "\n",
    "The material cost vector consist the mass prices ($\\mathbf{\\alpha_{mass}}$) obtained from a variety of sources:\n"
   ]
  },
  {
   "cell_type": "code",
   "execution_count": 330,
   "metadata": {},
   "outputs": [
    {
     "data": {
      "text/html": [
       "<div>\n",
       "<style scoped>\n",
       "    .dataframe tbody tr th:only-of-type {\n",
       "        vertical-align: middle;\n",
       "    }\n",
       "\n",
       "    .dataframe tbody tr th {\n",
       "        vertical-align: top;\n",
       "    }\n",
       "\n",
       "    .dataframe thead th {\n",
       "        text-align: right;\n",
       "    }\n",
       "</style>\n",
       "<table border=\"1\" class=\"dataframe\">\n",
       "  <thead>\n",
       "    <tr style=\"text-align: right;\">\n",
       "      <th></th>\n",
       "      <th>$/kg</th>\n",
       "    </tr>\n",
       "  </thead>\n",
       "  <tbody>\n",
       "    <tr>\n",
       "      <th>anode active material (natural graphite)</th>\n",
       "      <td>9.11662</td>\n",
       "    </tr>\n",
       "    <tr>\n",
       "      <th>anode active material (SiO)</th>\n",
       "      <td>60.00000</td>\n",
       "    </tr>\n",
       "    <tr>\n",
       "      <th>anode active material (synthetic graphite)</th>\n",
       "      <td>12.15058</td>\n",
       "    </tr>\n",
       "    <tr>\n",
       "      <th>anode binder (CMC)</th>\n",
       "      <td>5.00000</td>\n",
       "    </tr>\n",
       "    <tr>\n",
       "      <th>anode binder additive (SBR)</th>\n",
       "      <td>5.00000</td>\n",
       "    </tr>\n",
       "    <tr>\n",
       "      <th>anode carbon black</th>\n",
       "      <td>3.60000</td>\n",
       "    </tr>\n",
       "    <tr>\n",
       "      <th>anode current collector Cu (10um)</th>\n",
       "      <td>14.15479</td>\n",
       "    </tr>\n",
       "    <tr>\n",
       "      <th>anode current collector Cu (11um)</th>\n",
       "      <td>14.15479</td>\n",
       "    </tr>\n",
       "    <tr>\n",
       "      <th>anode current collector Cu (12um)</th>\n",
       "      <td>14.15479</td>\n",
       "    </tr>\n",
       "    <tr>\n",
       "      <th>anode current collector Cu (13um)</th>\n",
       "      <td>14.15479</td>\n",
       "    </tr>\n",
       "  </tbody>\n",
       "</table>\n",
       "</div>"
      ],
      "text/plain": [
       "                                                $/kg\n",
       "anode active material (natural graphite)     9.11662\n",
       "anode active material (SiO)                 60.00000\n",
       "anode active material (synthetic graphite)  12.15058\n",
       "anode binder (CMC)                           5.00000\n",
       "anode binder additive (SBR)                  5.00000\n",
       "anode carbon black                           3.60000\n",
       "anode current collector Cu (10um)           14.15479\n",
       "anode current collector Cu (11um)           14.15479\n",
       "anode current collector Cu (12um)           14.15479\n",
       "anode current collector Cu (13um)           14.15479"
      ]
     },
     "execution_count": 330,
     "metadata": {},
     "output_type": "execute_result"
    }
   ],
   "source": [
    "df_pr_material_mass = pd.Series(ParameterDict[\"3_PR_material_price_mass\"].Values, g)\n",
    "pd.DataFrame(df_pr_material_mass[df_pr_material_mass > 0], columns=[\"$/kg\"]).head(10)\n"
   ]
  },
  {
   "cell_type": "markdown",
   "metadata": {},
   "source": [
    "And unit prices ($\\mathbf{\\alpha_{unit}}$) obtained from BatPaC. <br>\n",
    "\n",
    "The cell container for example, is calculated based on a mass price and the total cells per pack:\n"
   ]
  },
  {
   "cell_type": "code",
   "execution_count": 331,
   "metadata": {},
   "outputs": [
    {
     "data": {
      "text/plain": [
       "electrode_pair             0.0\n",
       "calculate_fast_charge      0.0\n",
       "max_charging_time          0.0\n",
       "available_energy           0.0\n",
       "vehicle_weight             0.0\n",
       "                          ... \n",
       "negative_electrode_area    0.0\n",
       "positive_electrode_area    0.0\n",
       "total_packs_vehicle        0.0\n",
       "pack_energy                0.0\n",
       "cells_per_pack             0.2\n",
       "Name: cell container, Length: 79, dtype: float64"
      ]
     },
     "execution_count": 331,
     "metadata": {},
     "output_type": "execute_result"
    }
   ],
   "source": [
    "df_pr_unit = pd.DataFrame(ParameterDict[\"3_PR_material_price_unit\"].Values, g, P)\n",
    "df_pr_unit = df_pr_unit[(df_pr_unit != 0).any(axis=1)]\n",
    "df_pr_unit.loc[\"cell container\"].sort_values()\n"
   ]
  },
  {
   "cell_type": "code",
   "execution_count": 332,
   "metadata": {},
   "outputs": [],
   "source": [
    "# Restructure unit prices to dictionary:\n",
    "dict_pr_unit = {}\n",
    "for k, v in df_pr_unit.T.to_dict().items():\n",
    "    dict_pr_unit[k] = {}\n",
    "    for k2, v2 in v.items():\n",
    "        if v2 != 0:\n",
    "            dict_pr_unit[k][k2] = v2\n"
   ]
  },
  {
   "cell_type": "code",
   "execution_count": 47,
   "metadata": {},
   "outputs": [],
   "source": [
    "C_matrix_nested = np.load(r\"C:\\Users\\Joris\\Desktop\\C_matrix_nested.npy\")\n"
   ]
  },
  {
   "cell_type": "code",
   "execution_count": 333,
   "metadata": {},
   "outputs": [
    {
     "name": "stderr",
     "output_type": "stream",
     "text": [
      "100%|██████████| 20736/20736 [54:07<00:00,  6.39it/s] \n"
     ]
    }
   ],
   "source": [
    "# Empty C matrix\n",
    "C_matrix_nested = np.zeros((len(D), len(g), len(p)))\n",
    "\n",
    "\n",
    "C_matrix_nested = bat_cost.material_cost_matrix(\n",
    "    A_matrix_nested,\n",
    "    df_pr_material_mass,\n",
    "    dict_pr_unit,\n",
    "    system_design_parameters=param_dict_all,\n",
    "    run_multiple=True,\n",
    "    process_columns=p,\n",
    "    material_rows=g,\n",
    ")\n"
   ]
  },
  {
   "cell_type": "code",
   "execution_count": 334,
   "metadata": {},
   "outputs": [],
   "source": [
    "np.save(r\"C:\\Users\\Joris\\Desktop\\C_matrix_nested.npy\", C_matrix_nested)\n"
   ]
  },
  {
   "cell_type": "code",
   "execution_count": 48,
   "metadata": {},
   "outputs": [],
   "source": [
    "# Include energy cost for all regions:\n",
    "for region in r:\n",
    "    electricity_price = ParameterDict[\"3_PR_regional_energy_price\"].Values[0, r.index(region)]\n",
    "    gas_price = ParameterDict[\"3_PR_regional_energy_price\"].Values[1, r.index(region)]\n",
    "    C_matrix_nested[\n",
    "        :,\n",
    "        g.index(\"electricity for battery production, medium voltage\"),\n",
    "        p.index(f\"market group for electricity battery production, medium voltage, {region}\"),\n",
    "    ] = electricity_price\n",
    "    C_matrix_nested[\n",
    "        :,\n",
    "        g.index(\"heat, district or industrial, natural gas for battery production\"),\n",
    "        p.index(f\"market group for heat, district or industrial, natural gas, {region}\"),\n",
    "    ] = gas_price\n"
   ]
  },
  {
   "cell_type": "markdown",
   "metadata": {},
   "source": [
    "#### Total value added ($\\mathbf{v}$) \n",
    "\n",
    "The total value added vector is now obtained:"
   ]
  },
  {
   "cell_type": "code",
   "execution_count": 49,
   "metadata": {},
   "outputs": [],
   "source": [
    "# process value added based on factor requirements:\n",
    "v_nested = np.sum(F_monetary_nested, 1)\n",
    "# material process value added based on C matrix:\n",
    "v_nested[:] += np.sum(C_matrix_nested, 1)\n"
   ]
  },
  {
   "cell_type": "markdown",
   "metadata": {},
   "source": [
    "### Substance flow layer ($\\mathbf{E}$)\n",
    "\n",
    "The substance flow matrix ($\\mathbf{E}$) is calculated by multiplying the technology matrix ($\\mathbf{A}$) with the elemental content of goods stored in the transmission coefficient matrix ($\\mathbf{\\tau}$) (Löfving, 2006):\n",
    "\n",
    "$$\n",
    "\\mathbf{E} = \\mathbf{A}_{g,p} \\mathbf{\\tau}_{e,g}\n",
    "$$\n",
    "\n",
    "The transmission coefficient matrix contains the faction of the considered elements in each good. <br>\n",
    "\n",
    "For example, 1kg of cathode active materials contains the following elements:\n"
   ]
  },
  {
   "cell_type": "code",
   "execution_count": 50,
   "metadata": {},
   "outputs": [
    {
     "data": {
      "text/plain": [
       "Text(0.5, 0, 'kg per kg material')"
      ]
     },
     "execution_count": 50,
     "metadata": {},
     "output_type": "execute_result"
    },
    {
     "data": {
      "image/png": "[encoded data removed]",
      "text/plain": [
       "<Figure size 432x288 with 1 Axes>"
      ]
     },
     "metadata": {
      "needs_background": "light"
     },
     "output_type": "display_data"
    }
   ],
   "source": [
    "pd.DataFrame(ParameterDict[\"3_MC_element_goods\"].Values, e, g)[[x for x in g if \"cathode active material\" in x]].drop(\n",
    "    [\"C\", \"Cu\", \"Si\", \"All\"]\n",
    ").sort_values(by=\"cathode active material (NMC811)\", ascending=False).T.plot.barh(stacked=True)\n",
    "plt.xlabel(\"kg per kg material\")\n"
   ]
  },
  {
   "cell_type": "code",
   "execution_count": 51,
   "metadata": {},
   "outputs": [],
   "source": [
    "# Multiply the transmission by the nested technology matrix using np.einsum:\n",
    "\n",
    "E_matrix_nested = np.einsum(\"ijk, ej -> iek\", A_matrix_nested, ParameterDict[\"3_MC_element_goods\"].Values)\n"
   ]
  },
  {
   "cell_type": "markdown",
   "metadata": {},
   "source": [
    "For example, the total substance demand to produce one battery pack (design #30) are:\n"
   ]
  },
  {
   "cell_type": "code",
   "execution_count": 52,
   "metadata": {},
   "outputs": [
    {
     "name": "stdout",
     "output_type": "stream",
     "text": [
      " Battery size: 33 kWh\n",
      " Cathode chemistry:  LFP-G (Energy)\n"
     ]
    },
    {
     "data": {
      "text/html": [
       "<div>\n",
       "<style scoped>\n",
       "    .dataframe tbody tr th:only-of-type {\n",
       "        vertical-align: middle;\n",
       "    }\n",
       "\n",
       "    .dataframe tbody tr th {\n",
       "        vertical-align: top;\n",
       "    }\n",
       "\n",
       "    .dataframe thead th {\n",
       "        text-align: right;\n",
       "    }\n",
       "</style>\n",
       "<table border=\"1\" class=\"dataframe\">\n",
       "  <thead>\n",
       "    <tr style=\"text-align: right;\">\n",
       "      <th></th>\n",
       "      <th>Design 30</th>\n",
       "      <th>unit</th>\n",
       "    </tr>\n",
       "  </thead>\n",
       "  <tbody>\n",
       "    <tr>\n",
       "      <th>Li</th>\n",
       "      <td>3.40</td>\n",
       "      <td>kg</td>\n",
       "    </tr>\n",
       "    <tr>\n",
       "      <th>Al</th>\n",
       "      <td>16.68</td>\n",
       "      <td>kg</td>\n",
       "    </tr>\n",
       "    <tr>\n",
       "      <th>P</th>\n",
       "      <td>14.69</td>\n",
       "      <td>kg</td>\n",
       "    </tr>\n",
       "    <tr>\n",
       "      <th>Fe</th>\n",
       "      <td>75.48</td>\n",
       "      <td>kg</td>\n",
       "    </tr>\n",
       "    <tr>\n",
       "      <th>Cu</th>\n",
       "      <td>23.75</td>\n",
       "      <td>kg</td>\n",
       "    </tr>\n",
       "  </tbody>\n",
       "</table>\n",
       "</div>"
      ],
      "text/plain": [
       "    Design 30 unit\n",
       "Li       3.40   kg\n",
       "Al      16.68   kg\n",
       "P       14.69   kg\n",
       "Fe      75.48   kg\n",
       "Cu      23.75   kg"
      ]
     },
     "execution_count": 52,
     "metadata": {},
     "output_type": "execute_result"
    }
   ],
   "source": [
    "print(\" Battery size:\", int(param_dict_all[30][\"pack_energy_kWh\"]), \"kWh\\n\", \"Cathode chemistry: \", param_dict_all[30][\"electrode_pair\"])\n",
    "\n",
    "df_temp = pd.DataFrame(np.sum(E_matrix_nested[30, :, [p.index(x) for x in bp]], 0).round(2), e, columns=[\"Design 30\"]).abs()\n",
    "df_temp[\"unit\"] = \"kg\"\n",
    "df_temp[df_temp[\"Design 30\"] > 0]\n"
   ]
  },
  {
   "cell_type": "markdown",
   "metadata": {},
   "source": [
    "## <b> STEP 8.</b> Solution & visualisation \n",
    "The next step is to solve the model and visualise the results for all impact indicators. We provide three examples of solving and visualisation:\n",
    "\n",
    "* <b> All designs </b> -  Overview of the impact results for all design alternatives\n",
    "* <b> Optimal design </b> - Single and multi-objective optimisation to obtain optimal design\n",
    "* <b> Interactive dashboard </b> - Interactive dashboard to explore impact of user defined design\n",
    "\n",
    "Following is an overview of each example"
   ]
  },
  {
   "cell_type": "markdown",
   "metadata": {},
   "source": [
    "### <b>Solution 1:</b> All designs\n",
    "\n",
    "In this first example, the impacts are iteratively calculated for each design. To obtain the solution of all pack designs we first obtain the process scaling factors ($\\bf{s_d}$) for each design ($d$) using established life cycle inventory model as described by Heijungs and Suh (2002) :  \n",
    "\n",
    "$$ \\bf{s_{d,p}} = (\\bf{A'}_{d,g,p})^{-1} \\bf{y}_{d,g}$$\n",
    "\n",
    "Where $\\bf{A'}$ refers to the square foreground technology matrix for a specific battery design and $\\bf{f}$ to the supply vector. \n"
   ]
  },
  {
   "cell_type": "code",
   "execution_count": 72,
   "metadata": {},
   "outputs": [],
   "source": [
    "# First, the relevant production needs to be selected to asssure the A and h matrices are square -> region specific energy need to be excluded:\n",
    "country = \"European average\"\n",
    "\n",
    "electricity_choice = f\"market group for electricity battery production, medium voltage, {country}\"\n",
    "gas_choice = f\"market group for heat, district or industrial, natural gas, {country}\"\n",
    "\n",
    "process_selection = []\n",
    "\n",
    "for x in p:\n",
    "    if x == electricity_choice:\n",
    "        process_selection.append(p.index(x))\n",
    "    elif x == gas_choice:\n",
    "        process_selection.append(p.index(x))\n",
    "    elif x in p_electricity or x in p_gas:\n",
    "        continue\n",
    "    else:\n",
    "        process_selection.append(p.index(x))\n",
    "\n",
    "p_selection_name = [p[i] for i in process_selection]\n"
   ]
  },
  {
   "cell_type": "code",
   "execution_count": 73,
   "metadata": {},
   "outputs": [],
   "source": [
    "# Empty np array # Empty nested np array where the first element refers to all battery designs and the second to all processes\n",
    "s_nested = np.zeros([len(D), len(process_selection)])\n",
    "\n",
    "# Calculate scaling vector for each design based on the life cycle inventory model:\n",
    "for design in D:\n",
    "    # Pack weight of each design as functional unit:\n",
    "    fu = A_matrix_nested[design, g.index(\"battery pack\"), p.index(\"module and pack assembly\")]\n",
    "    # Inverse the A matrix of the specific design:\n",
    "    A_inv = np.linalg.pinv(A_matrix_nested[design, :, process_selection].T)\n",
    "    # Establish final product demand vector for 1 battery based on pack weight\n",
    "    y = np.zeros(len(g))\n",
    "    y[g.index(\"battery pack\")] = fu\n",
    "    # Obtain the scaling vector\n",
    "    s_nested[design] = A_inv.dot(y)\n"
   ]
  },
  {
   "cell_type": "markdown",
   "metadata": {},
   "source": [
    "The scaling factors for all foreground processes and battery designs can now be obtained. The scaling factor of all battery production factors refer to 1 as the output of each process in the foreground matrix was scaled to battery pack weight of each design"
   ]
  },
  {
   "cell_type": "code",
   "execution_count": 94,
   "metadata": {},
   "outputs": [
    {
     "data": {
      "text/html": [
       "<div>\n",
       "<style scoped>\n",
       "    .dataframe tbody tr th:only-of-type {\n",
       "        vertical-align: middle;\n",
       "    }\n",
       "\n",
       "    .dataframe tbody tr th {\n",
       "        vertical-align: top;\n",
       "    }\n",
       "\n",
       "    .dataframe thead th {\n",
       "        text-align: right;\n",
       "    }\n",
       "</style>\n",
       "<table border=\"1\" class=\"dataframe\">\n",
       "  <thead>\n",
       "    <tr style=\"text-align: right;\">\n",
       "      <th></th>\n",
       "      <th>anode active material (synthetic graphite) import</th>\n",
       "      <th>anode binder (CMC) production</th>\n",
       "      <th>anode binder additive (SBR) production</th>\n",
       "      <th>anode calendering</th>\n",
       "      <th>anode coating and drying</th>\n",
       "      <th>anode current collector Cu (6um) production</th>\n",
       "      <th>anode electrode scrap handling</th>\n",
       "      <th>anode slitting</th>\n",
       "      <th>battery jacket aluminium</th>\n",
       "      <th>battery jacket insulation</th>\n",
       "      <th>...</th>\n",
       "      <th>sheet rolling, aluminium</th>\n",
       "      <th>sheet rolling, steel</th>\n",
       "      <th>spacer for gas release production</th>\n",
       "      <th>terminal welding</th>\n",
       "      <th>waste anode current collector Cu handling</th>\n",
       "      <th>waste anode slurry handling</th>\n",
       "      <th>waste cathode current collector Al handling</th>\n",
       "      <th>waste cathode slurry handling</th>\n",
       "      <th>market group for electricity battery production, medium voltage, European average</th>\n",
       "      <th>market group for heat, district or industrial, natural gas, European average</th>\n",
       "    </tr>\n",
       "  </thead>\n",
       "  <tbody>\n",
       "    <tr>\n",
       "      <th>0</th>\n",
       "      <td>33.41</td>\n",
       "      <td>0.41</td>\n",
       "      <td>0.27</td>\n",
       "      <td>1.0</td>\n",
       "      <td>1.0</td>\n",
       "      <td>8.78</td>\n",
       "      <td>1.0</td>\n",
       "      <td>1.0</td>\n",
       "      <td>17.96</td>\n",
       "      <td>0.96</td>\n",
       "      <td>...</td>\n",
       "      <td>9.92</td>\n",
       "      <td>31.29</td>\n",
       "      <td>0.1</td>\n",
       "      <td>1.0</td>\n",
       "      <td>1.0</td>\n",
       "      <td>1.0</td>\n",
       "      <td>1.0</td>\n",
       "      <td>1.0</td>\n",
       "      <td>410.29</td>\n",
       "      <td>1103.58</td>\n",
       "    </tr>\n",
       "    <tr>\n",
       "      <th>1</th>\n",
       "      <td>33.55</td>\n",
       "      <td>0.41</td>\n",
       "      <td>0.27</td>\n",
       "      <td>1.0</td>\n",
       "      <td>1.0</td>\n",
       "      <td>9.91</td>\n",
       "      <td>1.0</td>\n",
       "      <td>1.0</td>\n",
       "      <td>20.75</td>\n",
       "      <td>1.12</td>\n",
       "      <td>...</td>\n",
       "      <td>15.09</td>\n",
       "      <td>35.75</td>\n",
       "      <td>0.1</td>\n",
       "      <td>1.0</td>\n",
       "      <td>1.0</td>\n",
       "      <td>1.0</td>\n",
       "      <td>1.0</td>\n",
       "      <td>1.0</td>\n",
       "      <td>415.26</td>\n",
       "      <td>1109.97</td>\n",
       "    </tr>\n",
       "    <tr>\n",
       "      <th>2</th>\n",
       "      <td>25.85</td>\n",
       "      <td>0.33</td>\n",
       "      <td>0.22</td>\n",
       "      <td>1.0</td>\n",
       "      <td>1.0</td>\n",
       "      <td>8.83</td>\n",
       "      <td>1.0</td>\n",
       "      <td>1.0</td>\n",
       "      <td>17.53</td>\n",
       "      <td>0.94</td>\n",
       "      <td>...</td>\n",
       "      <td>9.31</td>\n",
       "      <td>30.77</td>\n",
       "      <td>0.1</td>\n",
       "      <td>1.0</td>\n",
       "      <td>1.0</td>\n",
       "      <td>1.0</td>\n",
       "      <td>1.0</td>\n",
       "      <td>1.0</td>\n",
       "      <td>401.14</td>\n",
       "      <td>1036.89</td>\n",
       "    </tr>\n",
       "    <tr>\n",
       "      <th>3</th>\n",
       "      <td>25.95</td>\n",
       "      <td>0.33</td>\n",
       "      <td>0.22</td>\n",
       "      <td>1.0</td>\n",
       "      <td>1.0</td>\n",
       "      <td>10.00</td>\n",
       "      <td>1.0</td>\n",
       "      <td>1.0</td>\n",
       "      <td>20.22</td>\n",
       "      <td>1.09</td>\n",
       "      <td>...</td>\n",
       "      <td>14.36</td>\n",
       "      <td>35.06</td>\n",
       "      <td>0.1</td>\n",
       "      <td>1.0</td>\n",
       "      <td>1.0</td>\n",
       "      <td>1.0</td>\n",
       "      <td>1.0</td>\n",
       "      <td>1.0</td>\n",
       "      <td>406.04</td>\n",
       "      <td>1043.84</td>\n",
       "    </tr>\n",
       "    <tr>\n",
       "      <th>4</th>\n",
       "      <td>20.65</td>\n",
       "      <td>0.28</td>\n",
       "      <td>0.19</td>\n",
       "      <td>1.0</td>\n",
       "      <td>1.0</td>\n",
       "      <td>8.85</td>\n",
       "      <td>1.0</td>\n",
       "      <td>1.0</td>\n",
       "      <td>17.09</td>\n",
       "      <td>0.91</td>\n",
       "      <td>...</td>\n",
       "      <td>8.91</td>\n",
       "      <td>30.15</td>\n",
       "      <td>0.1</td>\n",
       "      <td>1.0</td>\n",
       "      <td>1.0</td>\n",
       "      <td>1.0</td>\n",
       "      <td>1.0</td>\n",
       "      <td>1.0</td>\n",
       "      <td>394.53</td>\n",
       "      <td>990.53</td>\n",
       "    </tr>\n",
       "  </tbody>\n",
       "</table>\n",
       "<p>5 rows × 88 columns</p>\n",
       "</div>"
      ],
      "text/plain": [
       "   anode active material (synthetic graphite) import  \\\n",
       "0                                              33.41   \n",
       "1                                              33.55   \n",
       "2                                              25.85   \n",
       "3                                              25.95   \n",
       "4                                              20.65   \n",
       "\n",
       "   anode binder (CMC) production  anode binder additive (SBR) production  \\\n",
       "0                           0.41                                    0.27   \n",
       "1                           0.41                                    0.27   \n",
       "2                           0.33                                    0.22   \n",
       "3                           0.33                                    0.22   \n",
       "4                           0.28                                    0.19   \n",
       "\n",
       "   anode calendering  anode coating and drying  \\\n",
       "0                1.0                       1.0   \n",
       "1                1.0                       1.0   \n",
       "2                1.0                       1.0   \n",
       "3                1.0                       1.0   \n",
       "4                1.0                       1.0   \n",
       "\n",
       "   anode current collector Cu (6um) production  \\\n",
       "0                                         8.78   \n",
       "1                                         9.91   \n",
       "2                                         8.83   \n",
       "3                                        10.00   \n",
       "4                                         8.85   \n",
       "\n",
       "   anode electrode scrap handling  anode slitting  battery jacket aluminium  \\\n",
       "0                             1.0             1.0                     17.96   \n",
       "1                             1.0             1.0                     20.75   \n",
       "2                             1.0             1.0                     17.53   \n",
       "3                             1.0             1.0                     20.22   \n",
       "4                             1.0             1.0                     17.09   \n",
       "\n",
       "   battery jacket insulation  ...  sheet rolling, aluminium  \\\n",
       "0                       0.96  ...                      9.92   \n",
       "1                       1.12  ...                     15.09   \n",
       "2                       0.94  ...                      9.31   \n",
       "3                       1.09  ...                     14.36   \n",
       "4                       0.91  ...                      8.91   \n",
       "\n",
       "   sheet rolling, steel  spacer for gas release production  terminal welding  \\\n",
       "0                 31.29                                0.1               1.0   \n",
       "1                 35.75                                0.1               1.0   \n",
       "2                 30.77                                0.1               1.0   \n",
       "3                 35.06                                0.1               1.0   \n",
       "4                 30.15                                0.1               1.0   \n",
       "\n",
       "   waste anode current collector Cu handling  waste anode slurry handling  \\\n",
       "0                                        1.0                          1.0   \n",
       "1                                        1.0                          1.0   \n",
       "2                                        1.0                          1.0   \n",
       "3                                        1.0                          1.0   \n",
       "4                                        1.0                          1.0   \n",
       "\n",
       "   waste cathode current collector Al handling  waste cathode slurry handling  \\\n",
       "0                                          1.0                            1.0   \n",
       "1                                          1.0                            1.0   \n",
       "2                                          1.0                            1.0   \n",
       "3                                          1.0                            1.0   \n",
       "4                                          1.0                            1.0   \n",
       "\n",
       "   market group for electricity battery production, medium voltage, European average  \\\n",
       "0                                             410.29                                   \n",
       "1                                             415.26                                   \n",
       "2                                             401.14                                   \n",
       "3                                             406.04                                   \n",
       "4                                             394.53                                   \n",
       "\n",
       "   market group for heat, district or industrial, natural gas, European average  \n",
       "0                                            1103.58                             \n",
       "1                                            1109.97                             \n",
       "2                                            1036.89                             \n",
       "3                                            1043.84                             \n",
       "4                                             990.53                             \n",
       "\n",
       "[5 rows x 88 columns]"
      ]
     },
     "execution_count": 94,
     "metadata": {},
     "output_type": "execute_result"
    }
   ],
   "source": [
    "pd.DataFrame(s_nested,D,p_selection_name ).head(5).round(2)[pd.DataFrame(s_nested,D,p_selection_name ).head(5).round(2)>0].dropna(axis=1)"
   ]
  },
  {
   "cell_type": "markdown",
   "metadata": {},
   "source": [
    "The battery cost ($v$) and carbon footprint ($h$) can be obtained by multiplying the scaling vector for each design with the satellite account:"
   ]
  },
  {
   "cell_type": "code",
   "execution_count": 98,
   "metadata": {},
   "outputs": [],
   "source": [
    "# Multiply all layers by the scaling vector\n",
    "h_nested_scaled = np.einsum(\"ij, ij -> ij\", s_nested, h_nested[:,process_selection])\n",
    "v_nested_scaled = np.einsum(\"ij, ij -> ij\", s_nested, v_nested[:, process_selection])"
   ]
  },
  {
   "cell_type": "markdown",
   "metadata": {},
   "source": [
    "The material criticality ($c$) is based on the criticality calculation for product systems as described by [Lütkehaus et al., (2021)](https://link.springer.com/article/10.1007/s11367-021-02002-z). The economic product importance (EPI) and supply disruption probability (SPD) indicators are used to calculate the criticality score for each design and all considered elements:\n",
    "\n",
    "$$ c = \\sum_{e} \\mathbf{EPI}_{e,p} \\times \\mathbf{SDP}_e $$\n",
    "\n",
    "The EPI refers to the relative cost for each element as compared to the total battery cost. The EPI is therefore calculated by multiplying the price of elements ($\\mathbf{\\Omega}_e$) with the element inflows (negative) for battery production ($\\mathbf{E}_{e,bp}$), divided by the total battery cost ($v$):\n",
    "\n",
    "\\begin{equation}\n",
    "\\mathbf{EPI}_{e} =\\frac{ \\mathbf{\\Omega}_e(\\mathbf{E}_{e, bp}\\times-1)}{v}\n",
    "\\end{equation}\n",
    "\n",
    "\n",
    "\n",
    "$\\mathbf{E}_{e,bp}$ refers to the transmission coefficient matrix for the battery production processes. As all battery production processes have a scaling factor of 1, we do not have to multiply this matrix with $\\mathbf{s}$\n",
    "\n"
   ]
  },
  {
   "cell_type": "code",
   "execution_count": 100,
   "metadata": {},
   "outputs": [
    {
     "data": {
      "text/html": [
       "<div>\n",
       "<style scoped>\n",
       "    .dataframe tbody tr th:only-of-type {\n",
       "        vertical-align: middle;\n",
       "    }\n",
       "\n",
       "    .dataframe tbody tr th {\n",
       "        vertical-align: top;\n",
       "    }\n",
       "\n",
       "    .dataframe thead th {\n",
       "        text-align: right;\n",
       "    }\n",
       "</style>\n",
       "<table border=\"1\" class=\"dataframe\">\n",
       "  <thead>\n",
       "    <tr style=\"text-align: right;\">\n",
       "      <th></th>\n",
       "      <th>low</th>\n",
       "      <th>used</th>\n",
       "      <th>high</th>\n",
       "    </tr>\n",
       "  </thead>\n",
       "  <tbody>\n",
       "    <tr>\n",
       "      <th>All</th>\n",
       "      <td>0.000000</td>\n",
       "      <td>0.000000</td>\n",
       "      <td>0.000000</td>\n",
       "    </tr>\n",
       "    <tr>\n",
       "      <th>Li</th>\n",
       "      <td>22.484376</td>\n",
       "      <td>225.480152</td>\n",
       "      <td>225.480152</td>\n",
       "    </tr>\n",
       "    <tr>\n",
       "      <th>Al</th>\n",
       "      <td>1.459930</td>\n",
       "      <td>2.807500</td>\n",
       "      <td>3.691880</td>\n",
       "    </tr>\n",
       "    <tr>\n",
       "      <th>Si</th>\n",
       "      <td>1.168326</td>\n",
       "      <td>3.222060</td>\n",
       "      <td>4.300834</td>\n",
       "    </tr>\n",
       "    <tr>\n",
       "      <th>P</th>\n",
       "      <td>2.813461</td>\n",
       "      <td>1.264473</td>\n",
       "      <td>27.809085</td>\n",
       "    </tr>\n",
       "    <tr>\n",
       "      <th>Mn</th>\n",
       "      <td>3.309330</td>\n",
       "      <td>4.822483</td>\n",
       "      <td>14.605292</td>\n",
       "    </tr>\n",
       "    <tr>\n",
       "      <th>Fe</th>\n",
       "      <td>0.109710</td>\n",
       "      <td>0.188645</td>\n",
       "      <td>0.633500</td>\n",
       "    </tr>\n",
       "    <tr>\n",
       "      <th>Co</th>\n",
       "      <td>8.900248</td>\n",
       "      <td>76.316522</td>\n",
       "      <td>114.225309</td>\n",
       "    </tr>\n",
       "    <tr>\n",
       "      <th>Ni</th>\n",
       "      <td>7.052990</td>\n",
       "      <td>24.393109</td>\n",
       "      <td>65.131492</td>\n",
       "    </tr>\n",
       "    <tr>\n",
       "      <th>Cu</th>\n",
       "      <td>2.013115</td>\n",
       "      <td>9.720500</td>\n",
       "      <td>11.353492</td>\n",
       "    </tr>\n",
       "    <tr>\n",
       "      <th>C</th>\n",
       "      <td>0.570900</td>\n",
       "      <td>0.804000</td>\n",
       "      <td>2.045480</td>\n",
       "    </tr>\n",
       "  </tbody>\n",
       "</table>\n",
       "</div>"
      ],
      "text/plain": [
       "           low        used        high\n",
       "All   0.000000    0.000000    0.000000\n",
       "Li   22.484376  225.480152  225.480152\n",
       "Al    1.459930    2.807500    3.691880\n",
       "Si    1.168326    3.222060    4.300834\n",
       "P     2.813461    1.264473   27.809085\n",
       "Mn    3.309330    4.822483   14.605292\n",
       "Fe    0.109710    0.188645    0.633500\n",
       "Co    8.900248   76.316522  114.225309\n",
       "Ni    7.052990   24.393109   65.131492\n",
       "Cu    2.013115    9.720500   11.353492\n",
       "C     0.570900    0.804000    2.045480"
      ]
     },
     "execution_count": 100,
     "metadata": {},
     "output_type": "execute_result"
    }
   ],
   "source": [
    "df_mineral_price = pd.DataFrame(\n",
    "    ParameterDict[\"3_PR_mineral_price\"].Values, e, IndexTable.loc[\"Mineral_price_scenario\", \"Classification\"].Items\n",
    ")\n",
    "\n",
    "df_mineral_price"
   ]
  },
  {
   "cell_type": "code",
   "execution_count": 205,
   "metadata": {},
   "outputs": [],
   "source": [
    "# Index for battery production processes:\n",
    "battery_production_index = [p_selection_name.index(i) for i in bp]\n",
    "\n",
    "#Calculate EPI:\n",
    "EPI_scaled = np.einsum('ijk, j-> ij', E_matrix_nested[:, :, battery_production_index], df_mineral_price[\"used\"].values)*-1\n",
    "#Obtain the fractional cost of each element based on the total battery cost:\n",
    "EPI_scaled = (EPI_scaled.T/v_nested_scaled.sum(axis=1)).T"
   ]
  },
  {
   "cell_type": "markdown",
   "metadata": {},
   "source": [
    "For example, the EPI for the elements in the first 10 different battery designs is:"
   ]
  },
  {
   "cell_type": "code",
   "execution_count": 221,
   "metadata": {},
   "outputs": [
    {
     "data": {
      "text/plain": [
       "<AxesSubplot:ylabel='Economic product importance'>"
      ]
     },
     "execution_count": 221,
     "metadata": {},
     "output_type": "execute_result"
    },
    {
     "data": {
      "image/png": "[encoded data removed]",
      "text/plain": [
       "<Figure size 432x288 with 1 Axes>"
      ]
     },
     "metadata": {
      "needs_background": "light"
     },
     "output_type": "display_data"
    }
   ],
   "source": [
    "pd.DataFrame(EPI_scaled, D,e).loc[range(0,10)].drop(['All','Fe', 'Si', 'C', 'P'], axis=1).sort_values(by=0, ascending=False, axis=1).plot.bar(stacked=True, ylabel='Economic product importance')"
   ]
  },
  {
   "cell_type": "markdown",
   "metadata": {},
   "source": [
    "The second element of the criticality indicator calculation, the supply disruption probability (SPD) is obtained by multiplying the elemental inflows for battery production with the ESSENZ characterization factors (CF) (Bach et al., 2016):\n",
    "\n",
    "\\begin{equation}\n",
    "\\mathbf{SDP}_{e, p} = (\\mathbf{E}_{e,bp}\\times-1) \\mathbf{ESSENZ}_{e}\n",
    "\\end{equation}\n",
    "\n",
    "The ESSENZ CF are obtained [here](https://www.tu.berlin/en/see/research/data-sets-methods-and-tools/essenz-method/) and stored in the ODYM database:"
   ]
  },
  {
   "cell_type": "code",
   "execution_count": 194,
   "metadata": {},
   "outputs": [
    {
     "data": {
      "text/html": [
       "<div>\n",
       "<style scoped>\n",
       "    .dataframe tbody tr th:only-of-type {\n",
       "        vertical-align: middle;\n",
       "    }\n",
       "\n",
       "    .dataframe tbody tr th {\n",
       "        vertical-align: top;\n",
       "    }\n",
       "\n",
       "    .dataframe thead th {\n",
       "        text-align: right;\n",
       "    }\n",
       "</style>\n",
       "<table border=\"1\" class=\"dataframe\">\n",
       "  <thead>\n",
       "    <tr style=\"text-align: right;\">\n",
       "      <th></th>\n",
       "      <th>ESSENZ CF</th>\n",
       "    </tr>\n",
       "  </thead>\n",
       "  <tbody>\n",
       "    <tr>\n",
       "      <th>All</th>\n",
       "      <td>0.000000e+00</td>\n",
       "    </tr>\n",
       "    <tr>\n",
       "      <th>Li</th>\n",
       "      <td>9.117922e+10</td>\n",
       "    </tr>\n",
       "    <tr>\n",
       "      <th>Al</th>\n",
       "      <td>1.239331e+08</td>\n",
       "    </tr>\n",
       "    <tr>\n",
       "      <th>Si</th>\n",
       "      <td>1.291250e+09</td>\n",
       "    </tr>\n",
       "    <tr>\n",
       "      <th>P</th>\n",
       "      <td>7.104455e+07</td>\n",
       "    </tr>\n",
       "    <tr>\n",
       "      <th>Mn</th>\n",
       "      <td>5.000520e+08</td>\n",
       "    </tr>\n",
       "    <tr>\n",
       "      <th>Fe</th>\n",
       "      <td>2.134463e+06</td>\n",
       "    </tr>\n",
       "    <tr>\n",
       "      <th>Co</th>\n",
       "      <td>9.639504e+10</td>\n",
       "    </tr>\n",
       "    <tr>\n",
       "      <th>Ni</th>\n",
       "      <td>3.226556e+09</td>\n",
       "    </tr>\n",
       "    <tr>\n",
       "      <th>Cu</th>\n",
       "      <td>1.612863e+08</td>\n",
       "    </tr>\n",
       "    <tr>\n",
       "      <th>C</th>\n",
       "      <td>7.861798e+09</td>\n",
       "    </tr>\n",
       "  </tbody>\n",
       "</table>\n",
       "</div>"
      ],
      "text/plain": [
       "        ESSENZ CF\n",
       "All  0.000000e+00\n",
       "Li   9.117922e+10\n",
       "Al   1.239331e+08\n",
       "Si   1.291250e+09\n",
       "P    7.104455e+07\n",
       "Mn   5.000520e+08\n",
       "Fe   2.134463e+06\n",
       "Co   9.639504e+10\n",
       "Ni   3.226556e+09\n",
       "Cu   1.612863e+08\n",
       "C    7.861798e+09"
      ]
     },
     "execution_count": 194,
     "metadata": {},
     "output_type": "execute_result"
    }
   ],
   "source": [
    "pd.DataFrame(ParameterDict[\"6_CR_ESSENZ_CF_elements\"].Values, e, columns=['ESSENZ CF'])"
   ]
  },
  {
   "cell_type": "code",
   "execution_count": 320,
   "metadata": {},
   "outputs": [],
   "source": [
    "#Calculate the SPD:\n",
    "SCP_scaled = np.einsum('ijk, j-> ij', E_matrix_nested[:, :, battery_production_index],  ParameterDict[\"6_CR_ESSENZ_CF_elements\"].Values[:,0])*-1       \n",
    "\n",
    "#And multiply with the EPI to obtain the total criticality score of each design:\n",
    "c_nested_scaled = np.einsum('ij, ij->i', EPI_scaled,  SCP_scaled)\n",
    "                   "
   ]
  },
  {
   "cell_type": "markdown",
   "metadata": {},
   "source": [
    "For example, comparing the EPI and SPD of a NMC333 and NCA battery design:"
   ]
  },
  {
   "cell_type": "code",
   "execution_count": 316,
   "metadata": {},
   "outputs": [
    {
     "data": {
      "image/png": "[encoded data removed]",
      "text/plain": [
       "<Figure size 864x360 with 2 Axes>"
      ]
     },
     "metadata": {
      "needs_background": "light"
     },
     "output_type": "display_data"
    }
   ],
   "source": [
    "fig, ax = plt.subplots(1,2, figsize=(12,5), sharey=True, sharex=True)\n",
    "for idx, element in enumerate(e):\n",
    "    if SCP_scaled[0, idx]==0:\n",
    "        continue\n",
    "    ax[0].scatter(EPI_scaled[0, idx],SCP_scaled[0, idx], label=element, s=200, alpha=0.7)#\n",
    "    ax[1].scatter(EPI_scaled[25, idx],SCP_scaled[25, idx], label=element, s=200,alpha=0.7)#\n",
    "    x0, y0 = EPI_scaled[0, idx],SCP_scaled[0, idx]\n",
    "    x1, y1 = EPI_scaled[25, idx],SCP_scaled[25, idx]\n",
    "    if element == 'Co':\n",
    "        ax[0].annotate('Cobalt',(x0,y0),xytext = (x0-0.03,y0),  arrowprops = dict(arrowstyle=\"simple\"), fontsize=13)\n",
    "        ax[1].annotate('Cobalt',(x1,y1),xytext = (x1-0.01,y1+0.11*1e12),  arrowprops = dict(arrowstyle=\"simple\"), fontsize=13)\n",
    "    if element == 'Ni':\n",
    "        ax[0].annotate('Nickel',(x0,y0),xytext = (x0-0.01,y0+0.11*1e12),  arrowprops = dict(arrowstyle=\"simple\"), fontsize=13)\n",
    "        ax[1].annotate('Nickel',(x1,y1),xytext = (x1-0.01,y1+0.11*1e12),  arrowprops = dict(arrowstyle=\"simple\"), fontsize=13)\n",
    "    if element == 'Mn':\n",
    "        ax[0].annotate('Manganese',(x0,y0),xytext = (x0-0.01,y0+0.11*1e12),  arrowprops = dict(arrowstyle=\"simple\"), fontsize=13)\n",
    "        ax[1].annotate('Manganese',(x1,y1),xytext = (x1-0.001,y1+0.11*1e12),  arrowprops = dict(arrowstyle=\"simple\"), fontsize=13)\n",
    "\n",
    "ax[0].legend(fontsize = 12)\n",
    "ax[0].set_xlabel('Economic product importance')\n",
    "ax[1].set_xlabel('Economic product importance')\n",
    "ax[0].set_ylabel('Supply disruption probability')\n",
    "for idx, design in enumerate([0, 25]):\n",
    "    ax[idx].set_title (f\"{int(param_dict_all[design]['pack_energy_kWh'])} kWh {param_dict_all[design]['electrode_pair']}\", fontsize=12)\n",
    "\n",
    "fig.tight_layout()"
   ]
  },
  {
   "cell_type": "code",
   "execution_count": 71,
   "metadata": {},
   "outputs": [],
   "source": [
    "# #EXPORT ALL DATA FOR FIGURES:\n",
    "# # C_scaled = np.einsum(\"ij, iej -> iej\", s_nested, C_matrix_nested[:, :, process_selection])\n",
    "\n",
    "\n",
    "# pd.DataFrame(C_scaled.sum(axis=1), D, p_selection_name).to_csv(r\"C:\\Users\\Joris\\OneDrive - Newcastle University\\PhD\\Written parts\\Figures\\Figure data\\Results_case_study\\df_materials.csv\")\n",
    "# pd.DataFrame(F_monetary_nested.sum(axis=2), D, f).to_csv(r\"C:\\Users\\Joris\\OneDrive - Newcastle University\\PhD\\Written parts\\Figures\\Figure data\\Results_case_study\\df_factors.csv\")\n",
    "# pd.DataFrame(v_nested_scaled, D, p_selection_name).to_csv(r\"C:\\Users\\Joris\\OneDrive - Newcastle University\\PhD\\Written parts\\Figures\\Figure data\\Results_case_study\\df_cost.csv\")\n",
    "# pd.DataFrame(h_nested_scaled, D, p_selection_name).to_csv(r\"C:\\Users\\Joris\\OneDrive - Newcastle University\\PhD\\Written parts\\Figures\\Figure data\\Results_case_study\\process_emissions_all_pack_design.csv\")\n",
    "# pd.DataFrame(c_nested_scaled, D, e).to_csv(r\"C:\\Users\\Joris\\OneDrive - Newcastle University\\PhD\\Written parts\\Figures\\Figure data\\Results_case_study\\df_criticality.csv\")\n",
    "\n",
    "# np.save(r\"C:\\Users\\Joris\\OneDrive - Newcastle University\\PhD\\Written parts\\Figures\\Figure data\\Results_case_study\\SC_scaled.npy\", SC_scaled)\n",
    "# np.save(r\"C:\\Users\\Joris\\OneDrive - Newcastle University\\PhD\\Written parts\\Figures\\Figure data\\Results_case_study\\EPI_scaled.npy\", EPI_scaled)"
   ]
  },
  {
   "cell_type": "markdown",
   "metadata": {},
   "source": [
    "Finally, the performance for each battery design is obtained from the BatPaC results"
   ]
  },
  {
   "cell_type": "code",
   "execution_count": 325,
   "metadata": {},
   "outputs": [],
   "source": [
    "# Performance:\n",
    "p_nested = [\n",
    "    bat_design_param_dct[design][\"pack_usable_energy_kWh\"] / bat_design_param_dct[design][\"battery_system_weight\"] * 1000 for design in D\n",
    "]\n"
   ]
  },
  {
   "cell_type": "markdown",
   "metadata": {},
   "source": [
    "Overview of the carbon footprint for all 20,736 design options results by cathode chemistry on the kWh level:\n"
   ]
  },
  {
   "cell_type": "code",
   "execution_count": 327,
   "metadata": {},
   "outputs": [
    {
     "data": {
      "image/png": "[encoded data removed]",
      "text/plain": [
       "<Figure size 1080x288 with 4 Axes>"
      ]
     },
     "metadata": {
      "needs_background": "light"
     },
     "output_type": "display_data"
    }
   ],
   "source": [
    "cathode_by_design = {design: bat_design_param_dct[design][\"electrode_pair\"] for design in D}\n",
    "all_cathodes = set(cathode_by_design.values())\n",
    "\n",
    "impacts_all = {\n",
    "    \"Carbon footprint\": h_nested_scaled,\n",
    "    \"Cost\": v_nested_scaled,\n",
    "    \"Criticality\": c_nested_scaled,\n",
    "    \"Performance\": p_nested,\n",
    "}\n",
    "\n",
    "fig, ax = plt.subplots(1, 4, figsize=(15, 4))\n",
    "for idx, impact in enumerate(impacts_all.keys()):\n",
    "    if impact != \"Performance\":\n",
    "        impacts = {design: impacts_all[impact][design].sum() / bat_design_param_dct[design][\"pack_energy_kWh\"] for design in D}\n",
    "    else:\n",
    "        impacts = impacts_all[impact]\n",
    "    y_values = {}\n",
    "    for cathode in all_cathodes:\n",
    "        y_values[cathode] = [impacts[x] for x in cathode_by_design.keys() if cathode_by_design[x] == cathode]\n",
    "    ax[idx].boxplot(y_values.values(), vert=False)\n",
    "    ax[idx].set_title(impact)\n",
    "    ax[idx].xaxis.grid(\n",
    "        True,\n",
    "        linestyle=\"--\",\n",
    "        lw=0.6,\n",
    "    )\n",
    "    ax[idx].set_yticklabels([])\n",
    "ax[0].set_xlabel(r\"kg CO$_2$ eq. kWh$^{-1}$\")\n",
    "ax[1].set_xlabel(r\"\\$ kWh$^{-1}$\")\n",
    "ax[2].set_xlabel(r\"non-dimensional\")\n",
    "ax[3].set_xlabel(r\"Wh kg $^{-1}$\")\n",
    "\n",
    "ax[0].set_yticklabels(all_cathodes, fontsize=8, rotation=0)\n",
    "\n",
    "fig.tight_layout()\n"
   ]
  },
  {
   "cell_type": "markdown",
   "metadata": {},
   "source": [
    "### <b>Solution 2:</b> Optimal design\n"
   ]
  },
  {
   "cell_type": "markdown",
   "metadata": {},
   "source": [
    "Next we use multi-objective optimisation to find the optimal design configurations.\n",
    "\n",
    "The first step is to convert the nested matrices to square matrices.\n"
   ]
  },
  {
   "cell_type": "code",
   "execution_count": null,
   "metadata": {},
   "outputs": [
    {
     "data": {
      "text/plain": [
       "range(10368, 20736)"
      ]
     },
     "execution_count": 157,
     "metadata": {},
     "output_type": "execute_result"
    }
   ],
   "source": [
    "segment_choice = range(int(len(D) / 4) * 2, int(len(D) / 4) * 4)\n",
    "segment_choice\n"
   ]
  },
  {
   "cell_type": "code",
   "execution_count": null,
   "metadata": {},
   "outputs": [],
   "source": [
    "# As the\n",
    "segment_choice = range(int(len(D) / 4) * 2, int(len(D) / 4) * 4)\n",
    "segment_choice = \"test\"\n",
    "impact_category = 2  # GWP\n",
    "country_selection = \"European average\"\n",
    "\n",
    "# All goods minus internal goods:\n",
    "g_new = [i for i in g if i not in IndexTable.loc[\"Internal_goods\", \"Classification\"].Items]\n",
    "\n",
    "# All processes minus production:\n",
    "# Exclude material handling from 'internal process'\n",
    "# internal_process = [\n",
    "#     process for process in bp if process != \"material handling\" and process != \"wastewater, average\"\n",
    "# ]  # REMOVED THIS LINE:\n",
    "\n",
    "# New battery process names based on design\n",
    "p_new = []\n",
    "if segment_choice == \"test\":\n",
    "    segment_choice = list(range(0, 5))\n",
    "    for d in segment_choice:\n",
    "        p_new.append(d)\n",
    "else:\n",
    "    for d in segment_choice:\n",
    "        p_new.append(d)\n",
    "# New process list, material handling must be included for mass balance\n",
    "\n",
    "for x in p:\n",
    "    if x == \"building and supporting systems\":\n",
    "        p_new.append(x)\n",
    "    if x in bp:\n",
    "        continue\n",
    "    p_new.append(x)\n",
    "\n",
    "\n",
    "# Select only regional electricity and gas\n",
    "for country in r:\n",
    "    if country != country_selection:\n",
    "        p_new.pop(p_new.index(f\"market group for electricity battery production, medium voltage, {country}\"))\n",
    "        p_new.pop(p_new.index(f\"market group for heat, district or industrial, natural gas, {country}\"))\n",
    "\n",
    "# Empty A matrix:\n",
    "A_matrix = np.zeros((len(g_new), len(p_new)))\n",
    "\n",
    "batt_manuf_index = [p.index(x) for x in bp]\n",
    "# Exclude material handling to include waste:\n",
    "# batt_manuf_index.pop(batt_manuf_index.index(p.index(\"material handling\")))\n",
    "\n",
    "\n",
    "# Sum battery production input for each design\n",
    "g_select = [g.index(x) for x in g if x not in IndexTable.loc[\"Internal_goods\", \"Classification\"].Items]\n",
    "for idx, battery_model in enumerate(segment_choice):\n",
    "    A_matrix[:, idx] = A_matrix_nested[battery_model, :, batt_manuf_index].T[g_select].sum(axis=1)\n",
    "\n",
    "# Include base module values to A matrix\n",
    "for process in [x for x in p if x not in D and x not in bp]:\n",
    "    # if process == 'material handling':\n",
    "    #     continue\n",
    "    if \"electricity\" in process or \"natural gas\" in process:\n",
    "        continue\n",
    "    A_matrix[:, p_new.index(process),] = ParameterDict[\n",
    "        \"4_UPI_foreground_base\"\n",
    "    ].Values[g_select, p.index(process)]\n",
    "\n",
    "\n",
    "# Include regional energy:\n",
    "\n",
    "electricity_production = f\"market group for electricity battery production, medium voltage, {country}\"\n",
    "gas_production = f\"market group for heat, district or industrial, natural gas, {country}\"\n",
    "A_matrix[:, p_new.index(electricity_production)] = ParameterDict[\"4_UPI_foreground_base\"].Values[g_select, p.index(electricity_production)]\n",
    "A_matrix[:, p_new.index(gas_production)] = ParameterDict[\"4_UPI_foreground_base\"].Values[g_select, p.index(gas_production)]\n",
    "\n",
    "# Include production scrap:\n",
    "A_matrix[g_new.index(\"battery production scrap\"), p_new.index(\"building and supporting systems\")] = -1\n",
    "\n",
    "A_matrix = A_matrix.round(5)\n"
   ]
  },
  {
   "cell_type": "code",
   "execution_count": null,
   "metadata": {},
   "outputs": [
    {
     "data": {
      "text/plain": [
       "['anode active material (natural graphite) import',\n",
       " 'anode active material (SiO) import',\n",
       " 'anode active material (synthetic graphite) import',\n",
       " 'anode binder (CMC) production',\n",
       " 'anode binder additive (SBR) production',\n",
       " 'anode calendering',\n",
       " 'anode coating and drying',\n",
       " 'anode current collector Cu (10um) production',\n",
       " 'anode current collector Cu (11um) production',\n",
       " 'anode current collector Cu (12um) production',\n",
       " 'anode current collector Cu (13um) production',\n",
       " 'anode current collector Cu (14um) production',\n",
       " 'anode current collector Cu (6um) production',\n",
       " 'anode current collector Cu (7um) production',\n",
       " 'anode current collector Cu (8um) production',\n",
       " 'anode current collector Cu (9um) production',\n",
       " 'anode electrode scrap handling',\n",
       " 'anode slitting',\n",
       " 'battery jacket aluminium',\n",
       " 'battery jacket insulation',\n",
       " 'battery jacket production',\n",
       " 'battery jacket steel',\n",
       " 'battery management system production',\n",
       " 'binder solvent (deionised water) market',\n",
       " 'busbar production',\n",
       " 'carbon black production',\n",
       " 'cathode active material (LFP) import',\n",
       " 'cathode active material (LMO) import',\n",
       " 'cathode active material (NCA) import',\n",
       " 'cathode active material (NMC333) import',\n",
       " 'cathode active material (NMC532) import',\n",
       " 'cathode active material (NMC532/50%/LMO) import',\n",
       " 'cathode active material (NMC622) import',\n",
       " 'cathode active material (NMC811) import',\n",
       " 'cathode binder (PVDF) production',\n",
       " 'cathode binder solvent (NMP) production',\n",
       " 'cathode binder solvent waste handling',\n",
       " 'cathode binder solvent waste recovery',\n",
       " 'cathode calendering',\n",
       " 'cathode coating and drying',\n",
       " 'cathode current collector Al (10um) production',\n",
       " 'cathode current collector Al (11um) production',\n",
       " 'cathode current collector Al (12um) production',\n",
       " 'cathode current collector Al (13um) production',\n",
       " 'cathode current collector Al (14um) production',\n",
       " 'cathode current collector Al (15um) production',\n",
       " 'cathode current collector Al (16um) production',\n",
       " 'cathode current collector Al (17um) production',\n",
       " 'cathode current collector Al (18um) production',\n",
       " 'cathode electrode scrap handling',\n",
       " 'cathode slitting',\n",
       " 'cell container production',\n",
       " 'cell formation',\n",
       " 'cell group interconnect production',\n",
       " 'cell scrap handling',\n",
       " 'cell stacking',\n",
       " 'cell terminal anode production',\n",
       " 'cell terminal cathode production',\n",
       " 'coated separator (5um+2um) production',\n",
       " 'coated separator (7um+2um) production',\n",
       " 'coated separator (9um+3um) production',\n",
       " 'Cobalt sulfate production',\n",
       " 'coolant production',\n",
       " 'cooling connectors production',\n",
       " 'cooling mains Fe production',\n",
       " 'cooling panels production',\n",
       " 'deep drawing, steel, 10000 kN press, single stroke',\n",
       " 'electrolyte (LFP) production',\n",
       " 'electrolyte (LMO) production',\n",
       " 'electrolyte (NMC/NCA) production',\n",
       " 'electrolyte filling and sealing',\n",
       " 'electrolyte scrap handling',\n",
       " 'extrusion, plastic film',\n",
       " 'final electrode drying',\n",
       " 'impact extrusion of aluminium, 1 stroke',\n",
       " 'jelly roll enclosing',\n",
       " 'market for aluminium, wrought alloy',\n",
       " 'market for carbon black',\n",
       " 'market for cobalt hydroxide',\n",
       " 'market for copper, cathode',\n",
       " 'market for lithium carbonate',\n",
       " 'market for lithium hydroxide',\n",
       " 'market for manganese dioxide',\n",
       " 'market for manganese sulfate',\n",
       " 'market for module elastomer pads',\n",
       " 'market for nickel sulfate',\n",
       " 'market for polyethylene terephthalate, granulate, amorphous',\n",
       " 'market for polypropylene, granulate',\n",
       " 'market for steel, low-alloyed',\n",
       " 'market for transport, freight, sea, container ship',\n",
       " 'market for wastewater, average',\n",
       " 'market group for transport, freight train',\n",
       " 'market group for transport, freight, inland waterways, barge',\n",
       " 'market group for transport, freight, lorry, unspecified',\n",
       " 'building and supporting systems',\n",
       " 'mixing anode materials',\n",
       " 'mixing cathode materials',\n",
       " 'module and pack assembly',\n",
       " 'module container production',\n",
       " 'module electronics production',\n",
       " 'module interconnect panels production',\n",
       " 'module interconnects production',\n",
       " 'module row rack production',\n",
       " 'module tabs production',\n",
       " 'module terminal production',\n",
       " 'module thermal conductor production',\n",
       " 'NCA precursor production',\n",
       " 'NMC333 precursor production',\n",
       " 'NMC532 precursor production',\n",
       " 'NMC622 precursor production',\n",
       " 'NMC811 precursor production',\n",
       " 'pack heater production',\n",
       " 'pack terminals production',\n",
       " 'separator (5um) production',\n",
       " 'separator (7um) production',\n",
       " 'separator (9um) production',\n",
       " 'separator (11um) production',\n",
       " 'separator (13um) production',\n",
       " 'separator (15um) production',\n",
       " 'separator (17um) production',\n",
       " 'separator (19um) production',\n",
       " 'separator scrap handling',\n",
       " 'sheet rolling, aluminium',\n",
       " 'sheet rolling, steel',\n",
       " 'spacer for gas release production',\n",
       " 'terminal welding',\n",
       " 'waste anode current collector Cu handling',\n",
       " 'waste anode slurry handling',\n",
       " 'waste cathode current collector Al handling',\n",
       " 'waste cathode slurry handling',\n",
       " 'market group for electricity battery production, medium voltage, DE',\n",
       " 'market group for electricity battery production, medium voltage, European average',\n",
       " 'market group for electricity battery production, medium voltage, FR',\n",
       " 'market group for electricity battery production, medium voltage, GB',\n",
       " 'market group for electricity battery production, medium voltage, HU',\n",
       " 'market group for electricity battery production, medium voltage, NO',\n",
       " 'market group for electricity battery production, medium voltage, PL',\n",
       " 'market group for electricity battery production, medium voltage, SE',\n",
       " 'market group for heat, district or industrial, natural gas, DE',\n",
       " 'market group for heat, district or industrial, natural gas, European average',\n",
       " 'market group for heat, district or industrial, natural gas, FR',\n",
       " 'market group for heat, district or industrial, natural gas, GB',\n",
       " 'market group for heat, district or industrial, natural gas, HU',\n",
       " 'market group for heat, district or industrial, natural gas, NO',\n",
       " 'market group for heat, district or industrial, natural gas, PL',\n",
       " 'market group for heat, district or industrial, natural gas, SE']"
      ]
     },
     "execution_count": 236,
     "metadata": {},
     "output_type": "execute_result"
    }
   ],
   "source": [
    "p\n"
   ]
  },
  {
   "cell_type": "code",
   "execution_count": null,
   "metadata": {},
   "outputs": [],
   "source": [
    "emission_layer = np.zeros(len(p_new))\n",
    "criticality_layer = np.zeros((len(p_new), len(e)))\n",
    "impact_category = 2  # GWP100\n",
    "\n",
    "# for x in p_new[len(segment_choice):len(p_new)]:\n",
    "#     emission_layer [p_new.index(x)] = H_base [impact_category, p.index(x)]\n",
    "\n",
    "\n",
    "p_new_external = [x for x in p_new if x not in segment_choice]\n",
    "\n",
    "performance_layer = np.zeros(len(p_new))\n",
    "\n",
    "performance_layer[range(len(segment_choice))] = [\n",
    "    bat_design_param_dct[design][\"pack_usable_energy_kWh\"] / mc_battery_design_dct[design][\"battery pack\"] * 1000\n",
    "    for design in segment_choice\n",
    "]\n",
    "\n",
    "\n",
    "value_added_layer = np.zeros(len(p_new))\n",
    "substance_layer = np.zeros((len(e), len(p_new)))\n",
    "\n",
    "for idx, battery_model in enumerate(segment_choice):\n",
    "    # value_added_layer[idx] = B_matrix_nested[battery_model, batt_manuf_index].sum()\n",
    "    value_added_layer[idx] = v_nested_scaled[battery_model].sum()\n",
    "    # F_monetary_nested[r.index(country_selection),battery_model, ].sum() + C_matrix_nested[battery_model, :,batt_manuf_index ].T[g_select].sum()\n",
    "    # value_added_layer [idx] =\n",
    "    # substance_layer[:,idx] =  E_matrix_nested[battery_model, 0, :, batt_manuf_index].sum(axis=0)\n",
    "    criticality_layer[idx] = SC_scaled[battery_model] * EPI_scaled[battery_model]\n",
    "    emission_layer[idx] = H_nested_square[battery_model, 0].sum()\n"
   ]
  },
  {
   "cell_type": "markdown",
   "metadata": {},
   "source": [
    "Pyomo model\n"
   ]
  },
  {
   "cell_type": "code",
   "execution_count": null,
   "metadata": {},
   "outputs": [
    {
     "data": {
      "text/plain": [
       "array([ 80,  80,  79,  79,  79, 117, 117, 116, 117, 116, 115, 115, 115,\n",
       "       115, 115, 115, 115, 115, 115, 116, 116, 110, 116, 116, 117, 115,\n",
       "       114, 116, 115, 115, 115, 115, 117, 115, 115, 117, 117, 115, 115,\n",
       "       115, 115, 115, 115, 115, 115, 115, 113, 115, 115, 115, 115, 115,\n",
       "       115, 116, 117, 116, 115, 115, 117, 117, 117, 117, 117, 117, 114,\n",
       "       114, 114, 117, 114, 114, 114, 114, 115, 114, 115, 115, 115, 117,\n",
       "       116, 117, 117, 117, 115, 117, 116, 115, 115, 115, 115, 115, 115,\n",
       "       114, 114, 114, 114, 115, 115, 116, 116, 116, 117, 117, 117, 117,\n",
       "       117, 116, 117, 116, 117, 117])"
      ]
     },
     "execution_count": 225,
     "metadata": {},
     "output_type": "execute_result"
    }
   ],
   "source": [
    "np.sum(A_matrix >= 0, axis=0)\n"
   ]
  },
  {
   "cell_type": "code",
   "execution_count": null,
   "metadata": {},
   "outputs": [
    {
     "name": "stdout",
     "output_type": "stream",
     "text": [
      "anode electrode scrap\n",
      "battery production scrap\n",
      "cathode binder solvent waste\n",
      "cathode electrode scrap\n",
      "cell scrap\n",
      "electrolyte scrap\n",
      "separator (11um)\n",
      "separator (13um)\n",
      "separator (15um)\n",
      "separator (17um)\n",
      "separator (19um)\n",
      "separator scrap\n"
     ]
    }
   ],
   "source": [
    "missing  =[]\n",
    "for row in range(0,A_matrix.shape[1]):\n",
    "    if np.any(A_matrix[row] == 1) == False:\n",
    "        print (g_new[row])\n",
    "        missing.append(row)\n",
    "    "
   ]
  },
  {
   "cell_type": "code",
   "execution_count": null,
   "metadata": {},
   "outputs": [],
   "source": []
  },
  {
   "cell_type": "code",
   "execution_count": null,
   "metadata": {},
   "outputs": [
    {
     "data": {
      "text/plain": [
       "'anode electrode scrap'"
      ]
     },
     "execution_count": 234,
     "metadata": {},
     "output_type": "execute_result"
    }
   ],
   "source": [
    "g_new[16]\n"
   ]
  },
  {
   "cell_type": "code",
   "execution_count": null,
   "metadata": {},
   "outputs": [],
   "source": [
    "A_matrix = A_matrix.round(2)\n",
    "\n",
    "# scenarios:\n",
    "criticality_list = [\"Li\", \"P\", \"Mn\", \"Co\", \"Ni\"]\n",
    "elements = IndexTable.loc[\"Elements\", \"Classification\"].Items\n",
    "model = pyo.ConcreteModel(\"battery_design_model\")\n",
    "CF_essenz = ParameterDict[\"6_CR_ESSENZ_CF_elements\"].Values\n",
    "\n",
    "\n",
    "# Set battery pack to 1 unit:\n",
    "A_matrix[g_new.index(\"battery pack\"), 0 : len(segment_choice)] = 1\n",
    "\n",
    "\n",
    "# waste = IndexTable.loc['Waste', 'Classification'].Items\n",
    "goods = [good for good in g_new if good != \"battery production scrap\"]\n",
    "\n",
    "# final demand vector; 100000 battery pack:\n",
    "y = {x: 0 for x in g_new}\n",
    "y[\"battery pack\"] = 1\n",
    "model.y = pyo.Param(g_new, initialize=y, mutable=False)\n",
    "\n",
    "model.epsilon = pyo.Param(initialize=1000000, mutable=True)\n",
    "\n",
    "# Supply vector:\n",
    "model.x = pyo.Var(p_new, domain=pyo.NonNegativeReals)\n",
    "\n",
    "# Change battery production processes to integers (only 1 whole battery can be produced.. )\n",
    "for process in segment_choice:\n",
    "    model.x[process].domain = pyo.NonNegativeIntegers\n",
    "\n",
    "# Objective functions, written as variables for MOO:\n",
    "model.performance = pyo.Var()\n",
    "model.gwp = pyo.Var()\n",
    "\n",
    "model.criticality = pyo.Var()\n",
    "model.cost = pyo.Var()\n",
    "\n",
    "\n",
    "model.C_performance = pyo.Constraint(\n",
    "    expr=model.performance == sum(model.x[process] * performance_layer[p_new.index(process)] for process in p_new)\n",
    ")\n",
    "\n",
    "model.C_criticality = pyo.Constraint(\n",
    "    expr=model.criticality\n",
    "    == sum(model.x[process] * criticality_layer[p_new.index(process), element] for process in p_new for element in range(len(e)))\n",
    ")\n",
    "\n",
    "model.C_cost = pyo.Constraint(expr=model.cost == sum(model.x[process] * value_added_layer[p_new.index(process)] for process in p_new))\n",
    "model.C_gwp = pyo.Constraint(expr=model.gwp == sum(model.x[process] * emission_layer[p_new.index(process)] for process in p_new))\n",
    "\n",
    "model.O_gwp = pyo.Objective(expr=model.gwp, sense=pyo.minimize)\n",
    "model.O_cost = pyo.Objective(expr=model.cost, sense=pyo.minimize)\n",
    "\n",
    "model.O_performance = pyo.Objective(expr=model.performance, sense=pyo.maximize)\n",
    "model.O_criticality = pyo.Objective(expr=model.criticality, sense=pyo.minimize)\n",
    "\n",
    "# model.production_constraint = pyo.Constraint(expr=model[x]\n",
    "\n",
    "\n",
    "def material_balance(model, good):\n",
    "    \"\"\"Mass balance and demand constraint\"\"\"\n",
    "    mb = sum(model.x[process] * A_matrix[g_new.index(good), p_new.index(process)] for process in p_new) == model.y[good]\n",
    "    if mb is True:\n",
    "        return pyo.Constraint.Skip\n",
    "    return mb\n",
    "\n",
    "\n",
    "def material_balance_waste(model, waste):\n",
    "    \"\"\"Mass balance and demand constraint\"\"\"\n",
    "    mb = sum(model.x[process] * A_matrix[g_new.index(waste), p_new.index(process)] for process in p_new) >= model.y[waste]\n",
    "    if mb is True:\n",
    "        return pyo.Constraint.Skip\n",
    "    return mb\n",
    "\n",
    "\n",
    "model.material_balance = pyo.Constraint(goods, rule=material_balance)\n",
    "model.material_balance_waste = pyo.Constraint([\"battery production scrap\"], rule=material_balance_waste)\n",
    "\n",
    "size_constraint_segments = {\n",
    "    \"length\": {199: 1250, 322: 1700, 410: 1900, 459: 2000},\n",
    "    \"width\": {199: 1053, 322: 1200, 410: 1250, 459: 1300},\n",
    "    \"height\": {199: 160, 322: 160, 410: 160, 459: 160},\n",
    "}\n",
    "\n",
    "\n",
    "def pack_length_constraint(model, process, size_constraint=size_constraint_segments):\n",
    "    if process in D:\n",
    "        vehicle_range = int(bat_design_param_dct[process][\"Vehicle_range_km\"])\n",
    "        return model.x[process] * bat_design_param_dct[process][f\"pack_length\"] <= size_constraint[\"length\"][vehicle_range]\n",
    "    else:\n",
    "        return pyo.Constraint.Skip\n",
    "\n",
    "\n",
    "def pack_width_constraint(model, process, size_constraint=size_constraint_segments):\n",
    "    if process in D:\n",
    "        vehicle_range = int(bat_design_param_dct[process][\"Vehicle_range_km\"])\n",
    "        return model.x[process] * bat_design_param_dct[process][f\"pack_width\"] <= size_constraint[\"width\"][vehicle_range]\n",
    "    else:\n",
    "        return pyo.Constraint.Skip\n",
    "\n",
    "\n",
    "def pack_height_constraint(model, process, size_constraint=size_constraint_segments):\n",
    "    if process in D:\n",
    "        vehicle_range = int(bat_design_param_dct[process][\"Vehicle_range_km\"])\n",
    "        return model.x[process] * bat_design_param_dct[process][f\"pack_height\"] <= size_constraint[\"height\"][vehicle_range]\n",
    "    else:\n",
    "        return pyo.Constraint.Skip\n",
    "\n",
    "\n",
    "model.pack_length_constraint = pyo.Constraint(p_new, rule=pack_length_constraint)\n",
    "model.pack_width_constraint = pyo.Constraint(p_new, rule=pack_width_constraint)\n",
    "model.pack_height_constraint = pyo.Constraint(p_new, rule=pack_height_constraint)\n"
   ]
  },
  {
   "cell_type": "code",
   "execution_count": null,
   "metadata": {},
   "outputs": [
    {
     "name": "stdout",
     "output_type": "stream",
     "text": [
      "material_balance_waste : Size=1, Index=material_balance_waste_index, Active=True\n",
      "    Key                      : Lower : Body                                                      : Upper : Active\n",
      "    battery production scrap :   0.0 : 0.15*x[0] + 0.15*x[1] + 0.15*x[2] + 0.15*x[3] + 0.15*x[4] :  +Inf :   True\n"
     ]
    }
   ],
   "source": [
    "model.material_balance_waste.pprint()\n"
   ]
  },
  {
   "cell_type": "markdown",
   "metadata": {},
   "source": [
    "Iterate over objective functions:\n"
   ]
  },
  {
   "cell_type": "code",
   "execution_count": null,
   "metadata": {},
   "outputs": [
    {
     "data": {
      "text/plain": [
       "[<pyomo.core.base.objective.ScalarObjective at 0x22a08a6ecc0>,\n",
       " <pyomo.core.base.objective.ScalarObjective at 0x22a08a6ef40>,\n",
       " <pyomo.core.base.objective.ScalarObjective at 0x22a08a625e0>,\n",
       " <pyomo.core.base.objective.ScalarObjective at 0x22a08a62180>]"
      ]
     },
     "execution_count": 192,
     "metadata": {},
     "output_type": "execute_result"
    }
   ],
   "source": []
  },
  {
   "cell_type": "code",
   "execution_count": null,
   "metadata": {},
   "outputs": [
    {
     "name": "stdout",
     "output_type": "stream",
     "text": [
      "Solving O_gwp\n"
     ]
    },
    {
     "ename": "TypeError",
     "evalue": "'>' not supported between instances of 'NoneType' and 'int'",
     "output_type": "error",
     "traceback": [
      "\u001b[1;31m---------------------------------------------------------------------------\u001b[0m",
      "\u001b[1;31mTypeError\u001b[0m                                 Traceback (most recent call last)",
      "\u001b[1;32mc:\\Users\\Joris\\OneDrive - Newcastle University\\Python\\Projects\\Bat_Sust_Model\\Batt_Sust_Model\\example notebooks\\Example publication - integrated modelling\\publication_notebook.ipynb Cell 96'\u001b[0m in \u001b[0;36m<cell line: 49>\u001b[1;34m()\u001b[0m\n\u001b[0;32m     <a href='vscode-notebook-cell:/c%3A/Users/Joris/OneDrive%20-%20Newcastle%20University/Python/Projects/Bat_Sust_Model/Batt_Sust_Model/example%20notebooks/Example%20publication%20-%20integrated%20modelling/publication_notebook.ipynb#ch0000098?line=51'>52</a>\u001b[0m pyo\u001b[39m.\u001b[39mSolverFactory(\u001b[39m\"\u001b[39m\u001b[39mcplex\u001b[39m\u001b[39m\"\u001b[39m)\u001b[39m.\u001b[39msolve(model, logfile\u001b[39m=\u001b[39m\u001b[39m\"\u001b[39m\u001b[39msome_file_name.log\u001b[39m\u001b[39m\"\u001b[39m)\n\u001b[0;32m     <a href='vscode-notebook-cell:/c%3A/Users/Joris/OneDrive%20-%20Newcastle%20University/Python/Projects/Bat_Sust_Model/Batt_Sust_Model/example%20notebooks/Example%20publication%20-%20integrated%20modelling/publication_notebook.ipynb#ch0000098?line=52'>53</a>\u001b[0m \u001b[39mfor\u001b[39;00m process \u001b[39min\u001b[39;00m p_new:\n\u001b[1;32m---> <a href='vscode-notebook-cell:/c%3A/Users/Joris/OneDrive%20-%20Newcastle%20University/Python/Projects/Bat_Sust_Model/Batt_Sust_Model/example%20notebooks/Example%20publication%20-%20integrated%20modelling/publication_notebook.ipynb#ch0000098?line=53'>54</a>\u001b[0m     \u001b[39mif\u001b[39;00m model\u001b[39m.\u001b[39;49mx[process]\u001b[39m.\u001b[39;49mvalue \u001b[39m>\u001b[39;49m \u001b[39m0\u001b[39;49m \u001b[39mand\u001b[39;00m process \u001b[39min\u001b[39;00m segment_choice:\n\u001b[0;32m     <a href='vscode-notebook-cell:/c%3A/Users/Joris/OneDrive%20-%20Newcastle%20University/Python/Projects/Bat_Sust_Model/Batt_Sust_Model/example%20notebooks/Example%20publication%20-%20integrated%20modelling/publication_notebook.ipynb#ch0000098?line=54'>55</a>\u001b[0m         design \u001b[39m=\u001b[39m process\n\u001b[0;32m     <a href='vscode-notebook-cell:/c%3A/Users/Joris/OneDrive%20-%20Newcastle%20University/Python/Projects/Bat_Sust_Model/Batt_Sust_Model/example%20notebooks/Example%20publication%20-%20integrated%20modelling/publication_notebook.ipynb#ch0000098?line=56'>57</a>\u001b[0m df[objective\u001b[39m.\u001b[39mname] \u001b[39m=\u001b[39m [\n\u001b[0;32m     <a href='vscode-notebook-cell:/c%3A/Users/Joris/OneDrive%20-%20Newcastle%20University/Python/Projects/Bat_Sust_Model/Batt_Sust_Model/example%20notebooks/Example%20publication%20-%20integrated%20modelling/publication_notebook.ipynb#ch0000098?line=57'>58</a>\u001b[0m     \u001b[39mround\u001b[39m(pyo\u001b[39m.\u001b[39mvalue(model\u001b[39m.\u001b[39mcost), \u001b[39m2\u001b[39m),\n\u001b[0;32m     <a href='vscode-notebook-cell:/c%3A/Users/Joris/OneDrive%20-%20Newcastle%20University/Python/Projects/Bat_Sust_Model/Batt_Sust_Model/example%20notebooks/Example%20publication%20-%20integrated%20modelling/publication_notebook.ipynb#ch0000098?line=58'>59</a>\u001b[0m     \u001b[39mround\u001b[39m(pyo\u001b[39m.\u001b[39mvalue(model\u001b[39m.\u001b[39mgwp), \u001b[39m2\u001b[39m),\n\u001b[1;32m   (...)\u001b[0m\n\u001b[0;32m     <a href='vscode-notebook-cell:/c%3A/Users/Joris/OneDrive%20-%20Newcastle%20University/Python/Projects/Bat_Sust_Model/Batt_Sust_Model/example%20notebooks/Example%20publication%20-%20integrated%20modelling/publication_notebook.ipynb#ch0000098?line=73'>74</a>\u001b[0m     bat_design_param_dct[design][\u001b[39m\"\u001b[39m\u001b[39mnegative_foil_thickness\u001b[39m\u001b[39m\"\u001b[39m],\n\u001b[0;32m     <a href='vscode-notebook-cell:/c%3A/Users/Joris/OneDrive%20-%20Newcastle%20University/Python/Projects/Bat_Sust_Model/Batt_Sust_Model/example%20notebooks/Example%20publication%20-%20integrated%20modelling/publication_notebook.ipynb#ch0000098?line=74'>75</a>\u001b[0m ]\n",
      "\u001b[1;31mTypeError\u001b[0m: '>' not supported between instances of 'NoneType' and 'int'"
     ]
    }
   ],
   "source": [
    "# Get all objective functions\n",
    "objectives = [x for x in model.component_objects() if x.is_named_expression_type() == True]\n",
    "\n",
    "# deactivate all:\n",
    "[objective.deactivate() for objective in objectives]\n",
    "\n",
    "df = pd.DataFrame(\n",
    "    index=[\n",
    "        \"Cost\",\n",
    "        \"Carbon footprint\",\n",
    "        \"Performance\",\n",
    "        \"Criticality\",\n",
    "        \"Pack design\",\n",
    "        \"Pack weight\",\n",
    "        \"Vehicle weight\",\n",
    "        \"Pack capacity\",\n",
    "        \"Vehicle segment\",\n",
    "        \"Cathode chemistry\",\n",
    "        \"Graphite\",\n",
    "        \"Separator\",\n",
    "        \"Separator coating\",\n",
    "        \"Cell thickness\",\n",
    "        \"Silicon additive\",\n",
    "        \"Cathode foil\",\n",
    "        \"Anode foil\",\n",
    "    ]\n",
    ")\n",
    "df[\"Unit\"] = [\n",
    "    \"$\",\n",
    "    \"CO\\N{SUBSCRIPT TWO}-eq.\",\n",
    "    \"Wh kg\\N{SUPERSCRIPT ONE}\",\n",
    "    \"kg\",\n",
    "    \"Category\",\n",
    "    \"kg\",\n",
    "    \"kg\",\n",
    "    \"kWh\",\n",
    "    \"Segment\",\n",
    "    \"Category\",\n",
    "    \"Category\",\n",
    "    \"um\",\n",
    "    \"um\",\n",
    "    \"cm\",\n",
    "    \"wt%\",\n",
    "    \"um\",\n",
    "    \"um\",\n",
    "]\n",
    "\n",
    "# Iterate through all:\n",
    "for objective in objectives:\n",
    "    objective.activate()\n",
    "    print(f\"Solving {objective.name}\")\n",
    "    pyo.SolverFactory(\"cplex\").solve(model, logfile=\"some_file_name.log\")\n",
    "    for process in p_new:\n",
    "        if model.x[process].value > 0 and process in segment_choice:\n",
    "            design = process\n",
    "\n",
    "    df[objective.name] = [\n",
    "        round(pyo.value(model.cost), 2),\n",
    "        round(pyo.value(model.gwp), 2),\n",
    "        round(pyo.value(model.performance), 2),\n",
    "        round(pyo.value(model.criticality), 2),\n",
    "        design,\n",
    "        round(bat_design_param_dct[design][\"battery_system_weight\"], 1),\n",
    "        round(bat_design_param_dct[design][\"vehicle_weight\"], 0),\n",
    "        round(bat_design_param_dct[design][\"pack_energy_kWh\"], 3),\n",
    "        0,\n",
    "        bat_design_param_dct[design][\"electrode_pair\"],\n",
    "        bat_design_param_dct[design][\"graphite_type\"],\n",
    "        bat_design_param_dct[design][\"sep_foil_thickness\"],\n",
    "        bat_design_param_dct[design][\"sep_coat_thickness\"],\n",
    "        bat_design_param_dct[design][\"cell_thickness_target\"],\n",
    "        bat_design_param_dct[design][\"silicon_anode\"],\n",
    "        bat_design_param_dct[design][\"positive_foil_thickness\"],\n",
    "        bat_design_param_dct[design][\"negative_foil_thickness\"],\n",
    "    ]\n",
    "    objective.deactivate()\n",
    "\n",
    "df\n"
   ]
  },
  {
   "cell_type": "code",
   "execution_count": null,
   "metadata": {},
   "outputs": [],
   "source": []
  },
  {
   "cell_type": "markdown",
   "metadata": {},
   "source": [
    "## Epsilon constraint\n"
   ]
  },
  {
   "cell_type": "code",
   "execution_count": null,
   "metadata": {},
   "outputs": [],
   "source": [
    "try:\n",
    "    del model.eq2\n",
    "except:\n",
    "    pass\n",
    "obj_1 = model.cost\n",
    "obj_2 = model.performance\n",
    "\n",
    "model.eq2 = pyo.Constraint(expr=obj_1 <= model.epsilon)\n",
    "\n",
    "\n",
    "# Get all objective functions\n",
    "objectives = [x for x in model.component_objects() if x.is_named_expression_type() == True]\n",
    "\n",
    "# deactivate all:\n",
    "[objective.deactivate() for objective in objectives]\n",
    "\n",
    "\n",
    "model.O_cost.activate()\n",
    "\n",
    "solver = pyo.SolverFactory(\"cplex\")\n",
    "solver.solve(model)\n",
    "\n",
    "maxOF1 = pyo.value(obj_2)\n",
    "minOF2 = pyo.value(obj_1)\n",
    "print(\"optimizing for obj1:\")\n",
    "print(\"obj2 = \" + str(pyo.value(obj_2)))\n",
    "print(\"obj1 = \" + str(pyo.value(obj_1)))\n",
    "model.O_cost.deactivate()\n",
    "\n",
    "\n",
    "model.O_performance.activate()\n",
    "\n",
    "solver.solve(model)\n",
    "\n",
    "minOF1 = pyo.value(obj_2)\n",
    "maxOF2 = pyo.value(obj_1)\n",
    "print(\"optimizing for obj2:\")\n",
    "\n",
    "print(\"obj2 = \" + str(pyo.value(obj_2)))\n",
    "print(\"obj1 = \" + str(pyo.value(obj_1)))\n",
    "model.O_performance.deactivate()\n"
   ]
  },
  {
   "cell_type": "code",
   "execution_count": null,
   "metadata": {},
   "outputs": [],
   "source": [
    "model.O_performance.activate()\n",
    "\n",
    "Nsteps = 3\n",
    "X = []\n",
    "Y = []\n",
    "design_choice = []\n",
    "print(\"   OBJ1 \", \" OBJ2 \", \" Epsilon \")\n",
    "p_values = []\n",
    "for counter in range(1, Nsteps + 1):\n",
    "    model.epsilon = minOF2 + (maxOF2 - minOF2) * (counter - 1) / (Nsteps - 1)\n",
    "    results = solver.solve(model)  # solves and updates instance\n",
    "    design_choice = [design for design in p_new if model.x[design].value > 0]\n",
    "    print(\"%5.2f\" % pyo.value(obj_1), \"%5.2f\" % pyo.value(obj_2), \"%5.2f\" % pyo.value(model.epsilon), design_choice[0])\n",
    "    X.append(pyo.value(obj_1))\n",
    "    Y.append(pyo.value(obj_2))\n"
   ]
  },
  {
   "cell_type": "code",
   "execution_count": null,
   "metadata": {},
   "outputs": [],
   "source": []
  }
 ],
 "metadata": {
  "interpreter": {
   "hash": "77c91e305a9c01d42a3bb08617546cd4956a46f321cf51948e26a97943b52115"
  },
  "kernelspec": {
   "display_name": "Python 3.9.12 ('bw')",
   "language": "python",
   "name": "python3"
  },
  "language_info": {
   "codemirror_mode": {
    "name": "ipython",
    "version": 3
   },
   "file_extension": ".py",
   "mimetype": "text/x-python",
   "name": "python",
   "nbconvert_exporter": "python",
   "pygments_lexer": "ipython3",
   "version": "3.9.12"
  },
  "toc-autonumbering": true
 },
 "nbformat": 4,
 "nbformat_minor": 4
}
