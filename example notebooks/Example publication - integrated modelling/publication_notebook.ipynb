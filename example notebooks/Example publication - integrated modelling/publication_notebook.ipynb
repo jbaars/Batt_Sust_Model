{
 "cells": [
  {
   "cell_type": "markdown",
   "metadata": {},
   "source": [
    "Publication case study\n",
    "<font size=\"3\">_By Joris Baars, Newcastle University, UK, 2022_ (joris.baars@hotmail.com) <br>\n",
    "\n",
    "The following notebook was used to model the cost, carbon footprint, performance and material criticality of different battery designs. Multi-objective optimisation is used to identify optimal design. The model makes use of several open-source libraries as illustrated.\n",
    "\n",
    "    The results are published in:\n",
    "\n",
    "    ADD PUBLICATION\n",
    "\n",
    "<!--     Baars, Joris & Heidrich, Oliver  -->\n"
   ]
  },
  {
   "cell_type": "code",
   "execution_count": 1,
   "metadata": {},
   "outputs": [],
   "source": [
    "#Import all required packages\n",
    "import numpy as np\n",
    "import pandas as pd\n",
    "import matplotlib.pyplot as plt\n",
    "import logging as log\n",
    "import sys, os\n",
    "import copy\n",
    "import pyomo.environ as pyo\n",
    "import sys\n",
    "import openpyxl\n",
    "from tqdm import tqdm\n",
    "import pkg_resources\n",
    "\n",
    "%matplotlib inline"
   ]
  },
  {
   "cell_type": "markdown",
   "metadata": {},
   "source": [
    "The ODYM, battery cost and emission scripts need to be imported locally. The ODYM (Open Dynamic Material Systems Model) model is used to establish a general system and data structure and import all parameters. The latest ODYM version can be found here: https://github.com/IndEcol/ODYM\n"
   ]
  },
  {
   "cell_type": "code",
   "execution_count": 2,
   "metadata": {},
   "outputs": [],
   "source": [
    "# Local scripts\n",
    "# path to ODYM:\n",
    "sys.path.insert(\n",
    "    0,\n",
    "    os.path.join(\n",
    "        r\"C:\\Users\\Joris\\OneDrive - Newcastle University\\PhD\\Models\\battery_sustainability_model\\ME_battery_supply_chain\\Model\\ODYM\"\n",
    "    ),\n",
    ")\n",
    "import ODYM_Classes as msc\n",
    "import ODYM_Functions as msf\n",
    "\n",
    "# Path to battery cost and LCA:\n",
    "# Import the battery design module from a local path\n",
    "local_path = (\n",
    "    r\"C:\\Users\\Joris\\OneDrive - Newcastle University\\Python\\Projects\\Bat_Sust_Model\\Batt_Sust_Model\"  # ADD PATH\n",
    ")\n",
    "sys.path.insert(1, local_path)\n",
    "import batt_sust_model\n",
    "from batt_sust_model import battery_emissions as bat_lca\n",
    "from batt_sust_model import battery_cost as bat_cost\n",
    "\n",
    "# Logfile ODYM\n",
    "log_verbosity = eval(\"log.INFO\")\n",
    "log_filename = \"log_file.md\"\n",
    "[Mylog, console_log, file_log] = msf.function_logger(log_filename, os.getcwd(), log_verbosity, log_verbosity)\n",
    "\n",
    "\n",
    "# Local path to all case study parameter files:\n",
    "datapath = \".\"\n"
   ]
  },
  {
   "cell_type": "markdown",
   "metadata": {},
   "source": [
    "# Model setup: Initialization, classifications and local data import\n",
    "\n",
    "In the following block, the index table and parameter dictionary are established. This step is based on the first two steps of a ODYM model run (initialization and classification and data read). More details can be found [here](https://github.com/IndEcol/ODYM/wiki/The-ODYM-project-script) and a tutorial can be found [here](https://github.com/IndEcol/ODYM/blob/master/docs/ODYM%20Example%20and%20Tutorial%20No.%204.%20ODYM_Database.ipynb)\n",
    "\n",
    "## Read config and classification file\n",
    "\n",
    "In the first step, the model config (model_config.xlsx) and classification (model_classfication.xlsx) files are loaded\n"
   ]
  },
  {
   "cell_type": "code",
   "execution_count": 228,
   "metadata": {},
   "outputs": [
    {
     "name": "stderr",
     "output_type": "stream",
     "text": [
      "INFO (ODYM_Functions.py <ParseConfigFile>): Read parameter list from model config sheet.\n",
      "INFO (ODYM_Functions.py <ParseConfigFile>): Read process list from model config sheet.\n",
      "INFO (ODYM_Functions.py <ParseConfigFile>): Read model run control from model config sheet.\n",
      "INFO (ODYM_Functions.py <ParseConfigFile>): Read model output control from model config sheet.\n"
     ]
    }
   ],
   "source": [
    "# Read config file and sheet\n",
    "config_file = openpyxl.load_workbook(datapath + \"\\model_config.xlsx\", data_only=True)\n",
    "script_config = {\"Model Setting\": config_file[\"Cover\"][\"D4\"].value}\n",
    "config_sheet = config_file[\"Setting_\" + script_config[\"Model Setting\"]]\n",
    "project_name = config_sheet[\"D2\"].value\n",
    "ScriptConfig = msf.ParseModelControl(config_sheet, script_config)\n",
    "\n",
    "# Parse configfile\n",
    "(\n",
    "    IT_Aspects,\n",
    "    IT_Description,\n",
    "    IT_Dimension,\n",
    "    IT_Classification,\n",
    "    IT_Selector,\n",
    "    IT_IndexLetter,\n",
    "    PL_Names,\n",
    "    PL_Description,\n",
    "    PL_Version,\n",
    "    PL_IndexStructure,\n",
    "    PL_IndexMatch,\n",
    "    PL_IndexLayer,\n",
    "    PrL_Number,\n",
    "    PrL_Name,\n",
    "    PrL_Comment,\n",
    "    PrL_Type,\n",
    "    ScriptConfig,\n",
    ") = msf.ParseConfigFile(config_sheet, script_config, Mylog)\n",
    "\n",
    "# Load classification file and establish classification dictionary:\n",
    "Classfile = openpyxl.load_workbook(datapath + \"\\model_classification.xlsx\", data_only=True)\n",
    "Classsheet = Classfile[\"MAIN_Table\"]\n",
    "MasterClassification = msf.ParseClassificationFile_Main(Classsheet, Mylog)\n",
    "\n",
    "ModelClassification = {}  # Dict of model classifications\n",
    "for m in range(0, len(IT_Aspects)):\n",
    "    ModelClassification[IT_Aspects[m]] = copy.deepcopy(MasterClassification[IT_Classification[m]])\n",
    "    EvalString = msf.EvalItemSelectString(IT_Selector[m], len(ModelClassification[IT_Aspects[m]].Items))\n",
    "    if EvalString.find(\":\") > -1:  # range of items is taken\n",
    "        RangeStart = int(EvalString[0 : EvalString.find(\":\")])\n",
    "        RangeStop = int(EvalString[EvalString.find(\":\") + 1 : :])\n",
    "        ModelClassification[IT_Aspects[m]].Items = ModelClassification[IT_Aspects[m]].Items[RangeStart:RangeStop]\n",
    "    elif EvalString.find(\"[\") > -1:  # selected items are taken\n",
    "        ModelClassification[IT_Aspects[m]].Items = [\n",
    "            ModelClassification[IT_Aspects[m]].Items[i] for i in eval(EvalString)\n",
    "        ]\n",
    "    elif EvalString == \"all\":\n",
    "        None\n",
    "    else:\n",
    "        Mylog.info(\"ITEM SELECT ERROR for aspect \" + IT_Aspects[m] + \" were found in datafile.</br>\")\n",
    "        break\n"
   ]
  },
  {
   "cell_type": "markdown",
   "metadata": {
    "vscode": {
     "languageId": "plaintext"
    }
   },
   "source": [
    "## Establish index table\n",
    "\n",
    "Next the index table is established. Each row of the index table consist of the model aspect, a unique index letter and the classification.\n"
   ]
  },
  {
   "cell_type": "code",
   "execution_count": 229,
   "metadata": {},
   "outputs": [
    {
     "name": "stderr",
     "output_type": "stream",
     "text": [
      "INFO (1689171678.py <<cell line: 1>>): Define index table dataframe\n"
     ]
    },
    {
     "data": {
      "text/html": [
       "<div>\n",
       "<style scoped>\n",
       "    .dataframe tbody tr th:only-of-type {\n",
       "        vertical-align: middle;\n",
       "    }\n",
       "\n",
       "    .dataframe tbody tr th {\n",
       "        vertical-align: top;\n",
       "    }\n",
       "\n",
       "    .dataframe thead th {\n",
       "        text-align: right;\n",
       "    }\n",
       "</style>\n",
       "<table border=\"1\" class=\"dataframe\">\n",
       "  <thead>\n",
       "    <tr style=\"text-align: right;\">\n",
       "      <th></th>\n",
       "      <th>Description</th>\n",
       "      <th>Dimension</th>\n",
       "      <th>Classification</th>\n",
       "      <th>IndexLetter</th>\n",
       "      <th>IndexSize</th>\n",
       "    </tr>\n",
       "    <tr>\n",
       "      <th>Aspect</th>\n",
       "      <th></th>\n",
       "      <th></th>\n",
       "      <th></th>\n",
       "      <th></th>\n",
       "      <th></th>\n",
       "    </tr>\n",
       "  </thead>\n",
       "  <tbody>\n",
       "    <tr>\n",
       "      <th>Regions</th>\n",
       "      <td>Battery production locations in Europe</td>\n",
       "      <td>Region</td>\n",
       "      <td>&lt;ODYM_Classes.Classification object at 0x00000...</td>\n",
       "      <td>r</td>\n",
       "      <td>8</td>\n",
       "    </tr>\n",
       "    <tr>\n",
       "      <th>Process</th>\n",
       "      <td>All foreground processes</td>\n",
       "      <td>Process</td>\n",
       "      <td>&lt;ODYM_Classes.Classification object at 0x00000...</td>\n",
       "      <td>p</td>\n",
       "      <td>146</td>\n",
       "    </tr>\n",
       "    <tr>\n",
       "      <th>Bat_process</th>\n",
       "      <td>Battery manufacturing process</td>\n",
       "      <td>Process</td>\n",
       "      <td>&lt;ODYM_Classes.Classification object at 0x00000...</td>\n",
       "      <td>b</td>\n",
       "      <td>27</td>\n",
       "    </tr>\n",
       "    <tr>\n",
       "      <th>Goods</th>\n",
       "      <td>All foreground goods</td>\n",
       "      <td>Material</td>\n",
       "      <td>&lt;ODYM_Classes.Classification object at 0x00000...</td>\n",
       "      <td>g</td>\n",
       "      <td>132</td>\n",
       "    </tr>\n",
       "    <tr>\n",
       "      <th>Internal_goods</th>\n",
       "      <td>Goods flowing inside factory</td>\n",
       "      <td>Material</td>\n",
       "      <td>&lt;ODYM_Classes.Classification object at 0x00000...</td>\n",
       "      <td>i</td>\n",
       "      <td>15</td>\n",
       "    </tr>\n",
       "    <tr>\n",
       "      <th>Waste</th>\n",
       "      <td>Waste materials</td>\n",
       "      <td>Material</td>\n",
       "      <td>&lt;ODYM_Classes.Classification object at 0x00000...</td>\n",
       "      <td>w</td>\n",
       "      <td>12</td>\n",
       "    </tr>\n",
       "    <tr>\n",
       "      <th>Energy</th>\n",
       "      <td>Electricity and heat</td>\n",
       "      <td>Energy</td>\n",
       "      <td>&lt;ODYM_Classes.Classification object at 0x00000...</td>\n",
       "      <td>n</td>\n",
       "      <td>2</td>\n",
       "    </tr>\n",
       "    <tr>\n",
       "      <th>Elements</th>\n",
       "      <td>Chemical elements</td>\n",
       "      <td>Material</td>\n",
       "      <td>&lt;ODYM_Classes.Classification object at 0x00000...</td>\n",
       "      <td>e</td>\n",
       "      <td>11</td>\n",
       "    </tr>\n",
       "    <tr>\n",
       "      <th>Emissions</th>\n",
       "      <td>ReCiPe Midpoint (H) V1.13 no LT</td>\n",
       "      <td>Satellite</td>\n",
       "      <td>&lt;ODYM_Classes.Classification object at 0x00000...</td>\n",
       "      <td>h</td>\n",
       "      <td>17</td>\n",
       "    </tr>\n",
       "    <tr>\n",
       "      <th>Supply_risks</th>\n",
       "      <td>ESSENZ material supply risk</td>\n",
       "      <td>Satellite</td>\n",
       "      <td>&lt;ODYM_Classes.Classification object at 0x00000...</td>\n",
       "      <td>S</td>\n",
       "      <td>1</td>\n",
       "    </tr>\n",
       "    <tr>\n",
       "      <th>Factors</th>\n",
       "      <td>Primary production factors</td>\n",
       "      <td>Factors</td>\n",
       "      <td>&lt;ODYM_Classes.Classification object at 0x00000...</td>\n",
       "      <td>F</td>\n",
       "      <td>3</td>\n",
       "    </tr>\n",
       "    <tr>\n",
       "      <th>Technical_parameters</th>\n",
       "      <td>Technical battery design parameters</td>\n",
       "      <td>Parameter</td>\n",
       "      <td>&lt;ODYM_Classes.Classification object at 0x00000...</td>\n",
       "      <td>P</td>\n",
       "      <td>79</td>\n",
       "    </tr>\n",
       "    <tr>\n",
       "      <th>Battery_designs</th>\n",
       "      <td>Unique number for all pack designs</td>\n",
       "      <td>Parameter</td>\n",
       "      <td>&lt;ODYM_Classes.Classification object at 0x00000...</td>\n",
       "      <td>D</td>\n",
       "      <td>20736</td>\n",
       "    </tr>\n",
       "    <tr>\n",
       "      <th>Pack_design_choices</th>\n",
       "      <td>Battery pack design choices, input to BatPaC</td>\n",
       "      <td>Parameter</td>\n",
       "      <td>&lt;ODYM_Classes.Classification object at 0x00000...</td>\n",
       "      <td>c</td>\n",
       "      <td>51</td>\n",
       "    </tr>\n",
       "    <tr>\n",
       "      <th>Yield_scenario</th>\n",
       "      <td>Process yield scenario</td>\n",
       "      <td>Scenario</td>\n",
       "      <td>&lt;ODYM_Classes.Classification object at 0x00000...</td>\n",
       "      <td>y</td>\n",
       "      <td>2</td>\n",
       "    </tr>\n",
       "    <tr>\n",
       "      <th>Process_parameter</th>\n",
       "      <td>Process yield parameters for battery manufactu...</td>\n",
       "      <td>Parameter</td>\n",
       "      <td>&lt;ODYM_Classes.Classification object at 0x00000...</td>\n",
       "      <td>o</td>\n",
       "      <td>30</td>\n",
       "    </tr>\n",
       "    <tr>\n",
       "      <th>Sensitivity_analysis</th>\n",
       "      <td>Material price scenario (high, average, low)</td>\n",
       "      <td>Scenario</td>\n",
       "      <td>&lt;ODYM_Classes.Classification object at 0x00000...</td>\n",
       "      <td>A</td>\n",
       "      <td>3</td>\n",
       "    </tr>\n",
       "    <tr>\n",
       "      <th>Energy_scenario</th>\n",
       "      <td>Energy consumption scenario (high, average, low)</td>\n",
       "      <td>Scenario</td>\n",
       "      <td>&lt;ODYM_Classes.Classification object at 0x00000...</td>\n",
       "      <td>G</td>\n",
       "      <td>3</td>\n",
       "    </tr>\n",
       "  </tbody>\n",
       "</table>\n",
       "</div>"
      ],
      "text/plain": [
       "                                                            Description  \\\n",
       "Aspect                                                                    \n",
       "Regions                          Battery production locations in Europe   \n",
       "Process                                        All foreground processes   \n",
       "Bat_process                               Battery manufacturing process   \n",
       "Goods                                              All foreground goods   \n",
       "Internal_goods                             Goods flowing inside factory   \n",
       "Waste                                                   Waste materials   \n",
       "Energy                                            Electricity and heat    \n",
       "Elements                                              Chemical elements   \n",
       "Emissions                               ReCiPe Midpoint (H) V1.13 no LT   \n",
       "Supply_risks                                ESSENZ material supply risk   \n",
       "Factors                                      Primary production factors   \n",
       "Technical_parameters                Technical battery design parameters   \n",
       "Battery_designs                      Unique number for all pack designs   \n",
       "Pack_design_choices        Battery pack design choices, input to BatPaC   \n",
       "Yield_scenario                                   Process yield scenario   \n",
       "Process_parameter     Process yield parameters for battery manufactu...   \n",
       "Sensitivity_analysis       Material price scenario (high, average, low)   \n",
       "Energy_scenario        Energy consumption scenario (high, average, low)   \n",
       "\n",
       "                      Dimension  \\\n",
       "Aspect                            \n",
       "Regions                  Region   \n",
       "Process                 Process   \n",
       "Bat_process             Process   \n",
       "Goods                  Material   \n",
       "Internal_goods         Material   \n",
       "Waste                  Material   \n",
       "Energy                   Energy   \n",
       "Elements               Material   \n",
       "Emissions             Satellite   \n",
       "Supply_risks          Satellite   \n",
       "Factors                 Factors   \n",
       "Technical_parameters  Parameter   \n",
       "Battery_designs       Parameter   \n",
       "Pack_design_choices   Parameter   \n",
       "Yield_scenario         Scenario   \n",
       "Process_parameter     Parameter   \n",
       "Sensitivity_analysis   Scenario   \n",
       "Energy_scenario        Scenario   \n",
       "\n",
       "                                                         Classification  \\\n",
       "Aspect                                                                    \n",
       "Regions               <ODYM_Classes.Classification object at 0x00000...   \n",
       "Process               <ODYM_Classes.Classification object at 0x00000...   \n",
       "Bat_process           <ODYM_Classes.Classification object at 0x00000...   \n",
       "Goods                 <ODYM_Classes.Classification object at 0x00000...   \n",
       "Internal_goods        <ODYM_Classes.Classification object at 0x00000...   \n",
       "Waste                 <ODYM_Classes.Classification object at 0x00000...   \n",
       "Energy                <ODYM_Classes.Classification object at 0x00000...   \n",
       "Elements              <ODYM_Classes.Classification object at 0x00000...   \n",
       "Emissions             <ODYM_Classes.Classification object at 0x00000...   \n",
       "Supply_risks          <ODYM_Classes.Classification object at 0x00000...   \n",
       "Factors               <ODYM_Classes.Classification object at 0x00000...   \n",
       "Technical_parameters  <ODYM_Classes.Classification object at 0x00000...   \n",
       "Battery_designs       <ODYM_Classes.Classification object at 0x00000...   \n",
       "Pack_design_choices   <ODYM_Classes.Classification object at 0x00000...   \n",
       "Yield_scenario        <ODYM_Classes.Classification object at 0x00000...   \n",
       "Process_parameter     <ODYM_Classes.Classification object at 0x00000...   \n",
       "Sensitivity_analysis  <ODYM_Classes.Classification object at 0x00000...   \n",
       "Energy_scenario       <ODYM_Classes.Classification object at 0x00000...   \n",
       "\n",
       "                     IndexLetter  IndexSize  \n",
       "Aspect                                       \n",
       "Regions                        r          8  \n",
       "Process                        p        146  \n",
       "Bat_process                    b         27  \n",
       "Goods                          g        132  \n",
       "Internal_goods                 i         15  \n",
       "Waste                          w         12  \n",
       "Energy                         n          2  \n",
       "Elements                       e         11  \n",
       "Emissions                      h         17  \n",
       "Supply_risks                   S          1  \n",
       "Factors                        F          3  \n",
       "Technical_parameters           P         79  \n",
       "Battery_designs                D      20736  \n",
       "Pack_design_choices            c         51  \n",
       "Yield_scenario                 y          2  \n",
       "Process_parameter              o         30  \n",
       "Sensitivity_analysis           A          3  \n",
       "Energy_scenario                G          3  "
      ]
     },
     "execution_count": 229,
     "metadata": {},
     "output_type": "execute_result"
    }
   ],
   "source": [
    "Mylog.info(\"Define index table dataframe\")\n",
    "IndexTable = pd.DataFrame(\n",
    "    {\n",
    "        \"Aspect\": IT_Aspects,  # 'Time' and 'Element' must be present!\n",
    "        \"Description\": IT_Description,\n",
    "        \"Dimension\": IT_Dimension,\n",
    "        \"Classification\": [ModelClassification[Aspect] for Aspect in IT_Aspects],\n",
    "        \"IndexLetter\": IT_IndexLetter,\n",
    "    }\n",
    ")  # Unique one letter (upper or lower case) indices to be used later for calculations.\n",
    "\n",
    "# Default indexing of IndexTable, other indices are produced on the fly\n",
    "IndexTable.set_index(\"Aspect\", inplace=True)\n",
    "\n",
    "# Add indexSize to IndexTable:\n",
    "IndexTable[\"IndexSize\"] = pd.Series(\n",
    "    [len(IndexTable.Classification[i].Items) for i in range(0, len(IndexTable.IndexLetter))],\n",
    "    index=IndexTable.index,\n",
    ")\n",
    "\n",
    "# list of the classifications used for each indexletter\n",
    "IndexTable_ClassificationNames = [IndexTable.Classification[i].Name for i in range(0, len(IndexTable.IndexLetter))]\n",
    "\n",
    "IndexTable\n"
   ]
  },
  {
   "cell_type": "markdown",
   "metadata": {
    "vscode": {
     "languageId": "plaintext"
    }
   },
   "source": [
    "The index table makes it easy to access the model classification items and assures that the order of the item lists is consistent throughout the model.<br><br> The classification items of the aspect **region** for example can be easily accessed:\n"
   ]
  },
  {
   "cell_type": "code",
   "execution_count": 5,
   "metadata": {},
   "outputs": [
    {
     "data": {
      "text/plain": [
       "['FR', 'DE', 'HU', 'NO', 'PL', 'SE', 'GB', 'European average']"
      ]
     },
     "execution_count": 5,
     "metadata": {},
     "output_type": "execute_result"
    }
   ],
   "source": [
    "IndexTable.loc[\"Regions\", \"Classification\"].Items\n"
   ]
  },
  {
   "cell_type": "code",
   "execution_count": 230,
   "metadata": {},
   "outputs": [],
   "source": [
    "# Index shortcuts:\n",
    "r = IndexTable.loc[\"Regions\", \"Classification\"].Items\n",
    "p = IndexTable.loc[\"Process\", \"Classification\"].Items\n",
    "g = IndexTable.loc[\"Goods\", \"Classification\"].Items\n",
    "D = IndexTable.loc[\"Battery_designs\", \"Classification\"].Items\n",
    "P = IndexTable.loc[\"Technical_parameters\", \"Classification\"].Items\n",
    "bp = IndexTable.loc[\"Bat_process\", \"Classification\"].Items\n",
    "h = IndexTable.loc[\"Emissions\", \"Classification\"].Items\n",
    "f = IndexTable.loc[\"Factors\", \"Classification\"].Items\n",
    "e = IndexTable.loc[\"Elements\", \"Classification\"].Items\n",
    "p_electricity = [x for x in p if \"market group for electricity battery production, medium voltage\" in x]\n",
    "p_gas = [x for x in p if \"market group for heat, district or industrial, natural gas\" in x]\n"
   ]
  },
  {
   "cell_type": "markdown",
   "metadata": {},
   "source": [
    "## Load model parameters\n",
    "\n",
    "Next, all model datasets are imported. All datasets are stored in Excel files using the [ODYM data file template](https://github.com/IndEcol/ODYM/wiki/Data-templates) and stored as Numpy arrays in the parameter dictionary. The following data sets are imported:\n",
    "\n",
    "| Dataset name               | Description                                                                      |\n",
    "| :------------------------- | :------------------------------------------------------------------------------- |\n",
    "| 3_PR_factor_price          | Production factor price per unit                                                 |\n",
    "| 3_PR_material_price_unit   | External material price per unit                                                 |\n",
    "| 3_PR_material_price_mass   | External material price per mass of material in US dollar                        |\n",
    "| 3_PR_mineral_price         | Mineral prices and scenarios                                                     |\n",
    "| 3_PR_regional_energy_price | Regional electricity and gas price                                               |\n",
    "| 3_MC_materials_pack_design | Material content of battery design                                               |\n",
    "| 3_MC_element_goods         | Chemical elements in battery materials                                           |\n",
    "| 3_PAR_battery_parameters   | Technical pararameters and Brightway Project Parameters for all battery designs  |\n",
    "| 4_PY_battery_manufacturing | Battery process yield parameters for each scenario                               |\n",
    "| 4_UPI_foreground_base      | Rectangular foreground good-process matrix of first battery design (base system) |\n",
    "| 4_PE_modules_base          | Gate-to-gate emissions of base system modules                                    |\n",
    "| 4_PE_sensitivity_materials | High and low GWP values for material extraction for senstivity analysis          |\n",
    "| 4_PAR_energy_consumption   | Battery electricity consumption parameters for each scenario                     |\n",
    "| 6_CR_ESSENZ_CF_elements    | ESSENZ supply risks characterisation factors for all considered elements         |\n"
   ]
  },
  {
   "cell_type": "code",
   "execution_count": 233,
   "metadata": {},
   "outputs": [
    {
     "name": "stderr",
     "output_type": "stream",
     "text": [
      "INFO (4205885410.py <<cell line: 1>>): Reading data files into ParameterDict\n",
      "INFO (4205885410.py <<cell line: 5>>): Reading parameter 3_PR_factor_price\n",
      "INFO (ODYM_Functions.py <ReadParameterXLSX>): A total of 93 values was read from file for parameter 3_PR_factor_price.\n",
      "INFO (ODYM_Functions.py <ReadParameterXLSX>): 24.0 of 24 values for parameter 3_PR_factor_price were assigned.\n",
      "INFO (4205885410.py <<cell line: 5>>): _\n",
      "INFO (4205885410.py <<cell line: 5>>): Reading parameter 3_PR_material_price_unit\n",
      "INFO (ODYM_Functions.py <ReadParameterXLSX>): A total of 23 values was read from file for parameter 3_PR_material_price_unit.\n",
      "INFO (ODYM_Functions.py <ReadParameterXLSX>): 23.0 of 10428 values for parameter 3_PR_material_price_unit were assigned.\n",
      "INFO (4205885410.py <<cell line: 5>>): _\n",
      "INFO (4205885410.py <<cell line: 5>>): Reading parameter 3_PR_material_price_mass\n",
      "INFO (ODYM_Functions.py <ReadParameterXLSX>): A total of 67 values was read from file for parameter 3_PR_material_price_mass.\n",
      "INFO (ODYM_Functions.py <ReadParameterXLSX>): 67.0 of 132 values for parameter 3_PR_material_price_mass were assigned.\n",
      "INFO (4205885410.py <<cell line: 5>>): _\n",
      "INFO (4205885410.py <<cell line: 5>>): Reading parameter 3_PR_mineral_price\n",
      "INFO (ODYM_Functions.py <ReadParameterXLSX>): A total of 44 values was read from file for parameter 3_PR_mineral_price.\n",
      "INFO (ODYM_Functions.py <ReadParameterXLSX>): 30.0 of 33 values for parameter 3_PR_mineral_price were assigned.\n",
      "INFO (4205885410.py <<cell line: 5>>): _\n",
      "INFO (4205885410.py <<cell line: 5>>): Reading parameter 3_PR_regional_energy_price\n",
      "INFO (ODYM_Functions.py <ReadParameterXLSX>): A total of 93 values was read from file for parameter 3_PR_regional_energy_price.\n",
      "INFO (ODYM_Functions.py <ReadParameterXLSX>): 16.0 of 16 values for parameter 3_PR_regional_energy_price were assigned.\n",
      "INFO (4205885410.py <<cell line: 5>>): _\n",
      "INFO (4205885410.py <<cell line: 5>>): Reading parameter 3_MC_materials_pack_design\n",
      "INFO (ODYM_Functions.py <ReadParameterXLSX>): A total of 2115072 values was read from file for parameter 3_MC_materials_pack_design.\n",
      "INFO (ODYM_Functions.py <ReadParameterXLSX>): 1534464.0 of 2737152 values for parameter 3_MC_materials_pack_design were assigned.\n",
      "INFO (4205885410.py <<cell line: 5>>): _\n",
      "INFO (4205885410.py <<cell line: 5>>): Reading parameter 3_MC_element_goods\n",
      "INFO (ODYM_Functions.py <ReadParameterXLSX>): A total of 168 values was read from file for parameter 3_MC_element_goods.\n",
      "INFO (ODYM_Functions.py <ReadParameterXLSX>): 68.0 of 1452 values for parameter 3_MC_element_goods were assigned.\n",
      "INFO (4205885410.py <<cell line: 5>>): _\n",
      "INFO (4205885410.py <<cell line: 5>>): Reading parameter 3_PAR_battery_parameters\n",
      "INFO (4205885410.py <<cell line: 5>>): 3_PAR_battery_parameters includes strings\n",
      "INFO (ODYM_Functions.py <ReadParameterXLSX>): A total of 1617408 values was read from file for parameter 3_PAR_battery_parameters.\n",
      "INFO (ODYM_Functions.py <ReadParameterXLSX>): 1617408.0 of 1638144 values for parameter 3_PAR_battery_parameters were assigned.\n",
      "INFO (4205885410.py <<cell line: 5>>): _\n",
      "INFO (4205885410.py <<cell line: 5>>): Reading parameter 4_PY_battery_manufacturing\n",
      "INFO (ODYM_Functions.py <ReadParameterXLSX>): A total of 20 values was read from file for parameter 4_PY_battery_manufacturing.\n",
      "INFO (ODYM_Functions.py <ReadParameterXLSX>): 20.0 of 60 values for parameter 4_PY_battery_manufacturing were assigned.\n",
      "INFO (4205885410.py <<cell line: 5>>): _\n",
      "INFO (4205885410.py <<cell line: 5>>): Reading parameter 4_UPI_foreground_base\n",
      "INFO (ODYM_Functions.py <ReadParameterXLSX>): A total of 17907 values was read from file for parameter 4_UPI_foreground_base.\n",
      "INFO (ODYM_Functions.py <ReadParameterXLSX>): 17907.0 of 19272 values for parameter 4_UPI_foreground_base were assigned.\n",
      "INFO (4205885410.py <<cell line: 5>>): _\n",
      "INFO (4205885410.py <<cell line: 5>>): Reading parameter 4_PE_modules_base\n",
      "INFO (ODYM_Functions.py <ReadParameterXLSX>): A total of 2628 values was read from file for parameter 4_PE_modules_base.\n",
      "INFO (ODYM_Functions.py <ReadParameterXLSX>): 2482.0 of 2482 values for parameter 4_PE_modules_base were assigned.\n",
      "INFO (4205885410.py <<cell line: 5>>): _\n",
      "INFO (4205885410.py <<cell line: 5>>): Reading parameter 4_PE_sensitivity_materials\n",
      "INFO (ODYM_Functions.py <ReadParameterXLSX>): A total of 22 values was read from file for parameter 4_PE_sensitivity_materials.\n",
      "INFO (ODYM_Functions.py <ReadParameterXLSX>): 22.0 of 438 values for parameter 4_PE_sensitivity_materials were assigned.\n",
      "INFO (4205885410.py <<cell line: 5>>): _\n",
      "INFO (4205885410.py <<cell line: 5>>): Reading parameter 4_PAR_energy_consumption\n",
      "INFO (ODYM_Functions.py <ReadParameterXLSX>): A total of 80 values was read from file for parameter 4_PAR_energy_consumption.\n",
      "INFO (ODYM_Functions.py <ReadParameterXLSX>): 57.0 of 90 values for parameter 4_PAR_energy_consumption were assigned.\n",
      "INFO (4205885410.py <<cell line: 5>>): _\n",
      "INFO (4205885410.py <<cell line: 5>>): Reading parameter 6_CR_ESSENZ_CF_elements\n",
      "INFO (ODYM_Functions.py <ReadParameterXLSX>): A total of 10 values was read from file for parameter 6_CR_ESSENZ_CF_elements.\n",
      "INFO (ODYM_Functions.py <ReadParameterXLSX>): 10.0 of 11 values for parameter 6_CR_ESSENZ_CF_elements were assigned.\n",
      "INFO (4205885410.py <<cell line: 5>>): _\n",
      "INFO (4205885410.py <<cell line: 67>>): Reading of parameters finished.\n"
     ]
    },
    {
     "name": "stdout",
     "output_type": "stream",
     "text": [
      "ParameterDict loaded {'3_PR_factor_price': <ODYM_Classes.Parameter object at 0x000001C854807C70>, '3_PR_material_price_unit': <ODYM_Classes.Parameter object at 0x000001C81F3349A0>, '3_PR_material_price_mass': <ODYM_Classes.Parameter object at 0x000001C854807B50>, '3_PR_mineral_price': <ODYM_Classes.Parameter object at 0x000001C830954EE0>, '3_PR_regional_energy_price': <ODYM_Classes.Parameter object at 0x000001C854E38700>, '3_MC_materials_pack_design': <ODYM_Classes.Parameter object at 0x000001C84D1DFE50>, '3_MC_element_goods': <ODYM_Classes.Parameter object at 0x000001C858043880>, '3_PAR_battery_parameters': <ODYM_Classes.Parameter object at 0x000001C89ED0B340>, '4_PY_battery_manufacturing': <ODYM_Classes.Parameter object at 0x000001C89ED0B370>, '4_UPI_foreground_base': <ODYM_Classes.Parameter object at 0x000001C8196BA1C0>, '4_PE_modules_base': <ODYM_Classes.Parameter object at 0x000001C855651820>, '4_PE_sensitivity_materials': <ODYM_Classes.Parameter object at 0x000001C8580439A0>, '4_PAR_energy_consumption': <ODYM_Classes.Parameter object at 0x000001C8520A7FD0>, '6_CR_ESSENZ_CF_elements': <ODYM_Classes.Parameter object at 0x000001C80026D160>}\n"
     ]
    }
   ],
   "source": [
    "Mylog.info(\"Reading data files into ParameterDict\")\n",
    "\n",
    "ParameterDict = {}\n",
    "mo_start = 0  # set mo for re-reading a certain parameter\n",
    "for mo in range(mo_start, len(PL_Names)):\n",
    "    # print (PL_Names[mo] )\n",
    "    try:\n",
    "        ParPath = os.path.join(datapath + \"\\Data\\ODYM_database\", PL_Names[mo] + \"_\" + PL_Version[mo])\n",
    "        Mylog.info(\"Reading parameter \" + PL_Names[mo])\n",
    "        # Do not change order of parameters handed over to function!\n",
    "        MetaData, Values = msf.ReadParameterXLSX(\n",
    "            ParPath,\n",
    "            PL_Names[mo],\n",
    "            PL_IndexStructure[mo],\n",
    "            PL_IndexMatch[mo],\n",
    "            PL_IndexLayer[mo],\n",
    "            MasterClassification,\n",
    "            IndexTable,\n",
    "            IndexTable_ClassificationNames,\n",
    "            ScriptConfig,\n",
    "            Mylog,\n",
    "            False,\n",
    "        )\n",
    "        ParameterDict[PL_Names[mo]] = msc.Parameter(\n",
    "            Name=MetaData[\"Dataset_Name\"],\n",
    "            ID=MetaData[\"Dataset_ID\"],\n",
    "            UUID=MetaData[\"Dataset_UUID\"],\n",
    "            P_Res=None,\n",
    "            MetaData=MetaData,\n",
    "            Indices=PL_IndexStructure[mo],\n",
    "            Values=Values,\n",
    "            Uncert=None,\n",
    "            Unit=MetaData[\"Dataset_Unit\"],\n",
    "        )\n",
    "\n",
    "    except ValueError:\n",
    "        PL_Names[mo]\n",
    "        Mylog.info(f\"{PL_Names[mo]} includes strings\")\n",
    "        MetaData, Values = msf.ReadParameterXLSX(\n",
    "            ParPath,\n",
    "            PL_Names[mo],\n",
    "            PL_IndexStructure[mo],\n",
    "            PL_IndexMatch[mo],\n",
    "            PL_IndexLayer[mo],\n",
    "            MasterClassification,\n",
    "            IndexTable,\n",
    "            IndexTable_ClassificationNames,\n",
    "            ScriptConfig,\n",
    "            Mylog,\n",
    "            False,\n",
    "            string_data=True,\n",
    "        )  # Add string_data is True to include string dtype in np array.\n",
    "        ParameterDict[PL_Names[mo]] = msc.Parameter(\n",
    "            Name=MetaData[\"Dataset_Name\"],\n",
    "            ID=MetaData[\"Dataset_ID\"],\n",
    "            UUID=MetaData[\"Dataset_UUID\"],\n",
    "            P_Res=None,\n",
    "            MetaData=MetaData,\n",
    "            Indices=PL_IndexStructure[mo],\n",
    "            Values=Values,\n",
    "            Uncert=None,\n",
    "            Unit=MetaData[\"Dataset_Unit\"],\n",
    "        )\n",
    "\n",
    "    #     Mylog.info('Current parameter file UUID: ' + MetaData['Dataset_UUID'])\n",
    "    Mylog.info(\"_\")\n",
    "Mylog.info(\"Reading of parameters finished.\")\n",
    "print(\"ParameterDict loaded\", ParameterDict)\n"
   ]
  },
  {
   "cell_type": "code",
   "execution_count": 242,
   "metadata": {},
   "outputs": [],
   "source": [
    "# Parameter shortcuts:\n",
    "# dataframe of A default matrix:\n",
    "df_A_base = pd.DataFrame(data=ParameterDict[\"4_UPI_foreground_base\"].Values, index=g, columns=p)\n",
    "# np array of default gate-to-gate emission modules\n",
    "H_base = ParameterDict[\"4_PE_modules_base\"].Values\n",
    "# np array of battery design parameters\n",
    "bat_design_param = ParameterDict[\"3_PAR_battery_parameters\"].Values\n",
    "# np array of battery design material content\n",
    "mc_battery_designs = ParameterDict[\"3_MC_materials_pack_design\"].Values\n",
    "\n",
    "\n",
    "# material content and battery design dictionary shortcut:\n",
    "mc_battery_design_dct = pd.DataFrame(data=mc_battery_designs.T, index=g, columns=D).to_dict()\n",
    "bat_design_param_dct = pd.DataFrame(data=bat_design_param.T, index=P, columns=D).to_dict()\n"
   ]
  },
  {
   "cell_type": "markdown",
   "metadata": {},
   "source": [
    "The battery design parameters (3_PAR and 3_MC) are precalculated with the battery_design.py script. A total of 5,184 battery design options for four vehicle segments are included. <br><br>This includes for example the calculated vehicle, glider, battery and cathode active material weight:\n"
   ]
  },
  {
   "cell_type": "code",
   "execution_count": 226,
   "metadata": {},
   "outputs": [],
   "source": [
    "par_df.to_csv(r\"C:\\Users\\Joris\\OneDrive - Newcastle University\\Python\\Projects\\Bat_Sust_Model\\Batt_Sust_Model\\example notebooks\\Example publication - integrated modelling\\data\\ODYM_database\\3_PAR_battery_parameters_v2.csv\")"
   ]
  },
  {
   "cell_type": "code",
   "execution_count": 9,
   "metadata": {},
   "outputs": [
    {
     "data": {
      "image/png": "[encoded data removed]",
      "text/plain": [
       "<Figure size 1080x216 with 4 Axes>"
      ]
     },
     "metadata": {
      "needs_background": "light"
     },
     "output_type": "display_data"
    }
   ],
   "source": [
    "# Battery designs for each segment were calculated iteratively with the battery_design.py module\n",
    "segments = {\n",
    "    \"Compact\": range(0, int(len(D) / 4)),\n",
    "    \"Small\": range(int(len(D) / 4), int(len(D) / 4) * 2),\n",
    "    \"Medium\": range(int(len(D) / 4) * 2, int(len(D) / 4) * 3),\n",
    "    \"Large\": range(int(len(D) / 4) * 3, int(len(D) / 4) * 4),\n",
    "}\n",
    "\n",
    "\n",
    "fig, ax = plt.subplots(1, 4, figsize=(15, 3))\n",
    "vehicle_weight = {}\n",
    "glider_weight = {}\n",
    "battery_weight = {}\n",
    "cam_weight = {}\n",
    "\n",
    "for k, v in segments.items():\n",
    "    vehicle_weight[k] = [bat_design_param_dct[x][\"vehicle_weight\"] for x in v]\n",
    "    glider_weight[k] = [bat_design_param_dct[x][\"glider_weight\"] for x in v]\n",
    "    battery_weight[k] = [bat_design_param_dct[x][\"battery_system_weight\"] for x in v]\n",
    "    cam_weight[k] = [\n",
    "        bat_design_param_dct[x][\"positive_am_per_cell\"] * bat_design_param_dct[x][\"cells_per_pack\"] / 1000 for x in v\n",
    "    ]\n",
    "\n",
    "ax[0].violinplot(vehicle_weight.values())\n",
    "ax[0].set_title(\"Vehicle weight\", fontsize=14)\n",
    "ax[1].violinplot(glider_weight.values())\n",
    "ax[1].set_title(\"Glider weight\", fontsize=14)\n",
    "ax[2].violinplot(battery_weight.values())\n",
    "ax[2].set_title(\"Battery weight\", fontsize=14)\n",
    "ax[3].violinplot(cam_weight.values())\n",
    "ax[3].set_title(\"Cathode material weight\", fontsize=14)\n",
    "\n",
    "\n",
    "for i, x in enumerate(ax.flatten()):\n",
    "    x.yaxis.grid(True, linestyle=\"--\", lw=0.6)\n",
    "    x.set_xticks([y + 1 for y in range(len(segments.keys()))])\n",
    "    x.set_xticklabels(segments.keys(), fontsize=11)\n",
    "    x.set_ylabel(\"kilogram\", fontsize=12)\n",
    "fig.tight_layout()\n"
   ]
  },
  {
   "cell_type": "markdown",
   "metadata": {},
   "source": [
    "Or energy densities:\n"
   ]
  },
  {
   "cell_type": "code",
   "execution_count": 10,
   "metadata": {},
   "outputs": [
    {
     "data": {
      "image/png": "[encoded data removed]",
      "text/plain": [
       "<Figure size 864x216 with 4 Axes>"
      ]
     },
     "metadata": {
      "needs_background": "light"
     },
     "output_type": "display_data"
    }
   ],
   "source": [
    "gr_density = {}\n",
    "vol_density = {}\n",
    "\n",
    "\n",
    "fig, ax = plt.subplots(1, 4, figsize=(12, 3), sharey=True, sharex=True)\n",
    "\n",
    "\n",
    "for i, k in enumerate(segments.keys()):\n",
    "\n",
    "    gr_density[k] = [\n",
    "        bat_design_param_dct[x][\"pack_usable_energy_kWh\"] / bat_design_param_dct[x][\"battery_system_weight\"] * 1000\n",
    "        for x in segments[k]\n",
    "    ]\n",
    "    vol_density[k] = [\n",
    "        bat_design_param_dct[x][\"pack_usable_energy_kWh\"] / bat_design_param_dct[x][\"system_volume\"] * 1000\n",
    "        for x in segments[k]\n",
    "    ]\n",
    "\n",
    "    ax[i].scatter(gr_density[k], vol_density[k], alpha=0.04)\n",
    "    ax[i].set_title(k)\n",
    "    ax[i].set_xlabel(r\"Gravimetric density (Wh kg$^{-1}$)\", fontsize=10)\n",
    "    ax[i].yaxis.grid(\n",
    "        True,\n",
    "        linestyle=\"--\",\n",
    "        lw=0.6,\n",
    "    )\n",
    "    ax[i].xaxis.grid(\n",
    "        True,\n",
    "        linestyle=\"--\",\n",
    "        lw=0.6,\n",
    "    )\n",
    "ax[0].set_ylabel(r\"Volumetric density (Wh L$^{-1}$)\", fontsize=10)\n",
    "fig.tight_layout()\n"
   ]
  },
  {
   "cell_type": "markdown",
   "metadata": {},
   "source": [
    "# Battery design\n",
    "\n",
    "The battery weight and required battery energy are based on a desired vehicle range and segment specific vehicle characteristics, using the following key parameters:\n",
    "\n",
    "| parameter              | unit          | Compact | Small  | Medium | Large |\n",
    "| ---------------------- | ------------- | ------- | ------ | ------ | ----- |\n",
    "| rolling resistance     | N             | 101.86  | 110.59 | 136    | 209.4 |\n",
    "| rotation resistance    | N/(m/s)       | 3.42    | -1.99  | 3.73   | 2.59  |\n",
    "| aerodynamic resistance | N/(m/s)$^{2}$ | 0.37    | 0.46   | 0.41   | 0.47  |\n",
    "| distance               | km            | 200     | 322    | 411    | 460   |\n",
    "| auxiliary power        | W             | 475     | 575    | 715    | 775   |\n",
    "| motor power            | kW            | 55      | 150    | 150    | 209   |\n",
    "\n",
    "<br>\n",
    "<br>\n",
    "Comparing the modelled results with real values in terms of electricity consumption based on 2020 vehicle registration data from the European Environmental Agency:\n"
   ]
  },
  {
   "cell_type": "code",
   "execution_count": 11,
   "metadata": {},
   "outputs": [
    {
     "data": {
      "image/png": "[encoded data removed]",
      "text/plain": [
       "<Figure size 360x216 with 1 Axes>"
      ]
     },
     "metadata": {
      "needs_background": "light"
     },
     "output_type": "display_data"
    }
   ],
   "source": [
    "# Import prepared BEV registration data from the European Environmental Agency:\n",
    "eea_2020 = pd.read_csv(\".\\data\\\\result_comparison\\EEA_BEV_2020.gzip\", compression=\"gzip\", low_memory=False)\n",
    "ener_cons_eea = eea_2020[\"z (Wh/km)\"]\n",
    "veh_mass = eea_2020[\"m (kg)\"]\n",
    "\n",
    "# Calculate vehicle electricity consumption from modelled data:\n",
    "vehicle_weight = [bat_design_param_dct[x][\"vehicle_weight\"] for x in D]\n",
    "ener_cons_modelled = [\n",
    "    bat_design_param_dct[x][\"pack_usable_energy_kWh\"] / bat_design_param_dct[x][\"Vehicle_range_km\"] * 1000 for x in D\n",
    "]\n",
    "\n",
    "fig, ax = plt.subplots(1, 1, figsize=(5, 3))\n",
    "ax.scatter(veh_mass, ener_cons_eea, color=\"black\", s=10, alpha=0.3, label=\"EEA WLTP data\")\n",
    "ax.scatter(vehicle_weight, ener_cons_modelled, color=\"r\", s=15, alpha=0.03, label=\"Modelled\")\n",
    "\n",
    "ax.set_ylabel(r\"Electricity consumption (Wh km$^{-1}$)\")\n",
    "ax.set_xlabel(\"Vehicle weight (kg)\")\n",
    "ax.set_title(\"Modelled vs. real electricity consumption (WLTP)\")\n",
    "ax.xaxis.grid(\n",
    "    True,\n",
    "    linestyle=\"--\",\n",
    "    lw=0.6,\n",
    ")\n",
    "ax.yaxis.grid(\n",
    "    True,\n",
    "    linestyle=\"--\",\n",
    "    lw=0.6,\n",
    ")\n"
   ]
  },
  {
   "cell_type": "markdown",
   "metadata": {},
   "source": [
    "And comparing the modelled result with real battery weights based on vehicles registered in 2017 and 2020 obtaind from a variety of sources:\n"
   ]
  },
  {
   "cell_type": "code",
   "execution_count": 12,
   "metadata": {},
   "outputs": [
    {
     "data": {
      "text/html": [
       "<div>\n",
       "<style scoped>\n",
       "    .dataframe tbody tr th:only-of-type {\n",
       "        vertical-align: middle;\n",
       "    }\n",
       "\n",
       "    .dataframe tbody tr th {\n",
       "        vertical-align: top;\n",
       "    }\n",
       "\n",
       "    .dataframe thead th {\n",
       "        text-align: right;\n",
       "    }\n",
       "</style>\n",
       "<table border=\"1\" class=\"dataframe\">\n",
       "  <thead>\n",
       "    <tr style=\"text-align: right;\">\n",
       "      <th></th>\n",
       "      <th>Make</th>\n",
       "      <th>Model</th>\n",
       "      <th>Capacity</th>\n",
       "      <th>battery weight</th>\n",
       "      <th>Segment</th>\n",
       "      <th>vehicle weight</th>\n",
       "      <th>energy density</th>\n",
       "      <th>year</th>\n",
       "      <th>Unnamed: 8</th>\n",
       "    </tr>\n",
       "  </thead>\n",
       "  <tbody>\n",
       "    <tr>\n",
       "      <th>0</th>\n",
       "      <td>Opel</td>\n",
       "      <td>Ampera-E</td>\n",
       "      <td>57.0</td>\n",
       "      <td>407</td>\n",
       "      <td>B</td>\n",
       "      <td>1691</td>\n",
       "      <td>0.140049</td>\n",
       "      <td>2017</td>\n",
       "      <td>NaN</td>\n",
       "    </tr>\n",
       "    <tr>\n",
       "      <th>1</th>\n",
       "      <td>Opel</td>\n",
       "      <td>Ampera-E (2020)</td>\n",
       "      <td>68.0</td>\n",
       "      <td>430</td>\n",
       "      <td>B</td>\n",
       "      <td>1691</td>\n",
       "      <td>0.158140</td>\n",
       "      <td>2020</td>\n",
       "      <td>NaN</td>\n",
       "    </tr>\n",
       "    <tr>\n",
       "      <th>2</th>\n",
       "      <td>Citroen</td>\n",
       "      <td>C-Zero</td>\n",
       "      <td>14.5</td>\n",
       "      <td>132</td>\n",
       "      <td>A</td>\n",
       "      <td>1140</td>\n",
       "      <td>0.109848</td>\n",
       "      <td>2017</td>\n",
       "      <td>NaN</td>\n",
       "    </tr>\n",
       "    <tr>\n",
       "      <th>3</th>\n",
       "      <td>Peugeot</td>\n",
       "      <td>E-208</td>\n",
       "      <td>50.0</td>\n",
       "      <td>356</td>\n",
       "      <td>B</td>\n",
       "      <td>1530</td>\n",
       "      <td>0.140449</td>\n",
       "      <td>2020</td>\n",
       "      <td>NaN</td>\n",
       "    </tr>\n",
       "    <tr>\n",
       "      <th>4</th>\n",
       "      <td>VW</td>\n",
       "      <td>E-golf</td>\n",
       "      <td>35.8</td>\n",
       "      <td>344</td>\n",
       "      <td>C</td>\n",
       "      <td>1585</td>\n",
       "      <td>0.104070</td>\n",
       "      <td>2017</td>\n",
       "      <td>NaN</td>\n",
       "    </tr>\n",
       "  </tbody>\n",
       "</table>\n",
       "</div>"
      ],
      "text/plain": [
       "      Make            Model  Capacity  battery weight Segment  vehicle weight  \\\n",
       "0     Opel         Ampera-E      57.0             407       B            1691   \n",
       "1     Opel  Ampera-E (2020)      68.0             430       B            1691   \n",
       "2  Citroen           C-Zero      14.5             132       A            1140   \n",
       "3  Peugeot            E-208      50.0             356       B            1530   \n",
       "4       VW           E-golf      35.8             344       C            1585   \n",
       "\n",
       "   energy density  year Unnamed: 8  \n",
       "0        0.140049  2017        NaN  \n",
       "1        0.158140  2020        NaN  \n",
       "2        0.109848  2017        NaN  \n",
       "3        0.140449  2020        NaN  \n",
       "4        0.104070  2017        NaN  "
      ]
     },
     "execution_count": 12,
     "metadata": {},
     "output_type": "execute_result"
    }
   ],
   "source": [
    "# import battery weight data:\n",
    "battery_wt_real = pd.read_excel(\".\\data\\\\result_comparison\\pack_weight_2017_2020.xlsx\", sheet_name=\"values\")\n",
    "battery_wt_real.head()\n"
   ]
  },
  {
   "cell_type": "code",
   "execution_count": 13,
   "metadata": {},
   "outputs": [
    {
     "data": {
      "image/png": "[encoded data removed]",
      "text/plain": [
       "<Figure size 360x216 with 1 Axes>"
      ]
     },
     "metadata": {
      "needs_background": "light"
     },
     "output_type": "display_data"
    }
   ],
   "source": [
    "import string\n",
    "\n",
    "fig, ax = plt.subplots(1, 1, figsize=(5, 3))\n",
    "\n",
    "density_usable = {}\n",
    "density_nominal = {}\n",
    "for i, k in enumerate(segments.keys()):\n",
    "\n",
    "    density_usable[k] = [\n",
    "        bat_design_param_dct[x][\"pack_usable_energy_kWh\"] / bat_design_param_dct[x][\"battery_system_weight\"] * 1000\n",
    "        for x in segments[k]\n",
    "    ]\n",
    "ax.boxplot(density_usable.values())\n",
    "for index, row in battery_wt_real.iterrows():\n",
    "\n",
    "    x = string.ascii_lowercase.index(row[\"Segment\"].lower())\n",
    "    y = row[\"energy density\"] * 1000\n",
    "    if row[\"year\"] == 2017:\n",
    "        label = \"2017 models\"\n",
    "        color = \"k\"\n",
    "    else:\n",
    "        label = \"2020 models\"\n",
    "        color = \"y\"\n",
    "    ax.scatter(x + 1, y, color=color, label=label)\n",
    "ax.set_xticklabels({\"Compact\", \"Small\", \"Medium\", \"Large\"})\n",
    "handles, labels = ax.get_legend_handles_labels()\n",
    "lgd = dict(zip(labels, handles))\n",
    "ax.legend(\n",
    "    lgd.values(),\n",
    "    lgd.keys(),\n",
    "    fontsize=10,\n",
    "    markerscale=1,\n",
    "    loc=\"upper left\",\n",
    ")\n",
    "ax.set_ylabel(r\"Gravimetric density (Wh kg$^{-1}$)\")\n",
    "ax.set_title(r\"Modelled vs. real pack level density\")\n"
   ]
  },
  {
   "cell_type": "markdown",
   "metadata": {},
   "source": [
    "The figure illustrates how battery density has improved over the year.<br> For example, based on the [EPA emissions testing application](https://dis.epa.gov/otaqpub/publist1.jsp), the VW E-golf in 2017 had a density of 103 wh/kg (36 kWh and battery weight 349 kg) as compared to 166 Wh/kg for the VW ID.4 (82 kWh and battery weight of 493).\n"
   ]
  },
  {
   "cell_type": "markdown",
   "metadata": {},
   "source": [
    "# Calculate foreground battery production system\n",
    "\n",
    "Due to the size constraints of Excel, the foreground matrix ($\\bf{A}$) is not imported from the database but instead calculated. <br>\n",
    "\n",
    "The calculation is based on process formula and parameters and established in Brightway\n"
   ]
  },
  {
   "cell_type": "code",
   "execution_count": 15,
   "metadata": {},
   "outputs": [
    {
     "data": {
      "text/plain": [
       "{'py_am_mixing': 0.99,\n",
       " 'py_cell_aging': 0.95,\n",
       " 'py_electrode_stacking': 0.99,\n",
       " 'py_electrolyte_filling': 0.94,\n",
       " 'py_foil_coating': 0.99,\n",
       " 'py_foil_slitting': 0.92,\n",
       " 'py_nmp_recovery': 0.995,\n",
       " 'py_separator_stacking': 0.98,\n",
       " 'py_slurry_coating': 0.95,\n",
       " 'py_slurry_slitting': 0.99,\n",
       " 'battery_manufacturing_capacity': 0.0,\n",
       " 'electricity_consumption_assembly': 0.115,\n",
       " 'electricity_consumption_mixing': 0.014989104034554055,\n",
       " 'electricity_consumption_coating_drying': 0.10590494894554918,\n",
       " 'electricity_consumption_calendering': 0.06752443570376325,\n",
       " 'electricity_consumption_slitting': 0.02030769591234337,\n",
       " 'electricity_consumption_final_drying': 0.007182882670973216,\n",
       " 'electricity_consumption_stacking': 0.027745903390636758,\n",
       " 'electricity_consumption_cell_assembly': 0.41652482447233097,\n",
       " 'electricity_consumption_formation': 9.541107320499409,\n",
       " 'electricity_consumption_material_handling': 0.20851930225039206,\n",
       " 'electricity_consumption_dryroom': 0.1747882386510639,\n",
       " 'heat_consumption_coating_drying': 4.263083816938753,\n",
       " 'heat_consumption_final_drying': 0.7279515674296513,\n",
       " 'heat_consumption_formation': 0.26560201717858084,\n",
       " 'heat_consumption_dryroom': 3.827600385567709,\n",
       " 'cathode_mixing_ratio_electricity': 0.65,\n",
       " 'cathode_coating_drying_mixing_ratio': 0.76,\n",
       " 'cathode_calendering_ratio': 0.5,\n",
       " 'cathode_slitting_ratio': 0.5}"
      ]
     },
     "execution_count": 15,
     "metadata": {},
     "output_type": "execute_result"
    }
   ],
   "source": [
    "# Selecting process yield and energy consumption scenarios:\n",
    "\n",
    "# energy\n",
    "process_parameters = {\n",
    "    param: process_yield\n",
    "    for param, process_yield in zip(\n",
    "        IndexTable.loc[\"Process_parameter\", \"Classification\"].Items,\n",
    "        ParameterDict[\"4_PY_battery_manufacturing\"].Values[:, 0],  # default scenario is 0\n",
    "    )\n",
    "}\n",
    "# energy consumption\n",
    "process_parameters.update(\n",
    "    {\n",
    "        param: energy_consumption\n",
    "        for param, energy_consumption in zip(\n",
    "            IndexTable.loc[\"Process_parameter\", \"Classification\"].Items,\n",
    "            ParameterDict[\"4_PAR_energy_consumption\"].Values[:, 1],  # default scenario is 1\n",
    "        )\n",
    "        if energy_consumption > 0\n",
    "    }\n",
    ")\n",
    "process_parameters\n",
    "\n",
    "\n",
    "# Import other default project parameters as used in Brightway\n",
    "data_path_model = pkg_resources.resource_filename(\"batt_sust_model\", \"data/\")\n",
    "\n",
    "\n",
    "default_parameters = (\n",
    "    pd.read_excel(data_path_model + \"bw_default_project_parameters.xlsx\", index_col=0).fillna(0).T.to_dict()\n",
    ")\n"
   ]
  },
  {
   "cell_type": "markdown",
   "metadata": {},
   "source": [
    "The foreground matrix for each battery design is calculated based on the defined process parameters and battery design parameters as solved with BatPaC. <br>\n"
   ]
  },
  {
   "cell_type": "code",
   "execution_count": 243,
   "metadata": {},
   "outputs": [
    {
     "name": "stderr",
     "output_type": "stream",
     "text": [
      "100%|██████████| 20736/20736 [02:36<00:00, 132.20it/s]\n"
     ]
    }
   ],
   "source": [
    "# Empty np array of size all pack design * materials * processes\n",
    "A_matrix_nested = np.zeros((len(D), len(g), len(p)))\n",
    "\n",
    "A_base = df_A_base.copy(deep=True)\n",
    "\n",
    "\n",
    "# dictionary of the battery design parameters for all designs in non-alphanumeric parameters\n",
    "param_dict_all = {}\n",
    "\n",
    "# iterate over all pack designs and solve the process formulas based on specific pack parameters and process formulas:\n",
    "for design in tqdm(D):\n",
    "    param_dict_all[design] = bat_lca.parameter_dictionary(\n",
    "        mc_battery_design_dct[design],\n",
    "        process_parameters,\n",
    "        bat_design_param_dct[design],\n",
    "        default_parameters,\n",
    "    )\n",
    "    A_matrix_temp = bat_lca.calculate_modular_A(A_base, param_dict_all[design])\n",
    "\n",
    "    A_matrix_nested[design] = A_matrix_temp\n"
   ]
  },
  {
   "cell_type": "markdown",
   "metadata": {},
   "source": [
    "The result is a multi-dimensional numpy array containing all process input and outputs for all battery designs\n"
   ]
  },
  {
   "cell_type": "markdown",
   "metadata": {},
   "source": [
    "Using the ODYM index table the material flows for each battery design can be easy obtained. <br> <br>\n",
    "For example, all electricity input for the production of battery design #30 can be obtained as follow:\n"
   ]
  },
  {
   "cell_type": "code",
   "execution_count": 20,
   "metadata": {},
   "outputs": [
    {
     "data": {
      "text/html": [
       "<div>\n",
       "<style scoped>\n",
       "    .dataframe tbody tr th:only-of-type {\n",
       "        vertical-align: middle;\n",
       "    }\n",
       "\n",
       "    .dataframe tbody tr th {\n",
       "        vertical-align: top;\n",
       "    }\n",
       "\n",
       "    .dataframe thead th {\n",
       "        text-align: right;\n",
       "    }\n",
       "</style>\n",
       "<table border=\"1\" class=\"dataframe\">\n",
       "  <thead>\n",
       "    <tr style=\"text-align: right;\">\n",
       "      <th></th>\n",
       "      <th>mixing anode materials</th>\n",
       "      <th>final electrode drying</th>\n",
       "      <th>cathode slitting</th>\n",
       "      <th>anode slitting</th>\n",
       "      <th>mixing cathode materials</th>\n",
       "      <th>anode coating and drying</th>\n",
       "      <th>cell stacking</th>\n",
       "      <th>cathode calendering</th>\n",
       "      <th>anode calendering</th>\n",
       "      <th>cathode coating and drying</th>\n",
       "      <th>electrolyte filling and sealing</th>\n",
       "      <th>module and pack assembly</th>\n",
       "      <th>cell formation</th>\n",
       "    </tr>\n",
       "  </thead>\n",
       "  <tbody>\n",
       "    <tr>\n",
       "      <th>Electricity input (kWh/pack)</th>\n",
       "      <td>0.8</td>\n",
       "      <td>1.09</td>\n",
       "      <td>1.39</td>\n",
       "      <td>1.39</td>\n",
       "      <td>1.48</td>\n",
       "      <td>3.86</td>\n",
       "      <td>4.22</td>\n",
       "      <td>5.13</td>\n",
       "      <td>5.13</td>\n",
       "      <td>12.24</td>\n",
       "      <td>87.3</td>\n",
       "      <td>89.07</td>\n",
       "      <td>236.02</td>\n",
       "    </tr>\n",
       "  </tbody>\n",
       "</table>\n",
       "</div>"
      ],
      "text/plain": [
       "                              mixing anode materials  final electrode drying  \\\n",
       "Electricity input (kWh/pack)                     0.8                    1.09   \n",
       "\n",
       "                              cathode slitting  anode slitting  \\\n",
       "Electricity input (kWh/pack)              1.39            1.39   \n",
       "\n",
       "                              mixing cathode materials  \\\n",
       "Electricity input (kWh/pack)                      1.48   \n",
       "\n",
       "                              anode coating and drying  cell stacking  \\\n",
       "Electricity input (kWh/pack)                      3.86           4.22   \n",
       "\n",
       "                              cathode calendering  anode calendering  \\\n",
       "Electricity input (kWh/pack)                 5.13               5.13   \n",
       "\n",
       "                              cathode coating and drying  \\\n",
       "Electricity input (kWh/pack)                       12.24   \n",
       "\n",
       "                              electrolyte filling and sealing  \\\n",
       "Electricity input (kWh/pack)                             87.3   \n",
       "\n",
       "                              module and pack assembly  cell formation  \n",
       "Electricity input (kWh/pack)                     89.07          236.02  "
      ]
     },
     "execution_count": 20,
     "metadata": {},
     "output_type": "execute_result"
    }
   ],
   "source": [
    "electr_np = A_matrix_nested[\n",
    "    30, g.index(\"electricity for battery production, medium voltage\"), [p.index(process) for process in bp]\n",
    "]\n",
    "df_electr = pd.DataFrame(electr_np, index=bp, columns=[\"Electricity input (kWh/pack)\"]).abs()\n",
    "df_electr[df_electr > 0].dropna().T.round(2).sort_values(by=\"Electricity input (kWh/pack)\", axis=1)\n"
   ]
  },
  {
   "cell_type": "markdown",
   "metadata": {},
   "source": [
    "# Calculate satellite accounts\n",
    "\n",
    "Now all related satellite accounts can be calculated.\n"
   ]
  },
  {
   "cell_type": "markdown",
   "metadata": {},
   "source": [
    "## Carbon footprint layer ($\\mathbf{h}$)\n"
   ]
  },
  {
   "cell_type": "markdown",
   "metadata": {},
   "source": [
    "The carbon footprint layer refers to all life cycle carbon emissions and is calculated based on the modular LCA approach (Steubing et al., 2016). The total environmental impact ($h$) can be obtained by multiplying the pre-calculated process emissions ($\\mathbf{h_{base}}$) with the scaling vector ($\\mathbf{s}$) :\n",
    "\n",
    "$$h = \\mathbf{h_{base}}\\times \\mathbf{s}$$\n",
    "\n",
    "To calculate the impacts of all battery designs, the scaling vector is obtained with the matrix based LCA calculation (Heijungs & Suh, 2002):\n",
    "\n",
    "$$\\mathbf{s} = \\mathbf{A}^{-1}\\mathbf{f}$$\n",
    "\n",
    "The carbon footprint for all battery designs is calculated as follow:\n"
   ]
  },
  {
   "cell_type": "code",
   "execution_count": 35,
   "metadata": {},
   "outputs": [
    {
     "name": "stderr",
     "output_type": "stream",
     "text": [
      "100%|██████████| 20736/20736 [01:26<00:00, 239.75it/s]\n"
     ]
    }
   ],
   "source": [
    "# First, the relevant production needs to be selected to asssure the A and h matrices are square\n",
    "country = \"European average\"\n",
    "\n",
    "electricity_choice = f\"market group for electricity battery production, medium voltage, {country}\"\n",
    "gas_choice = f\"market group for heat, district or industrial, natural gas, {country}\"\n",
    "\n",
    "process_selection = []\n",
    "\n",
    "for x in p:\n",
    "    if x == electricity_choice:\n",
    "        process_selection.append(p.index(x))\n",
    "    elif x == gas_choice:\n",
    "        process_selection.append(p.index(x))\n",
    "    elif x in p_electricity or x in p_gas:\n",
    "        continue\n",
    "    else:\n",
    "        process_selection.append(p.index(x))\n",
    "\n",
    "# The imported modular h base contains all ReCiPe impact indictors, in this study we only select GWP\n",
    "impact_cat = 2  # GWP100\n",
    "# Empty nested np array where the first element refers to all battery designs and the second to the process emissions\n",
    "H_nested_square = np.zeros([len(D), len(process_selection)])\n",
    "\n",
    "# Calculate process emissions for each battery design using the formulas described above:\n",
    "for design in tqdm(D):\n",
    "    # specific pack weight as function unit:\n",
    "    fu = A_matrix_nested[design, g.index(\"battery pack\"), p.index(\"module and pack assembly\")]\n",
    "    # Inverse the A matrix:\n",
    "    A_inv = np.linalg.pinv(A_matrix_nested[design, :, process_selection].T)\n",
    "    # Establish final product demand vector for 1 battery based on pack weight\n",
    "    y = np.zeros(len(g))\n",
    "    y[g.index(\"battery pack\")] = fu\n",
    "    # Obtain the scaling vector\n",
    "    s = A_inv.dot(y)\n",
    "    # Multiply scaling vector by modular base emission vector\n",
    "    H_nested_square[design, :] = s * H_base[impact_cat, process_selection]\n"
   ]
  },
  {
   "cell_type": "code",
   "execution_count": 36,
   "metadata": {},
   "outputs": [
    {
     "data": {
      "text/plain": [
       "<matplotlib.legend.Legend at 0x1c810de29d0>"
      ]
     },
     "execution_count": 36,
     "metadata": {},
     "output_type": "execute_result"
    },
    {
     "data": {
      "image/png": "[encoded data removed]",
      "text/plain": [
       "<Figure size 432x288 with 1 Axes>"
      ]
     },
     "metadata": {
      "needs_background": "light"
     },
     "output_type": "display_data"
    }
   ],
   "source": [
    "colour = []\n",
    "colour_dict = {\n",
    "    \"LFP-G (Energy)\": \"tab:blue\",\n",
    "    \"LMO-G (Energy)\": \"tab:orange\",\n",
    "    \"NCA-G (Energy)\": \"tab:green\",\n",
    "    \"NMC333-G (Energy)\": \"tab:red\",\n",
    "    \"NMC532-G (Energy)\": \"tab:purple\",\n",
    "    \"NMC622-G (Energy)\": \"tab:brown\",\n",
    "    \"NMC811-G (Energy)\": \"tab:pink\",\n",
    "    \"50%/50% NMC532/LMO - G\": \"tab:gray\",\n",
    "}\n",
    "\n",
    "cathode_by_design = {x: bat_design_param_dct[x][\"electrode_pair\"] for x in D}\n",
    "all_cathode_chemistries = set(cathode_by_design.values())\n",
    "emissions_all = {x: H_nested_square[x, :].sum() / bat_design_param_dct[x][\"pack_energy_kWh\"] for x in D}\n",
    "density = {\n",
    "    x: bat_design_param_dct[x][\"pack_usable_energy_kWh\"] / bat_design_param_dct[x][\"battery_system_weight\"] * 1000\n",
    "    for x in D\n",
    "}\n",
    "\n",
    "for design in cathode_by_design.keys():\n",
    "    colour_code = colour_dict[cathode_by_design[design]]\n",
    "    colour.append(colour_code)\n",
    "\n",
    "energy_con = {}\n",
    "\n",
    "dict_y_values = {}\n",
    "fig, ax = plt.subplots()\n",
    "\n",
    "for cathode, c in colour_dict.items():\n",
    "    dict_y_values[cathode] = [emissions_all[i] for i in cathode_by_design.keys() if cathode_by_design[i] == cathode]\n",
    "    # ax.boxplot(y)\n",
    "    y = [emissions_all[i] for i in cathode_by_design.keys() if cathode_by_design[i] == cathode]\n",
    "    x = [density[i] for i in cathode_by_design.keys() if cathode_by_design[i] == cathode]\n",
    "    ax.scatter(x, y, c=c, s=5, label=cathode, alpha=0.3)\n",
    "plt.legend(bbox_to_anchor=(1.05, 1), loc=\"upper left\", markerscale=2)\n"
   ]
  },
  {
   "cell_type": "code",
   "execution_count": 37,
   "metadata": {},
   "outputs": [
    {
     "data": {
      "text/plain": [
       "([<matplotlib.axis.XTick at 0x1c810e305b0>,\n",
       "  <matplotlib.axis.XTick at 0x1c810e30430>,\n",
       "  <matplotlib.axis.XTick at 0x1c810e81250>,\n",
       "  <matplotlib.axis.XTick at 0x1c810f86a60>,\n",
       "  <matplotlib.axis.XTick at 0x1c810f9a490>,\n",
       "  <matplotlib.axis.XTick at 0x1c810f9ac10>,\n",
       "  <matplotlib.axis.XTick at 0x1c810fae520>,\n",
       "  <matplotlib.axis.XTick at 0x1c810faebb0>],\n",
       " [Text(1, 0, 'LFP-G (Energy)'),\n",
       "  Text(2, 0, 'LMO-G (Energy)'),\n",
       "  Text(3, 0, 'NCA-G (Energy)'),\n",
       "  Text(4, 0, 'NMC333-G (Energy)'),\n",
       "  Text(5, 0, 'NMC532-G (Energy)'),\n",
       "  Text(6, 0, 'NMC622-G (Energy)'),\n",
       "  Text(7, 0, 'NMC811-G (Energy)'),\n",
       "  Text(8, 0, '50%/50% NMC532/LMO - G')])"
      ]
     },
     "execution_count": 37,
     "metadata": {},
     "output_type": "execute_result"
    },
    {
     "data": {
      "image/png": "[encoded data removed]",
      "text/plain": [
       "<Figure size 432x288 with 1 Axes>"
      ]
     },
     "metadata": {
      "needs_background": "light"
     },
     "output_type": "display_data"
    }
   ],
   "source": [
    "plt.boxplot(dict_y_values.values())\n",
    "plt.xticks(range(1, 9), list(dict_y_values.keys()), rotation=90)\n"
   ]
  },
  {
   "cell_type": "markdown",
   "metadata": {},
   "source": [
    "## Value added layer ($\\mathbf{v}$)\n",
    "\n",
    "The value added layer is calculated in two steps: the factor and material cost. <br>\n",
    "\n",
    "### Battery production factor cost ($\\mathbf{F}$)\n",
    "\n",
    "First, the value added for battery production ($\\mathbf{b}_{bat}$) is calculated based on the primary production factor requirements, including building/land, labour and capital requirement. This is calculated based on the physical factor matrix ($\\mathbf{F}$) and a vector of factor cost ($\\mathbf{\\pi}$) as described by Duchin and Levin (2011):\n",
    "$$\\mathbf{v}_{bat}= \\mathbf{F}_{bat}\\mathbf{\\pi}$$\n",
    "\n",
    "The battery production process factor requirement is calculated with the battery_cost.py script and the \"factors_battery_production\" formula. The underlying calculations are based on BatPaC and account for different factory sizes\n"
   ]
  },
  {
   "cell_type": "code",
   "execution_count": 137,
   "metadata": {},
   "outputs": [
    {
     "data": {
      "text/plain": [
       "<module 'batt_sust_model.battery_cost' from 'C:\\\\Users\\\\Joris\\\\OneDrive - Newcastle University\\\\Python\\\\Projects\\\\Bat_Sust_Model\\\\Batt_Sust_Model\\\\batt_sust_model\\\\battery_cost.py'>"
      ]
     },
     "execution_count": 137,
     "metadata": {},
     "output_type": "execute_result"
    }
   ],
   "source": [
    "import importlib\n",
    "\n",
    "importlib.reload(bat_cost)\n"
   ]
  },
  {
   "cell_type": "markdown",
   "metadata": {},
   "source": [
    "The \"baseline_factors\" for example refer to the factor requirements for all battery production processes of the default factory set-up in BatPaC:\n"
   ]
  },
  {
   "cell_type": "code",
   "execution_count": 244,
   "metadata": {},
   "outputs": [
    {
     "name": "stderr",
     "output_type": "stream",
     "text": [
      "100%|██████████| 20736/20736 [03:46<00:00, 91.37it/s] \n"
     ]
    },
    {
     "data": {
      "text/plain": [
       "(20736, 3, 17)"
      ]
     },
     "execution_count": 244,
     "metadata": {},
     "output_type": "execute_result"
    }
   ],
   "source": [
    "# Default BatPaC capacity of 500,000 packs per year is used:\n",
    "manufacturing_capacity = 500000\n",
    "\n",
    "# Change the capacity parameter for all battery designs\n",
    "for x in param_dict_all.keys():\n",
    "    param_dict_all[x][\"battery_manufacturing_capacity\"] = manufacturing_capacity\n",
    "\n",
    "# Returns the nested F matrix with factors (rows) for all battery production processes (columns)\n",
    "F_physical_nested_temp = bat_cost.factors_battery_production(param_dict_all, run_multiple=True)\n",
    "\n",
    "#\n",
    "F_physical_nested_temp.shape\n"
   ]
  },
  {
   "cell_type": "code",
   "execution_count": 139,
   "metadata": {},
   "outputs": [
    {
     "data": {
      "text/plain": [
       "(20736, 3, 146)"
      ]
     },
     "execution_count": 139,
     "metadata": {},
     "output_type": "execute_result"
    }
   ],
   "source": [
    "# Include all foreground processes and restructure F matrix:\n",
    "F_physical_nested = np.zeros([len(D), len(f), len(p)])\n",
    "\n",
    "F_dummy = bat_cost.factors_battery_production(param_dict_all[0], run_multiple=False)\n",
    "column_index = [p.index(x) for x in F_dummy.columns]\n",
    "row_index = [F_dummy.index.get_loc(x) for x in f]\n",
    "F_physical_nested[:, :, column_index] = F_physical_nested_temp[:, row_index]\n",
    "F_physical_nested.shape"
   ]
  },
  {
   "cell_type": "code",
   "execution_count": 143,
   "metadata": {},
   "outputs": [
    {
     "ename": "ValueError",
     "evalue": "operands could not be broadcast together with shapes (20736,3,17) (3,) ",
     "output_type": "error",
     "traceback": [
      "\u001b[1;31m---------------------------------------------------------------------------\u001b[0m",
      "\u001b[1;31mValueError\u001b[0m                                Traceback (most recent call last)",
      "\u001b[1;32mc:\\Users\\Joris\\OneDrive - Newcastle University\\Python\\Projects\\Bat_Sust_Model\\Batt_Sust_Model\\example notebooks\\Example publication - integrated modelling\\publication_notebook.ipynb Cell 43'\u001b[0m in \u001b[0;36m<cell line: 1>\u001b[1;34m()\u001b[0m\n\u001b[1;32m----> <a href='vscode-notebook-cell:/c%3A/Users/Joris/OneDrive%20-%20Newcastle%20University/Python/Projects/Bat_Sust_Model/Batt_Sust_Model/example%20notebooks/Example%20publication%20-%20integrated%20modelling/publication_notebook.ipynb#ch0000112?line=0'>1</a>\u001b[0m F_physical_nested_temp[:, row_index] \u001b[39m*\u001b[39;49m factor_cost\n",
      "\u001b[1;31mValueError\u001b[0m: operands could not be broadcast together with shapes (20736,3,17) (3,) "
     ]
    }
   ],
   "source": [
    "F_physical_nested_temp[:, row_index] * factor_cost"
   ]
  },
  {
   "cell_type": "code",
   "execution_count": 136,
   "metadata": {},
   "outputs": [
    {
     "data": {
      "text/plain": [
       "land       1420.148763\n",
       "labour      256.827786\n",
       "capital    8413.200000\n",
       "dtype: float64"
      ]
     },
     "execution_count": 136,
     "metadata": {},
     "output_type": "execute_result"
    }
   ],
   "source": [
    "F_dummy.sum(axis=1).iloc[row_index]*factor_cost/manufacturing_capacity"
   ]
  },
  {
   "cell_type": "code",
   "execution_count": 124,
   "metadata": {},
   "outputs": [
    {
     "data": {
      "text/plain": [
       "array([2.33807831e+03, 3.51915300e+01, 1.00000000e+06])"
      ]
     },
     "execution_count": 124,
     "metadata": {},
     "output_type": "execute_result"
    }
   ],
   "source": []
  },
  {
   "cell_type": "markdown",
   "metadata": {},
   "source": [
    "The physical factor requirements (land and labour) are multiplied with the factor prices ($\\pi$) to obtain the monetary factor requirements. <br>\n",
    "\n",
    "The price factors are country specific. Capital is multiplied by 1,000,000 to convert from million $\n"
   ]
  },
  {
   "cell_type": "code",
   "execution_count": 125,
   "metadata": {},
   "outputs": [
    {
     "data": {
      "text/html": [
       "<div>\n",
       "<style scoped>\n",
       "    .dataframe tbody tr th:only-of-type {\n",
       "        vertical-align: middle;\n",
       "    }\n",
       "\n",
       "    .dataframe tbody tr th {\n",
       "        vertical-align: top;\n",
       "    }\n",
       "\n",
       "    .dataframe thead th {\n",
       "        text-align: right;\n",
       "    }\n",
       "</style>\n",
       "<table border=\"1\" class=\"dataframe\">\n",
       "  <thead>\n",
       "    <tr style=\"text-align: right;\">\n",
       "      <th></th>\n",
       "      <th>Unit</th>\n",
       "      <th>FR</th>\n",
       "      <th>DE</th>\n",
       "      <th>HU</th>\n",
       "      <th>NO</th>\n",
       "      <th>PL</th>\n",
       "      <th>SE</th>\n",
       "      <th>GB</th>\n",
       "      <th>European average</th>\n",
       "    </tr>\n",
       "  </thead>\n",
       "  <tbody>\n",
       "    <tr>\n",
       "      <th>land</th>\n",
       "      <td>$/m2</td>\n",
       "      <td>2380.08</td>\n",
       "      <td>2213.95</td>\n",
       "      <td>1219.94</td>\n",
       "      <td>3683.20</td>\n",
       "      <td>1503.39</td>\n",
       "      <td>3074.60</td>\n",
       "      <td>2291.40</td>\n",
       "      <td>2338.08</td>\n",
       "    </tr>\n",
       "    <tr>\n",
       "      <th>labour</th>\n",
       "      <td>$/hr</td>\n",
       "      <td>43.25</td>\n",
       "      <td>42.18</td>\n",
       "      <td>11.73</td>\n",
       "      <td>59.48</td>\n",
       "      <td>12.68</td>\n",
       "      <td>43.25</td>\n",
       "      <td>33.77</td>\n",
       "      <td>35.19</td>\n",
       "    </tr>\n",
       "    <tr>\n",
       "      <th>capital</th>\n",
       "      <td>$/$</td>\n",
       "      <td>1000000.00</td>\n",
       "      <td>1000000.00</td>\n",
       "      <td>1000000.00</td>\n",
       "      <td>1000000.00</td>\n",
       "      <td>1000000.00</td>\n",
       "      <td>1000000.00</td>\n",
       "      <td>1000000.00</td>\n",
       "      <td>1000000.00</td>\n",
       "    </tr>\n",
       "  </tbody>\n",
       "</table>\n",
       "</div>"
      ],
      "text/plain": [
       "         Unit          FR          DE          HU          NO          PL  \\\n",
       "land     $/m2     2380.08     2213.95     1219.94     3683.20     1503.39   \n",
       "labour   $/hr       43.25       42.18       11.73       59.48       12.68   \n",
       "capital   $/$  1000000.00  1000000.00  1000000.00  1000000.00  1000000.00   \n",
       "\n",
       "                 SE          GB  European average  \n",
       "land        3074.60     2291.40           2338.08  \n",
       "labour        43.25       33.77             35.19  \n",
       "capital  1000000.00  1000000.00        1000000.00  "
      ]
     },
     "execution_count": 125,
     "metadata": {},
     "output_type": "execute_result"
    }
   ],
   "source": [
    "df_factor_cost = pd.DataFrame(ParameterDict[\"3_PR_factor_price\"].Values, index=f, columns=r).round(2)\n",
    "df_factor_cost.insert(0, \"Unit\", [\"$/m2\", \"$/hr\", \"$/$\"])\n",
    "df_factor_cost"
   ]
  },
  {
   "cell_type": "markdown",
   "metadata": {},
   "source": [
    "Multiplying physical factor matrix by the factor prices:\n"
   ]
  },
  {
   "cell_type": "code",
   "execution_count": 140,
   "metadata": {},
   "outputs": [
    {
     "data": {
      "text/plain": [
       "array([2.33807831e+03, 3.51915300e+01, 1.00000000e+06])"
      ]
     },
     "execution_count": 140,
     "metadata": {},
     "output_type": "execute_result"
    }
   ],
   "source": [
    "factor_cost = ParameterDict[\"3_PR_factor_price\"].Values[\n",
    "        :, IndexTable.loc[\"Regions\", \"Classification\"].Items.index(country)\n",
    "    ]\n",
    "factor_cost"
   ]
  },
  {
   "cell_type": "code",
   "execution_count": 107,
   "metadata": {},
   "outputs": [
    {
     "data": {
      "text/html": [
       "<div>\n",
       "<style scoped>\n",
       "    .dataframe tbody tr th:only-of-type {\n",
       "        vertical-align: middle;\n",
       "    }\n",
       "\n",
       "    .dataframe tbody tr th {\n",
       "        vertical-align: top;\n",
       "    }\n",
       "\n",
       "    .dataframe thead th {\n",
       "        text-align: right;\n",
       "    }\n",
       "</style>\n",
       "<table border=\"1\" class=\"dataframe\">\n",
       "  <thead>\n",
       "    <tr style=\"text-align: right;\">\n",
       "      <th></th>\n",
       "      <th>labour</th>\n",
       "      <th>capital</th>\n",
       "      <th>land</th>\n",
       "    </tr>\n",
       "  </thead>\n",
       "  <tbody>\n",
       "    <tr>\n",
       "      <th>anode calendering</th>\n",
       "      <td>6.535506e+07</td>\n",
       "      <td>386.487211</td>\n",
       "      <td>8.813115e+08</td>\n",
       "    </tr>\n",
       "    <tr>\n",
       "      <th>anode coating and drying</th>\n",
       "      <td>5.795638e+07</td>\n",
       "      <td>1158.055355</td>\n",
       "      <td>6.714754e+09</td>\n",
       "    </tr>\n",
       "    <tr>\n",
       "      <th>anode slitting</th>\n",
       "      <td>4.932458e+08</td>\n",
       "      <td>981.677516</td>\n",
       "      <td>1.342951e+09</td>\n",
       "    </tr>\n",
       "    <tr>\n",
       "      <th>building and supporting systems</th>\n",
       "      <td>1.285056e+08</td>\n",
       "      <td>24129.733343</td>\n",
       "      <td>6.036198e+09</td>\n",
       "    </tr>\n",
       "    <tr>\n",
       "      <th>cathode binder solvent waste recovery</th>\n",
       "      <td>2.158082e+07</td>\n",
       "      <td>553.059814</td>\n",
       "      <td>4.802022e+08</td>\n",
       "    </tr>\n",
       "    <tr>\n",
       "      <th>cathode calendering</th>\n",
       "      <td>5.747881e+07</td>\n",
       "      <td>382.397416</td>\n",
       "      <td>8.714703e+08</td>\n",
       "    </tr>\n",
       "    <tr>\n",
       "      <th>cathode coating and drying</th>\n",
       "      <td>7.215425e+07</td>\n",
       "      <td>1392.081084</td>\n",
       "      <td>6.639773e+09</td>\n",
       "    </tr>\n",
       "    <tr>\n",
       "      <th>cathode slitting</th>\n",
       "      <td>4.891813e+08</td>\n",
       "      <td>971.289437</td>\n",
       "      <td>1.327955e+09</td>\n",
       "    </tr>\n",
       "    <tr>\n",
       "      <th>cell formation</th>\n",
       "      <td>7.673658e+08</td>\n",
       "      <td>15057.933514</td>\n",
       "      <td>5.670767e+10</td>\n",
       "    </tr>\n",
       "    <tr>\n",
       "      <th>cell stacking</th>\n",
       "      <td>4.484488e+08</td>\n",
       "      <td>1655.615218</td>\n",
       "      <td>0.000000e+00</td>\n",
       "    </tr>\n",
       "    <tr>\n",
       "      <th>electrolyte filling and sealing</th>\n",
       "      <td>2.019728e+08</td>\n",
       "      <td>716.305586</td>\n",
       "      <td>3.746677e+10</td>\n",
       "    </tr>\n",
       "    <tr>\n",
       "      <th>final electrode drying</th>\n",
       "      <td>9.330009e+07</td>\n",
       "      <td>384.196926</td>\n",
       "      <td>1.502384e+09</td>\n",
       "    </tr>\n",
       "    <tr>\n",
       "      <th>jelly roll enclosing</th>\n",
       "      <td>3.462459e+08</td>\n",
       "      <td>554.416088</td>\n",
       "      <td>0.000000e+00</td>\n",
       "    </tr>\n",
       "    <tr>\n",
       "      <th>mixing anode materials</th>\n",
       "      <td>2.392399e+08</td>\n",
       "      <td>3734.281612</td>\n",
       "      <td>3.159971e+09</td>\n",
       "    </tr>\n",
       "    <tr>\n",
       "      <th>mixing cathode materials</th>\n",
       "      <td>2.135035e+08</td>\n",
       "      <td>3213.542615</td>\n",
       "      <td>3.496956e+09</td>\n",
       "    </tr>\n",
       "    <tr>\n",
       "      <th>module and pack assembly</th>\n",
       "      <td>7.949466e+08</td>\n",
       "      <td>6616.007640</td>\n",
       "      <td>5.400000e+10</td>\n",
       "    </tr>\n",
       "    <tr>\n",
       "      <th>terminal welding</th>\n",
       "      <td>2.652096e+08</td>\n",
       "      <td>4213.562271</td>\n",
       "      <td>0.000000e+00</td>\n",
       "    </tr>\n",
       "  </tbody>\n",
       "</table>\n",
       "</div>"
      ],
      "text/plain": [
       "                                             labour       capital  \\\n",
       "anode calendering                      6.535506e+07    386.487211   \n",
       "anode coating and drying               5.795638e+07   1158.055355   \n",
       "anode slitting                         4.932458e+08    981.677516   \n",
       "building and supporting systems        1.285056e+08  24129.733343   \n",
       "cathode binder solvent waste recovery  2.158082e+07    553.059814   \n",
       "cathode calendering                    5.747881e+07    382.397416   \n",
       "cathode coating and drying             7.215425e+07   1392.081084   \n",
       "cathode slitting                       4.891813e+08    971.289437   \n",
       "cell formation                         7.673658e+08  15057.933514   \n",
       "cell stacking                          4.484488e+08   1655.615218   \n",
       "electrolyte filling and sealing        2.019728e+08    716.305586   \n",
       "final electrode drying                 9.330009e+07    384.196926   \n",
       "jelly roll enclosing                   3.462459e+08    554.416088   \n",
       "mixing anode materials                 2.392399e+08   3734.281612   \n",
       "mixing cathode materials               2.135035e+08   3213.542615   \n",
       "module and pack assembly               7.949466e+08   6616.007640   \n",
       "terminal welding                       2.652096e+08   4213.562271   \n",
       "\n",
       "                                               land  \n",
       "anode calendering                      8.813115e+08  \n",
       "anode coating and drying               6.714754e+09  \n",
       "anode slitting                         1.342951e+09  \n",
       "building and supporting systems        6.036198e+09  \n",
       "cathode binder solvent waste recovery  4.802022e+08  \n",
       "cathode calendering                    8.714703e+08  \n",
       "cathode coating and drying             6.639773e+09  \n",
       "cathode slitting                       1.327955e+09  \n",
       "cell formation                         5.670767e+10  \n",
       "cell stacking                          0.000000e+00  \n",
       "electrolyte filling and sealing        3.746677e+10  \n",
       "final electrode drying                 1.502384e+09  \n",
       "jelly roll enclosing                   0.000000e+00  \n",
       "mixing anode materials                 3.159971e+09  \n",
       "mixing cathode materials               3.496956e+09  \n",
       "module and pack assembly               5.400000e+10  \n",
       "terminal welding                       0.000000e+00  "
      ]
     },
     "execution_count": 107,
     "metadata": {},
     "output_type": "execute_result"
    }
   ],
   "source": [
    "(F_dummy.T*factor_cost)"
   ]
  },
  {
   "cell_type": "code",
   "execution_count": 204,
   "metadata": {},
   "outputs": [
    {
     "data": {
      "text/plain": [
       "2188.546099793014"
      ]
     },
     "execution_count": 204,
     "metadata": {},
     "output_type": "execute_result"
    }
   ],
   "source": [
    "pd.DataFrame(F_monetary_nested[0,:, [p.index(x) for x in bp]].T, f, bp).sum(axis=1).sum()"
   ]
  },
  {
   "cell_type": "code",
   "execution_count": 202,
   "metadata": {},
   "outputs": [
    {
     "data": {
      "text/plain": [
       "4744.4291470999415"
      ]
     },
     "execution_count": 202,
     "metadata": {},
     "output_type": "execute_result"
    }
   ],
   "source": [
    "(pd.DataFrame(F_physical_nested[0,:, [p.index(x) for x in bp]].T, f, bp).T*factor_cost).sum().sum()/500000"
   ]
  },
  {
   "cell_type": "code",
   "execution_count": 200,
   "metadata": {},
   "outputs": [
    {
     "data": {
      "text/plain": [
       "4792.384671583726"
      ]
     },
     "execution_count": 200,
     "metadata": {},
     "output_type": "execute_result"
    }
   ],
   "source": [
    "(F_dummy.T*df_factor_cost['FR']).sum().sum()/500000"
   ]
  },
  {
   "cell_type": "code",
   "execution_count": 182,
   "metadata": {},
   "outputs": [],
   "source": [
    "F_monetary_nested = np.einsum('ijk, j->ik',F_physical_nested, factor_cost)/param_dict_all[0][\"battery_manufacturing_capacity\"]"
   ]
  },
  {
   "cell_type": "code",
   "execution_count": 199,
   "metadata": {},
   "outputs": [
    {
     "data": {
      "text/plain": [
       "0.026289762476595438"
      ]
     },
     "execution_count": 199,
     "metadata": {},
     "output_type": "execute_result"
    }
   ],
   "source": [
    "F_monetary_nested[20000].sum()/500000"
   ]
  },
  {
   "cell_type": "code",
   "execution_count": 205,
   "metadata": {},
   "outputs": [
    {
     "name": "stderr",
     "output_type": "stream",
     "text": [
      "100%|██████████| 20736/20736 [00:02<00:00, 8001.61it/s]\n"
     ]
    }
   ],
   "source": [
    "F_monetary_nested = np.zeros((len(D), len(f), len(p)))\n",
    "for design in tqdm(D):\n",
    "    factor_cost = ParameterDict[\"3_PR_factor_price\"].Values[\n",
    "        :, IndexTable.loc[\"Regions\", \"Classification\"].Items.index(country)\n",
    "    ]\n",
    "    production_capacity = param_dict_all[design][\"battery_manufacturing_capacity\"]\n",
    "    # Overhead cost:\n",
    "    factor_cost_overhead = list(bat_cost.factor_overhead_multiplier().values())\n",
    "    # Total cost\n",
    "    F_monetary_nested[design, :, [p.index(x) for x in bp]] = (\n",
    "        F_physical_nested[design, :, [p.index(x) for x in bp]]\n",
    "        * (factor_cost * factor_cost_overhead)\n",
    "        / production_capacity\n",
    "    )\n"
   ]
  },
  {
   "cell_type": "code",
   "execution_count": 207,
   "metadata": {},
   "outputs": [
    {
     "data": {
      "text/plain": [
       "[<matplotlib.lines.Line2D at 0x1c89b624df0>,\n",
       " <matplotlib.lines.Line2D at 0x1c89b624e50>,\n",
       " <matplotlib.lines.Line2D at 0x1c89b624f70>]"
      ]
     },
     "execution_count": 207,
     "metadata": {},
     "output_type": "execute_result"
    },
    {
     "data": {
      "image/png": "[encoded data removed]",
      "text/plain": [
       "<Figure size 432x288 with 1 Axes>"
      ]
     },
     "metadata": {
      "needs_background": "light"
     },
     "output_type": "display_data"
    }
   ],
   "source": [
    "plt.plot(F_monetary_nested.sum(axis=2)[20000:20020])"
   ]
  },
  {
   "cell_type": "markdown",
   "metadata": {},
   "source": [
    "The resulting matrix represents the value added in terms of land, labour and capital requirement for each battery production process. <br>\n",
    "\n",
    "For battery design 30 for example, the value added for each process and 1 produced battery is:\n"
   ]
  },
  {
   "cell_type": "code",
   "execution_count": 209,
   "metadata": {},
   "outputs": [
    {
     "data": {
      "text/html": [
       "<div>\n",
       "<style scoped>\n",
       "    .dataframe tbody tr th:only-of-type {\n",
       "        vertical-align: middle;\n",
       "    }\n",
       "\n",
       "    .dataframe tbody tr th {\n",
       "        vertical-align: top;\n",
       "    }\n",
       "\n",
       "    .dataframe thead th {\n",
       "        text-align: right;\n",
       "    }\n",
       "</style>\n",
       "<table border=\"1\" class=\"dataframe\">\n",
       "  <thead>\n",
       "    <tr style=\"text-align: right;\">\n",
       "      <th></th>\n",
       "      <th>anode coating and drying</th>\n",
       "      <th>cell formation</th>\n",
       "      <th>building and supporting systems</th>\n",
       "      <th>final electrode drying</th>\n",
       "      <th>mixing cathode materials</th>\n",
       "      <th>cathode calendering</th>\n",
       "      <th>jelly roll enclosing</th>\n",
       "      <th>cell stacking</th>\n",
       "      <th>cathode slitting</th>\n",
       "      <th>cathode binder solvent waste recovery</th>\n",
       "      <th>...</th>\n",
       "      <th>cathode binder solvent waste handling</th>\n",
       "      <th>waste anode current collector Cu handling</th>\n",
       "      <th>waste anode slurry handling</th>\n",
       "      <th>waste cathode current collector Al handling</th>\n",
       "      <th>waste cathode slurry handling</th>\n",
       "      <th>separator scrap handling</th>\n",
       "      <th>anode electrode scrap handling</th>\n",
       "      <th>cathode electrode scrap handling</th>\n",
       "      <th>electrolyte scrap handling</th>\n",
       "      <th>cell scrap handling</th>\n",
       "    </tr>\n",
       "  </thead>\n",
       "  <tbody>\n",
       "    <tr>\n",
       "      <th>land</th>\n",
       "      <td>92.033581</td>\n",
       "      <td>513.154227</td>\n",
       "      <td>53.053909</td>\n",
       "      <td>20.665392</td>\n",
       "      <td>37.243731</td>\n",
       "      <td>12.030217</td>\n",
       "      <td>0.000000</td>\n",
       "      <td>0.000000</td>\n",
       "      <td>18.331759</td>\n",
       "      <td>5.114312</td>\n",
       "      <td>...</td>\n",
       "      <td>0.0</td>\n",
       "      <td>0.0</td>\n",
       "      <td>0.0</td>\n",
       "      <td>0.0</td>\n",
       "      <td>0.0</td>\n",
       "      <td>0.0</td>\n",
       "      <td>0.0</td>\n",
       "      <td>0.0</td>\n",
       "      <td>0.0</td>\n",
       "      <td>0.0</td>\n",
       "    </tr>\n",
       "    <tr>\n",
       "      <th>labour</th>\n",
       "      <td>0.617251</td>\n",
       "      <td>6.076207</td>\n",
       "      <td>0.985380</td>\n",
       "      <td>0.996491</td>\n",
       "      <td>1.968983</td>\n",
       "      <td>0.615397</td>\n",
       "      <td>2.644362</td>\n",
       "      <td>3.840130</td>\n",
       "      <td>5.237425</td>\n",
       "      <td>0.190856</td>\n",
       "      <td>...</td>\n",
       "      <td>0.0</td>\n",
       "      <td>0.0</td>\n",
       "      <td>0.0</td>\n",
       "      <td>0.0</td>\n",
       "      <td>0.0</td>\n",
       "      <td>0.0</td>\n",
       "      <td>0.0</td>\n",
       "      <td>0.0</td>\n",
       "      <td>0.0</td>\n",
       "      <td>0.0</td>\n",
       "    </tr>\n",
       "    <tr>\n",
       "      <th>capital</th>\n",
       "      <td>14.386662</td>\n",
       "      <td>135.974376</td>\n",
       "      <td>212.364895</td>\n",
       "      <td>5.150882</td>\n",
       "      <td>33.797354</td>\n",
       "      <td>5.142118</td>\n",
       "      <td>4.828740</td>\n",
       "      <td>16.167919</td>\n",
       "      <td>13.060980</td>\n",
       "      <td>5.877881</td>\n",
       "      <td>...</td>\n",
       "      <td>0.0</td>\n",
       "      <td>0.0</td>\n",
       "      <td>0.0</td>\n",
       "      <td>0.0</td>\n",
       "      <td>0.0</td>\n",
       "      <td>0.0</td>\n",
       "      <td>0.0</td>\n",
       "      <td>0.0</td>\n",
       "      <td>0.0</td>\n",
       "      <td>0.0</td>\n",
       "    </tr>\n",
       "  </tbody>\n",
       "</table>\n",
       "<p>3 rows × 27 columns</p>\n",
       "</div>"
      ],
      "text/plain": [
       "         anode coating and drying  cell formation  \\\n",
       "land                    92.033581      513.154227   \n",
       "labour                   0.617251        6.076207   \n",
       "capital                 14.386662      135.974376   \n",
       "\n",
       "         building and supporting systems  final electrode drying  \\\n",
       "land                           53.053909               20.665392   \n",
       "labour                          0.985380                0.996491   \n",
       "capital                       212.364895                5.150882   \n",
       "\n",
       "         mixing cathode materials  cathode calendering  jelly roll enclosing  \\\n",
       "land                    37.243731            12.030217              0.000000   \n",
       "labour                   1.968983             0.615397              2.644362   \n",
       "capital                 33.797354             5.142118              4.828740   \n",
       "\n",
       "         cell stacking  cathode slitting  \\\n",
       "land          0.000000         18.331759   \n",
       "labour        3.840130          5.237425   \n",
       "capital      16.167919         13.060980   \n",
       "\n",
       "         cathode binder solvent waste recovery  ...  \\\n",
       "land                                  5.114312  ...   \n",
       "labour                                0.190856  ...   \n",
       "capital                               5.877881  ...   \n",
       "\n",
       "         cathode binder solvent waste handling  \\\n",
       "land                                       0.0   \n",
       "labour                                     0.0   \n",
       "capital                                    0.0   \n",
       "\n",
       "         waste anode current collector Cu handling  \\\n",
       "land                                           0.0   \n",
       "labour                                         0.0   \n",
       "capital                                        0.0   \n",
       "\n",
       "         waste anode slurry handling  \\\n",
       "land                             0.0   \n",
       "labour                           0.0   \n",
       "capital                          0.0   \n",
       "\n",
       "         waste cathode current collector Al handling  \\\n",
       "land                                             0.0   \n",
       "labour                                           0.0   \n",
       "capital                                          0.0   \n",
       "\n",
       "         waste cathode slurry handling  separator scrap handling  \\\n",
       "land                               0.0                       0.0   \n",
       "labour                             0.0                       0.0   \n",
       "capital                            0.0                       0.0   \n",
       "\n",
       "         anode electrode scrap handling  cathode electrode scrap handling  \\\n",
       "land                                0.0                               0.0   \n",
       "labour                              0.0                               0.0   \n",
       "capital                             0.0                               0.0   \n",
       "\n",
       "         electrolyte scrap handling  cell scrap handling  \n",
       "land                            0.0                  0.0  \n",
       "labour                          0.0                  0.0  \n",
       "capital                         0.0                  0.0  \n",
       "\n",
       "[3 rows x 27 columns]"
      ]
     },
     "execution_count": 209,
     "metadata": {},
     "output_type": "execute_result"
    }
   ],
   "source": [
    "pd.DataFrame(F_monetary_nested[30, :, [p.index(x) for x in bp]].T, f, bp)"
   ]
  },
  {
   "cell_type": "markdown",
   "metadata": {
    "tags": []
   },
   "source": [
    "### Battery material cost ($\\mathbf{C}$)\n",
    "\n",
    "The second step of the value added layer are the value added calculation outside the battery factory. This refers to the material cost ($\\mathbf{C}$) and is based on the computational structure of life cycle cost as proposed by Heijungs et al. (2012) and Moreau and Weidema (2015) to obain the monetary equivalant of the technology matrix:\n",
    "\n",
    "$$\\mathbf{C} = \\mathbf{A}\\mathbf{\\alpha}$$\n",
    "\n",
    "<br>\n",
    "\n",
    "The general material cost can obtained from the technology matrix ($\\mathbf{A}$) and the material cost vector ($\\mathbf{\\alpha}$).\n",
    "\n",
    "The material cost vector consist the mass prices ($\\mathbf{\\alpha_{mass}}$) obtained from a variety of sources:\n"
   ]
  },
  {
   "cell_type": "code",
   "execution_count": 234,
   "metadata": {},
   "outputs": [
    {
     "data": {
      "text/html": [
       "<div>\n",
       "<style scoped>\n",
       "    .dataframe tbody tr th:only-of-type {\n",
       "        vertical-align: middle;\n",
       "    }\n",
       "\n",
       "    .dataframe tbody tr th {\n",
       "        vertical-align: top;\n",
       "    }\n",
       "\n",
       "    .dataframe thead th {\n",
       "        text-align: right;\n",
       "    }\n",
       "</style>\n",
       "<table border=\"1\" class=\"dataframe\">\n",
       "  <thead>\n",
       "    <tr style=\"text-align: right;\">\n",
       "      <th></th>\n",
       "      <th>$/kg</th>\n",
       "    </tr>\n",
       "  </thead>\n",
       "  <tbody>\n",
       "    <tr>\n",
       "      <th>anode active material (natural graphite)</th>\n",
       "      <td>9.10020</td>\n",
       "    </tr>\n",
       "    <tr>\n",
       "      <th>anode active material (SiO)</th>\n",
       "      <td>60.00000</td>\n",
       "    </tr>\n",
       "    <tr>\n",
       "      <th>anode active material (synthetic graphite)</th>\n",
       "      <td>12.15972</td>\n",
       "    </tr>\n",
       "    <tr>\n",
       "      <th>anode binder (CMC)</th>\n",
       "      <td>5.00000</td>\n",
       "    </tr>\n",
       "    <tr>\n",
       "      <th>anode binder additive (SBR)</th>\n",
       "      <td>5.00000</td>\n",
       "    </tr>\n",
       "    <tr>\n",
       "      <th>anode carbon black</th>\n",
       "      <td>3.60000</td>\n",
       "    </tr>\n",
       "    <tr>\n",
       "      <th>anode current collector Cu (10um)</th>\n",
       "      <td>15.43505</td>\n",
       "    </tr>\n",
       "    <tr>\n",
       "      <th>anode current collector Cu (11um)</th>\n",
       "      <td>15.43505</td>\n",
       "    </tr>\n",
       "    <tr>\n",
       "      <th>anode current collector Cu (12um)</th>\n",
       "      <td>15.43505</td>\n",
       "    </tr>\n",
       "    <tr>\n",
       "      <th>anode current collector Cu (13um)</th>\n",
       "      <td>15.43505</td>\n",
       "    </tr>\n",
       "  </tbody>\n",
       "</table>\n",
       "</div>"
      ],
      "text/plain": [
       "                                                $/kg\n",
       "anode active material (natural graphite)     9.10020\n",
       "anode active material (SiO)                 60.00000\n",
       "anode active material (synthetic graphite)  12.15972\n",
       "anode binder (CMC)                           5.00000\n",
       "anode binder additive (SBR)                  5.00000\n",
       "anode carbon black                           3.60000\n",
       "anode current collector Cu (10um)           15.43505\n",
       "anode current collector Cu (11um)           15.43505\n",
       "anode current collector Cu (12um)           15.43505\n",
       "anode current collector Cu (13um)           15.43505"
      ]
     },
     "execution_count": 234,
     "metadata": {},
     "output_type": "execute_result"
    }
   ],
   "source": [
    "df_pr_material_mass = pd.Series(ParameterDict[\"3_PR_material_price_mass\"].Values, g)\n",
    "pd.DataFrame(df_pr_material_mass[df_pr_material_mass > 0], columns=[\"$/kg\"]).head(10)\n"
   ]
  },
  {
   "cell_type": "markdown",
   "metadata": {},
   "source": [
    "And unit prices ($\\mathbf{\\alpha_{unit}}$) obtained from BatPaC. <br>\n",
    "\n",
    "The cell container for example, is calculated based on a mass price and the total cells per pack:\n"
   ]
  },
  {
   "cell_type": "code",
   "execution_count": 235,
   "metadata": {},
   "outputs": [
    {
     "data": {
      "text/plain": [
       "electrode_pair             0.0\n",
       "calculate_fast_charge      0.0\n",
       "max_charging_time          0.0\n",
       "available_energy           0.0\n",
       "vehicle_weight             0.0\n",
       "                          ... \n",
       "negative_electrode_area    0.0\n",
       "positive_electrode_area    0.0\n",
       "total_packs_vehicle        0.0\n",
       "pack_energy                0.0\n",
       "cells_per_pack             0.2\n",
       "Name: cell container, Length: 79, dtype: float64"
      ]
     },
     "execution_count": 235,
     "metadata": {},
     "output_type": "execute_result"
    }
   ],
   "source": [
    "df_pr_unit = pd.DataFrame(ParameterDict[\"3_PR_material_price_unit\"].Values, g, P)\n",
    "df_pr_unit = df_pr_unit[(df_pr_unit != 0).any(axis=1)]\n",
    "df_pr_unit.loc[\"cell container\"].sort_values()"
   ]
  },
  {
   "cell_type": "code",
   "execution_count": 236,
   "metadata": {},
   "outputs": [],
   "source": [
    "# Restructure unit prices to dictionary:\n",
    "dict_pr_unit = {}\n",
    "for k, v in df_pr_unit.T.to_dict().items():\n",
    "    dict_pr_unit[k] = {}\n",
    "    for k2, v2 in v.items():\n",
    "        if v2 != 0:\n",
    "            dict_pr_unit[k][k2] = v2\n"
   ]
  },
  {
   "cell_type": "code",
   "execution_count": 213,
   "metadata": {},
   "outputs": [],
   "source": [
    "# Empty C matrix\n",
    "C_matrix_nested = np.zeros((len(D), len(g), len(p)))\n"
   ]
  },
  {
   "cell_type": "code",
   "execution_count": 237,
   "metadata": {},
   "outputs": [
    {
     "data": {
      "text/plain": [
       "<module 'batt_sust_model.battery_cost' from 'C:\\\\Users\\\\Joris\\\\OneDrive - Newcastle University\\\\Python\\\\Projects\\\\Bat_Sust_Model\\\\Batt_Sust_Model\\\\batt_sust_model\\\\battery_cost.py'>"
      ]
     },
     "execution_count": 237,
     "metadata": {},
     "output_type": "execute_result"
    }
   ],
   "source": [
    "import importlib\n",
    "\n",
    "importlib.reload(bat_cost)\n"
   ]
  },
  {
   "cell_type": "code",
   "execution_count": 254,
   "metadata": {},
   "outputs": [],
   "source": [
    "np.save(r'C:\\Users\\Joris\\Desktop\\C_matrix_nested.npy', C_matrix_nested)"
   ]
  },
  {
   "cell_type": "code",
   "execution_count": 245,
   "metadata": {},
   "outputs": [
    {
     "name": "stderr",
     "output_type": "stream",
     "text": [
      "100%|██████████| 20736/20736 [32:05<00:00, 10.77it/s] \n"
     ]
    }
   ],
   "source": [
    "C_matrix_nested = bat_cost.material_cost_matrix(\n",
    "    A_matrix_nested,\n",
    "    df_pr_material_mass,\n",
    "    dict_pr_unit,\n",
    "    system_design_parameters=param_dict_all,\n",
    "    run_multiple=True,\n",
    "    process_columns=p,\n",
    "    material_rows=g,\n",
    ")\n"
   ]
  },
  {
   "cell_type": "code",
   "execution_count": 248,
   "metadata": {},
   "outputs": [],
   "source": [
    "# Include energy cost for all regions:\n",
    "for region in r:\n",
    "    electricity_price = ParameterDict[\"3_PR_regional_energy_price\"].Values[0, r.index(region)]\n",
    "    gas_price = ParameterDict[\"3_PR_regional_energy_price\"].Values[1, r.index(region)]\n",
    "    C_matrix_nested[\n",
    "        :,\n",
    "        g.index(\"electricity for battery production, medium voltage\"),\n",
    "        p.index(f\"market group for electricity battery production, medium voltage, {region}\"),\n",
    "    ] = electricity_price\n",
    "    C_matrix_nested[\n",
    "        :,\n",
    "        g.index(\"heat, district or industrial, natural gas for battery production\"),\n",
    "        p.index(f\"market group for heat, district or industrial, natural gas, {region}\"),\n",
    "    ] = gas_price\n"
   ]
  },
  {
   "cell_type": "code",
   "execution_count": null,
   "metadata": {},
   "outputs": [],
   "source": [
    "(abs(df_A_base.loc[df_t.index, df_t.columns])).mul(pd.Series(C_matrix_nested), axis=0).loc[df_t.index]\n"
   ]
  },
  {
   "cell_type": "code",
   "execution_count": 249,
   "metadata": {},
   "outputs": [
    {
     "data": {
      "text/plain": [
       "0.011846965328985007"
      ]
     },
     "execution_count": 249,
     "metadata": {},
     "output_type": "execute_result"
    }
   ],
   "source": [
    "C_matrix_nested[\n",
    "        0,\n",
    "        g.index(\"heat, district or industrial, natural gas for battery production\"),\n",
    "        p.index(f\"market group for heat, district or industrial, natural gas, FR\"),\n",
    "    ]\n"
   ]
  },
  {
   "cell_type": "code",
   "execution_count": null,
   "metadata": {},
   "outputs": [],
   "source": []
  },
  {
   "cell_type": "markdown",
   "metadata": {},
   "source": [
    "### Total value added ($\\mathbf{v}$)\n"
   ]
  },
  {
   "cell_type": "code",
   "execution_count": 250,
   "metadata": {},
   "outputs": [],
   "source": [
    "# Non scaled added value vector:\n",
    "# process value added based on factor requirements:\n",
    "v_nested = np.sum(F_monetary_nested / 100000, 1)\n",
    "# material process value added based on C matrix:\n",
    "v_nested[:] += np.sum(C_matrix_nested, 1)\n"
   ]
  },
  {
   "cell_type": "markdown",
   "metadata": {},
   "source": [
    "## Substance flow layer ($\\mathbf{E}$)\n",
    "\n",
    "The substance flow matrix ($\\mathbf{E}$) is calculated by multiplying the technology matrix with the elemental content of goods ($\\mathbf{\\tild}$). <br>\n",
    "\n",
    "For example, 1kg of NMC333 cathode active material contains the following elements:\n"
   ]
  },
  {
   "cell_type": "code",
   "execution_count": null,
   "metadata": {},
   "outputs": [],
   "source": [
    "pd.DataFrame(ParameterDict[\"3_MC_element_goods\"].Values, e, g).loc[:, \"cathode active material (NMC333)\"].to_frame()\n"
   ]
  },
  {
   "cell_type": "code",
   "execution_count": null,
   "metadata": {},
   "outputs": [],
   "source": [
    "E_nested = np.zeros((len(D), IndexTable.loc[\"Elements\", \"IndexSize\"], len(p)))\n",
    "\n",
    "for design in tqdm(D):\n",
    "    E_nested[design] = ParameterDict[\"3_MC_element_goods\"].Values.dot(A_matrix_nested[design])\n"
   ]
  },
  {
   "cell_type": "markdown",
   "metadata": {},
   "source": [
    "For example, the total substances for one battery pack (design #30) are:\n"
   ]
  },
  {
   "cell_type": "code",
   "execution_count": null,
   "metadata": {},
   "outputs": [],
   "source": [
    "pd.DataFrame(np.sum(E_matrix_nested[30, :, battery_production_index], 0), e).abs()\n"
   ]
  },
  {
   "cell_type": "markdown",
   "metadata": {},
   "source": [
    "# Calculate impact indicators\n"
   ]
  },
  {
   "cell_type": "code",
   "execution_count": null,
   "metadata": {},
   "outputs": [],
   "source": [
    "# First, the relevant production needs to be selected to asssure the A and h matrices are square\n",
    "country = \"European average\"\n",
    "\n",
    "electricity_choice = f\"market group for electricity battery production, medium voltage, {country}\"\n",
    "gas_choice = f\"market group for heat, district or industrial, natural gas, {country}\"\n",
    "\n",
    "process_selection = []\n",
    "\n",
    "for x in p:\n",
    "    if x == electricity_choice:\n",
    "        process_selection.append(p.index(x))\n",
    "    elif x == gas_choice:\n",
    "        process_selection.append(p.index(x))\n",
    "    elif x in p_electricity or x in p_gas:\n",
    "        continue\n",
    "    else:\n",
    "        process_selection.append(p.index(x))\n"
   ]
  },
  {
   "cell_type": "code",
   "execution_count": null,
   "metadata": {},
   "outputs": [],
   "source": [
    "# Empty nested np array where the first element refers to all battery designs and the second to the process impacts\n",
    "h_nested_scaled = np.zeros([len(D), len(process_selection)])\n",
    "v_nested_scaled = np.zeros((len(D), len(process_selection)))\n",
    "E_nested_scaled = np.zeros((len(D), len(e), len(process_selection)))\n",
    "\n",
    "\n",
    "# The imported modular h base contains all ReCiPe impact indictors, in this study we only select GWP\n",
    "impact_cat = 2  # GWP100\n",
    "\n",
    "p_selection = [p[i] for i in process_selection]\n",
    "\n",
    "# Calculate process emissions for each battery design using the formulas described above:\n",
    "\n",
    "for design in tqdm(D):\n",
    "    # specific pack weight as function unit:\n",
    "    fu = A_matrix_nested[design, g.index(\"battery pack\"), p.index(\"module and pack assembly\")]\n",
    "    # Inverse the A matrix:\n",
    "    A_inv = np.linalg.pinv(A_matrix_nested[design, :, process_selection].T)\n",
    "    # Establish final product demand vector for 1 battery based on pack weight\n",
    "    y = np.zeros(len(g))\n",
    "    y[g.index(\"battery pack\")] = fu\n",
    "    # Obtain the scaling vector\n",
    "    s = A_inv.dot(y)\n",
    "    # Multiply scaling vector by modular base emission vector\n",
    "    h_nested_scaled[design] = s * H_base[impact_cat, process_selection]\n",
    "    v_nested_scaled[design] = v_nested[design, process_selection] * s\n",
    "    E_nested_scaled[design] = E_nested[design, :, process_selection].T * s\n"
   ]
  },
  {
   "cell_type": "markdown",
   "metadata": {},
   "source": [
    "$$ c = \\sum\\_{e} EPI_e \\times SC_E $$\n",
    "\n",
    "\\begin{equation}\n",
    "\\mathbf{EPI}_{e} =\\frac{ \\mathbf{\\Omega}\\_e \\times \\mathbf{E}_{e, bp}\\times -1}{v}\n",
    "\\end{equation}\n",
    "\n",
    "\\begin{equation}\n",
    "\\mathbf{SDP}_{e, p} =\\mathbf{E}_{e,bp}\\times-1\\odot \\mathbf{ESSENZ}\\_{e}\n",
    "\\end{equation}\n"
   ]
  },
  {
   "cell_type": "code",
   "execution_count": null,
   "metadata": {},
   "outputs": [],
   "source": [
    "df_mineral_price = pd.DataFrame(\n",
    "    ParameterDict[\"3_PR_mineral_price\"].Values, e, IndexTable.loc[\"Sensitivity_analysis\", \"Classification\"].Items\n",
    ")\n",
    "df_ESSENZ = pd.DataFrame(ParameterDict[\"6_CR_ESSENZ_CF_elements\"].Values, e)\n",
    "\n",
    "battery_production_index = [p_selection.index(i) for i in bp]\n",
    "\n",
    "\n",
    "EPI_scaled = np.zeros((len(D), len(e)))\n",
    "SC_scaled = np.zeros((len(D), len(e)))\n",
    "\n",
    "for design in D:\n",
    "    EPI_scaled[design] = (\n",
    "        (df_mineral_price[\"used\"].values * E_nested_scaled[design, :, battery_production_index]).sum(axis=0)\n",
    "        / v_nested_scaled[design].sum()\n",
    "        * -1\n",
    "    )\n",
    "    SC_scaled[design] = (\n",
    "        E_nested_scaled[design, :, battery_production_index].T * ParameterDict[\"6_CR_ESSENZ_CF_elements\"].Values\n",
    "    ).sum(axis=1) * -1\n",
    "\n",
    "c_nested_scaled = EPI_scaled * SC_scaled\n"
   ]
  },
  {
   "cell_type": "code",
   "execution_count": null,
   "metadata": {},
   "outputs": [],
   "source": [
    "p_nested = [\n",
    "    bat_design_param_dct[design][\"pack_usable_energy_kWh\"]\n",
    "    / bat_design_param_dct[design][\"battery_system_weight\"]\n",
    "    * 1000\n",
    "    for design in D\n",
    "]\n"
   ]
  },
  {
   "cell_type": "markdown",
   "metadata": {},
   "source": [
    "# Results for all designs\n"
   ]
  },
  {
   "cell_type": "markdown",
   "metadata": {},
   "source": [
    "Overview of the carbon footprint for all 20,736 design options results by cathode chemistry on the pack, energy and kg level:\n"
   ]
  },
  {
   "cell_type": "code",
   "execution_count": null,
   "metadata": {},
   "outputs": [],
   "source": [
    "colour = []\n",
    "\n",
    "cathode_by_design = {design: bat_design_param_dct[design][\"electrode_pair\"] for design in D}\n",
    "all_cathodes = set(cathode_by_design.values())\n",
    "\n",
    "impacts_all = {\n",
    "    \"Carbon footprint\": h_nested_scaled,\n",
    "    \"Cost\": v_nested_scaled,\n",
    "    \"Criticality\": c_nested_scaled,\n",
    "    \"Performance\": p_nested,\n",
    "}\n",
    "\n",
    "fig, ax = plt.subplots(1, 4, figsize=(15, 4))\n",
    "for idx, impact in enumerate(impacts_all.keys()):\n",
    "    if impact != \"Performance\":\n",
    "        impacts = {\n",
    "            design: impacts_all[impact][design].sum() / bat_design_param_dct[design][\"pack_energy_kWh\"] for design in D\n",
    "        }\n",
    "    else:\n",
    "        impacts = impacts_all[impact]\n",
    "    y_values = {}\n",
    "    for cathode in all_cathodes:\n",
    "        y_values[cathode] = [impacts[x] for x in cathode_by_design.keys() if cathode_by_design[x] == cathode]\n",
    "    ax[idx].boxplot(y_values.values(), vert=False)\n",
    "    ax[idx].set_title(impact)\n",
    "    ax[idx].xaxis.grid(\n",
    "        True,\n",
    "        linestyle=\"--\",\n",
    "        lw=0.6,\n",
    "    )\n",
    "    ax[idx].set_yticklabels([])\n",
    "ax[0].set_xlabel(r\"kg CO$_2$ eq. kWh$^{-1}$\")\n",
    "ax[1].set_xlabel(r\"\\$ kWh$^{-1}$\")\n",
    "ax[2].set_xlabel(r\"non-dimensional\")\n",
    "ax[3].set_xlabel(r\"Wh kg $^{-1}$\")\n",
    "\n",
    "\n",
    "ax[0].set_yticklabels(all_cathodes, fontsize=8, rotation=0)\n",
    "\n",
    "fig.tight_layout()\n"
   ]
  },
  {
   "cell_type": "markdown",
   "metadata": {},
   "source": [
    "# Calculate optimal design\n"
   ]
  },
  {
   "cell_type": "markdown",
   "metadata": {},
   "source": [
    "## Nested to non-square matrices"
   ]
  },
  {
   "cell_type": "code",
   "execution_count": null,
   "metadata": {},
   "outputs": [],
   "source": [
    "segment_choice = range(int(len(D) / 4) * 2, int(len(D) / 4) * 4)\n",
    "py_scenario_choice = 0\n",
    "impact_category = 2  # GWP\n",
    "country_selection = \"European average\"\n",
    "\n",
    "# All goods minus internal goods:\n",
    "g_new = [i for i in g if i not in IndexTable.loc[\"Internal_goods\", \"Classification\"].Items]\n",
    "\n",
    "# All processes minus production:\n",
    "# Exclude material handling from 'internal process'\n",
    "internal_process = [\n",
    "    process for process in bp if process != \"material handling\" and process != \"wastewater, average\"\n",
    "]  # REMOVED THIS LINE:\n",
    "\n",
    "# New battery process names based on design\n",
    "p_new = []\n",
    "if segment_choice == \"test\":\n",
    "    segment_choice = list(range(0, 500))\n",
    "    for d in segment_choice:\n",
    "        p_new.append(d)\n",
    "else:\n",
    "    for d in segment_choice:\n",
    "        p_new.append(d)\n",
    "# New process list, material handling must be included for mass balance\n",
    "\n",
    "for x in p:\n",
    "    if x == \"material handling\":\n",
    "        p_new.append(x)\n",
    "    if x in bp:\n",
    "        continue\n",
    "    p_new.append(x)\n",
    "\n",
    "\n",
    "# Select only regional electricity and gas\n",
    "for country in r:\n",
    "    if country != country_selection:\n",
    "        p_new.pop(p_new.index(f\"market group for electricity battery production, medium voltage, {country}\"))\n",
    "        p_new.pop(p_new.index(f\"market group for heat, district or industrial, natural gas, {country}\"))\n",
    "\n",
    "# Empty A matrix:\n",
    "A_matrix = np.zeros((len(g_new), len(p_new)))\n",
    "\n",
    "batt_manuf_index = [p.index(x) for x in bp]\n",
    "# Exclude material handling to include waste:\n",
    "batt_manuf_index.pop(batt_manuf_index.index(p.index(\"material handling\")))\n",
    "\n",
    "\n",
    "# Sum battery production input for each design\n",
    "g_select = [g.index(x) for x in g if x not in IndexTable.loc[\"Internal_goods\", \"Classification\"].Items]\n",
    "for idx, battery_model in enumerate(segment_choice):\n",
    "    A_matrix[:, idx] = A_matrix_nested[battery_model, py_scenario_choice, :, batt_manuf_index].T[g_select].sum(axis=1)\n",
    "\n",
    "# Include base module values to A matrix\n",
    "for process in [x for x in p if x not in D and x not in internal_process]:\n",
    "    # if process == 'material handling':\n",
    "    #     continue\n",
    "    if \"electricity\" in process or \"natural gas\" in process:\n",
    "        continue\n",
    "    A_matrix[:, p_new.index(process),] = ParameterDict[\n",
    "        \"4_UPI_foreground_base\"\n",
    "    ].Values[g_select, p.index(process)]\n",
    "\n",
    "\n",
    "# Include regional energy:\n",
    "\n",
    "electricity_production = f\"market group for electricity battery production, medium voltage, {country}\"\n",
    "gas_production = f\"market group for heat, district or industrial, natural gas, {country}\"\n",
    "A_matrix[:, p_new.index(electricity_production)] = ParameterDict[\"4_UPI_foreground_base\"].Values[\n",
    "    g_select, p.index(electricity_production)\n",
    "]\n",
    "A_matrix[:, p_new.index(gas_production)] = ParameterDict[\"4_UPI_foreground_base\"].Values[\n",
    "    g_select, p.index(gas_production)\n",
    "]\n",
    "\n",
    "# Include production scrap:\n",
    "A_matrix[g_new.index(\"battery production scrap\"), p_new.index(\"material handling\")] = -1\n",
    "\n",
    "A_matrix = A_matrix.round(5)\n"
   ]
  },
  {
   "cell_type": "code",
   "execution_count": null,
   "metadata": {},
   "outputs": [],
   "source": [
    "emission_layer = np.zeros(len(p_new))\n",
    "criticality_layer = np.zeros((len(p_new), len(e)))\n",
    "impact_category = 2  # GWP100\n",
    "\n",
    "# for x in p_new[len(segment_choice):len(p_new)]:\n",
    "#     emission_layer [p_new.index(x)] = H_base [impact_category, p.index(x)]\n",
    "\n",
    "\n",
    "p_new_external = [x for x in p_new if x not in segment_choice]\n",
    "\n",
    "performance_layer = np.zeros(len(p_new))\n",
    "\n",
    "performance_layer[range(len(segment_choice))] = [\n",
    "    bat_design_param_dct[design][\"pack_usable_energy_kWh\"] / mc_battery_design_dct[design][\"battery pack\"] * 1000\n",
    "    for design in segment_choice\n",
    "]\n",
    "\n",
    "\n",
    "value_added_layer = np.zeros(len(p_new))\n",
    "substance_layer = np.zeros((len(e), len(p_new)))\n",
    "\n",
    "for idx, battery_model in enumerate(segment_choice):\n",
    "    value_added_layer[idx] = B_matrix_nested[battery_model, batt_manuf_index].sum()\n",
    "    value_added_layer[idx] = b_vector_nested_scaled[battery_model].sum()\n",
    "    # F_monetary_nested[r.index(country_selection),battery_model, ].sum() + C_matrix_nested[battery_model, :,batt_manuf_index ].T[g_select].sum()\n",
    "    # value_added_layer [idx] =\n",
    "    # substance_layer[:,idx] =  E_matrix_nested[battery_model, 0, :, batt_manuf_index].sum(axis=0)\n",
    "    criticality_layer[idx] = SC_scaled[battery_model] * EPI_scaled[battery_model]\n",
    "    emission_layer[idx] = H_nested_square[battery_model, 0].sum()\n",
    "\n",
    "# for x in p_new[len(segment_choice):len(p_new)]:\n",
    "#     value_added_layer [p_new.index(x)] = B_matrix_nested [0,p.index(x)].sum()\n",
    "#     substance_layer[:, p_new.index(x)] = E_matrix_nested[0, 0, :, p.index(x)].sum(axis=0)\n"
   ]
  },
  {
   "cell_type": "markdown",
   "metadata": {},
   "source": [
    "Pyomo model"
   ]
  },
  {
   "cell_type": "code",
   "execution_count": null,
   "metadata": {},
   "outputs": [],
   "source": [
    "A_matrix = A_matrix.round(2)\n",
    "\n",
    "# scenarios:\n",
    "criticality_list = [\"Li\", \"P\", \"Mn\", \"Co\", \"Ni\"]\n",
    "elements = IndexTable.loc[\"Elements\", \"Classification\"].Items\n",
    "model = pyo.ConcreteModel(\"battery_design_model\")\n",
    "CF_essenz = ParameterDict[\"6_CR_ESSENZ_CF_elements\"].Values\n",
    "\n",
    "\n",
    "# Set battery pack to 1 unit:\n",
    "A_matrix[g_new.index(\"battery pack\"), 0 : len(segment_choice)] = 1\n",
    "\n",
    "\n",
    "# waste = IndexTable.loc['Waste', 'Classification'].Items\n",
    "goods = [good for good in g_new if good != \"battery production scrap\"]\n",
    "\n",
    "# final demand vector; 100000 battery pack:\n",
    "y = {x: 0 for x in g_new}\n",
    "y[\"battery pack\"] = 1\n",
    "model.y = pyo.Param(g_new, initialize=y, mutable=False)\n",
    "\n",
    "model.epsilon = pyo.Param(initialize=1000000, mutable=True)\n",
    "\n",
    "# Supply vector:\n",
    "model.x = pyo.Var(p_new, domain=pyo.NonNegativeReals)\n",
    "\n",
    "# Change battery production processes to integers (only 1 whole battery can be produced.. )\n",
    "for process in segment_choice:\n",
    "    model.x[process].domain = pyo.NonNegativeIntegers\n",
    "\n",
    "# Objective functions, written as variables for MOO:\n",
    "model.gwp = pyo.Var()\n",
    "model.performance = pyo.Var()\n",
    "model.criticality = pyo.Var()\n",
    "model.cost = pyo.Var()\n",
    "\n",
    "\n",
    "model.C_performance = pyo.Constraint(\n",
    "    expr=model.performance == sum(model.x[process] * performance_layer[p_new.index(process)] for process in p_new)\n",
    ")\n",
    "\n",
    "model.C_criticality = pyo.Constraint(\n",
    "    expr=model.criticality\n",
    "    == sum(\n",
    "        model.x[process] * criticality_layer[p_new.index(process), element]\n",
    "        for process in p_new\n",
    "        for element in range(len(e))\n",
    "    )\n",
    ")\n",
    "\n",
    "model.C_cost = pyo.Constraint(\n",
    "    expr=model.cost == sum(model.x[process] * value_added_layer[p_new.index(process)] for process in p_new)\n",
    ")\n",
    "model.C_gwp = pyo.Constraint(\n",
    "    expr=model.gwp == sum(model.x[process] * emission_layer[p_new.index(process)] for process in p_new)\n",
    ")\n",
    "\n",
    "model.O_cost = pyo.Objective(expr=model.cost, sense=pyo.minimize)\n",
    "model.O_gwp = pyo.Objective(expr=model.gwp, sense=pyo.minimize)\n",
    "model.O_performance = pyo.Objective(expr=model.performance, sense=pyo.maximize)\n",
    "model.O_criticality = pyo.Objective(expr=model.criticality, sense=pyo.minimize)\n",
    "\n",
    "# model.production_constraint = pyo.Constraint(expr=model[x]\n",
    "\n",
    "\n",
    "def material_balance(model, good):\n",
    "    \"\"\"Mass balance and demand constraint\"\"\"\n",
    "    mb = sum(model.x[process] * A_matrix[g_new.index(good), p_new.index(process)] for process in p_new) == model.y[good]\n",
    "    if mb is True:\n",
    "        return pyo.Constraint.Skip\n",
    "    return mb\n",
    "\n",
    "\n",
    "def material_balance_waste(model, waste):\n",
    "    \"\"\"Mass balance and demand constraint\"\"\"\n",
    "    mb = (\n",
    "        sum(model.x[process] * A_matrix[g_new.index(waste), p_new.index(process)] for process in p_new)\n",
    "        >= model.y[waste]\n",
    "    )\n",
    "    if mb is True:\n",
    "        return pyo.Constraint.Skip\n",
    "    return mb\n",
    "\n",
    "\n",
    "model.material_balance = pyo.Constraint(goods, rule=material_balance)\n",
    "model.material_balance_waste = pyo.Constraint([\"battery production scrap\"], rule=material_balance_waste)\n",
    "\n",
    "size_constraint_segments = {\n",
    "    \"length\": {199: 1250, 322: 1700, 410: 1900, 459: 2000},\n",
    "    \"width\": {199: 1053, 322: 1200, 410: 1250, 459: 1300},\n",
    "    \"height\": {199: 160, 322: 160, 410: 160, 459: 160},\n",
    "}\n",
    "\n",
    "\n",
    "def pack_length_constraint(model, process, size_constraint=size_constraint_segments):\n",
    "    if process in D:\n",
    "        vehicle_range = int(bat_design_param_dct[process][\"Vehicle_range_km\"])\n",
    "        return (\n",
    "            model.x[process] * bat_design_param_dct[process][f\"pack_length\"] <= size_constraint[\"length\"][vehicle_range]\n",
    "        )\n",
    "    else:\n",
    "        return pyo.Constraint.Skip\n",
    "\n",
    "\n",
    "def pack_width_constraint(model, process, size_constraint=size_constraint_segments):\n",
    "    if process in D:\n",
    "        vehicle_range = int(bat_design_param_dct[process][\"Vehicle_range_km\"])\n",
    "        return (\n",
    "            model.x[process] * bat_design_param_dct[process][f\"pack_width\"] <= size_constraint[\"width\"][vehicle_range]\n",
    "        )\n",
    "    else:\n",
    "        return pyo.Constraint.Skip\n",
    "\n",
    "\n",
    "def pack_height_constraint(model, process, size_constraint=size_constraint_segments):\n",
    "    if process in D:\n",
    "        vehicle_range = int(bat_design_param_dct[process][\"Vehicle_range_km\"])\n",
    "        return (\n",
    "            model.x[process] * bat_design_param_dct[process][f\"pack_height\"] <= size_constraint[\"height\"][vehicle_range]\n",
    "        )\n",
    "    else:\n",
    "        return pyo.Constraint.Skip\n",
    "\n",
    "\n",
    "model.pack_length_constraint = pyo.Constraint(p_new, rule=pack_length_constraint)\n",
    "model.pack_width_constraint = pyo.Constraint(p_new, rule=pack_width_constraint)\n",
    "model.pack_height_constraint = pyo.Constraint(p_new, rule=pack_height_constraint)\n"
   ]
  },
  {
   "cell_type": "markdown",
   "metadata": {},
   "source": [
    "Iterate over objective functions:"
   ]
  },
  {
   "cell_type": "code",
   "execution_count": null,
   "metadata": {},
   "outputs": [],
   "source": [
    "# Get all objective functions\n",
    "objectives = [x for x in model.component_objects() if x.is_named_expression_type() == True]\n",
    "\n",
    "# deactivate all:\n",
    "[objective.deactivate() for objective in objectives]\n",
    "\n",
    "df = pd.DataFrame(\n",
    "    index=[\n",
    "        \"Cost\",\n",
    "        \"Carbon footprint\",\n",
    "        \"Performance\",\n",
    "        \"Criticality\",\n",
    "        \"Pack design\",\n",
    "        \"Pack weight\",\n",
    "        \"Vehicle weight\",\n",
    "        \"Pack capacity\",\n",
    "        \"Vehicle segment\",\n",
    "        \"Cathode chemistry\",\n",
    "        \"Graphite\",\n",
    "        \"Separator\",\n",
    "        \"Separator coating\",\n",
    "        \"Cell thickness\",\n",
    "        \"Silicon additive\",\n",
    "        \"Cathode foil\",\n",
    "        \"Anode foil\",\n",
    "    ]\n",
    ")\n",
    "df[\"Unit\"] = [\n",
    "    \"$\",\n",
    "    \"CO\\N{SUBSCRIPT TWO}-eq.\",\n",
    "    \"Wh kg\\N{SUPERSCRIPT ONE}\",\n",
    "    \"kg\",\n",
    "    \"Category\",\n",
    "    \"kg\",\n",
    "    \"kg\",\n",
    "    \"kWh\",\n",
    "    \"Segment\",\n",
    "    \"Category\",\n",
    "    \"Category\",\n",
    "    \"um\",\n",
    "    \"um\",\n",
    "    \"cm\",\n",
    "    \"wt%\",\n",
    "    \"um\",\n",
    "    \"um\",\n",
    "]\n",
    "\n",
    "# Iterate through all:\n",
    "for objective in objectives:\n",
    "    objective.activate()\n",
    "    print(f\"Solving {objective.name}\")\n",
    "    pyo.SolverFactory(\"cplex\").solve(model, logfile=\"some_file_name.log\")\n",
    "    for process in p_new:\n",
    "        if model.x[process].value > 0 and process in segment_choice:\n",
    "            design = process\n",
    "\n",
    "    df[objective.name] = [\n",
    "        round(pyo.value(model.cost), 2),\n",
    "        round(pyo.value(model.gwp), 2),\n",
    "        round(pyo.value(model.performance), 2),\n",
    "        round(pyo.value(model.criticality), 2),\n",
    "        design,\n",
    "        round(bat_design_param_dct[design][\"battery_system_weight\"], 1),\n",
    "        round(bat_design_param_dct[design][\"vehicle_weight\"], 0),\n",
    "        round(bat_design_param_dct[design][\"pack_energy_kWh\"], 3),\n",
    "        0,\n",
    "        bat_design_param_dct[design][\"electrode_pair\"],\n",
    "        bat_design_param_dct[design][\"graphite_type\"],\n",
    "        bat_design_param_dct[design][\"sep_foil_thickness\"],\n",
    "        bat_design_param_dct[design][\"sep_coat_thickness\"],\n",
    "        bat_design_param_dct[design][\"cell_thickness_target\"],\n",
    "        bat_design_param_dct[design][\"silicon_anode\"],\n",
    "        bat_design_param_dct[design][\"positive_foil_thickness\"],\n",
    "        bat_design_param_dct[design][\"negative_foil_thickness\"],\n",
    "    ]\n",
    "    objective.deactivate()\n",
    "\n",
    "df\n"
   ]
  },
  {
   "cell_type": "markdown",
   "metadata": {},
   "source": [
    "## Epsilon constraint"
   ]
  },
  {
   "cell_type": "code",
   "execution_count": null,
   "metadata": {},
   "outputs": [],
   "source": [
    "try:\n",
    "    del model.eq2\n",
    "except:\n",
    "    pass \n",
    "obj_1 = model.cost\n",
    "obj_2 = model.performance\n",
    "\n",
    "model.eq2= pyo.Constraint(expr= obj_1<=model.epsilon)\n",
    "\n",
    "\n",
    "#Get all objective functions\n",
    "objectives = [x for x in model.component_objects() if x.is_named_expression_type() == True]\n",
    "\n",
    "#deactivate all:\n",
    "[objective.deactivate() for objective in objectives]\n",
    "\n",
    "\n",
    "model.O_cost.activate()\n",
    "\n",
    "solver = pyo.SolverFactory('cplex')  \n",
    "solver.solve(model)\n",
    "\n",
    "maxOF1 = pyo.value(obj_2)\n",
    "minOF2 = pyo.value(obj_1)\n",
    "print ('optimizing for obj1:')\n",
    "print('obj2 = ' + str(pyo.value(obj_2)))\n",
    "print('obj1 = ' + str(pyo.value(obj_1)))\n",
    "model.O_cost.deactivate()\n",
    "\n",
    "\n",
    "model.O_performance.activate()\n",
    "\n",
    "solver.solve(model)\n",
    "\n",
    "minOF1 = pyo.value(obj_2)\n",
    "maxOF2 = pyo.value(obj_1)\n",
    "print ('optimizing for obj2:')\n",
    "\n",
    "print('obj2 = ' + str(pyo.value(obj_2)))\n",
    "print('obj1 = ' + str(pyo.value(obj_1)))\n",
    "model.O_performance.deactivate()"
   ]
  },
  {
   "cell_type": "code",
   "execution_count": null,
   "metadata": {},
   "outputs": [],
   "source": [
    "model.O_performance.activate()\n",
    "\n",
    "Nsteps= 3\n",
    "X=[]\n",
    "Y=[]\n",
    "design_choice = []\n",
    "print('   OBJ1 ',' OBJ2 ',' Epsilon ')\n",
    "p_values = []\n",
    "for counter in range(1,Nsteps+1):\n",
    "    model.epsilon=minOF2+(maxOF2-minOF2)*(counter-1)/(Nsteps-1)\n",
    "    results = solver.solve(model) # solves and updates instance\n",
    "    design_choice = [design for design in p_new if model.x[design].value>0]\n",
    "    print(\"%5.2f\"% pyo.value(obj_1),\"%5.2f\"% pyo.value(obj_2), \"%5.2f\"% pyo.value(model.epsilon), design_choice[0])\n",
    "    X.append(pyo.value(obj_1))\n",
    "    Y.append(pyo.value(obj_2))"
   ]
  }
 ],
 "metadata": {
  "kernelspec": {
   "display_name": "Python 3 (ipykernel)",
   "language": "python",
   "name": "python3"
  },
  "language_info": {
   "codemirror_mode": {
    "name": "ipython",
    "version": 3
   },
   "file_extension": ".py",
   "mimetype": "text/x-python",
   "name": "python",
   "nbconvert_exporter": "python",
   "pygments_lexer": "ipython3",
   "version": "3.9.12"
  },
  "toc-autonumbering": true
 },
 "nbformat": 4,
 "nbformat_minor": 4
}
