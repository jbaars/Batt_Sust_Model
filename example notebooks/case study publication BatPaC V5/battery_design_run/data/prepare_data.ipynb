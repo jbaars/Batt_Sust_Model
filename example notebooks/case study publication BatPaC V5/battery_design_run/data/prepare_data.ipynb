{
 "cells": [
  {
   "cell_type": "code",
   "execution_count": 1,
   "metadata": {},
   "outputs": [],
   "source": [
    "import pickle\n",
    "import copy\n",
    "import matplotlib.pyplot as plt"
   ]
  },
  {
   "cell_type": "code",
   "execution_count": 2,
   "metadata": {},
   "outputs": [],
   "source": [
    "with open(\"AB.pickle\", 'rb') as handle:\n",
    "    ab = pickle.load(handle)\n"
   ]
  },
  {
   "cell_type": "code",
   "execution_count": 3,
   "metadata": {},
   "outputs": [],
   "source": [
    "new_ab = {}\n",
    "#A segment\n",
    "for x in range(0, int(len(ab)/2)):\n",
    "    new_k = int(len(ab)/2)+x\n",
    "    new_ab[new_k] = copy.deepcopy(ab[x])\n",
    "    new_ab[new_k]['general_battery_parameters'][\"graphite_type\"] = 'natural'\n",
    "    new_ab[new_k]['material_content_pack'][\"anode active material (natural graphite)\"] =  new_ab[new_k]['material_content_pack'][\"anode active material (synthetic graphite)\"]\n",
    "    new_ab[new_k]['material_content_pack'][\"anode active material (synthetic graphite)\"] = 0\n",
    "\n",
    "new_ab.update({k:v for k,v in ab.items() if k in range(0, int(len(ab)/2))})"
   ]
  },
  {
   "cell_type": "code",
   "execution_count": null,
   "metadata": {},
   "outputs": [],
   "source": []
  },
  {
   "cell_type": "code",
   "execution_count": 4,
   "metadata": {},
   "outputs": [],
   "source": [
    "#B segment\n",
    "for x in range(int(len(ab)/2), int(len(ab))):\n",
    "    new_k = len(ab)+x\n",
    "    new_ab[new_k] = copy.deepcopy(ab[x])\n",
    "    new_ab[new_k]['general_battery_parameters'][\"graphite_type\"] = 'natural'\n",
    "    new_ab[new_k]['material_content_pack'][\"anode active material (natural graphite)\"] =  new_ab[new_k]['material_content_pack'][\"anode active material (synthetic graphite)\"]\n",
    "    new_ab[new_k]['material_content_pack'][\"anode active material (synthetic graphite)\"] = 0\n",
    "    \n",
    "new_ab.update({k+int(len(ab)/2):v for k,v in ab.items() if k in range(int(len(ab)/2), int(len(ab)))})"
   ]
  },
  {
   "cell_type": "code",
   "execution_count": 5,
   "metadata": {},
   "outputs": [],
   "source": [
    "with open(\"CD.pickle\", 'rb') as handle:\n",
    "    cd = pickle.load(handle)"
   ]
  },
  {
   "cell_type": "code",
   "execution_count": 6,
   "metadata": {},
   "outputs": [],
   "source": [
    "new_cd = {}\n",
    "#C segment\n",
    "for x in range(0, int(len(cd)/2)):\n",
    "    new_k = int(len(cd)/2)+x\n",
    "    new_cd[new_k] = copy.deepcopy(cd[x])\n",
    "    new_cd[new_k]['general_battery_parameters'][\"graphite_type\"] = 'natural'\n",
    "    new_cd[new_k]['material_content_pack'][\"anode active material (natural graphite)\"] =  new_cd[new_k]['material_content_pack'][\"anode active material (synthetic graphite)\"]\n",
    "    new_cd[new_k]['material_content_pack'][\"anode active material (synthetic graphite)\"] = 0\n",
    "\n",
    "new_cd.update({k:v for k,v in cd.items() if k in range(0, int(len(cd)/2))})"
   ]
  },
  {
   "cell_type": "code",
   "execution_count": 7,
   "metadata": {},
   "outputs": [],
   "source": [
    "#D segment\n",
    "for x in range(int(len(cd)/2), int(len(cd))):\n",
    "    new_k = len(cd)+x\n",
    "    new_cd[new_k] = copy.deepcopy(cd[x])\n",
    "    new_cd[new_k]['general_battery_parameters'][\"graphite_type\"] = 'natural'\n",
    "    new_cd[new_k]['material_content_pack'][\"anode active material (natural graphite)\"] =  new_cd[new_k]['material_content_pack'][\"anode active material (synthetic graphite)\"]\n",
    "    new_cd[new_k]['material_content_pack'][\"anode active material (synthetic graphite)\"] = 0\n",
    "    \n",
    "new_cd.update({k+int(len(cd)/2):v for k,v in cd.items() if k in range(int(len(cd)/2), int(len(cd)))})"
   ]
  },
  {
   "cell_type": "code",
   "execution_count": 8,
   "metadata": {},
   "outputs": [],
   "source": [
    "ab_sorted = {k: new_ab[k] for k in sorted(new_ab)}\n",
    "cd_sorted = {k+len(ab_sorted): new_cd[k] for k in sorted(new_cd)}\n",
    "dict_all = {**ab_sorted, **cd_sorted}"
   ]
  },
  {
   "cell_type": "code",
   "execution_count": 9,
   "metadata": {},
   "outputs": [],
   "source": [
    "import pickle\n",
    "with open('ABCD_clean.pickle', 'wb') as handle:\n",
    "    pickle.dump(dict_all, handle, protocol=pickle.HIGHEST_PROTOCOL)\n",
    "    "
   ]
  },
  {
   "cell_type": "code",
   "execution_count": 10,
   "metadata": {},
   "outputs": [],
   "source": [
    "import pandas as pd\n",
    "pd.DataFrame.from_dict([dict_all[x]['general_battery_parameters'] for x in dict_all.keys()]).to_excel('3_PAR_battery_design_parameters.xlsx')\n",
    "pd.DataFrame.from_dict([dict_all[x]['material_content_pack'] for x in dict_all.keys()]).to_excel('3_MC_battery_pack_materials.xlsx')"
   ]
  },
  {
   "cell_type": "code",
   "execution_count": 11,
   "metadata": {},
   "outputs": [
    {
     "data": {
      "text/plain": [
       "[<matplotlib.lines.Line2D at 0x26ddb8e2dc0>]"
      ]
     },
     "execution_count": 11,
     "metadata": {},
     "output_type": "execute_result"
    },
    {
     "data": {
      "image/png": "[encoded data removed]",
      "text/plain": [
       "<Figure size 432x288 with 1 Axes>"
      ]
     },
     "metadata": {
      "needs_background": "light"
     },
     "output_type": "display_data"
    }
   ],
   "source": [
    "plt.plot([dict_all[x]['general_battery_parameters']['pack_energy_kWh'] for x in dict_all.keys()])"
   ]
  },
  {
   "cell_type": "code",
   "execution_count": 16,
   "metadata": {},
   "outputs": [
    {
     "data": {
      "text/plain": [
       "[<matplotlib.lines.Line2D at 0x26de33d0730>]"
      ]
     },
     "execution_count": 16,
     "metadata": {},
     "output_type": "execute_result"
    },
    {
     "data": {
      "image/png": "[encoded data removed]",
      "text/plain": [
       "<Figure size 432x288 with 1 Axes>"
      ]
     },
     "metadata": {
      "needs_background": "light"
     },
     "output_type": "display_data"
    }
   ],
   "source": [
    "plt.plot([dict_all[x]['material_content_pack'][\"anode active material (natural graphite)\"] for x in dict_all.keys()])"
   ]
  }
 ],
 "metadata": {
  "interpreter": {
   "hash": "77b1a39b2e46dae2d06de88b1d8cb6f5c7562cfa1125541e21b7ad9f29b27783"
  },
  "kernelspec": {
   "display_name": "Python 3.9.12 ('bw')",
   "language": "python",
   "name": "python3"
  },
  "language_info": {
   "codemirror_mode": {
    "name": "ipython",
    "version": 3
   },
   "file_extension": ".py",
   "mimetype": "text/x-python",
   "name": "python",
   "nbconvert_exporter": "python",
   "pygments_lexer": "ipython3",
   "version": "3.9.12"
  },
  "orig_nbformat": 4
 },
 "nbformat": 4,
 "nbformat_minor": 2
}
