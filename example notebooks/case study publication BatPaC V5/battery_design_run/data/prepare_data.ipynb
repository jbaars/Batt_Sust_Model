{
 "cells": [
  {
   "cell_type": "code",
   "execution_count": 25,
   "metadata": {},
   "outputs": [],
   "source": [
    "import pickle\n",
    "import copy\n",
    "import matplotlib.pyplot as plt"
   ]
  },
  {
   "cell_type": "code",
   "execution_count": 26,
   "metadata": {},
   "outputs": [],
   "source": [
    "with open(\"AB.pickle\", 'rb') as handle:\n",
    "    ab = pickle.load(handle)\n"
   ]
  },
  {
   "cell_type": "code",
   "execution_count": 27,
   "metadata": {},
   "outputs": [],
   "source": [
    "new_ab = {}\n",
    "#A segment\n",
    "for x in range(0, int(len(ab)/2)):\n",
    "    new_k = int(len(ab)/2)+x\n",
    "    new_ab[new_k] = copy.deepcopy(ab[x])\n",
    "    new_ab[new_k]['general_battery_parameters'][\"graphite_type\"] = 'natural'\n",
    "    new_ab[new_k]['material_content_pack'][\"anode active material (natural graphite)\"] =  new_ab[new_k]['material_content_pack'][\"anode active material (synthetic graphite)\"]\n",
    "    new_ab[new_k]['material_content_pack'][\"anode active material (synthetic graphite)\"] = 0\n",
    "\n",
    "new_ab.update({k:v for k,v in ab.items() if k in range(0, int(len(ab)/2))})"
   ]
  },
  {
   "cell_type": "code",
   "execution_count": 28,
   "metadata": {},
   "outputs": [],
   "source": [
    "#B segment\n",
    "for x in range(int(len(ab)/2), int(len(ab))):\n",
    "    new_k = len(ab)+x\n",
    "    new_ab[new_k] = copy.deepcopy(ab[x])\n",
    "    new_ab[new_k]['general_battery_parameters'][\"graphite_type\"] = 'natural'\n",
    "    new_ab[new_k]['material_content_pack'][\"anode active material (natural graphite)\"] =  new_ab[new_k]['material_content_pack'][\"anode active material (synthetic graphite)\"]\n",
    "    new_ab[new_k]['material_content_pack'][\"anode active material (synthetic graphite)\"] = 0\n",
    "    \n",
    "new_ab.update({k+int(len(ab)/2):v for k,v in ab.items() if k in range(int(len(ab)/2), int(len(ab)))})"
   ]
  },
  {
   "cell_type": "code",
   "execution_count": 29,
   "metadata": {},
   "outputs": [],
   "source": [
    "with open(\"CD.pickle\", 'rb') as handle:\n",
    "    cd = pickle.load(handle)"
   ]
  },
  {
   "cell_type": "code",
   "execution_count": 30,
   "metadata": {},
   "outputs": [],
   "source": [
    "new_cd = {}\n",
    "#C segment\n",
    "for x in range(0, int(len(cd)/2)):\n",
    "    new_k = int(len(cd)/2)+x\n",
    "    new_cd[new_k] = copy.deepcopy(cd[x])\n",
    "    new_cd[new_k]['general_battery_parameters'][\"graphite_type\"] = 'natural'\n",
    "    new_cd[new_k]['material_content_pack'][\"anode active material (natural graphite)\"] =  new_cd[new_k]['material_content_pack'][\"anode active material (synthetic graphite)\"]\n",
    "    new_cd[new_k]['material_content_pack'][\"anode active material (synthetic graphite)\"] = 0\n",
    "\n",
    "new_cd.update({k:v for k,v in cd.items() if k in range(0, int(len(cd)/2))})"
   ]
  },
  {
   "cell_type": "code",
   "execution_count": 31,
   "metadata": {},
   "outputs": [],
   "source": [
    "#D segment\n",
    "for x in range(int(len(cd)/2), int(len(cd))):\n",
    "    new_k = len(cd)+x\n",
    "    new_cd[new_k] = copy.deepcopy(cd[x])\n",
    "    new_cd[new_k]['general_battery_parameters'][\"graphite_type\"] = 'natural'\n",
    "    new_cd[new_k]['material_content_pack'][\"anode active material (natural graphite)\"] =  new_cd[new_k]['material_content_pack'][\"anode active material (synthetic graphite)\"]\n",
    "    new_cd[new_k]['material_content_pack'][\"anode active material (synthetic graphite)\"] = 0\n",
    "    \n",
    "new_cd.update({k+int(len(cd)/2):v for k,v in cd.items() if k in range(int(len(cd)/2), int(len(cd)))})"
   ]
  },
  {
   "cell_type": "code",
   "execution_count": 32,
   "metadata": {},
   "outputs": [],
   "source": [
    "ab_sorted = {k: new_ab[k] for k in sorted(new_ab)}\n",
    "cd_sorted = {k+len(ab_sorted): new_cd[k] for k in sorted(new_cd)}\n",
    "dict_all = {**ab_sorted, **cd_sorted}"
   ]
  },
  {
   "cell_type": "code",
   "execution_count": 33,
   "metadata": {},
   "outputs": [],
   "source": [
    "import pickle\n",
    "with open('ABCD_clean.pickle', 'wb') as handle:\n",
    "    pickle.dump(dict_all, handle, protocol=pickle.HIGHEST_PROTOCOL)\n",
    "    "
   ]
  },
  {
   "cell_type": "code",
   "execution_count": 34,
   "metadata": {},
   "outputs": [],
   "source": [
    "import pandas as pd\n",
    "pd.DataFrame.from_dict([dict_all[x]['general_battery_parameters'] for x in dict_all.keys()]).to_excel('3_PAR_battery_design_parameters.xlsx')\n",
    "pd.DataFrame.from_dict([dict_all[x]['material_content_pack'] for x in dict_all.keys()]).to_excel('3_MC_battery_pack_materials.xlsx')"
   ]
  },
  {
   "cell_type": "code",
   "execution_count": 35,
   "metadata": {},
   "outputs": [
    {
     "data": {
      "text/plain": [
       "[<matplotlib.lines.Line2D at 0x20f30686130>]"
      ]
     },
     "execution_count": 35,
     "metadata": {},
     "output_type": "execute_result"
    },
    {
     "data": {
      "image/png": "[encoded data removed]",
      "text/plain": [
       "<Figure size 432x288 with 1 Axes>"
      ]
     },
     "metadata": {
      "needs_background": "light"
     },
     "output_type": "display_data"
    }
   ],
   "source": [
    "plt.plot([dict_all[x]['general_battery_parameters']['pack_energy_kWh'] for x in dict_all.keys()])"
   ]
  },
  {
   "cell_type": "code",
   "execution_count": 36,
   "metadata": {},
   "outputs": [
    {
     "data": {
      "text/plain": [
       "{'electrode_pair': 'NMC333-G (Energy)',\n",
       " 'cell_capacity_ah': 37.92724283826418,\n",
       " 'cell_nominal_voltage': 3.690996966053691,\n",
       " 'module_capacity_ah': 113.78172851479253,\n",
       " 'module_nominal_voltage': 14.763987864214764,\n",
       " 'pack_capacity_ah': 113.78172851479253,\n",
       " 'pack_nominal_voltage': 295.2797572842953,\n",
       " 'pack_power_kW': 534.268770377432,\n",
       " 'pack_energy_kWh': 33.59744117923552,\n",
       " 'pack_usable_energy_kWh': 31.581594708481383,\n",
       " 'power_to_energy_kw/kWh': 15.902067289208627,\n",
       " 'specific_energy_cell_Wh/kg': 291.1170632995235,\n",
       " 'energy_density_cell_Wh/L': 547.0666087046405,\n",
       " 'specific_energy_pack_Wh/kg': 144.64459786469192,\n",
       " 'energy_density_pack_Wh/L': 237.28489556331797,\n",
       " 'Vehicle_range_km': 199.99999992360907,\n",
       " 'cells_per_pack': 240.0,\n",
       " 'cells_per_module': 12,\n",
       " 'modules_per_pack': 20.0,\n",
       " 'total_packs_vehicle': 1.0,\n",
       " 'cell_volume': 255.89084769455275,\n",
       " 'cell_group_interconnect': 4.410772241601142,\n",
       " 'cells_in_parallel': 3,\n",
       " 'modules_in_parallel': 1,\n",
       " 'cell_series_in_module': 4.0,\n",
       " 'cost_pack_heating_thermal': 140.0,\n",
       " 'heat_generation_discharge': 4000.0,\n",
       " 'addition_cost_ac_system': 160.0,\n",
       " 'battery_management_system_cost': 286.5893288806202,\n",
       " 'total_bus_bars': 1,\n",
       " 'cell_length': 229.40166665949675,\n",
       " 'cell_width': 55.811414096391964,\n",
       " 'cell_thickness': 19.986426820967026,\n",
       " 'module_length': 237.40166665949675,\n",
       " 'module_width': 245.2371218516043,\n",
       " 'module_height': 57.21141409639196,\n",
       " 'pack_length': 1309.1856092580215,\n",
       " 'pack_width': 1042.606666637987,\n",
       " 'pack_height': 99.21141409639196,\n",
       " 'system_volume': 138.7911497420629,\n",
       " 'positive_electrode_thickness': 74.0,\n",
       " 'battery_system_weight': 232.24919784250815,\n",
       " 'charge_time': 60.0,\n",
       " 'cell_container_al_layer': 9.426129613692904,\n",
       " 'cell_container_pet_layer': 1.4453398740995784,\n",
       " 'cell_container_pp_layer': 0.6605273047817398,\n",
       " 'positive_am_per_cell': 221.40830611946396,\n",
       " 'glider_weight': 1099.5469987702297,\n",
       " 'transmission_weight': 41.6988,\n",
       " 'motor_controller_weight': 64.152,\n",
       " 'vehicle_weight': 1437.646996612738,\n",
       " 'available_energy': 94,\n",
       " 'max_charging_time': 60,\n",
       " 'calculate_fast_charge': 'Yes',\n",
       " 'max_charge_power': 150,\n",
       " 'vehicle_type': 'EV',\n",
       " 'A_coefficient': 101.8642746,\n",
       " 'B_coefficient': 3.42293361,\n",
       " 'C_coefficient': 0.373273116,\n",
       " 'vehicle_range_miles': 124.2742384,\n",
       " 'motor_power': 55,\n",
       " 'power_auxillary': 475,\n",
       " 'modules_per_row': 5,\n",
       " 'rows_of_modules': 4,\n",
       " 'silicon_anode': 0,\n",
       " 'positive_foil_thickness': 10,\n",
       " 'positive_max_thickness': 74,\n",
       " 'negative_foil_thickness': 6,\n",
       " 'sep_film_thickness': 5,\n",
       " 'sep_coat_thickness': 0,\n",
       " 'graphite_type': 'synthetic',\n",
       " 'cell_thickness_target': 20}"
      ]
     },
     "execution_count": 36,
     "metadata": {},
     "output_type": "execute_result"
    }
   ],
   "source": [
    "dict_all[0]['general_battery_parameters']"
   ]
  }
 ],
 "metadata": {
  "interpreter": {
   "hash": "77b1a39b2e46dae2d06de88b1d8cb6f5c7562cfa1125541e21b7ad9f29b27783"
  },
  "kernelspec": {
   "display_name": "Python 3.9.12 ('bw')",
   "language": "python",
   "name": "python3"
  },
  "language_info": {
   "codemirror_mode": {
    "name": "ipython",
    "version": 3
   },
   "file_extension": ".py",
   "mimetype": "text/x-python",
   "name": "python",
   "nbconvert_exporter": "python",
   "pygments_lexer": "ipython3",
   "version": "3.9.12"
  },
  "orig_nbformat": 4
 },
 "nbformat": 4,
 "nbformat_minor": 2
}
