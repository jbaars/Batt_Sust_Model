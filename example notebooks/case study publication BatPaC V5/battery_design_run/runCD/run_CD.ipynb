{
 "cells": [
  {
   "cell_type": "code",
   "execution_count": 1,
   "metadata": {},
   "outputs": [],
   "source": [
    "\"\"\" Script to obtain all battery design parameters from BatPaC\"\"\"\n",
    "\n",
    "# from Model.battery_design import battery_design as bd\n",
    "import matplotlib.pyplot as plt\n",
    "from battery_design import battery_design as bd\n",
    "import sys\n",
    "import itertools\n",
    "import pickle\n",
    "local_path = r\"C:\\Users\\Joris\\OneDrive - Newcastle University\\Python\\Projects\\Batt_Sust_Model-1\\batt_sust_model\"  # ADD PATH\n",
    "sys.path.insert(1, local_path)\n",
    "\n",
    "path_batpac =r\"C:\\Users\\Joris\\OneDrive - Newcastle University\\Python\\Projects\\Batt_Sust_Model-1\\example notebooks\\case study publication example\\battery_design_run\\runCD\\BatPaC 5.0 - 8March2022_CD.xlsm\"\n",
    "\n",
    "\n",
    "\n",
    "A = [\n",
    "    101.8642746,  # A coefficient\n",
    "    3.42293361,  # B coefficient\n",
    "    0.373273116,  # C coefficient\n",
    "    55,  # Motor power\n",
    "    5,  # Modules per row\n",
    "    4,  # rows of modules\n",
    "    200,        # RANGE (wltp)\n",
    "    [12, 6],  # cells per module [20mm cell, 40mm cell],\n",
    "    475,  # power requirement auxilary (W)\n",
    "    [3,2],#cells in parallel 20/40\n",
    "    [1,1]#modules in parallel\n",
    "]\n",
    "B = [\n",
    "    110.5783408,\n",
    "    -1.99365982,\n",
    "    0.456185601,\n",
    "    150,\n",
    "    5,  # Modules per row\n",
    "    4,  # rows of modules\n",
    "    322,\n",
    "    [14, 7],\n",
    "    575,\n",
    "    [3,2],\n",
    "    [1,1]\n",
    "]\n",
    "\n",
    "C = [135.9999272,\n",
    "        3.732390689,\n",
    "        0.406771986,\n",
    "        150,\n",
    "        5,  # Modules per row\n",
    "    4,  # rows of modules\n",
    "        411,\n",
    "        [18, 9],\n",
    "        715,\n",
    "        [3,2],\n",
    "        [1,1]\n",
    "        ]\n",
    "\n",
    "D = [208.0433242,\n",
    "        2.591081139,\n",
    "        0.473213265,\n",
    "        209,\n",
    "        5,  # Modules per row\n",
    "    4,  # rows of modules\n",
    "        460,\n",
    "        [20, 10],\n",
    "        775,\n",
    "        [3,2],\n",
    "        [1,1]\n",
    "        ]\n",
    "\n",
    "\n",
    "\n",
    "cathode_foil = [10, 14, 18]\n",
    "anode_foil = [6, 10, 14]\n",
    "separator = [(5, 0), (7, 0), (9, 0), (5, 2), (7, 2), (9, 3)]\n",
    "segment = [C,D]\n",
    "cathode_am = ['NMC333-G (Energy)', 'NMC532-G (Energy)', 'NMC622-G (Energy)', 'NMC811-G (Energy)',\n",
    "                'NCA-G (Energy)', 'LFP-G (Energy)', '50%/50% NMC532/LMO - G', \"LMO-G (Energy)\"]\n",
    "silicon_anode = [0, 5, 10]\n",
    "cell_thickness = [20, 40]\n",
    "\n",
    "battery_designs_params = {}\n",
    "count = 0\n",
    "\n"
   ]
  },
  {
   "cell_type": "code",
   "execution_count": null,
   "metadata": {},
   "outputs": [],
   "source": []
  },
  {
   "cell_type": "code",
   "execution_count": 2,
   "metadata": {},
   "outputs": [
    {
     "name": "stdout",
     "output_type": "stream",
     "text": [
      "Establishing parameter dictionary\n"
     ]
    }
   ],
   "source": [
    "\n",
    "print('Establishing parameter dictionary')\n",
    "for vehicle_parameters in segment:\n",
    "    for cf in cathode_foil:\n",
    "        for af in anode_foil:\n",
    "            for sf in separator:\n",
    "                for cam in cathode_am:\n",
    "                    for sil in silicon_anode:\n",
    "                        for cd in cell_thickness:\n",
    "                            if cd == 20:\n",
    "                                cells_module = 0\n",
    "                            else:\n",
    "                                cells_module = 1\n",
    "\n",
    "                            name = count\n",
    "                            battery = bd.Battery_system(\n",
    "                                vehicle_type=\"EV\",\n",
    "                                electrode_pair=cam,\n",
    "                                silicon_anode=sil,\n",
    "                                calculate_fast_charge='Yes',\n",
    "                                max_charging_time=60,\n",
    "                                max_charge_power=150,\n",
    "                                available_energy=94,\n",
    "                                cells_in_parallel=vehicle_parameters[9][cells_module],\n",
    "                                modules_in_parallel=1,\n",
    "                                A_coefficient=vehicle_parameters[0],\n",
    "                                B_coefficient=vehicle_parameters[1],\n",
    "                                C_coefficient=vehicle_parameters[2],\n",
    "                                vehicle_range_miles=vehicle_parameters[6]\n",
    "                                * 0.621371192,  # MUST BE MILES IN BATPAC\n",
    "                                motor_power=vehicle_parameters[3],\n",
    "                                cells_per_module=vehicle_parameters[7][cells_module],  # THIS IS Z\n",
    "                                modules_per_row=vehicle_parameters[4],\n",
    "                                rows_of_modules=vehicle_parameters[5],\n",
    "                                positive_foil_thickness=cf,\n",
    "                                negative_foil_thickness=af,\n",
    "                                sep_film_thickness=sf[0],\n",
    "                                sep_coat_thickness=sf[1],\n",
    "                                cell_thickness_target=cell_thickness[cells_module],\n",
    "                                power_auxillary=vehicle_parameters[8],\n",
    "                                positive_max_thickness=74\n",
    "\n",
    "                            ).parameter_dictionary()\n",
    "                            count += 1\n",
    "\n",
    "                            battery_designs_params[name] = battery\n"
   ]
  },
  {
   "cell_type": "code",
   "execution_count": null,
   "metadata": {},
   "outputs": [],
   "source": []
  },
  {
   "cell_type": "code",
   "execution_count": 3,
   "metadata": {},
   "outputs": [
    {
     "name": "stderr",
     "output_type": "stream",
     "text": [
      "100%|██████████| 5184/5184 [9:27:43<00:00,  6.57s/it]  \n"
     ]
    },
    {
     "name": "stdout",
     "output_type": "stream",
     "text": [
      "esult_all.picklebattery designs. Saved results as c:\\Users\\Joris\\OneDrive - Newcastle University\\Python\\Projects\\Batt_Sust_Model-1\\example notebooks\\case study publication BatPaC V5\\battery_design_run\\runCD\n"
     ]
    }
   ],
   "source": [
    "calculated_system = bd.solve_batpac_battery_system_multiple(\n",
    "        path_batpac, \n",
    "        battery_designs_params, \n",
    "        visible=False,\n",
    "        save_iterations= 100\n",
    "    )\n",
    "\n"
   ]
  },
  {
   "cell_type": "code",
   "execution_count": null,
   "metadata": {},
   "outputs": [],
   "source": []
  }
 ],
 "metadata": {
  "interpreter": {
   "hash": "77b1a39b2e46dae2d06de88b1d8cb6f5c7562cfa1125541e21b7ad9f29b27783"
  },
  "kernelspec": {
   "display_name": "Python 3.9.12 ('bw')",
   "language": "python",
   "name": "python3"
  },
  "language_info": {
   "codemirror_mode": {
    "name": "ipython",
    "version": 3
   },
   "file_extension": ".py",
   "mimetype": "text/x-python",
   "name": "python",
   "nbconvert_exporter": "python",
   "pygments_lexer": "ipython3",
   "version": "3.9.12"
  },
  "orig_nbformat": 4
 },
 "nbformat": 4,
 "nbformat_minor": 2
}
