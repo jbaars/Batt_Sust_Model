{
 "cells": [
  {
   "cell_type": "code",
   "execution_count": 1,
   "metadata": {},
   "outputs": [],
   "source": [
    "import pickle\n",
    "import copy\n",
    "import matplotlib.pyplot as plt"
   ]
  },
  {
   "cell_type": "code",
   "execution_count": 7,
   "metadata": {},
   "outputs": [],
   "source": [
    "with open(\"AB.pickle\", 'rb') as handle:\n",
    "    ab = pickle.load(handle)\n",
    "with open(\"CD.pickle\", 'rb') as handle:\n",
    "    cd = pickle.load(handle)"
   ]
  },
  {
   "cell_type": "code",
   "execution_count": 8,
   "metadata": {},
   "outputs": [],
   "source": [
    "ab_new = {}\n",
    "for x in ab.keys():\n",
    "    new_key = x+len(ab)\n",
    "    ab_new[new_key] = copy.deepcopy(ab[x])\n",
    "    ab_new[new_key]['material_content_pack']['anode active material (natural graphite)']=ab_new[new_key]['material_content_pack']['anode active material (synthetic graphite)']\n",
    "    ab_new[new_key]['material_content_pack']['anode active material (synthetic graphite)'] = 0\n",
    "    ab_new[new_key]['general_battery_parameters']['graphite_type'] = 'natural'\n",
    "    \n",
    "ab.update(ab_new)\n",
    "    "
   ]
  },
  {
   "cell_type": "code",
   "execution_count": 9,
   "metadata": {},
   "outputs": [],
   "source": [
    "cd_new = {}\n",
    "\n",
    "for x in cd.keys():\n",
    "    key = x+len(ab)\n",
    "    new_key = x+len(ab)+len(cd)\n",
    "    cd_new[key] = cd[x]\n",
    "    cd_new[new_key] = copy.deepcopy(cd[x])\n",
    "    cd_new[new_key]['material_content_pack']['anode active material (natural graphite)']=cd_new[new_key]['material_content_pack']['anode active material (synthetic graphite)']\n",
    "    cd_new[new_key]['material_content_pack']['anode active material (synthetic graphite)'] = 0\n",
    "    cd_new[new_key]['general_battery_parameters']['graphite_type'] = 'natural'\n",
    "    \n"
   ]
  },
  {
   "cell_type": "code",
   "execution_count": 14,
   "metadata": {},
   "outputs": [
    {
     "data": {
      "text/plain": [
       "[<matplotlib.lines.Line2D at 0x1b0113f30d0>]"
      ]
     },
     "execution_count": 14,
     "metadata": {},
     "output_type": "execute_result"
    },
    {
     "data": {
      "image/png": "[encoded data removed]",
      "text/plain": [
       "<Figure size 432x288 with 1 Axes>"
      ]
     },
     "metadata": {
      "needs_background": "light"
     },
     "output_type": "display_data"
    }
   ],
   "source": [
    "plt.plot([cd_sorted[x]['general_battery_parameters']['pack_usable_energy_kWh'] for x in cd_sorted.keys()])"
   ]
  },
  {
   "cell_type": "code",
   "execution_count": null,
   "metadata": {},
   "outputs": [],
   "source": []
  },
  {
   "cell_type": "code",
   "execution_count": 13,
   "metadata": {},
   "outputs": [],
   "source": [
    "cd_sorted = {k: cd_new[k] for k in sorted(cd_new)}\n",
    "\n",
    "dict_all = {**ab, **cd_new}"
   ]
  },
  {
   "cell_type": "code",
   "execution_count": 15,
   "metadata": {},
   "outputs": [],
   "source": [
    "import pandas as pd\n",
    "\n",
    "df_par = pd.DataFrame.from_dict([dict_all[x]['general_battery_parameters'] for x in dict_all.keys()])\n",
    "df_mc = pd.DataFrame.from_dict([dict_all[x]['material_content_pack'] for x in dict_all.keys()])\n",
    "\n",
    "df_mc.to_excel('3_MC_battery_pack_material.xlsx')\n",
    "df_par.to_excel('3_PAR_battery_design_parameters.xlsx')"
   ]
  },
  {
   "cell_type": "code",
   "execution_count": 7,
   "metadata": {},
   "outputs": [],
   "source": []
  }
 ],
 "metadata": {
  "interpreter": {
   "hash": "77b1a39b2e46dae2d06de88b1d8cb6f5c7562cfa1125541e21b7ad9f29b27783"
  },
  "kernelspec": {
   "display_name": "Python 3.9.12 ('bw')",
   "language": "python",
   "name": "python3"
  },
  "language_info": {
   "codemirror_mode": {
    "name": "ipython",
    "version": 3
   },
   "file_extension": ".py",
   "mimetype": "text/x-python",
   "name": "python",
   "nbconvert_exporter": "python",
   "pygments_lexer": "ipython3",
   "version": "3.9.12"
  },
  "orig_nbformat": 4
 },
 "nbformat": 4,
 "nbformat_minor": 2
}
