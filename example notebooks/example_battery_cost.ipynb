{
 "cells": [
  {
   "cell_type": "markdown",
   "id": "313e5b4c-8ed1-4f83-b757-84a390bd7957",
   "metadata": {},
   "source": [
    "## Import required packages"
   ]
  },
  {
   "cell_type": "code",
   "execution_count": 4,
   "id": "0d07409b",
   "metadata": {},
   "outputs": [],
   "source": [
    "#Import required packages\n",
    "import copy\n",
    "import numpy as np\n",
    "import logging as log\n",
    "import pandas as pd\n",
    "import openpyxl\n",
    "import brightway2 as bw\n",
    "import sys\n",
    "import matplotlib.pyplot as plt\n",
    "import os"
   ]
  },
  {
   "cell_type": "code",
   "execution_count": 9,
   "id": "b8e00e65-53b1-4c53-96b6-1e36d6dd080c",
   "metadata": {},
   "outputs": [],
   "source": [
    "#Local modules\n",
    "#path to ODYM:\n",
    "sys.path.insert(0, os.path.join(r\"C:\\Users\\Joris\\OneDrive - Newcastle University\\Python\\ODYM\")) \n",
    "import ODYM_Classes as msc\n",
    "import ODYM_Functions as msf\n",
    "import dynamic_stock_model as dsm\n",
    "\n",
    "\n",
    "\n",
    "#Import the battery design module from a local path\n",
    "local_path =r\"C:\\Users\\Joris\\OneDrive - Newcastle University\\Python\\Projects\\Batt_Sust_Model\\batt_sust_model\" #ADD PATH\n",
    "sys.path.insert(1, local_path)\n",
    "from battery_design import battery_design as bd\n",
    "import battery_cost as bat_cost\n",
    "import battery_emissions as bat_lca\n",
    "\n",
    "#Local path to BatPaC version 5\n",
    "path_batpac = r\"C:\\Users\\Joris\\OneDrive - Newcastle University\\PhD\\Models\\battery_sustainability_model\\Case study\\BatPaC 5.0 10Feb2022.xlsm\"#ADD PATH\n",
    "\n",
    "\n",
    "# log_verbosity = eval(\"log.INFO\")\n",
    "# log_filename  = 'log_file.md'\n",
    "# [Mylog, console_log, file_log] = msf.function_logger(log_filename, os.getcwd(),\n",
    "#                                                      log_verbosity, log_verbosity)\n",
    "\n"
   ]
  },
  {
   "cell_type": "markdown",
   "id": "1063794e",
   "metadata": {},
   "source": [
    "# Battery manufacturing costs (example 1)\n",
    "\n",
    "The price of the battery are determined ..\n",
    "\n",
    "Battery manufacturing costs are calculated through both methods. \n",
    "\n",
    "Price vector methods for upstream materials.... \n",
    "\n",
    "\n",
    "Value added per process ($b$) is determined for each battery system.. "
   ]
  },
  {
   "cell_type": "markdown",
   "id": "242d6b8d-887c-4890-9870-27aa313bdc6e",
   "metadata": {},
   "source": [
    "## Establish foreground system\n",
    "First, the material content of a single battery is obtained. The geometric design of the Volkswagen ID.3 77 kWh version as reported by<br>\n",
    "[PushEVS.com](https://pushevs.com/2020/05/13/volkswagen-meb-details/):\n",
    "* Vehicle type: battery electric vehicle\n",
    "* usable battery energy: 94%\n",
    "* Total pack energy: 82 kWh\n",
    "* Electrode pair: NMC622-G\n",
    "* Silicon additive anode: 0%\n",
    "* Cells per module: 24\n",
    "* Modules per pack: 12\n",
    "* Cooling: liquid\n",
    "* Modules in parallel: 2 <br>\n",
    "<br>\n",
    "All other parameters are BatPaC default parameters."
   ]
  },
  {
   "cell_type": "markdown",
   "id": "05ca3661-8dbc-452d-b521-6de8f0e42e66",
   "metadata": {},
   "source": [
    "### Solve battery design in BatPaC"
   ]
  },
  {
   "cell_type": "code",
   "execution_count": 6,
   "id": "3fe5040f",
   "metadata": {},
   "outputs": [],
   "source": [
    "#Establish battery system class of specific design:\n",
    "battery = bd.Battery_system ( vehicle_type='EV', electrode_pair='LFP-G (Power)', cells_per_module=24, modules_per_row=6,rows_of_modules=2, \n",
    "                             cells_in_parallel=1,silicon_anode= 0.0, pack_energy=82, available_energy=94)\n",
    "#Establish parameter dictionary\n",
    "parameter_dict = battery.parameter_dictionary()\n",
    "\n",
    "#Solve battery design in BatPaC returning nested dictionary with material contents and parameter values (takes between 5-10 seconds). \n",
    "#Make sure BatPaC is not open or running in the background. \n",
    "#BatPaC can run in the foreground if visible=True\n",
    "result_dict = bd.solve_batpac_battery_system (batpac_path = path_batpac, parameter_dict=parameter_dict, visible=False)"
   ]
  },
  {
   "cell_type": "markdown",
   "id": "3645bd0d-5647-4513-a9b2-a762f0ef33d2",
   "metadata": {},
   "source": [
    "# Quantify material flows in physical units"
   ]
  },
  {
   "cell_type": "code",
   "execution_count": 7,
   "id": "54c436e9-b55f-4207-b870-1ccb114543c9",
   "metadata": {},
   "outputs": [
    {
     "name": "stdout",
     "output_type": "stream",
     "text": [
      "Biosphere database already present!!! No setup is needed\n"
     ]
    }
   ],
   "source": [
    "#Brightway2 general setup:\n",
    "bw.projects.set_current('parameterised_battery_lca')\n",
    "bw.bw2setup()\n",
    "#Import ecoinvent 3.7.1:\n",
    "if 'eidb 3.7' in bw.databases:\n",
    "    pass\n",
    "else:\n",
    "    pathi37 = 'path to ecoinvent'\n",
    "    eidb37 = bw.SingleOutputEcospold2Importer(pathi37, 'eidb 3.7')\n",
    "    eidb37.apply_strategies()\n",
    "    eidb37.statistics()\n",
    "\n",
    "# df_act_functions = pd.read_excel(r\"C:\\Users\\Joris\\OneDrive - Newcastle University\\PhD\\Models\\ME optimisation model\\ME_battery_supply_chain\\Modules\\2_lca_lcc_module\\data\\bw_activity_functions.xlsx\", \n",
    "#                                  sheet_name = 'activity_functions_cut_off')\n",
    "\n",
    "# bat_lca.import_activity_functions (df_act_functions)  \n"
   ]
  },
  {
   "cell_type": "code",
   "execution_count": 13,
   "id": "6c03c3da-6b13-417b-af4f-1cdf4c4f482d",
   "metadata": {},
   "outputs": [],
   "source": [
    "#Convert BatPaC output to Brightway parameter names\n",
    "result_dict['design_parameters'] = bat_lca.output_as_bw_param(result_dict)\n",
    "\n",
    "# Append additional project parameters and recalculate project parameters (e.g. total anode active material based on process yield)\n",
    "result_dict['design_parameters'] = bat_lca.get_project_parameters_dict(result_dict)"
   ]
  },
  {
   "cell_type": "code",
   "execution_count": 16,
   "id": "16c8dc2f",
   "metadata": {},
   "outputs": [],
   "source": [
    "#Reset \n",
    "bat_lca.update_param_battery_bw(result_dict['design_parameters'])\n",
    "\n",
    "# Cut off the exchanges if activity if present in the 'cut off database'. E.g. 6um copper foil production is present in the 'cut of database' and will be cut in the anode coating process. All cut-off exchanges are set to zero\n",
    "a = bat_lca.modules_with_cuts('cut_off_materials')\n",
    "\n",
    "# Divide all battery production activities by total battery system weight:\n",
    "\n",
    "bat_product_act = [act['name'] for act in bw.Database('battery_production')]\n",
    "for act in bat_product_act:\n",
    "    pack_weight = result_dict['design_parameters']['battery_pack']\n",
    "    a[act]['amount'] = a[act]['amount']\n",
    "    for exc in a[act]['cuts'].keys():\n",
    "        a[act]['cuts'][exc][1] = a[act]['cuts'][exc][1]\n",
    "#Cut modules:\n",
    "bat_lca.cut_modules_to_zero(a)\n",
    "\n",
    "# Establish product-module dataframe of base system\n",
    "A=bat_lca.modular_technology_matrix(a)"
   ]
  },
  {
   "cell_type": "code",
   "execution_count": 164,
   "id": "e382969b-e0a7-4078-8e0e-cecd41a52d57",
   "metadata": {},
   "outputs": [
    {
     "name": "stdout",
     "output_type": "stream",
     "text": [
      "pack terminals\n",
      "module electronics\n"
     ]
    },
    {
     "data": {
      "text/plain": [
       "89.81933423209111"
      ]
     },
     "execution_count": 164,
     "metadata": {},
     "output_type": "execute_result"
    }
   ],
   "source": [
    "F = bat_cost.factors_battery_production(result_dict, baseline_parameters_path)\n",
    "# actor cost UK, from Duffner et al (land ($/m2), labour ($/hr), capital ($)):\n",
    "factor_cost          = np.array([2427, 24.75, 1])\n",
    "\n",
    "# factor_cost = ParameterDict['3_PR_factor_price'].Values[:,4]\n",
    "result_dict['design_parameters']['battery_manufacturing_capacity'] = 100000\n",
    "F = bat_cost.factors_battery_production(result_dict, baseline_parameters_path, return_aggregated=True)\n",
    "F\n",
    "\n",
    "factor_cost_overhead = list(bat_cost.factor_overhead_multiplier (100000).values())\n",
    "B = (F.T*(factor_cost*factor_cost_overhead))\n",
    "B.sum().astype(int)/100000\n",
    "b = B.T.sum(axis=0)/100000\n",
    "C = bat_cost.material_cost_matrix (A, df_pr_material_mass, df_pr_material_unit, material_category,baseline_parameters_path, result_dict)\n",
    "C_all = internal_material_cost(internal_materials, materials, A, C, b)\n",
    "\n",
    "#Inverse the A' matrix:\n",
    "A_inv = pd.DataFrame(np.linalg.pinv(A.values), A.columns, A.index)\n",
    "\n",
    "#Establish final product demand vector for 1 battery based on pack weight\n",
    "y = pd.Series(data = 0, index=A.index)\n",
    "y.loc['battery pack'] = pack_weight \n",
    "\n",
    "#Calculate scaling vector:\n",
    "s = A_inv.dot(y)\n",
    "\n",
    "\n",
    "C_all.dot(s).sum()/82"
   ]
  },
  {
   "cell_type": "code",
   "execution_count": 170,
   "id": "9eed7ac1-be46-4ff4-9315-4310134163fc",
   "metadata": {},
   "outputs": [
    {
     "data": {
      "text/plain": [
       "cathode active material (LFP)       -1391.039306\n",
       "cathode binder (PVDF)                 -37.981110\n",
       "cathode carbon black                  -14.392842\n",
       "binder solvent (NMP)                   -2.868973\n",
       "aluminium, wrought alloy                0.000000\n",
       "                                        ...     \n",
       "busbar                                  0.000000\n",
       "anode current collector Cu (10um)       0.000000\n",
       "coated separator (5um+2um)              0.000000\n",
       "coolant                                 0.000000\n",
       "cathode slurry                       2190.915665\n",
       "Name: mixing cathode materials, Length: 93, dtype: float64"
      ]
     },
     "execution_count": 170,
     "metadata": {},
     "output_type": "execute_result"
    }
   ],
   "source": [
    "C_all.loc[:,'mixing cathode materials'].sort_values()"
   ]
  },
  {
   "cell_type": "code",
   "execution_count": 162,
   "id": "6b809639-673a-4acb-a143-7d300e12c01e",
   "metadata": {},
   "outputs": [],
   "source": [
    "C_all.loc[:,IndexTable.loc['Production_processes','Classification'].Items].to_excel(r'C:\\Users\\Joris\\OneDrive - Newcastle University\\PhD\\Models\\ME optimisation model\\ME_battery_supply_chain\\notebooks\\Data\\delete.xlsx')"
   ]
  },
  {
   "cell_type": "markdown",
   "id": "05f3f9a2-c3f9-45a2-b972-8a6ce87efce1",
   "metadata": {},
   "source": [
    "# Calculate the value added per process ($\\pi$) \n",
    "\n",
    "The battery value added refers to the cost of the primary production factors, similar to the system cost of MFCA. The value added ($v$) per process is based on the rectangular choice-of-technology model (RCOT) by Duchin and Levine (2011) and the LCA extension by Katelhon et al 2016. Here value added per process is calculated with \n",
    "\n",
    "$$v = F'\\pi$$\n",
    "\n",
    "where $F'$ is the transpose ($'$) of the physical factor requirement matrix where rows refer to the factors and columns to the process, and $\\pi$ is the price per unit factor.  <br>\n"
   ]
  },
  {
   "cell_type": "markdown",
   "id": "ff214e18-ee45-4259-89c2-e183ec0f54e9",
   "metadata": {},
   "source": [
    "## Factor requirement matrix ($F$)"
   ]
  },
  {
   "cell_type": "markdown",
   "id": "de08966b-1bbf-4da6-8b89-17020240531d",
   "metadata": {},
   "source": [
    "Factor requirement ($F$) for all battery production process are based on the calculations of BatPaC as described in the BatPaC manual. Here factor requirements are adjusted to account for varying production volumes with the following equation:\n",
    "$$F= F_b \\left(\\frac{P}{P_b}\\right)^p$$\n",
    "\n",
    "where $F_b$ refers to the baseline factor requirement matrix, $P$ to the modelled annual production process rate, $P_b$ to the base line process rate and $p$ is the scale factor. $F_b$, $P_b$ and $p$ are obtained from BatPaC.\n"
   ]
  },
  {
   "cell_type": "code",
   "execution_count": 223,
   "id": "0e39ba75-6b7f-4535-91e0-97b67e8c81b6",
   "metadata": {},
   "outputs": [
    {
     "data": {
      "text/html": [
       "<div>\n",
       "<style scoped>\n",
       "    .dataframe tbody tr th:only-of-type {\n",
       "        vertical-align: middle;\n",
       "    }\n",
       "\n",
       "    .dataframe tbody tr th {\n",
       "        vertical-align: top;\n",
       "    }\n",
       "\n",
       "    .dataframe thead th {\n",
       "        text-align: right;\n",
       "    }\n",
       "</style>\n",
       "<table border=\"1\" class=\"dataframe\">\n",
       "  <thead>\n",
       "    <tr style=\"text-align: right;\">\n",
       "      <th></th>\n",
       "      <th>anode calendering</th>\n",
       "      <th>anode coating and drying</th>\n",
       "      <th>anode slitting</th>\n",
       "      <th>cathode binder solvent waste recovery</th>\n",
       "      <th>cathode calendering</th>\n",
       "      <th>cathode coating and drying</th>\n",
       "      <th>cathode slitting</th>\n",
       "      <th>cell formation</th>\n",
       "      <th>cell stacking</th>\n",
       "      <th>electrolyte filling and sealing</th>\n",
       "      <th>final electrode drying</th>\n",
       "      <th>jelly roll enclosing</th>\n",
       "      <th>mixing anode materials</th>\n",
       "      <th>mixing cathode materials</th>\n",
       "      <th>module and pack assembly</th>\n",
       "      <th>receiving and shipping</th>\n",
       "      <th>terminal welding</th>\n",
       "    </tr>\n",
       "  </thead>\n",
       "  <tbody>\n",
       "    <tr>\n",
       "      <th>land</th>\n",
       "      <td>669.172258</td>\n",
       "      <td>1769.858221</td>\n",
       "      <td>334.586129</td>\n",
       "      <td>403.024420</td>\n",
       "      <td>669.172258</td>\n",
       "      <td>1769.858221</td>\n",
       "      <td>334.586129</td>\n",
       "      <td>5145.997512</td>\n",
       "      <td>2082.655802</td>\n",
       "      <td>2008.081114</td>\n",
       "      <td>803.006709</td>\n",
       "      <td>669.360371</td>\n",
       "      <td>893.767445</td>\n",
       "      <td>1023.180226</td>\n",
       "      <td>3012.121671</td>\n",
       "      <td>9415.015086</td>\n",
       "      <td>1388.437201</td>\n",
       "    </tr>\n",
       "    <tr>\n",
       "      <th>labour</th>\n",
       "      <td>36716.878928</td>\n",
       "      <td>45896.098660</td>\n",
       "      <td>27537.659196</td>\n",
       "      <td>12472.018040</td>\n",
       "      <td>36716.878928</td>\n",
       "      <td>45896.098660</td>\n",
       "      <td>27537.659196</td>\n",
       "      <td>115068.916127</td>\n",
       "      <td>81801.142120</td>\n",
       "      <td>70984.843305</td>\n",
       "      <td>36716.878928</td>\n",
       "      <td>31548.819247</td>\n",
       "      <td>26478.446076</td>\n",
       "      <td>29636.858492</td>\n",
       "      <td>173518.505856</td>\n",
       "      <td>270534.714287</td>\n",
       "      <td>81801.142120</td>\n",
       "    </tr>\n",
       "    <tr>\n",
       "      <th>capital</th>\n",
       "      <td>3.512389</td>\n",
       "      <td>19.220953</td>\n",
       "      <td>2.809911</td>\n",
       "      <td>12.090733</td>\n",
       "      <td>3.512389</td>\n",
       "      <td>19.928519</td>\n",
       "      <td>2.809911</td>\n",
       "      <td>100.167183</td>\n",
       "      <td>10.181873</td>\n",
       "      <td>13.633524</td>\n",
       "      <td>5.619822</td>\n",
       "      <td>4.544508</td>\n",
       "      <td>9.309198</td>\n",
       "      <td>10.900033</td>\n",
       "      <td>28.899763</td>\n",
       "      <td>48.651466</td>\n",
       "      <td>13.884372</td>\n",
       "    </tr>\n",
       "  </tbody>\n",
       "</table>\n",
       "</div>"
      ],
      "text/plain": [
       "         anode calendering  anode coating and drying  anode slitting  \\\n",
       "land            669.172258               1769.858221      334.586129   \n",
       "labour        36716.878928              45896.098660    27537.659196   \n",
       "capital           3.512389                 19.220953        2.809911   \n",
       "\n",
       "         cathode binder solvent waste recovery  cathode calendering  \\\n",
       "land                                403.024420           669.172258   \n",
       "labour                            12472.018040         36716.878928   \n",
       "capital                              12.090733             3.512389   \n",
       "\n",
       "         cathode coating and drying  cathode slitting  cell formation  \\\n",
       "land                    1769.858221        334.586129     5145.997512   \n",
       "labour                 45896.098660      27537.659196   115068.916127   \n",
       "capital                   19.928519          2.809911      100.167183   \n",
       "\n",
       "         cell stacking  electrolyte filling and sealing  \\\n",
       "land       2082.655802                      2008.081114   \n",
       "labour    81801.142120                     70984.843305   \n",
       "capital      10.181873                        13.633524   \n",
       "\n",
       "         final electrode drying  jelly roll enclosing  mixing anode materials  \\\n",
       "land                 803.006709            669.360371              893.767445   \n",
       "labour             36716.878928          31548.819247            26478.446076   \n",
       "capital                5.619822              4.544508                9.309198   \n",
       "\n",
       "         mixing cathode materials  module and pack assembly  \\\n",
       "land                  1023.180226               3012.121671   \n",
       "labour               29636.858492             173518.505856   \n",
       "capital                 10.900033                 28.899763   \n",
       "\n",
       "         receiving and shipping  terminal welding  \n",
       "land                9415.015086       1388.437201  \n",
       "labour            270534.714287      81801.142120  \n",
       "capital               48.651466         13.884372  "
      ]
     },
     "execution_count": 223,
     "metadata": {},
     "output_type": "execute_result"
    }
   ],
   "source": [
    "baseline_parameters_path = r\"C:\\Users\\Joris\\OneDrive - Newcastle University\\PhD\\Models\\ME optimisation model\\ME_battery_supply_chain\\Model\\data\\manufacturing_cost_parameters.xlsx\"\n",
    "#\n",
    "result_dict['design_parameters']['battery_manufacturing_capacity'] = 100000\n",
    "F = bat_cost.factors_battery_production(result_dict, baseline_parameters_path, return_aggregated=True)\n",
    "F"
   ]
  },
  {
   "cell_type": "markdown",
   "id": "d26dc1e4-83e1-410a-8a07-621243ae8636",
   "metadata": {},
   "source": [
    "## Factor cost per process \n",
    "Factor cost per unit process ($b$) is calculated based on the element-wise multiplication (Hadamard product, $\\circ$) of the factor requirement matrix ($F'$) and the factor price ($\\pi$):\n",
    "$$b=F'\\circ \\pi$$\n",
    "\n",
    "In BatPaC, additional variable overhead costs (indirect cost related to materials, labour, utilities and plant maintance) and fixed expenses are included as reported in BatPaC. \n",
    "Overhead costs are here all attributed to single processes, such that $pi$ is calculated with:\n",
    "$$\\pi = \\pi_{cost} \\pi_{overhead}$$\n",
    "\n",
    "where $\\pi_{overhead}$ is the overhead multiplier. The overhead multiplier for capital ($cap$) and land ($land$) are  calculatd with:\n",
    "$$\\pi_{overhead} = \\frac{default_{overhead} default_{capacity}}{capacity}$$"
   ]
  },
  {
   "cell_type": "code",
   "execution_count": 224,
   "id": "7b072a01-7b21-42fb-a5ff-4b2611ff5af8",
   "metadata": {},
   "outputs": [
    {
     "data": {
      "text/plain": [
       "land        148.92167\n",
       "labour      537.02170\n",
       "capital    1200.43016\n",
       "dtype: float64"
      ]
     },
     "execution_count": 224,
     "metadata": {},
     "output_type": "execute_result"
    }
   ],
   "source": [
    "# BatPaC default factor cost (land ($/m2), labour ($/hr), capital ($)):\n",
    "factor_cost          = np.array([3000, 25, 1])\n",
    "\n",
    "# factor_cost = ParameterDict['3_PR_factor_price'].Values[:,4]\n",
    "result_dict['design_parameters']['battery_manufacturing_capacity'] = 100000\n",
    "F = bat_cost.factors_battery_production(result_dict, baseline_parameters_path, return_aggregated=True)\n",
    "F\n",
    "\n",
    "factor_cost_overhead = list(bat_cost.factor_overhead_multiplier (100000).values())\n",
    "B = (F.T*(factor_cost*factor_cost_overhead))\n",
    "B.sum().astype(int)/100000\n"
   ]
  },
  {
   "cell_type": "markdown",
   "id": "6a6ee43f-3f2e-4dc3-ae32-6884a41a983d",
   "metadata": {},
   "source": [
    "## Value added per pack and per process ($v$)"
   ]
  },
  {
   "cell_type": "code",
   "execution_count": 225,
   "id": "5b16dd64-bb3f-49cc-a8a8-28e2040b6155",
   "metadata": {},
   "outputs": [
    {
     "data": {
      "text/plain": [
       "anode calendering                         33.824957\n",
       "anode coating and drying                 104.061291\n",
       "anode slitting                            25.280359\n",
       "cathode binder solvent waste recovery     54.541176\n",
       "cathode calendering                       33.824957\n",
       "cathode coating and drying               106.804101\n",
       "cathode slitting                          25.280359\n",
       "cell formation                           465.640825\n",
       "cell stacking                             87.214480\n",
       "electrolyte filling and sealing           95.204447\n",
       "final electrode drying                    42.609515\n",
       "jelly roll enclosing                      35.415182\n",
       "mixing anode materials                    52.550777\n",
       "mixing cathode materials                  60.786259\n",
       "module and pack assembly                 206.843344\n",
       "receiving and shipping                   358.116336\n",
       "terminal welding                          98.375178\n",
       "dtype: float64"
      ]
     },
     "execution_count": 225,
     "metadata": {},
     "output_type": "execute_result"
    }
   ],
   "source": [
    "b = B.T.sum(axis=0)/100000\n",
    "b"
   ]
  },
  {
   "cell_type": "code",
   "execution_count": 316,
   "id": "42dbfeb7-8110-4f0d-b136-b1b12b6777dd",
   "metadata": {},
   "outputs": [
    {
     "data": {
      "text/plain": [
       "[<matplotlib.lines.Line2D at 0x25b8d4dad60>]"
      ]
     },
     "execution_count": 316,
     "metadata": {},
     "output_type": "execute_result"
    },
    {
     "data": {
      "image/png": "[encoded data removed]",
      "text/plain": [
       "<Figure size 432x288 with 1 Axes>"
      ]
     },
     "metadata": {
      "needs_background": "light"
     },
     "output_type": "display_data"
    }
   ],
   "source": [
    "pack_cost_kwh = [x/60 for x in pack_cost]\n",
    "\n",
    "plt.plot(pack_cost_kwh)"
   ]
  },
  {
   "cell_type": "markdown",
   "id": "8f1702f7-1494-400b-8169-1511170401a7",
   "metadata": {},
   "source": [
    "### Impact of production capacity:"
   ]
  },
  {
   "cell_type": "code",
   "execution_count": 320,
   "id": "51924701-ef23-4e04-a4b0-4941556f97f2",
   "metadata": {},
   "outputs": [
    {
     "data": {
      "text/plain": [
       "Text(0.5, 1.0, 'Factor cost per battery pack by battery production capacity')"
      ]
     },
     "execution_count": 320,
     "metadata": {},
     "output_type": "execute_result"
    },
    {
     "data": {
      "image/png": "[encoded data removed]",
      "text/plain": [
       "<Figure size 432x288 with 1 Axes>"
      ]
     },
     "metadata": {
      "needs_background": "light"
     },
     "output_type": "display_data"
    }
   ],
   "source": [
    "production = list(range(100000, 600000, 10000))\n",
    "land = []\n",
    "labour = []\n",
    "capital = []\n",
    "\n",
    "for x in production:\n",
    "    result_dict['design_parameters']['battery_manufacturing_capacity'] = x\n",
    "    F = bat_cost.factors_battery_production(result_dict, baseline_parameters_path)\n",
    "    factor_cost_overhead = list(bat_cost.factor_overhead_multiplier(x).values())\n",
    "    \n",
    "    a = (F.T*(factor_cost*factor_cost_overhead))\n",
    "    f = a.sum()/x\n",
    "    land.append(f[0])\n",
    "    labour.append(f[1])\n",
    "    capital.append(f[2])\n",
    "    \n",
    "from matplotlib.ticker import FormatStrFormatter, StrMethodFormatter\n",
    "a = [land, labour, capital]\n",
    "factor_cost_all = sum(map(np.array, a))\n",
    "\n",
    "fig, ax = plt.subplots()\n",
    "ax.plot(production, factor_cost_all,label='Factor costs')\n",
    "plt.ylabel('US$')\n",
    "\n",
    "ax.legend()\n",
    "plt.xlabel('Production capacity')\n",
    "ax.xaxis.set_major_formatter(StrMethodFormatter('{x:,g}'))\n",
    "ax.yaxis.set_major_formatter(StrMethodFormatter('{x:,g}'))\n",
    "plt.title('Factor cost per battery pack by battery production capacity')"
   ]
  },
  {
   "cell_type": "markdown",
   "id": "d9efe8bd-3c5e-4068-b9b4-16a96b9da961",
   "metadata": {},
   "source": [
    "### Factor cost for different countries:"
   ]
  },
  {
   "cell_type": "code",
   "execution_count": 14,
   "id": "1c6459a7-763f-4d41-929a-6bf832263d2f",
   "metadata": {},
   "outputs": [
    {
     "data": {
      "text/plain": [
       "Text(0, 0.5, 'US$')"
      ]
     },
     "execution_count": 14,
     "metadata": {},
     "output_type": "execute_result"
    },
    {
     "data": {
      "image/png": "[encoded data removed]",
      "text/plain": [
       "<Figure size 432x288 with 1 Axes>"
      ]
     },
     "metadata": {
      "needs_background": "light"
     },
     "output_type": "display_data"
    }
   ],
   "source": [
    "ParameterDict['3_PR_factor_price'].Values\n",
    "\n",
    "production = list(range(100000, 600000, 10000))\n",
    "cost_total = []\n",
    "\n",
    "for x in range(ParameterDict['3_PR_factor_price'].Values.shape[1]):\n",
    "    factor_cost = (ParameterDict['3_PR_factor_price'].Values[:,x])    \n",
    "    factor_cost_overhead = list(bat_cost.factor_overhead_multiplier(100000).values())\n",
    "    a = (F.T*(factor_cost*factor_cost_overhead))\n",
    "    f = a.sum()/100000\n",
    "    cost_total.append(f.sum())\n",
    "\n",
    "df = pd.DataFrame(cost_total, IndexTable.loc['Regions', 'Classification'].Items,)    \n",
    "    \n",
    "(df.sort_values(by=0)/60).plot.bar()\n",
    "plt.ylabel('US$')"
   ]
  },
  {
   "cell_type": "markdown",
   "id": "f847d963",
   "metadata": {},
   "source": [
    "# Calculate material costs\n",
    "The material costs consists of a unit and mass price\n",
    "\n",
    "$A$ = Technology matrix (material x process) <br>\n",
    "$u$ = Quantity of units per pack vector <br>\n",
    "$\\alpha$ = Material price per kg vector <br>\n",
    "$\\beta$ = Material price per unit vector<br>\n",
    "\n",
    "material cost = $A\\alpha$ + $u\\beta$\n",
    "\n",
    "\n",
    "where $u$ is:\n",
    "$$u = cost_per_unit*units/weight_total_material$$"
   ]
  },
  {
   "cell_type": "markdown",
   "id": "89937c30-a4b4-48e3-b211-3efcf712b595",
   "metadata": {},
   "source": [
    "\n",
    "\n",
    "Calculate the cost of intermediate products produced internally:\n",
    "\n",
    "$$p_i x_i = a^p_i (\\sum_{k} C_{i,k}+S_i + \\sum_j p_j x_{ij})$$\n",
    "\n",
    "$$p^l_i x^l_i = a^l_i (\\sum_{k} C_{i,k}+S_i + \\sum_j p_j x_{ij})$$\n",
    "$a$ is here a mass-based allocation factor for process outflow:\n",
    "$$1-a^l_i = x_{input}/x_{output}$$"
   ]
  },
  {
   "cell_type": "markdown",
   "id": "5374b0e6-912a-4bca-aa73-30aa45c4b4b6",
   "metadata": {},
   "source": [
    "## Calculate material costs for intermediate products ($C$)\n",
    "\n",
    "$C$ is the material-process matrix with the price of the externally sources material. Cost of materials are calculated based on the BatPaC calculations. Material cost is therefore based on mass, units and production scaling factors (p-values).  "
   ]
  },
  {
   "cell_type": "code",
   "execution_count": 202,
   "id": "0a0942c7-6cbc-422d-8a5e-72ee5240a2b1",
   "metadata": {},
   "outputs": [],
   "source": [
    "materials =  IndexTable.loc['Materials', 'Classification'].Items\n",
    "technical_parameters =  IndexTable.loc['Product_design_par', 'Classification'].Items\n",
    "df_pr_material_mass = pd.Series(ParameterDict['3_PR_material_price_mass'].Values, materials )\n",
    "df_pr_material_unit = pd.DataFrame(ParameterDict['3_PR_material_price_unit'].Values, materials, technical_parameters)\n",
    "df_pr_material_unit = df_pr_material_unit[(df_pr_material_unit!=0).any(axis=1)]\n",
    "\n",
    "\n"
   ]
  },
  {
   "cell_type": "code",
   "execution_count": 171,
   "id": "e884d505-8814-42c0-9451-4fde4268579a",
   "metadata": {},
   "outputs": [],
   "source": [
    "#Inverse the A' matrix:\n",
    "A_inv = pd.DataFrame(np.linalg.pinv(A.values), A.columns, A.index)\n",
    "\n",
    "#Establish final product demand vector for 1 battery based on pack weight\n",
    "y = pd.Series(data = 0, index=A.index)\n",
    "y.loc['battery pack'] = pack_weight \n",
    "\n",
    "#Calculate scaling vector:\n",
    "s = A_inv.dot(y)\n",
    "\n",
    "# df=m.dot(s_prime)\n",
    "# df=df[df!=0]\n",
    "# df.to_excel(r'C:\\Users\\Joris\\OneDrive - Newcastle University\\PhD\\Models\\ME optimisation model\\ME_battery_supply_chain\\Data\\output.xlsx')"
   ]
  },
  {
   "cell_type": "code",
   "execution_count": 226,
   "id": "b3343c95-58c8-4b04-926e-665713db3b26",
   "metadata": {},
   "outputs": [
    {
     "name": "stdout",
     "output_type": "stream",
     "text": [
      "pack terminals\n",
      "module electronics\n"
     ]
    }
   ],
   "source": [
    "material_category = pd.read_excel(r\"C:\\Users\\Joris\\OneDrive - Newcastle University\\PhD\\Models\\ME optimisation model\\ME_battery_supply_chain\\Model\\data\\material_type_linkage.xlsx\",sheet_name='values' )\n",
    "C = bat_cost.material_cost_matrix (A, df_pr_material_mass, df_pr_material_unit, material_category,baseline_parameters_path, result_dict)"
   ]
  },
  {
   "cell_type": "markdown",
   "id": "0ad21f28-22a8-454d-87ba-bbf9e4857431",
   "metadata": {},
   "source": [
    "## Allocate total costs to intermediate product and material loss"
   ]
  },
  {
   "cell_type": "markdown",
   "id": "ea3b56d0-4e5b-4798-bb85-741624641b5d",
   "metadata": {},
   "source": [
    "Include unit price for for intermediate products (products that remain within the production facility):\n",
    "\n",
    "Calculate the cost of intermediate products produced internally:\n",
    "\n",
    "$$p_i x_i = a^p_i (\\sum_{k} C_{i,k}+S_i + \\sum_j p_j x_{ij})$$\n",
    "\n",
    "$$p^l_i x^l_i = a^l_i (\\sum_{k} C_{i,k}+S_i + \\sum_j p_j x_{ij})$$\n",
    "$a$ is here a mass-based allocation factor for process outflow:\n",
    "$$1-a^l_i = x_{input}/x_{output}$$\n",
    "\n",
    "or matrix formulation:\n",
    "\n",
    "$$P = X^{-1} ( C 1 + S )$$\n"
   ]
  }
 ],
 "metadata": {
  "interpreter": {
   "hash": "77b1a39b2e46dae2d06de88b1d8cb6f5c7562cfa1125541e21b7ad9f29b27783"
  },
  "kernelspec": {
   "display_name": "Python 3 (ipykernel)",
   "language": "python",
   "name": "python3"
  },
  "language_info": {
   "codemirror_mode": {
    "name": "ipython",
    "version": 3
   },
   "file_extension": ".py",
   "mimetype": "text/x-python",
   "name": "python",
   "nbconvert_exporter": "python",
   "pygments_lexer": "ipython3",
   "version": "3.9.7"
  },
  "toc": {
   "base_numbering": 1,
   "nav_menu": {},
   "number_sections": true,
   "sideBar": true,
   "skip_h1_title": true,
   "title_cell": "Table of Contents",
   "title_sidebar": "Contents",
   "toc_cell": false,
   "toc_position": {
    "height": "calc(100% - 180px)",
    "left": "10px",
    "top": "150px",
    "width": "165px"
   },
   "toc_section_display": true,
   "toc_window_display": false
  },
  "toc-autonumbering": true,
  "toc-showtags": false
 },
 "nbformat": 4,
 "nbformat_minor": 5
}
