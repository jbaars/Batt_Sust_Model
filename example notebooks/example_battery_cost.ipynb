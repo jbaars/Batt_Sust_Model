{
 "cells": [
  {
   "cell_type": "markdown",
   "id": "313e5b4c-8ed1-4f83-b757-84a390bd7957",
   "metadata": {},
   "source": [
    "## Import required packages"
   ]
  },
  {
   "cell_type": "code",
   "execution_count": 1,
   "id": "0d07409b",
   "metadata": {},
   "outputs": [],
   "source": [
    "#Import required packages\n",
    "import numpy as np\n",
    "import pandas as pd\n",
    "import brightway2 as bw\n",
    "import sys\n",
    "import matplotlib.pyplot as plt\n",
    "import os"
   ]
  },
  {
   "cell_type": "code",
   "execution_count": 2,
   "id": "b8e00e65-53b1-4c53-96b6-1e36d6dd080c",
   "metadata": {},
   "outputs": [],
   "source": [
    "#Local modules\n",
    "#path to ODYM:\n",
    "sys.path.insert(0, os.path.join(r\"C:\\Users\\Joris\\OneDrive - Newcastle University\\Python\\ODYM\")) \n",
    "import ODYM_Classes as msc\n",
    "import ODYM_Functions as msf\n",
    "import dynamic_stock_model as dsm\n",
    "\n",
    "\n",
    "\n",
    "#Import the battery design module from a local path\n",
    "local_path =r\"C:\\Users\\Joris\\OneDrive - Newcastle University\\Python\\Projects\\Batt_Sust_Model-1\\batt_sust_model\" #ADD PATH\n",
    "sys.path.insert(1, local_path)\n",
    "from battery_design import battery_design as bd\n",
    "import battery_cost as bat_cost\n",
    "import battery_emissions as bat_lca\n",
    "\n",
    "#Local path to BatPaC version 5\n",
    "path_batpac = r\"C:\\Users\\Joris\\OneDrive - Newcastle University\\PhD\\Models\\battery_sustainability_model\\Case study\\BatPaC 5.0 - 8March2022.xlsm\"#ADD PATH\n",
    "\n",
    "\n",
    "# log_verbosity = eval(\"log.INFO\")\n",
    "# log_filename  = 'log_file.md'\n",
    "# [Mylog, console_log, file_log] = msf.function_logger(log_filename, os.getcwd(),\n",
    "#                                                      log_verbosity, log_verbosity)\n",
    "\n"
   ]
  },
  {
   "cell_type": "markdown",
   "id": "1063794e",
   "metadata": {},
   "source": [
    "# Battery manufacturing costs (example 1)\n",
    "\n",
    "The price of the battery are determined ..\n",
    "\n",
    "Battery manufacturing costs are calculated through both methods. \n",
    "\n",
    "Price vector methods for upstream materials.... \n",
    "\n",
    "\n",
    "Value added per process ($b$) is determined for each battery system.. "
   ]
  },
  {
   "cell_type": "markdown",
   "id": "242d6b8d-887c-4890-9870-27aa313bdc6e",
   "metadata": {},
   "source": [
    "## Establish foreground system\n",
    "First, the material content of a single battery is obtained. The design of the Volkswagen MEB platform, 77 kWh version as reported by\n",
    "[PushEVS.com](https://pushevs.com/2020/05/13/volkswagen-meb-details/) is used as an example (NMC622 is used instead of NMC712, as the latter is not in the public version of BatPaC V5). All other parameters are BatPaC default parameters.\n",
    "\n",
    "* usable battery energy: 94%\n",
    "* Total pack energy: 82 kWh\n",
    "* Electrode pair: NMC622-G\n",
    "* Silicon additive anode: 0%\n",
    "* Cells per module: 24\n",
    "* Modules per pack: 12\n",
    "* Modules in parallel: 2 \n",
    "* Maximum charging time: 33 minutes (ev-database.org)\n",
    "* Maximum charge power: 135 kW (ev-database.org)\n",
    "<br>\n",
    "\n",
    "<!-- <a href=https://www.volkswagen-newsroom.com/en/press-releases/long-range-and-rapid-charging-the-battery-system-is-at-the-heart-of-the-volkswagen-id3-id4-and-id4-gtx-7130>\n",
    "<center><img src='../docs/ID pack.jpg' width=600/> <br></center>\n",
    "<figcaption align = \"center\"><b>Structure of the Volkswagen MEB platform (VW, 2021) </b></figcaption>"
   ]
  },
  {
   "cell_type": "code",
   "execution_count": 3,
   "id": "3fe5040f",
   "metadata": {},
   "outputs": [],
   "source": [
    "#Establish battery system class of specific design:\n",
    "battery = bd.Battery_system (    \n",
    "                             vehicle_type='EV', \n",
    "                             electrode_pair='50%/50% NMC532/LMO - G', \n",
    "                             cells_per_module=24, \n",
    "                             modules_per_row=6,\n",
    "                             rows_of_modules=2, \n",
    "                             cells_in_parallel=1,\n",
    "                             silicon_anode= 0.00, \n",
    "                             calculate_fast_charge = 'Yes',\n",
    "                             max_charging_time = 34,  #EV-database https://ev-database.org/car/1273/Volkswagen-ID4-1st\n",
    "                             max_charge_power = 126,  #EV-database https://ev-database.org/car/1273/Volkswagen-ID4-1st\n",
    "                             available_energy=94,\n",
    "                             A_coefficient=135.9999272, #based on EPA data\n",
    "                             B_coefficient= 3.732390689,#based on EPA data\n",
    "                             C_coefficient=0.406771986,#based on EPA data\n",
    "                             vehicle_range_miles =410*0.6214, #EV-database using the 'EVDB Real Range' (converted to miles) https://ev-database.org/car/1273/Volkswagen-ID4-1st\n",
    "                             motor_power = 150 #Based on adac.de VW ID.4 Pro Performance https://www.adac.de/rund-ums-fahrzeug/autokatalog/marken-modelle/vw/id4/1generation/318521/#technische-daten                 \n",
    "                             )\n",
    "#Establish parameter dictionary\n",
    "parameter_dict = battery.parameter_dictionary()"
   ]
  },
  {
   "cell_type": "code",
   "execution_count": 4,
   "id": "7da8e83d",
   "metadata": {},
   "outputs": [],
   "source": [
    "# #Solve battery design in BatPaC returning nested dictionary with material contents and parameter values\n",
    "# #Make sure BatPaC is not open or running in the background\n",
    "bp_output = bd.solve_batpac_battery_system (batpac_path = path_batpac, parameter_dict=parameter_dict, visible=True)"
   ]
  },
  {
   "cell_type": "code",
   "execution_count": null,
   "id": "1420dae5",
   "metadata": {},
   "outputs": [],
   "source": []
  },
  {
   "cell_type": "markdown",
   "id": "3645bd0d-5647-4513-a9b2-a762f0ef33d2",
   "metadata": {},
   "source": [
    "### Quantify material flows in physical"
   ]
  },
  {
   "cell_type": "code",
   "execution_count": 5,
   "id": "e990e819",
   "metadata": {},
   "outputs": [
    {
     "name": "stdout",
     "output_type": "stream",
     "text": [
      "Biosphere database already present!!! No setup is needed\n"
     ]
    }
   ],
   "source": [
    "#Brightway2 general setup:\n",
    "bw.projects.set_current('parameterised_battery_lca')\n",
    "bw.bw2setup()\n",
    "#Import ecoinvent 3.7.1:\n",
    "if 'eidb 3.7' in bw.databases:\n",
    "    pass\n",
    "else:\n",
    "    pathi37 = 'path to ecoinvent'\n",
    "    eidb37 = bw.SingleOutputEcospold2Importer(pathi37, 'eidb 3.7')\n",
    "    eidb37.apply_strategies()\n",
    "    eidb37.statistics()\n"
   ]
  },
  {
   "cell_type": "code",
   "execution_count": 6,
   "id": "e882e756",
   "metadata": {},
   "outputs": [
    {
     "data": {
      "text/plain": [
       "{'anode_active_material': 21.97134626759194,\n",
       " 'anode_active_material_natural_graphite': 0.0,\n",
       " 'anode_active_material_sinw': 0.0,\n",
       " 'anode_active_material_sio': 0.0,\n",
       " 'anode_active_material_synthetic_graphite': 21.97134626759194,\n",
       " 'anode_binder_additive_sbr': 0.4625546582650936,\n",
       " 'anode_binder_cmc': 0.6938319873976403,\n",
       " 'anode_carbon_black': 0.0,\n",
       " 'anode_coating_drying_mixing_ratio': 0.24,\n",
       " 'anode_current_collector': 16.0356768397375,\n",
       " 'anode_current_collector_cu_6um': 0.0,\n",
       " 'anode_current_collector_cu_7um': 0.0,\n",
       " 'anode_current_collector_cu_8um': 0.0,\n",
       " 'anode_current_collector_cu_9um': 0.0,\n",
       " 'anode_current_collector_cu_10um': 16.0356768397375,\n",
       " 'anode_current_collector_cu_11um': 0.0,\n",
       " 'anode_current_collector_cu_12um': 0.0,\n",
       " 'anode_current_collector_cu_13um': 0.0,\n",
       " 'anode_current_collector_cu_14um': 0.0,\n",
       " 'anode_mixing_ratio_electricity': 0.35,\n",
       " 'anode_slurry': 57.52255186709739,\n",
       " 'anode_dry_material': 26.146614485044267,\n",
       " 'battery_capacity': 23.50000000000003,\n",
       " 'battery_jacket': 35.38318964154873,\n",
       " 'battery_jacket_al': 0.0,\n",
       " 'battery_jacket_fe': 0.0,\n",
       " 'battery_jacket_insulation': 0.0,\n",
       " 'battery_management_system': 3.2732,\n",
       " 'battery_pack': 183.5832533349743,\n",
       " 'binder_solvent_dionised_water': 27.753279495905613,\n",
       " 'binder_solvent_nmp': 20.731411407188382,\n",
       " 'binder_solvent_ratio': 24.0,\n",
       " 'binder_solvent_recovered': 23.32031171012562,\n",
       " 'busbar': 0.0,\n",
       " 'cathode_active_material': 41.46282281437677,\n",
       " 'cathode_active_material_lfp': 0.0,\n",
       " 'cathode_active_material_lmo': 0.0,\n",
       " 'cathode_active_material_nca': 0.0,\n",
       " 'cathode_active_material_nmc333': 41.46282281437677,\n",
       " 'cathode_active_material_nmc532': 0.0,\n",
       " 'cathode_active_material_50_50_nmc532_lmo': 0.0,\n",
       " 'cathode_active_material_nmc622': 0.0,\n",
       " 'cathode_active_material_nmc811': 0.0,\n",
       " 'cathode_binder_pvdf': 0.8638088086328493,\n",
       " 'cathode_carbon_black': 0.8638088086328493,\n",
       " 'cathode_coating_drying_mixing_ratio': 0.76,\n",
       " 'cathode_current_collector': 6.705940148207539,\n",
       " 'cathode_current_collector_al_10um': 0.0,\n",
       " 'cathode_current_collector_al_11um': 0.0,\n",
       " 'cathode_current_collector_al_12um': 0.0,\n",
       " 'cathode_current_collector_al_13um': 0.0,\n",
       " 'cathode_current_collector_al_14um': 0.0,\n",
       " 'cathode_current_collector_al_15um': 6.705940148207539,\n",
       " 'cathode_current_collector_al_16um': 0.0,\n",
       " 'cathode_current_collector_al_17um': 0.0,\n",
       " 'cathode_current_collector_al_18um': 0.0,\n",
       " 'cathode_dry_material': 48.82812334615917,\n",
       " 'cathode_mixing_ratio_electricity': 0.65,\n",
       " 'cathode_slurry': 72.26562255231558,\n",
       " 'cathode_calendering_ratio': 0.5,\n",
       " 'cathode_slitting_ratio': 0.5,\n",
       " 'cell': 113.3873243340239,\n",
       " 'cell_container': 3.181335196809487,\n",
       " 'cell_container_al_layer': 2.607651800663514,\n",
       " 'cell_container_pet_layer': 0.3998399427684054,\n",
       " 'cell_container_pp_layer': 0.1738434533775676,\n",
       " 'cell_group_interconnect': 6.572400287392358,\n",
       " 'cell_terminal_anode': 1.649451627139318,\n",
       " 'cell_terminal_cathode': 5.473735770062332,\n",
       " 'coated_anode': 43.37206794096622,\n",
       " 'coated_cathode': 54.13691960148434,\n",
       " 'coated_separator_5um_2um': 0.0,\n",
       " 'coated_separator_7um_2um': 0.0,\n",
       " 'coated_separator_9um_3um': 0.0,\n",
       " 'coolant': 12.43567281612198,\n",
       " 'dried_electrodes': 94.63536245886117,\n",
       " 'dried_electrodes_waste': 0.9463536245886125,\n",
       " 'electricity_consumption_assembly': 0.115,\n",
       " 'electricity_consumption_mixing': 0.014989104034554055,\n",
       " 'electricity_consumption_coating_drying': 0.10590494894554918,\n",
       " 'electricity_consumption_calendering': 0.06752443570376325,\n",
       " 'electricity_consumption_slitting': 0.02030769591234337,\n",
       " 'electricity_consumption_final_drying': 0.007182882670973216,\n",
       " 'electricity_consumption_stacking': 0.027745903390636758,\n",
       " 'electricity_consumption_cell_assembly': 0.41652482447233097,\n",
       " 'electricity_consumption_formation': 9.541107320499409,\n",
       " 'electricity_consumption_material_handling': 0.20851930225039206,\n",
       " 'electricity_consumption_dryroom': 0.1747882386510639,\n",
       " 'electrolyte_lfp': 0.0,\n",
       " 'electrolyte_lmo': 0.0,\n",
       " 'electrolyte_nmc_nca': 11.93470605476075,\n",
       " 'enclosed_cell': 106.73409088313672,\n",
       " 'gas_release': 0.3720862736344704,\n",
       " 'heat_consumption_coating_drying': 4.263083816938753,\n",
       " 'heat_consumption_final_drying': 0.7279515674296513,\n",
       " 'heat_consumption_formation': 0.26560201717858084,\n",
       " 'heat_consumption_dryroom': 3.827600385567709,\n",
       " 'jelly_roll': 95.88722499470393,\n",
       " 'module_compression_plates': 0.7518841127186742,\n",
       " 'module_container': 4.901059665240814,\n",
       " 'module_electronics': 0.8,\n",
       " 'module_interconnects': 3.173805786293108,\n",
       " 'module_terminal': 2.644838155244257,\n",
       " 'module_thermal_conductor': 4.156134971243493,\n",
       " 'pack_heater': 0.2,\n",
       " 'pack_terminals': 0.3022672177422009,\n",
       " 'py_am_mixing': 0.99,\n",
       " 'py_am_mixing_total': 0.8756948474999999,\n",
       " 'py_cell_aging': 0.95,\n",
       " 'py_electrode_stacking': 0.99,\n",
       " 'py_electrolyte_filling': 0.94,\n",
       " 'py_foil_coating': 0.99,\n",
       " 'py_foil_coating_total': 0.8566074,\n",
       " 'py_foil_slitting': 0.92,\n",
       " 'py_nmp_recovery': 0.995,\n",
       " 'py_separator_stacking': 0.98,\n",
       " 'py_slurry_coating': 0.95,\n",
       " 'py_slurry_coating_total': 0.8845402499999999,\n",
       " 'py_slurry_slitting': 0.99,\n",
       " 'separator_5um': 0.0,\n",
       " 'separator_7um': 0.0,\n",
       " 'separator_9um': 2.088305352409797,\n",
       " 'separator_waste': 0.0448615542945177,\n",
       " 'slitted_anode': 41.61300307448554,\n",
       " 'slitted_cathode': 53.022359384375626,\n",
       " 'unformated_cell': 119.29693936183224,\n",
       " 'battery_manufacturing_capacity': 500000.0,\n",
       " 'separator': 2.088305352409797,\n",
       " 'module_tabs': 0.0,\n",
       " 'cooling_connectors': 0.0,\n",
       " 'cooling_mains_fe': 0.0,\n",
       " 'cooling_panels': 0.0,\n",
       " 'module_polymer_panels': 0.0,\n",
       " 'module_row_rack': 0.0,\n",
       " 'module_elastomer_pads': 0.0}"
      ]
     },
     "execution_count": 6,
     "metadata": {},
     "output_type": "execute_result"
    }
   ],
   "source": [
    "bat_lca.get_project_parameters_dict(bp_output)"
   ]
  },
  {
   "cell_type": "code",
   "execution_count": 7,
   "id": "6c03c3da-6b13-417b-af4f-1cdf4c4f482d",
   "metadata": {},
   "outputs": [],
   "source": [
    "result_dict = bat_lca.output_as_bw_param(bp_output)\n",
    "\n",
    "# Append additional project parameters and recalculate project parameters (e.g. total anode active material based on process yield)\n",
    "#Convert BatPaC output to Brightway parameter names and update\n",
    "result_dict = {**bat_lca.get_project_parameters_dict(bp_output), **result_dict}\n",
    "#Append battery design parameters:\n",
    "result_dict.update(bp_output['general_battery_parameters'])"
   ]
  },
  {
   "cell_type": "code",
   "execution_count": 8,
   "id": "16c8dc2f",
   "metadata": {},
   "outputs": [],
   "source": [
    "# #Reset \n",
    "bat_lca.update_param_battery_bw(result_dict)\n",
    "\n",
    "\n",
    "# # Cut off the exchanges if activity if present in the 'cut off database'. E.g. 6um copper foil production is present in the 'cut of database' and will be cut in the anode coating process. All cut-off exchanges are set to zero\n",
    "# a = bat_lca.modules_with_cuts('cut_off')\n",
    "\n",
    "# # Divide all battery production activities by total battery system weight:\n",
    "\n",
    "# bat_product_act = [act['name'] for act in bw.Database('battery_production')]\n",
    "# for act in bat_product_act:\n",
    "#     pack_weight = result_dict['battery_pack']\n",
    "#     a[act]['amount'] = a[act]['amount']\n",
    "#     for exc in a[act]['cuts'].keys():\n",
    "#         a[act]['cuts'][exc][1] = a[act]['cuts'][exc][1]\n",
    "# #Cut modules:\n",
    "# bat_lca.cut_modules_to_zero(a)\n",
    "\n",
    "# # Establish product-module dataframe of base system\n",
    "# A=bat_lca.modular_technology_matrix(a)"
   ]
  },
  {
   "cell_type": "code",
   "execution_count": 9,
   "id": "fde1d13a",
   "metadata": {},
   "outputs": [],
   "source": [
    "# A_inv = pd.DataFrame(np.linalg.pinv(A.values), A.columns, A.index)\n"
   ]
  },
  {
   "cell_type": "code",
   "execution_count": 10,
   "id": "eb224845",
   "metadata": {},
   "outputs": [],
   "source": [
    "# actor cost UK, from Duffner et al (land ($/m2), labour ($/hr), capital ($)):\n",
    "factor_cost          = np.array([2427, 24.75, 1])"
   ]
  },
  {
   "cell_type": "code",
   "execution_count": 11,
   "id": "12da6694",
   "metadata": {},
   "outputs": [],
   "source": [
    "# factor_cost = ParameterDict['3_PR_factor_price'].Values[:,4]\n",
    "result_dict['battery_manufacturing_capacity'] = 500000\n",
    "\n",
    "F = bat_cost.factors_battery_production(result_dict, return_aggregated=True)"
   ]
  },
  {
   "cell_type": "markdown",
   "id": "cceb3fcf",
   "metadata": {},
   "source": [
    "Overview of process factor requirements:"
   ]
  },
  {
   "cell_type": "code",
   "execution_count": 12,
   "id": "a9654096",
   "metadata": {},
   "outputs": [
    {
     "data": {
      "image/png": "[encoded data removed]",
      "text/plain": [
       "<Figure size 576x720 with 3 Axes>"
      ]
     },
     "metadata": {
      "needs_background": "light"
     },
     "output_type": "display_data"
    }
   ],
   "source": [
    "fig, ax = plt.subplots(3,1, sharex=True, figsize=(8,10))\n",
    "\n",
    "for i, row in enumerate(F.index):\n",
    "    F.loc[row].plot.bar(ax=ax[i], zorder=2)\n",
    "    ax[i].set_title(row)\n",
    "    ax[i].grid(lw=0.4, axis='y', zorder=0)\n",
    "    \n",
    "ax[0].set_ylabel('hours per year')\n",
    "ax[1].set_ylabel('Million $ per year')\n",
    "ax[2].set_ylabel(r'm$^2$')\n",
    "\n",
    "fig.tight_layout()\n",
    "\n"
   ]
  },
  {
   "cell_type": "markdown",
   "id": "10dfdf10",
   "metadata": {},
   "source": [
    "And the fully monetary $\\bf{F}$ matrix ($\\bf{F}_m$) can be obtained by multiplying F with the factor cost. \n",
    "\n",
    "The operating expenses (e.g. R&D investments and depreciation rates) are allocated to the factor cost based on the multipliers for overhead to basic costs as used in BatPaC.\n",
    "\n",
    "Using the same factor used as in BatPaC, the total labour, capital and land cost are identical to the values in BatPaC, sheet 'Cost Breakdown'\n"
   ]
  },
  {
   "cell_type": "code",
   "execution_count": 127,
   "id": "c8c8e109",
   "metadata": {},
   "outputs": [
    {
     "data": {
      "text/plain": [
       "labour      318.952169\n",
       "capital    1943.314073\n",
       "land        263.134715\n",
       "dtype: float64"
      ]
     },
     "execution_count": 127,
     "metadata": {},
     "output_type": "execute_result"
    }
   ],
   "source": [
    "#Default BatPaC values (labour ($/hr), capital ($) land ($/m2)):\n",
    "factor_cost          = pd.Series([25, 1000000, 3000], index=['labour', 'capital', 'land'])\n",
    "factor_cost_multiplier = pd.Series(bat_cost.factor_overhead_multiplier())\n",
    "F_m = ((factor_cost*factor_cost_multiplier)*F.T).T\n",
    "F_m.sum(axis=1)/500000"
   ]
  },
  {
   "cell_type": "code",
   "execution_count": null,
   "id": "425c2de2",
   "metadata": {},
   "outputs": [],
   "source": [
    "factor_cost = []\n",
    "\n",
    "for "
   ]
  },
  {
   "cell_type": "code",
   "execution_count": null,
   "id": "6817b7cf",
   "metadata": {},
   "outputs": [],
   "source": []
  },
  {
   "cell_type": "code",
   "execution_count": null,
   "id": "863c56b1",
   "metadata": {},
   "outputs": [],
   "source": []
  },
  {
   "cell_type": "code",
   "execution_count": null,
   "id": "88bebd85",
   "metadata": {},
   "outputs": [],
   "source": []
  },
  {
   "cell_type": "code",
   "execution_count": null,
   "id": "67396e49",
   "metadata": {},
   "outputs": [],
   "source": []
  },
  {
   "cell_type": "code",
   "execution_count": null,
   "id": "29bc678f",
   "metadata": {},
   "outputs": [],
   "source": []
  },
  {
   "cell_type": "code",
   "execution_count": null,
   "id": "e382969b-e0a7-4078-8e0e-cecd41a52d57",
   "metadata": {},
   "outputs": [
    {
     "ename": "NameError",
     "evalue": "name 'A' is not defined",
     "output_type": "error",
     "traceback": [
      "\u001b[1;31m---------------------------------------------------------------------------\u001b[0m",
      "\u001b[1;31mNameError\u001b[0m                                 Traceback (most recent call last)",
      "\u001b[1;32mc:\\Users\\Joris\\OneDrive - Newcastle University\\Python\\Projects\\Batt_Sust_Model-1\\example notebooks\\example_battery_cost.ipynb Cell 19'\u001b[0m in \u001b[0;36m<cell line: 5>\u001b[1;34m()\u001b[0m\n\u001b[0;32m      <a href='vscode-notebook-cell:/c%3A/Users/Joris/OneDrive%20-%20Newcastle%20University/Python/Projects/Batt_Sust_Model-1/example%20notebooks/example_battery_cost.ipynb#ch0000016?line=2'>3</a>\u001b[0m B\u001b[39m.\u001b[39msum()\u001b[39m.\u001b[39mastype(\u001b[39mint\u001b[39m)\u001b[39m/\u001b[39m\u001b[39m100000\u001b[39m\n\u001b[0;32m      <a href='vscode-notebook-cell:/c%3A/Users/Joris/OneDrive%20-%20Newcastle%20University/Python/Projects/Batt_Sust_Model-1/example%20notebooks/example_battery_cost.ipynb#ch0000016?line=3'>4</a>\u001b[0m b \u001b[39m=\u001b[39m B\u001b[39m.\u001b[39mT\u001b[39m.\u001b[39msum(axis\u001b[39m=\u001b[39m\u001b[39m0\u001b[39m)\u001b[39m/\u001b[39m\u001b[39m100000\u001b[39m\n\u001b[1;32m----> <a href='vscode-notebook-cell:/c%3A/Users/Joris/OneDrive%20-%20Newcastle%20University/Python/Projects/Batt_Sust_Model-1/example%20notebooks/example_battery_cost.ipynb#ch0000016?line=4'>5</a>\u001b[0m C \u001b[39m=\u001b[39m bat_cost\u001b[39m.\u001b[39mmaterial_cost_matrix (A, df_pr_material_mass, df_pr_material_unit, material_category,baseline_parameters_path, result_dict)\n\u001b[0;32m      <a href='vscode-notebook-cell:/c%3A/Users/Joris/OneDrive%20-%20Newcastle%20University/Python/Projects/Batt_Sust_Model-1/example%20notebooks/example_battery_cost.ipynb#ch0000016?line=5'>6</a>\u001b[0m C_all \u001b[39m=\u001b[39m internal_material_cost(internal_materials, materials, A, C, b)\n\u001b[0;32m      <a href='vscode-notebook-cell:/c%3A/Users/Joris/OneDrive%20-%20Newcastle%20University/Python/Projects/Batt_Sust_Model-1/example%20notebooks/example_battery_cost.ipynb#ch0000016?line=7'>8</a>\u001b[0m \u001b[39m#Inverse the A' matrix:\u001b[39;00m\n",
      "\u001b[1;31mNameError\u001b[0m: name 'A' is not defined"
     ]
    }
   ],
   "source": [
    "\n",
    "\n",
    "factor_cost_overhead = list(bat_cost.factor_overhead_multiplier (100000).values())\n",
    "B = (F.T*(factor_cost*factor_cost_overhead))\n",
    "B.sum().astype(int)/100000\n",
    "b = B.T.sum(axis=0)/100000\n",
    "C = bat_cost.material_cost_matrix (A, df_pr_material_mass, df_pr_material_unit, material_category,baseline_parameters_path, result_dict)\n",
    "C_all = internal_material_cost(internal_materials, materials, A, C, b)\n",
    "\n",
    "#Inverse the A' matrix:\n",
    "A_inv = pd.DataFrame(np.linalg.pinv(A.values), A.columns, A.index)\n",
    "\n",
    "#Establish final product demand vector for 1 battery based on pack weight\n",
    "y = pd.Series(data = 0, index=A.index)\n",
    "y.loc['battery pack'] = pack_weight \n",
    "\n",
    "#Calculate scaling vector:\n",
    "s = A_inv.dot(y)\n",
    "\n",
    "\n",
    "C_all.dot(s).sum()/82"
   ]
  },
  {
   "cell_type": "code",
   "execution_count": null,
   "id": "9eed7ac1-be46-4ff4-9315-4310134163fc",
   "metadata": {},
   "outputs": [],
   "source": [
    "def labour_overhead_multiplier(\n",
    "    variable_overhead_labor=0.4,\n",
    "    GSA=0.25,\n",
    "    pack_profit=0.05,\n",
    "    investment_cost=0.10,\n",
    "    working_capital=0.15,\n",
    "    battery_warranty_costs=0.056,\n",
    "):\n",
    "    \"\"\"The factor cost overhead multiplier for direct labour. Function and parameters are based on BatPaC V5.\"\"\"\n",
    "    a = (\n",
    "        1\n",
    "        + variable_overhead_labor\n",
    "        + GSA * (1 + variable_overhead_labor)\n",
    "        + pack_profit\n",
    "        * (\n",
    "            investment_cost * (1 + variable_overhead_labor)\n",
    "            + working_capital * (1 + variable_overhead_labor)\n",
    "        )\n",
    "    )\n",
    "    return a * (1 + battery_warranty_costs)\n",
    "\n",
    "\n",
    "def capital_overhead_multiplier(\n",
    "    variable_overhead_deprecation=0.2,  # f94\n",
    "    GSA_deprecation=0.25,  # 99\n",
    "    GSA_labour=0.25,  # 98\n",
    "    r_and_d=0.4,  # 100\n",
    "    deprecation_capital_equipment=0.1,  # 103\n",
    "    launch_cost_labor=0.10,  # 86\n",
    "    working_capital=0.15,  # 87\n",
    "    pack_profit=0.05,  # f109\n",
    "    battery_warranty_costs=0.056,  # f110\n",
    "):\n",
    "    \"\"\"The factor cost overhead multiplier for capital equipment. Function and parameters are based on BatPaC V5.\"\"\"\n",
    "    a = (\n",
    "        variable_overhead_deprecation\n",
    "        + GSA_deprecation\n",
    "        + GSA_labour * variable_overhead_deprecation\n",
    "        + r_and_d\n",
    "        + 1\n",
    "    )\n",
    "    b = (\n",
    "        1\n",
    "        + variable_overhead_deprecation\n",
    "        * (launch_cost_labor + working_capital)\n",
    "        * deprecation_capital_equipment\n",
    "    )\n",
    "    return (a * deprecation_capital_equipment + b * pack_profit) * (\n",
    "        1 + battery_warranty_costs\n",
    "    )\n",
    "\n",
    "def land_overhead_multiplier(\n",
    "    variable_overhead_deprecation=0.2,  # f94\n",
    "    GSA_deprecation=0.25,  # 99\n",
    "    GSA_labour=0.25,  # 98\n",
    "    r_and_d=0.4,  # 100\n",
    "    deprecation_building_investment=0.05,  # 104\n",
    "    launch_cost_labor=0.10,  # 86\n",
    "    working_capital=0.15,  # 87\n",
    "    pack_profit=0.05,  # f109\n",
    "    battery_warranty_costs=0.056,  # f110\n",
    "):\n",
    "    \"\"\"The factor cost overhead multiplier for capital equipment. Function and parameters are based on BatPaC V5.\"\"\"\n",
    "    a = (\n",
    "        variable_overhead_deprecation\n",
    "        + GSA_deprecation\n",
    "        + GSA_labour * variable_overhead_deprecation\n",
    "        + r_and_d\n",
    "        + 1\n",
    "    )\n",
    "    b = (\n",
    "        1\n",
    "        + variable_overhead_deprecation\n",
    "        * (launch_cost_labor + working_capital)\n",
    "        * deprecation_building_investment\n",
    "    )\n",
    "    return (a * deprecation_building_investment + b * pack_profit) * (\n",
    "        1 + battery_warranty_costs\n",
    "    )\n",
    "\n",
    "def factor_overhead_multiplier(\n",
    "):\n",
    "    \"\"\"Returns the factor cost overhead multiplier. Capital is converted from\n",
    "    millions\"\"\"\n",
    "    land_overhead = land_overhead_multiplier()\n",
    "    labour_overhead = labour_overhead_multiplier()\n",
    "    capital_overhead = capital_overhead_multiplier()\n",
    "    baseline_production_capacity = 500000\n",
    "    multiplier_dict = {}\n",
    "    multiplier_dict[\"land\"] = land_overhead * baseline_production_capacity / 1000000\n",
    "    multiplier_dict[\"labour\"] = labour_overhead\n",
    "    multiplier_dict[\"capital\"] = capital_overhead * baseline_production_capacity\n",
    "    return multiplier_dict\n"
   ]
  },
  {
   "cell_type": "code",
   "execution_count": null,
   "metadata": {},
   "outputs": [],
   "source": [
    "\n"
   ]
  },
  {
   "cell_type": "code",
   "execution_count": null,
   "id": "6b809639-673a-4acb-a143-7d300e12c01e",
   "metadata": {},
   "outputs": [],
   "source": [
    "C_all.loc[:,IndexTable.loc['Production_processes','Classification'].Items].to_excel(r'C:\\Users\\Joris\\OneDrive - Newcastle University\\PhD\\Models\\ME optimisation model\\ME_battery_supply_chain\\notebooks\\Data\\delete.xlsx')"
   ]
  },
  {
   "cell_type": "markdown",
   "id": "05f3f9a2-c3f9-45a2-b972-8a6ce87efce1",
   "metadata": {},
   "source": [
    "# Calculate the value added per process ($\\pi$) \n",
    "\n",
    "The battery value added refers to the cost of the primary production factors, similar to the system cost of MFCA. The value added ($v$) per process is based on the rectangular choice-of-technology model (RCOT) by Duchin and Levine (2011) and the LCA extension by Katelhon et al 2016. Here value added per process is calculated with \n",
    "\n",
    "$$v = F'\\pi$$\n",
    "\n",
    "where $F'$ is the transpose ($'$) of the physical factor requirement matrix where rows refer to the factors and columns to the process, and $\\pi$ is the price per unit factor.  <br>\n"
   ]
  },
  {
   "cell_type": "markdown",
   "id": "ff214e18-ee45-4259-89c2-e183ec0f54e9",
   "metadata": {},
   "source": [
    "## Factor requirement matrix ($F$)"
   ]
  },
  {
   "cell_type": "markdown",
   "id": "de08966b-1bbf-4da6-8b89-17020240531d",
   "metadata": {},
   "source": [
    "Factor requirement ($F$) for all battery production process are based on the calculations of BatPaC as described in the BatPaC manual. Here factor requirements are adjusted to account for varying production volumes with the following equation:\n",
    "$$F= F_b \\left(\\frac{P}{P_b}\\right)^p$$\n",
    "\n",
    "where $F_b$ refers to the baseline factor requirement matrix, $P$ to the modelled annual production process rate, $P_b$ to the base line process rate and $p$ is the scale factor. $F_b$, $P_b$ and $p$ are obtained from BatPaC.\n"
   ]
  },
  {
   "cell_type": "code",
   "execution_count": null,
   "id": "0e39ba75-6b7f-4535-91e0-97b67e8c81b6",
   "metadata": {},
   "outputs": [
    {
     "data": {
      "text/html": [
       "<div>\n",
       "<style scoped>\n",
       "    .dataframe tbody tr th:only-of-type {\n",
       "        vertical-align: middle;\n",
       "    }\n",
       "\n",
       "    .dataframe tbody tr th {\n",
       "        vertical-align: top;\n",
       "    }\n",
       "\n",
       "    .dataframe thead th {\n",
       "        text-align: right;\n",
       "    }\n",
       "</style>\n",
       "<table border=\"1\" class=\"dataframe\">\n",
       "  <thead>\n",
       "    <tr style=\"text-align: right;\">\n",
       "      <th></th>\n",
       "      <th>anode calendering</th>\n",
       "      <th>anode coating and drying</th>\n",
       "      <th>anode slitting</th>\n",
       "      <th>cathode binder solvent waste recovery</th>\n",
       "      <th>cathode calendering</th>\n",
       "      <th>cathode coating and drying</th>\n",
       "      <th>cathode slitting</th>\n",
       "      <th>cell formation</th>\n",
       "      <th>cell stacking</th>\n",
       "      <th>electrolyte filling and sealing</th>\n",
       "      <th>final electrode drying</th>\n",
       "      <th>jelly roll enclosing</th>\n",
       "      <th>mixing anode materials</th>\n",
       "      <th>mixing cathode materials</th>\n",
       "      <th>module and pack assembly</th>\n",
       "      <th>receiving and shipping</th>\n",
       "      <th>terminal welding</th>\n",
       "    </tr>\n",
       "  </thead>\n",
       "  <tbody>\n",
       "    <tr>\n",
       "      <th>land</th>\n",
       "      <td>669.172258</td>\n",
       "      <td>1769.858221</td>\n",
       "      <td>334.586129</td>\n",
       "      <td>403.024420</td>\n",
       "      <td>669.172258</td>\n",
       "      <td>1769.858221</td>\n",
       "      <td>334.586129</td>\n",
       "      <td>5145.997512</td>\n",
       "      <td>2082.655802</td>\n",
       "      <td>2008.081114</td>\n",
       "      <td>803.006709</td>\n",
       "      <td>669.360371</td>\n",
       "      <td>893.767445</td>\n",
       "      <td>1023.180226</td>\n",
       "      <td>3012.121671</td>\n",
       "      <td>9415.015086</td>\n",
       "      <td>1388.437201</td>\n",
       "    </tr>\n",
       "    <tr>\n",
       "      <th>labour</th>\n",
       "      <td>36716.878928</td>\n",
       "      <td>45896.098660</td>\n",
       "      <td>27537.659196</td>\n",
       "      <td>12472.018040</td>\n",
       "      <td>36716.878928</td>\n",
       "      <td>45896.098660</td>\n",
       "      <td>27537.659196</td>\n",
       "      <td>115068.916127</td>\n",
       "      <td>81801.142120</td>\n",
       "      <td>70984.843305</td>\n",
       "      <td>36716.878928</td>\n",
       "      <td>31548.819247</td>\n",
       "      <td>26478.446076</td>\n",
       "      <td>29636.858492</td>\n",
       "      <td>173518.505856</td>\n",
       "      <td>270534.714287</td>\n",
       "      <td>81801.142120</td>\n",
       "    </tr>\n",
       "    <tr>\n",
       "      <th>capital</th>\n",
       "      <td>3.512389</td>\n",
       "      <td>19.220953</td>\n",
       "      <td>2.809911</td>\n",
       "      <td>12.090733</td>\n",
       "      <td>3.512389</td>\n",
       "      <td>19.928519</td>\n",
       "      <td>2.809911</td>\n",
       "      <td>100.167183</td>\n",
       "      <td>10.181873</td>\n",
       "      <td>13.633524</td>\n",
       "      <td>5.619822</td>\n",
       "      <td>4.544508</td>\n",
       "      <td>9.309198</td>\n",
       "      <td>10.900033</td>\n",
       "      <td>28.899763</td>\n",
       "      <td>48.651466</td>\n",
       "      <td>13.884372</td>\n",
       "    </tr>\n",
       "  </tbody>\n",
       "</table>\n",
       "</div>"
      ],
      "text/plain": [
       "         anode calendering  anode coating and drying  anode slitting  \\\n",
       "land            669.172258               1769.858221      334.586129   \n",
       "labour        36716.878928              45896.098660    27537.659196   \n",
       "capital           3.512389                 19.220953        2.809911   \n",
       "\n",
       "         cathode binder solvent waste recovery  cathode calendering  \\\n",
       "land                                403.024420           669.172258   \n",
       "labour                            12472.018040         36716.878928   \n",
       "capital                              12.090733             3.512389   \n",
       "\n",
       "         cathode coating and drying  cathode slitting  cell formation  \\\n",
       "land                    1769.858221        334.586129     5145.997512   \n",
       "labour                 45896.098660      27537.659196   115068.916127   \n",
       "capital                   19.928519          2.809911      100.167183   \n",
       "\n",
       "         cell stacking  electrolyte filling and sealing  \\\n",
       "land       2082.655802                      2008.081114   \n",
       "labour    81801.142120                     70984.843305   \n",
       "capital      10.181873                        13.633524   \n",
       "\n",
       "         final electrode drying  jelly roll enclosing  mixing anode materials  \\\n",
       "land                 803.006709            669.360371              893.767445   \n",
       "labour             36716.878928          31548.819247            26478.446076   \n",
       "capital                5.619822              4.544508                9.309198   \n",
       "\n",
       "         mixing cathode materials  module and pack assembly  \\\n",
       "land                  1023.180226               3012.121671   \n",
       "labour               29636.858492             173518.505856   \n",
       "capital                 10.900033                 28.899763   \n",
       "\n",
       "         receiving and shipping  terminal welding  \n",
       "land                9415.015086       1388.437201  \n",
       "labour            270534.714287      81801.142120  \n",
       "capital               48.651466         13.884372  "
      ]
     },
     "execution_count": 223,
     "metadata": {},
     "output_type": "execute_result"
    }
   ],
   "source": [
    "baseline_parameters_path = r\"C:\\Users\\Joris\\OneDrive - Newcastle University\\PhD\\Models\\ME optimisation model\\ME_battery_supply_chain\\Model\\data\\manufacturing_cost_parameters.xlsx\"\n",
    "#\n",
    "result_dict['design_parameters']['battery_manufacturing_capacity'] = 100000\n",
    "F = bat_cost.factors_battery_production(result_dict, baseline_parameters_path, return_aggregated=True)\n",
    "F"
   ]
  },
  {
   "cell_type": "markdown",
   "id": "d26dc1e4-83e1-410a-8a07-621243ae8636",
   "metadata": {},
   "source": [
    "## Factor cost per process \n",
    "Factor cost per unit process ($b$) is calculated based on the element-wise multiplication (Hadamard product, $\\circ$) of the factor requirement matrix ($F'$) and the factor price ($\\pi$):\n",
    "$$b=F'\\circ \\pi$$\n",
    "\n",
    "In BatPaC, additional variable overhead costs (indirect cost related to materials, labour, utilities and plant maintance) and fixed expenses are included as reported in BatPaC. \n",
    "Overhead costs are here all attributed to single processes, such that $pi$ is calculated with:\n",
    "$$\\pi = \\pi_{cost} \\pi_{overhead}$$\n",
    "\n",
    "where $\\pi_{overhead}$ is the overhead multiplier. The overhead multiplier for capital ($cap$) and land ($land$) are  calculatd with:\n",
    "$$\\pi_{overhead} = \\frac{default_{overhead} default_{capacity}}{capacity}$$"
   ]
  },
  {
   "cell_type": "code",
   "execution_count": null,
   "id": "7b072a01-7b21-42fb-a5ff-4b2611ff5af8",
   "metadata": {},
   "outputs": [
    {
     "data": {
      "text/plain": [
       "land        148.92167\n",
       "labour      537.02170\n",
       "capital    1200.43016\n",
       "dtype: float64"
      ]
     },
     "execution_count": 224,
     "metadata": {},
     "output_type": "execute_result"
    }
   ],
   "source": [
    "# BatPaC default factor cost (land ($/m2), labour ($/hr), capital ($)):\n",
    "factor_cost          = np.array([3000, 25, 1])\n",
    "\n",
    "# factor_cost = ParameterDict['3_PR_factor_price'].Values[:,4]\n",
    "result_dict['design_parameters']['battery_manufacturing_capacity'] = 100000\n",
    "F = bat_cost.factors_battery_production(result_dict, baseline_parameters_path, return_aggregated=True)\n",
    "F\n",
    "\n",
    "factor_cost_overhead = list(bat_cost.factor_overhead_multiplier (100000).values())\n",
    "B = (F.T*(factor_cost*factor_cost_overhead))\n",
    "B.sum().astype(int)/100000\n"
   ]
  },
  {
   "cell_type": "markdown",
   "id": "6a6ee43f-3f2e-4dc3-ae32-6884a41a983d",
   "metadata": {},
   "source": [
    "## Value added per pack and per process ($v$)"
   ]
  },
  {
   "cell_type": "code",
   "execution_count": null,
   "id": "5b16dd64-bb3f-49cc-a8a8-28e2040b6155",
   "metadata": {},
   "outputs": [
    {
     "data": {
      "text/plain": [
       "anode calendering                         33.824957\n",
       "anode coating and drying                 104.061291\n",
       "anode slitting                            25.280359\n",
       "cathode binder solvent waste recovery     54.541176\n",
       "cathode calendering                       33.824957\n",
       "cathode coating and drying               106.804101\n",
       "cathode slitting                          25.280359\n",
       "cell formation                           465.640825\n",
       "cell stacking                             87.214480\n",
       "electrolyte filling and sealing           95.204447\n",
       "final electrode drying                    42.609515\n",
       "jelly roll enclosing                      35.415182\n",
       "mixing anode materials                    52.550777\n",
       "mixing cathode materials                  60.786259\n",
       "module and pack assembly                 206.843344\n",
       "receiving and shipping                   358.116336\n",
       "terminal welding                          98.375178\n",
       "dtype: float64"
      ]
     },
     "execution_count": 225,
     "metadata": {},
     "output_type": "execute_result"
    }
   ],
   "source": [
    "b = B.T.sum(axis=0)/100000\n",
    "b"
   ]
  },
  {
   "cell_type": "code",
   "execution_count": null,
   "id": "42dbfeb7-8110-4f0d-b136-b1b12b6777dd",
   "metadata": {},
   "outputs": [
    {
     "data": {
      "text/plain": [
       "[<matplotlib.lines.Line2D at 0x25b8d4dad60>]"
      ]
     },
     "execution_count": 316,
     "metadata": {},
     "output_type": "execute_result"
    },
    {
     "data": {
      "image/png": "[encoded data removed]",
      "text/plain": [
       "<Figure size 432x288 with 1 Axes>"
      ]
     },
     "metadata": {
      "needs_background": "light"
     },
     "output_type": "display_data"
    }
   ],
   "source": [
    "pack_cost_kwh = [x/60 for x in pack_cost]\n",
    "\n",
    "plt.plot(pack_cost_kwh)"
   ]
  },
  {
   "cell_type": "markdown",
   "id": "8f1702f7-1494-400b-8169-1511170401a7",
   "metadata": {},
   "source": [
    "### Impact of production capacity:"
   ]
  },
  {
   "cell_type": "code",
   "execution_count": null,
   "id": "51924701-ef23-4e04-a4b0-4941556f97f2",
   "metadata": {},
   "outputs": [
    {
     "data": {
      "text/plain": [
       "Text(0.5, 1.0, 'Factor cost per battery pack by battery production capacity')"
      ]
     },
     "execution_count": 320,
     "metadata": {},
     "output_type": "execute_result"
    },
    {
     "data": {
      "image/png": "[encoded data removed]",
      "text/plain": [
       "<Figure size 432x288 with 1 Axes>"
      ]
     },
     "metadata": {
      "needs_background": "light"
     },
     "output_type": "display_data"
    }
   ],
   "source": [
    "production = list(range(100000, 600000, 10000))\n",
    "land = []\n",
    "labour = []\n",
    "capital = []\n",
    "\n",
    "for x in production:\n",
    "    result_dict['design_parameters']['battery_manufacturing_capacity'] = x\n",
    "    F = bat_cost.factors_battery_production(result_dict, baseline_parameters_path)\n",
    "    factor_cost_overhead = list(bat_cost.factor_overhead_multiplier(x).values())\n",
    "    \n",
    "    a = (F.T*(factor_cost*factor_cost_overhead))\n",
    "    f = a.sum()/x\n",
    "    land.append(f[0])\n",
    "    labour.append(f[1])\n",
    "    capital.append(f[2])\n",
    "    \n",
    "from matplotlib.ticker import FormatStrFormatter, StrMethodFormatter\n",
    "a = [land, labour, capital]\n",
    "factor_cost_all = sum(map(np.array, a))\n",
    "\n",
    "fig, ax = plt.subplots()\n",
    "ax.plot(production, factor_cost_all,label='Factor costs')\n",
    "plt.ylabel('US$')\n",
    "\n",
    "ax.legend()\n",
    "plt.xlabel('Production capacity')\n",
    "ax.xaxis.set_major_formatter(StrMethodFormatter('{x:,g}'))\n",
    "ax.yaxis.set_major_formatter(StrMethodFormatter('{x:,g}'))\n",
    "plt.title('Factor cost per battery pack by battery production capacity')"
   ]
  },
  {
   "cell_type": "markdown",
   "id": "d9efe8bd-3c5e-4068-b9b4-16a96b9da961",
   "metadata": {},
   "source": [
    "### Factor cost for different countries:"
   ]
  },
  {
   "cell_type": "code",
   "execution_count": null,
   "id": "1c6459a7-763f-4d41-929a-6bf832263d2f",
   "metadata": {},
   "outputs": [
    {
     "data": {
      "text/plain": [
       "Text(0, 0.5, 'US$')"
      ]
     },
     "execution_count": 14,
     "metadata": {},
     "output_type": "execute_result"
    },
    {
     "data": {
      "image/png": "[encoded data removed]",
      "text/plain": [
       "<Figure size 432x288 with 1 Axes>"
      ]
     },
     "metadata": {
      "needs_background": "light"
     },
     "output_type": "display_data"
    }
   ],
   "source": [
    "ParameterDict['3_PR_factor_price'].Values\n",
    "\n",
    "production = list(range(100000, 600000, 10000))\n",
    "cost_total = []\n",
    "\n",
    "for x in range(ParameterDict['3_PR_factor_price'].Values.shape[1]):\n",
    "    factor_cost = (ParameterDict['3_PR_factor_price'].Values[:,x])    \n",
    "    factor_cost_overhead = list(bat_cost.factor_overhead_multiplier(100000).values())\n",
    "    a = (F.T*(factor_cost*factor_cost_overhead))\n",
    "    f = a.sum()/100000\n",
    "    cost_total.append(f.sum())\n",
    "\n",
    "df = pd.DataFrame(cost_total, IndexTable.loc['Regions', 'Classification'].Items,)    \n",
    "    \n",
    "(df.sort_values(by=0)/60).plot.bar()\n",
    "plt.ylabel('US$')"
   ]
  }
 ],
 "metadata": {
  "interpreter": {
   "hash": "77b1a39b2e46dae2d06de88b1d8cb6f5c7562cfa1125541e21b7ad9f29b27783"
  },
  "kernelspec": {
   "display_name": "Python 3 (ipykernel)",
   "language": "python",
   "name": "python3"
  },
  "language_info": {
   "codemirror_mode": {
    "name": "ipython",
    "version": 3
   },
   "file_extension": ".py",
   "mimetype": "text/x-python",
   "name": "python",
   "nbconvert_exporter": "python",
   "pygments_lexer": "ipython3",
   "version": "3.9.12"
  },
  "toc": {
   "base_numbering": 1,
   "nav_menu": {},
   "number_sections": true,
   "sideBar": true,
   "skip_h1_title": true,
   "title_cell": "Table of Contents",
   "title_sidebar": "Contents",
   "toc_cell": false,
   "toc_position": {
    "height": "calc(100% - 180px)",
    "left": "10px",
    "top": "150px",
    "width": "165px"
   },
   "toc_section_display": true,
   "toc_window_display": false
  },
  "toc-autonumbering": true,
  "toc-showtags": false
 },
 "nbformat": 4,
 "nbformat_minor": 5
}
