{
 "cells": [
  {
   "cell_type": "markdown",
   "id": "106a403f-b606-46fb-a47e-355a0954cccb",
   "metadata": {},
   "source": [
    "# <strong> Example battery design: Automating BatPaC V5</strong>\n",
    "   "
   ]
  },
  {
   "cell_type": "markdown",
   "id": "4c1b3964",
   "metadata": {},
   "source": [
    "The following notebook provides an example of the battery design module. The module uses BatPaC version 5 to solve the battery design based on user specific parameters and returns the material content of specific battery design. The notebook contains three examples:\n",
    "\n",
    "* [Example 1: Single battery design](#first-bullet)\n",
    "* [Example 2: Including vehicle parameters](#second-bullet)\n",
    "* [Example 3: Several battery designs](#third-bullet)\n",
    "\n",
    "\n",
    "\n",
    "<center><img src='../docs/batpac_python.jpg' width=800/></center>"
   ]
  },
  {
   "cell_type": "code",
   "execution_count": 1,
   "id": "8507e83a-bbc3-49a9-993e-ad57c2c38e6c",
   "metadata": {},
   "outputs": [],
   "source": [
    "#Import required packages\n",
    "\n",
    "import pandas as pd\n",
    "import sys\n",
    "import matplotlib.pyplot as plt\n",
    "from tabulate import tabulate\n",
    "\n",
    "\n",
    "#Import the battery design module from a local path\n",
    "local_path =r\"C:\\Users\\Joris\\OneDrive - Newcastle University\\Python\\Projects\\Batt_Sust_Model-1\\batt_sust_model\" #ADD PATH\n",
    "sys.path.insert(1, local_path)\n",
    "from battery_design import battery_design as bd\n",
    "\n",
    "#Local path to BatPaC version 5\n",
    "path_batpac = r\"C:\\Users\\Joris\\OneDrive - Newcastle University\\PhD\\Models\\battery_sustainability_model\\Case study\\BatPaC 5.0 - 8March2022.xlsm\"#ADD PATH\n"
   ]
  },
  {
   "cell_type": "markdown",
   "id": "16bc162b-fcc0-44e3-a615-dd3b4926b7e7",
   "metadata": {},
   "source": [
    "## Example 1 - Solving a single battery pack design <a class=\"anchor\" id=\"first-bullet\"></a>\n",
    "The design of the Volkswagen MEB platform, 77 kWh version as reported by\n",
    "[PushEVS.com](https://pushevs.com/2020/05/13/volkswagen-meb-details/) is used as an example (NMC622 is used instead of NMC712, as the latter is not in the public version of BatPaC V5l). All other parameters are BatPaC default parameters.\n",
    "\n",
    "* usable battery energy: 94%\n",
    "* cell type: prismatic\n",
    "* Total pack energy: 82 kWh\n",
    "* Electrode pair: NMC622-G\n",
    "* Silicon additive anode: 0%\n",
    "* Cells per module: 24\n",
    "* Modules per pack: 12\n",
    "* Cells in parallel: 3 \n",
    "* Maximum charging time: 33 minutes (ev-database.org)\n",
    "* Maximum charge power: 135 kW (ev-database.org)\n",
    "<br>\n",
    "\n",
    "<!-- <a href=https://www.volkswagen-newsroom.com/en/press-releases/long-range-and-rapid-charging-the-battery-system-is-at-the-heart-of-the-volkswagen-id3-id4-and-id4-gtx-7130>\n",
    "<center><img src='../docs/ID pack.jpg' width=600/> <br></center>\n",
    "<figcaption align = \"center\"><b>Structure of the Volkswagen MEB platform (VW, 2021) </b></figcaption>\n",
    "</a> -->"
   ]
  },
  {
   "cell_type": "code",
   "execution_count": 2,
   "id": "5f8c65ac-84d6-40d7-9f26-22e6f7d01c6f",
   "metadata": {},
   "outputs": [],
   "source": [
    "#Establish battery system class of specific design:\n",
    "battery = bd.Battery_system (\n",
    "                            vehicle_type='EV', \n",
    "                             electrode_pair='NMC622-G (Energy)',                              \n",
    "                             cells_per_module=24, \n",
    "                             modules_per_row=6,\n",
    "                             rows_of_modules=2, \n",
    "                             cells_in_parallel=3, #https://static.nhtsa.gov/odi/tsbs/2021/MC-10186407-0001.pdf\n",
    "                             modules_in_parallel = 1,  \n",
    "                             silicon_anode= 0.00, \n",
    "                             pack_energy=82, \n",
    "                             positive_max_thickness = 74, #https://www.anl.gov/cse/batpac-model-software\n",
    "                             calculate_fast_charge = 'Yes',\n",
    "                             max_charging_time = 33,  \n",
    "                             max_charge_power = 135, \n",
    "                             available_energy=94\n",
    "                             )\n",
    "#Establish parameter dictionary\n",
    "parameter_dict = battery.parameter_dictionary()\n",
    "\n",
    "# #Solve battery design in BatPaC returning nested dictionary with material contents and parameter values\n",
    "# #Make sure BatPaC is not open or running in the background. \n",
    "# #BatPaC can run in the foreground if visible=True\n",
    "result_dict = bd.solve_batpac_battery_system (batpac_path = path_batpac, parameter_dict=parameter_dict, visible=True)"
   ]
  },
  {
   "cell_type": "code",
   "execution_count": 9,
   "id": "09b617d5-0009-4d64-a12a-b5619890f14b",
   "metadata": {},
   "outputs": [
    {
     "name": "stdout",
     "output_type": "stream",
     "text": [
      "Results modelled pack versus VW3 ID3. Data based on PushEV, EPA \"Application for Emissions Certification\" for ID.4, VW :\n",
      "                               BatPaC output    VW ID3.\n",
      "---------------------------  ---------------  ---------\n",
      "Usable capacity (kWh)                82.7219         77\n",
      "Cell weight (kg)                       1.031      1.073\n",
      "Cell capacity (Ah)                     83.07         78\n",
      "Module weight (kg)                    27.357         30\n",
      "Nominal voltage (V)                   353.14        400\n",
      "Capacity (Ah)                          249.2        234\n",
      "Battery weight (kg)                    497.7        493\n",
      "Pack energy density Wh/kg              176.8      166.3\n",
      "Total cells                              288        288\n",
      "Cell energy density (Wh/kg)          296.323        265\n"
     ]
    }
   ],
   "source": [
    "from tabulate import tabulate\n",
    "\n",
    "headers = [' ', 'BatPaC output', 'VW ID3.']\n",
    "data = [\n",
    "        ['Usable capacity (kWh)', result_dict['general_battery_parameters']['pack_usable_energy_kWh'], 77],\n",
    "        ['Cell weight (kg)', round(result_dict['material_content_pack']['cell']/result_dict['general_battery_parameters']['cells_per_pack'],3),1.073],\n",
    "        ['Cell capacity (Ah)',round(result_dict['general_battery_parameters']['cell_capacity_ah'], 2),78],\n",
    "        ['Module weight (kg)', round(result_dict['material_content_pack']['modules']/result_dict['general_battery_parameters']['modules_per_pack'],3), 30],\n",
    "        [\"Nominal voltage (V)\",round(result_dict['general_battery_parameters']['pack_nominal_voltage'], 2),400],\n",
    "        ['Capacity (Ah)',round(result_dict['general_battery_parameters']['pack_capacity_ah'], 2),234],\n",
    "        ['Battery weight (kg)', round(result_dict['material_content_pack']['battery pack'],1),493],\n",
    "        ['Pack energy density Wh/kg', round(result_dict['general_battery_parameters']['pack_energy_kWh']/result_dict['material_content_pack']['battery pack'],4)*1000, 166.3],\n",
    "        ['Total cells',result_dict['general_battery_parameters']['cells_per_pack'],288],\n",
    "        ['Cell energy density (Wh/kg)', result_dict['general_battery_parameters']['specific_energy_cell_Wh/kg'],265]\n",
    "       ]\n",
    "\n",
    "print ('Results modelled pack versus VW3 ID3. Data based on PushEV, EPA \"Application for Emissions Certification\" for ID.4, VW :')\n",
    "print(tabulate(data, headers=headers, numalign=\"right\"))\n"
   ]
  },
  {
   "cell_type": "markdown",
   "id": "219dd0a5-a417-4880-8adb-da5c25485169",
   "metadata": {},
   "source": [
    "### Export to Excel\n",
    "Results can be exported to Excel, resulting in two files: \n",
    "* 3_MC_battery_pack_materials: the material content of the battery design\n",
    "* 3_PAR_battery_design parameters:  includes the design parameters and several technical parameters\n"
   ]
  },
  {
   "cell_type": "code",
   "execution_count": 8,
   "id": "a93dff49-305b-4d44-826f-7b05535dd3de",
   "metadata": {},
   "outputs": [],
   "source": [
    "bd.export_to_excel(result_dict, 'result_2', overwrite=True)"
   ]
  },
  {
   "cell_type": "markdown",
   "id": "bfe7ffca",
   "metadata": {},
   "source": [
    "## Example 2 - Including vehicle parameters<a class=\"anchor\" id=\"second-bullet\"></a>\n",
    "\n",
    "\n",
    "An additional vehicle model is included to calculate the required battery energy for specific vehicle parameters and a desired range. The model and interaction with BatPaC is based on a the study by [Yelin et al., 2017](https://www.sciencedirect.com/science/article/abs/pii/S0378775317300368) and [Kim and Wallington, 2016](https://pubs.acs.org/doi/10.1021/acs.est.6b02059). \n",
    "\n",
    "<img src='../docs/batpac_vehicle_model.png' width=600/>\n",
    "\n",
    "\n",
    "\n",
    "Several input parameters that **need** to be defined. This includes the desired vehicle range in miles and the rolling resistance coefficient, rotation resistance coefficient and aerodynamic resistance coefficient, also referred to as the A, B, and C target coefficients, respectively. The target coefficients are based on the EPA vehicle testing data used to determine the fuel economy of new vehicles. Annual data can be found [here](https://www.epa.gov/compliance-and-fuel-economy-data/data-cars-used-testing-fuel-economy). \n",
    "\n",
    "In the following example, the target coefficients and range of the VW ID.4 are used to model the corresponding battery and vehicle size in BatPaC and the vehicle model. \n",
    "\n",
    "\n"
   ]
  },
  {
   "cell_type": "code",
   "execution_count": 5,
   "id": "2b2a2981",
   "metadata": {},
   "outputs": [],
   "source": [
    "#Establish battery system class of specific design:\n",
    "battery = bd.Battery_system (    \n",
    "                             vehicle_type='EV', \n",
    "                             electrode_pair='NMC622-G (Energy)',                              \n",
    "                             cells_per_module=24, \n",
    "                             modules_per_row=6,\n",
    "                             rows_of_modules=2, \n",
    "                             cells_in_parallel=3, #https://static.nhtsa.gov/odi/tsbs/2021/MC-10186407-0001.pdf\n",
    "                             modules_in_parallel = 1,  \n",
    "                             silicon_anode= 0.00, \n",
    "                             positive_max_thickness = 74, #https://www.anl.gov/cse/batpac-model-software\n",
    "                             calculate_fast_charge = 'Yes',\n",
    "                             max_charging_time = 33,  \n",
    "                             max_charge_power = 135, \n",
    "                             available_energy=94,\n",
    "                             A_coefficient=135.9999272, #based on EPA data\n",
    "                             B_coefficient= 3.732390689,#based on EPA data\n",
    "                             C_coefficient=0.406771986,#based on EPA data\n",
    "                             vehicle_range_miles =410*0.6214, #EV-database using the 'EVDB Real Range' (converted to miles) https://ev-database.org/car/1273/Volkswagen-ID4-1st\n",
    "                             motor_power = 150 #Based on adac.de VW ID.4 Pro Performance https://www.adac.de/rund-ums-fahrzeug/autokatalog/marken-modelle/vw/id4/1generation/318521/#technische-daten                 \n",
    "                             )\n",
    "#Establish parameter dictionary\n",
    "parameter_dict = battery.parameter_dictionary()"
   ]
  },
  {
   "cell_type": "code",
   "execution_count": 6,
   "id": "bf7e3b3e",
   "metadata": {},
   "outputs": [],
   "source": [
    "#With all vehicle parameters defined, a new vehicle sheet in added in BatPaC.\n",
    "#Several functions in BatPaC are changed such that the vehicle range determines the kWh (originally removed from BatPaC V5)\n",
    "#Make sure BatPaC is closed\n",
    "result_dict = bd.solve_batpac_battery_system (batpac_path = path_batpac, parameter_dict=parameter_dict, visible=True)"
   ]
  },
  {
   "cell_type": "code",
   "execution_count": 5,
   "id": "bfaf9683",
   "metadata": {},
   "outputs": [],
   "source": [
    "bd.export_to_excel(result_dict, 'result', overwrite=True)"
   ]
  },
  {
   "cell_type": "code",
   "execution_count": 4,
   "id": "f2274ae1",
   "metadata": {},
   "outputs": [
    {
     "name": "stdout",
     "output_type": "stream",
     "text": [
      "Results modelled vehicle versus VW ID4 Pro (reported weight based on adac.de):\n",
      "                             Modelled    VW ID4. Pro\n",
      "-------------------------  ----------  -------------\n",
      "Usable capacity (kWh)              77             77\n",
      "Vehicle weight (kg)              2159           2124\n",
      "Battery weight (kg)               473            493\n",
      "Pack energy density Wh/kg       173.4          166.3\n",
      "Cell weight (kg)                0.963          1.073\n",
      "Glider weight (kg)             1361.3              0\n",
      "Motor weight (kg)                 175              0\n",
      "Transmission weight (kg)          114              0\n"
     ]
    }
   ],
   "source": [
    "headers = [' ', 'Modelled', 'VW ID4. Pro']\n",
    "data = [['Usable capacity (kWh)', round(result_dict['general_battery_parameters']['pack_usable_energy_kWh'],0), 77],\n",
    "        ['Vehicle weight (kg)', round(result_dict['general_battery_parameters']['vehicle_weight'],0),2124 ],\n",
    "        ['Battery weight (kg)', round(result_dict['material_content_pack']['battery pack'],0),493],\n",
    "        ['Pack energy density Wh/kg', round(result_dict['general_battery_parameters']['pack_energy_kWh']/result_dict['material_content_pack']['battery pack'],4)*1000, 166.3],\n",
    "        ['Cell weight (kg)', round(result_dict['material_content_pack']['cell']/result_dict['general_battery_parameters']['cells_per_pack'],3),1.073],\n",
    "        ['Glider weight (kg)', round(result_dict['general_battery_parameters']['glider_weight'],1),  0],\n",
    "        ['Motor weight (kg)', round(result_dict['general_battery_parameters']['motor_controller_weight'],0), 0 ],\n",
    "        ['Transmission weight (kg)', round(result_dict['general_battery_parameters']['transmission_weight'],0), 0 ],\n",
    "       ]\n",
    "\n",
    "print ('Results modelled vehicle versus VW ID4 Pro (reported weight based on adac.de):')\n",
    "print(tabulate(data, headers=headers, numalign=\"right\"))"
   ]
  },
  {
   "cell_type": "markdown",
   "id": "7796132f-903a-40a1-a2bd-c2ac82a5b193",
   "metadata": {},
   "source": [
    "## Example 3 - Solving multiple battery designs<a class=\"anchor\" id=\"third-bullet\"></a>\n",
    "In the following example, the battery design module is used to iterate through several design parameters and solve the battery system for several batteries. Using the function 'solve_batpac_battery_system_multiple', BatPaC does not close and solves for each design parameter (takes a few second to solve BatPaC in Excel with 100 iterations per calculation enabled). \n",
    "\n",
    "In the following example the model iterates through different cathode chemistries and current collector thickness:\n",
    "\n",
    "* cathode chemistry: NMC622-G and NMC811-G\n",
    "* anode current collector thickness: 6 and 8\n",
    "* cathode current collector thickness: 10 and 12\n",
    " <br>\n",
    "\n"
   ]
  },
  {
   "cell_type": "code",
   "execution_count": 10,
   "id": "2450afd0-52c7-4b82-ac41-e399f667b4cf",
   "metadata": {},
   "outputs": [],
   "source": [
    "import itertools as itertools\n",
    "\n",
    "cathode_chemistry         = ['NMC622-G (Energy)', 'NMC811-G (Energy)']\n",
    "anode_current_collector   = [6, 8]\n",
    "cathode_current_collector = [10,12]\n",
    "\n",
    "dict_design = {}\n",
    "\n",
    "param_all = list(itertools.product(cathode_chemistry,anode_current_collector,cathode_current_collector))\n",
    "for param in param_all:\n",
    "    battery = bd.Battery_system (\n",
    "                            vehicle_type='EV', \n",
    "                             cells_per_module=24, \n",
    "                             modules_per_row=6,\n",
    "                             rows_of_modules=2, \n",
    "                             cells_in_parallel=3, #https://static.nhtsa.gov/odi/tsbs/2021/MC-10186407-0001.pdf\n",
    "                             modules_in_parallel = 1,  \n",
    "                             silicon_anode= 0.00, \n",
    "                             positive_max_thickness = 74, #https://www.anl.gov/cse/batpac-model-software\n",
    "                             calculate_fast_charge = 'Yes',\n",
    "                             max_charging_time = 33,  \n",
    "                             max_charge_power = 135, \n",
    "                             available_energy=94,\n",
    "                             A_coefficient=135.9999272, #based on EPA data\n",
    "                             B_coefficient= 3.732390689,#based on EPA data\n",
    "                             C_coefficient=0.406771986,#based on EPA data\n",
    "                             vehicle_range_miles =410*0.6214, #EV-database using the 'EVDB Real Range' (converted to miles) https://ev-database.org/car/1273/Volkswagen-ID4-1st\n",
    "                             motor_power = 150, #Based on adac.de VW ID.4 Pro Performance https://www.adac.de/rund-ums-fahrzeug/autokatalog/marken-modelle/vw/id4/1generation/318521/#technische-daten                 \n",
    "                             negative_foil_thickness=param[1], \n",
    "                             positive_foil_thickness=param[2],\n",
    "                             electrode_pair=param[0], \n",
    "\n",
    "                                 )\n",
    "    parameter_dict = battery.parameter_dictionary()\n",
    "\n",
    "    #Save each BatPaC output in design dictionary:\n",
    "    dict_design[param] = parameter_dict\n",
    "    "
   ]
  },
  {
   "cell_type": "code",
   "execution_count": 11,
   "id": "ccd4ddca-2b3f-4e95-8660-ef25182e0127",
   "metadata": {},
   "outputs": [
    {
     "name": "stderr",
     "output_type": "stream",
     "text": [
      "100%|██████████| 8/8 [01:11<00:00,  8.90s/it]\n"
     ]
    }
   ],
   "source": [
    "#Solve in BatPaC. Make sure BatPaC is closed!\n",
    "result_dict_all = bd.solve_batpac_battery_system_multiple (\n",
    "    batpac_path = path_batpac,\n",
    "    parameter_dict_all=dict_design, \n",
    "    visible=False)"
   ]
  },
  {
   "cell_type": "code",
   "execution_count": 12,
   "id": "6035604f",
   "metadata": {},
   "outputs": [
    {
     "name": "stdout",
     "output_type": "stream",
     "text": [
      "Results modelled pack versus VW3 ID4\n",
      "                           design 0    design 1    design 2    design 3    design 4    design 5    design 6    design 7    Baseline    VW ID4.\n",
      "-------------------------  ----------  ----------  ----------  ----------  ----------  ----------  ----------  ----------  ----------  ---------\n",
      "Cathode chemistry          NMC622-G    NMC622-G    NMC622-G    NMC622-G    NMC811-G    NMC811-G    NMC811-G    NMC811-G    NMC622-G    NMC712\n",
      "Anode foil Cu (um)         6           6           8           8           6           6           8           8           0           0\n",
      "Cathode foil Al (um)       10          12          10          12          10          12          10          12          0           0\n",
      "Usable capacity (kWh)      82.4        82.5        82.5        82.5        82.0        82.0        82.1        82.1        83.0        77\n",
      "Vehicle weight (kg)        2111        2115        2122        2123        2071        2074        2080        2084        2141.0      2124\n",
      "Battery weight (kg)        478         481         485         486         452         455         459         461         498.0       493\n",
      "Pack energy density Wh/kg  183.1       182.2       180.7       180.5       192.6       191.6       190.2       189.2       176.8       166.3\n",
      "Cell weight (kg)           0.974       0.981       0.995       1.001       0.903       0.908       0.921       0.927       1.031       1.073\n",
      "Glider weight (kg)         1344        1345        1348        1348        1329        1330        1333        1334        1355        0\n"
     ]
    }
   ],
   "source": [
    "#Comparing results with previous output and real value\n",
    "import matplotlib.pyplot as plt\n",
    "\n",
    "capacity = []\n",
    "cathode= []\n",
    "cu_foil = []\n",
    "al_foil = []\n",
    "wt_vehicle = []\n",
    "wt_cell = []\n",
    "wt_battery = []\n",
    "wt_glider = []\n",
    "density = []\n",
    "\n",
    "for x in result_dict_all.keys():\n",
    "    capacity.append(round(result_dict_all[x]['general_battery_parameters']['pack_usable_energy_kWh'],1))\n",
    "\n",
    "    cu_foil.append(result_dict_all[x]['batpac_input']['negative_foil_thickness']['value'])\n",
    "    al_foil.append(result_dict_all[x]['batpac_input']['positive_foil_thickness']['value'])\n",
    "    wt_vehicle.append(int(result_dict_all[x]['general_battery_parameters']['vehicle_weight']))\n",
    "    wt_battery.append(int(result_dict_all[x]['material_content_pack']['battery pack']))\n",
    "    wt_glider.append(int(result_dict_all[x]['general_battery_parameters']['glider_weight']))\n",
    "    wt_cell.append(round(result_dict_all[x]['material_content_pack']['cell']/result_dict_all[x]['general_battery_parameters']['cells_per_pack'],3))\n",
    "    cathode.append(result_dict_all[x]['general_battery_parameters']['electrode_pair'].strip('(Energy)'))\n",
    "    density.append(round(result_dict_all[x]['general_battery_parameters']['pack_energy_kWh']/result_dict_all[x]['material_content_pack']['battery pack']*1000,1))\n",
    "\n",
    "data = [\n",
    "    ['Cathode chemistry', result_dict['general_battery_parameters']['electrode_pair'].strip('(Energy)'), 'NMC712'],\n",
    "    ['Anode foil Cu (um)', 0,0],\n",
    "    ['Cathode foil Al (um)',0,0 ],\n",
    "    \n",
    "    ['Usable capacity (kWh)', round(result_dict['general_battery_parameters']['pack_usable_energy_kWh'],0), 77],\n",
    "        ['Vehicle weight (kg)', round(result_dict['general_battery_parameters']['vehicle_weight'],0),2124 ],\n",
    "        ['Battery weight (kg)', round(result_dict['material_content_pack']['battery pack'],0),493],\n",
    "        ['Pack energy density Wh/kg', round(result_dict['general_battery_parameters']['pack_energy_kWh']/result_dict['material_content_pack']['battery pack']*1000,1), 166.3],\n",
    "        ['Cell weight (kg)', round(result_dict['material_content_pack']['cell']/result_dict['general_battery_parameters']['cells_per_pack'],3),1.073],\n",
    "        ['Glider weight (kg)', int(result_dict['general_battery_parameters']['glider_weight']),  0],\n",
    "\n",
    "       ]\n",
    "\n",
    "data[0][1:1]=cathode\n",
    "data[1][1:1]=cu_foil\n",
    "data[2][1:1]=al_foil\n",
    "data[3][1:1]=capacity\n",
    "data[4][1:1]=wt_vehicle\n",
    "data[5][1:1]=wt_battery\n",
    "data[6][1:1]=density\n",
    "data[7][1:1]=wt_cell\n",
    "data[8][1:1]=wt_glider\n",
    "\n",
    "\n",
    "headers = [f'design {x}' for x in range(8)]+['Baseline', 'VW ID4.']\n",
    "\n",
    "print ('Results modelled pack versus VW3 ID4')\n",
    "print(tabulate(data, headers=headers, numalign=\"right\"))"
   ]
  },
  {
   "cell_type": "code",
   "execution_count": 14,
   "id": "e3f6ca39",
   "metadata": {},
   "outputs": [
    {
     "data": {
      "text/plain": [
       "<matplotlib.legend.Legend at 0x211790a4880>"
      ]
     },
     "execution_count": 14,
     "metadata": {},
     "output_type": "execute_result"
    },
    {
     "data": {
      "image/png": "[encoded data removed]",
      "text/plain": [
       "<Figure size 432x288 with 1 Axes>"
      ]
     },
     "metadata": {
      "needs_background": "light"
     },
     "output_type": "display_data"
    }
   ],
   "source": [
    "#Plot of the results\n",
    "import os\n",
    "def dataframe_components (result_dict, name=None):\n",
    "    \"\"\" Returns material content by component group type\"\"\"   \n",
    "    path = os.path.abspath ('..\\\\batt_sust_model\\data\\component_type_linkage.xlsx')\n",
    "    df_types = pd.read_excel(path, index_col='component')\n",
    "    result = result_dict['material_content_pack']\n",
    "    df_types[name] = df_types.index.map(result).fillna(0)\n",
    "    df_types = df_types[(df_types != 0).all(1)]\n",
    "    df_types = df_types.groupby(['component_type', 'part_off']).sum()\n",
    "    df_types.sort_values(by='part_off', ascending=True, inplace=True)\n",
    "    df_types = df_types.reset_index(level=[1])\n",
    "    df_types.drop('part_off', axis=1, inplace=True)\n",
    "    return df_types\n",
    "\n",
    "df_list = [dataframe_components(result_dict_all[x], name=x) for x in result_dict_all.keys()]\n",
    "df = pd.concat(df_list, axis=1).T.set_axis([f'design {x}' for x in range(8)])\n",
    "df.sort_values(by=list(df.index)[0], axis=1, ascending=False).plot.bar(stacked=True)\n",
    "plt.ylabel('Weight (kg)')\n",
    "plt.legend(loc='center left', bbox_to_anchor=(1.0, 0.5))"
   ]
  },
  {
   "cell_type": "code",
   "execution_count": 17,
   "id": "ae5f4113-d770-4daa-8427-56d8e21c3ae8",
   "metadata": {},
   "outputs": [],
   "source": [
    "#Export results to excel\n",
    "bd.export_to_excel(result_dict_all, overwrite=True)"
   ]
  }
 ],
 "metadata": {
  "kernelspec": {
   "display_name": "Python 3 (ipykernel)",
   "language": "python",
   "name": "python3"
  },
  "language_info": {
   "codemirror_mode": {
    "name": "ipython",
    "version": 3
   },
   "file_extension": ".py",
   "mimetype": "text/x-python",
   "name": "python",
   "nbconvert_exporter": "python",
   "pygments_lexer": "ipython3",
   "version": "3.9.12"
  }
 },
 "nbformat": 4,
 "nbformat_minor": 5
}
