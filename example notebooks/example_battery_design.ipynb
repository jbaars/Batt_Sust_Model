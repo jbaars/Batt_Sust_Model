{
 "cells": [
  {
   "cell_type": "markdown",
   "id": "106a403f-b606-46fb-a47e-355a0954cccb",
   "metadata": {},
   "source": [
    "# <strong> Example battery design:</strong> Automating BatPaC V5\n",
    "   "
   ]
  },
  {
   "cell_type": "markdown",
   "id": "4c1b3964",
   "metadata": {},
   "source": [
    "The following notebook provides an example of the battery design module. The module uses BatPaC version 5 to solve the battery design based on user specific parameters and returns the material content of specific battery design. The notebook contains three examples:\n",
    "\n",
    "* Example 1: [Single battery design](#example-1---solving-a-single-battery-pack-design)\n",
    "* Example 2: [Including vehicle parameters](#example-2---including-vehicle-parameters)\n",
    "* Example 3: [Several battery designs](#example-3---solving-multiple-battery-designs)\n",
    "\n",
    "\n",
    "<img src='../docs/batpac_python.png' width=800/>\n"
   ]
  },
  {
   "cell_type": "code",
   "execution_count": 2,
   "id": "8507e83a-bbc3-49a9-993e-ad57c2c38e6c",
   "metadata": {},
   "outputs": [],
   "source": [
    "#Import required packages\n",
    "\n",
    "import pandas as pd\n",
    "import sys\n",
    "import matplotlib.pyplot as plt\n",
    "\n",
    "#Import the battery design module from a local path\n",
    "sys.path.insert(1, r'C:\\Users\\Joris\\OneDrive - Newcastle University\\Python\\Projects\\Batt_Sust_Model\\batt_sust_model')\n",
    "from battery_design import battery_design as bd\n",
    "\n",
    "#Local Path to BatPaC version 5. \n",
    "# Make sure iterative calculations are enabled (100 iterations is sufficient, see BatPaC manual 3rd edition page 12):\n",
    "path_batpac = r\"C:\\Users\\Joris\\OneDrive - Newcastle University\\PhD\\Models\\battery_sustainability_model\\Case study\\BatPaC 5.0 10Feb2022.xlsm\""
   ]
  },
  {
   "cell_type": "markdown",
   "id": "16bc162b-fcc0-44e3-a615-dd3b4926b7e7",
   "metadata": {},
   "source": [
    "## Example 1 - Solving a single battery pack design\n",
    "The geometric design of the Volkswagen ID.3 77 kWh version as reported by\n",
    "[PushEVS.com](https://pushevs.com/2020/05/13/volkswagen-meb-details/) is used as an example (NMC622 is used instead of NMC712, as the latter is not in the public version of BatPaC V5l). All other parameters are BatPaC default parameters.\n",
    "\n",
    "* usable battery energy: 94%\n",
    "* Total pack energy: 82 kWh\n",
    "* Electrode pair: NMC622-G\n",
    "* Silicon additive anode: 0%\n",
    "* Cells per module: 24\n",
    "* Modules per pack: 12\n",
    "* Modules in parallel: 2 \n",
    "* Cooling: liquid\n",
    "* Maximum charging time: 33 minutes (ev-database.org)\n",
    "* Maximum charge power: 135 kW (ev-database.org)\n",
    "<br>\n"
   ]
  },
  {
   "cell_type": "code",
   "execution_count": 15,
   "id": "5f8c65ac-84d6-40d7-9f26-22e6f7d01c6f",
   "metadata": {},
   "outputs": [],
   "source": [
    "#Establish battery system class of specific design:\n",
    "battery = bd.Battery_system ( vehicle_type='EV', \n",
    "                             electrode_pair='NMC622-G (Energy)', \n",
    "                             cells_per_module=24, \n",
    "                             modules_per_row=6,\n",
    "                             rows_of_modules=2, \n",
    "                             cells_in_parallel=1,\n",
    "                             silicon_anode= 0.00, \n",
    "                             pack_energy=82, \n",
    "                             calculate_fast_charge = 'Yes',\n",
    "                             max_charging_time = 33,  \n",
    "                             max_charge_power = 135, \n",
    "                             available_energy=94)\n",
    "#Establish parameter dictionary\n",
    "parameter_dict = battery.parameter_dictionary()\n",
    "\n",
    "# #Solve battery design in BatPaC returning nested dictionary with material contents and parameter values\n",
    "# #Make sure BatPaC is not open or running in the background. \n",
    "# #BatPaC can run in the foreground if visible=True\n",
    "result_dict = bd.solve_batpac_battery_system (batpac_path = path_batpac, parameter_dict=parameter_dict, visible=True)"
   ]
  },
  {
   "cell_type": "code",
   "execution_count": 17,
   "id": "09b617d5-0009-4d64-a12a-b5619890f14b",
   "metadata": {},
   "outputs": [
    {
     "name": "stdout",
     "output_type": "stream",
     "text": [
      "Results modelled pack versus VW3 ID3. Data based on PushEV and EPA \"Application for Emissions Certification\" for ID.4 (same pack):\n",
      "                               BatPaC output    VW ID3.\n",
      "---------------------------  ---------------  ---------\n",
      "Usable capacity (kWh)                  77.08         77\n",
      "Batter weight (kg)                     519.7        493\n",
      "Pack energy Wh/kg                      157.8      166.3\n",
      "Cell weight (kg)                       0.917      1.073\n",
      "Cell capacity (Ah)                     77.62         78\n",
      "Total cells                              288        288\n",
      "Cell energy density (Wh/kg)          310.424        265\n"
     ]
    }
   ],
   "source": [
    "from tabulate import tabulate\n",
    "\n",
    "headers = [' ', 'BatPaC output', 'VW ID3.']\n",
    "data = [['Usable capacity (kWh)', result_dict['general_battery_parameters']['pack_usable_energy_kWh'], 77],\n",
    "        ['Batter weight (kg)', round(result_dict['material_content_pack']['battery pack'],1),493],\n",
    "        ['Pack energy density Wh/kg', round(82/result_dict['material_content_pack']['battery pack'],4)*1000, 166.3],\n",
    "        ['Cell weight (kg)', round(result_dict['material_content_pack']['cell']/result_dict['general_battery_parameters']['cells_per_pack'],3),1.073],\n",
    "        ['Cell capacity (Ah)',round(result_dict['general_battery_parameters']['cell_capacity_ah'], 2),78],\n",
    "        ['Total cells',result_dict['general_battery_parameters']['cells_per_pack'],288],\n",
    "        ['Cell energy density (Wh/kg)', result_dict['general_battery_parameters']['specific_energy_cell_Wh/kg'],265]\n",
    "       ]\n",
    "\n",
    "print ('Results modelled pack versus VW3 ID3. Data based on PushEV and EPA \"Application for Emissions Certification\" for ID.4 (same pack):')\n",
    "print(tabulate(data, headers=headers, numalign=\"right\"))\n"
   ]
  },
  {
   "cell_type": "markdown",
   "id": "219dd0a5-a417-4880-8adb-da5c25485169",
   "metadata": {},
   "source": [
    "### Export to Excel\n",
    "Results can be exported to Excel, resulting in two files: \n",
    "* 3_MC_battery_pack_materials: the material content of the battery design\n",
    "* 3_PAR_battery_design parameters:  includes the design parameters and several technical parameters\n"
   ]
  },
  {
   "cell_type": "code",
   "execution_count": 19,
   "id": "a93dff49-305b-4d44-826f-7b05535dd3de",
   "metadata": {},
   "outputs": [],
   "source": [
    "bd.export_to_excel(result_dict, 'result_1')"
   ]
  },
  {
   "cell_type": "markdown",
   "id": "bfe7ffca",
   "metadata": {},
   "source": [
    "## Example 2 - Including vehicle parameters"
   ]
  },
  {
   "cell_type": "markdown",
   "id": "7796132f-903a-40a1-a2bd-c2ac82a5b193",
   "metadata": {},
   "source": [
    "## Example 3 - Solving multiple battery designs\n",
    "In the following example, the battery design module is used to iterate through several design parameters and solve the battery system for several batteries. <br>\n",
    "Using the function 'solve_batpac_battery_system_multiple', BatPaC is kept open in the background and the model solved for each design parameter (takes about 3 <br>\n",
    "second to solve BatPaC in Excel with 100 iterations per calculation enabled). <br>\n",
    "\n",
    "In this example, we will iterature through different cathode chemistries and current collector thickness to identify if the above results can be improved to better match the VW ID.3:\n",
    "\n",
    "* cathode chemistry: NMC622-G and NMC811-G\n",
    "* anode current collector thickness: 6 and 8\n",
    "* cathode current collector thickness: 10 and 12\n",
    " <br>\n",
    "\n"
   ]
  },
  {
   "cell_type": "code",
   "execution_count": null,
   "id": "2450afd0-52c7-4b82-ac41-e399f667b4cf",
   "metadata": {},
   "outputs": [],
   "source": [
    "import itertools as itertools\n",
    "\n",
    "cathode_chemistry         = ['NMC622-G (Energy)', 'NMC811-G (Energy)']\n",
    "anode_current_collector   = [6, 8]\n",
    "cathode_current_collector = [10,12]\n",
    "\n",
    "dict_design = {}\n",
    "\n",
    "param_all = list(itertools.product(cathode_chemistry,anode_current_collector,cathode_current_collector))\n",
    "for param in param_all:\n",
    "    battery = bd.Battery_system (vehicle_type='EV', electrode_pair=param[0], cells_per_module=24, modules_per_row=6,rows_of_modules=2, \n",
    "                                 cells_in_parallel=1,silicon_anode= 0.00, pack_energy=82, available_energy=94, \n",
    "                                 negative_foil_thickness=param[1], positive_foil_thickness=param[2])\n",
    "    parameter_dict = battery.parameter_dictionary()\n",
    "\n",
    "    #Save each BatPaC output in design dictionary:\n",
    "    dict_design[param] = parameter_dict\n",
    "    "
   ]
  },
  {
   "cell_type": "markdown",
   "id": "02d1c279-3b7e-4957-9e68-6669cf1cf595",
   "metadata": {},
   "source": [
    "Solve BatPaC design model for all battery design options:\n",
    "Make sure BatPaC is closed"
   ]
  },
  {
   "cell_type": "code",
   "execution_count": null,
   "id": "ccd4ddca-2b3f-4e95-8660-ef25182e0127",
   "metadata": {},
   "outputs": [
    {
     "name": "stderr",
     "output_type": "stream",
     "text": [
      "  0%|          | 0/8 [00:00<?, ?it/s]\n"
     ]
    },
    {
     "ename": "AttributeError",
     "evalue": "'NoneType' object has no attribute 'Application'",
     "output_type": "error",
     "traceback": [
      "\u001b[1;31m---------------------------------------------------------------------------\u001b[0m",
      "\u001b[1;31mAttributeError\u001b[0m                            Traceback (most recent call last)",
      "\u001b[1;32m~\\AppData\\Local\\Temp/ipykernel_2332/3819727700.py\u001b[0m in \u001b[0;36m<module>\u001b[1;34m\u001b[0m\n\u001b[1;32m----> 1\u001b[1;33m \u001b[0mresult_dict_all\u001b[0m \u001b[1;33m=\u001b[0m \u001b[0mbd\u001b[0m\u001b[1;33m.\u001b[0m\u001b[0msolve_batpac_battery_system_multiple\u001b[0m \u001b[1;33m(\u001b[0m\u001b[0mbatpac_path\u001b[0m \u001b[1;33m=\u001b[0m \u001b[0mpath_batpac\u001b[0m\u001b[1;33m,\u001b[0m \u001b[0mparameter_dict_all\u001b[0m\u001b[1;33m=\u001b[0m\u001b[0mdict_design\u001b[0m\u001b[1;33m,\u001b[0m \u001b[0mvisible\u001b[0m\u001b[1;33m=\u001b[0m\u001b[1;32mTrue\u001b[0m\u001b[1;33m)\u001b[0m\u001b[1;33m\u001b[0m\u001b[1;33m\u001b[0m\u001b[0m\n\u001b[0m",
      "\u001b[1;32m~\\OneDrive - Newcastle University\\Python\\Projects\\Batt_Sust_Model\\batt_sust_model\\battery_design\\battery_design.py\u001b[0m in \u001b[0;36msolve_batpac_battery_system_multiple\u001b[1;34m(batpac_path, parameter_dict_all, visible, save_temporary)\u001b[0m\n\u001b[0;32m     73\u001b[0m     \u001b[1;32mfor\u001b[0m \u001b[0mname\u001b[0m \u001b[1;32min\u001b[0m \u001b[0mtqdm\u001b[0m\u001b[1;33m(\u001b[0m\u001b[0mlist\u001b[0m\u001b[1;33m(\u001b[0m\u001b[0mparameter_dict_all\u001b[0m\u001b[1;33m.\u001b[0m\u001b[0mkeys\u001b[0m\u001b[1;33m(\u001b[0m\u001b[1;33m)\u001b[0m\u001b[1;33m)\u001b[0m\u001b[1;33m)\u001b[0m\u001b[1;33m:\u001b[0m\u001b[1;33m\u001b[0m\u001b[1;33m\u001b[0m\u001b[0m\n\u001b[0;32m     74\u001b[0m         \u001b[0mparam_dic\u001b[0m \u001b[1;33m=\u001b[0m \u001b[0mparameter_dict_all\u001b[0m\u001b[1;33m[\u001b[0m\u001b[0mname\u001b[0m\u001b[1;33m]\u001b[0m\u001b[1;33m\u001b[0m\u001b[1;33m\u001b[0m\u001b[0m\n\u001b[1;32m---> 75\u001b[1;33m         calculated_system = solve_batpac_battery_system(\n\u001b[0m\u001b[0;32m     76\u001b[0m             \u001b[0mbatpac_path\u001b[0m\u001b[1;33m,\u001b[0m \u001b[0mparam_dic\u001b[0m\u001b[1;33m,\u001b[0m \u001b[0mvisible\u001b[0m\u001b[1;33m=\u001b[0m\u001b[0mvisible\u001b[0m\u001b[1;33m,\u001b[0m \u001b[0mopen_workbook\u001b[0m\u001b[1;33m=\u001b[0m\u001b[0mwb_batpac\u001b[0m\u001b[1;33m\u001b[0m\u001b[1;33m\u001b[0m\u001b[0m\n\u001b[0;32m     77\u001b[0m         )\n",
      "\u001b[1;32m~\\OneDrive - Newcastle University\\Python\\Projects\\Batt_Sust_Model\\batt_sust_model\\battery_design\\battery_design.py\u001b[0m in \u001b[0;36msolve_batpac_battery_system\u001b[1;34m(batpac_path, parameter_dict, visible, open_workbook)\u001b[0m\n\u001b[0;32m     32\u001b[0m         \u001b[0mNested\u001b[0m \u001b[0mdictionary\u001b[0m \u001b[0mof\u001b[0m \u001b[0mall\u001b[0m \u001b[0mvalues\u001b[0m \u001b[0mof\u001b[0m \u001b[0mthe\u001b[0m \u001b[0mbattery\u001b[0m \u001b[0msystem\u001b[0m \u001b[0mparameters\u001b[0m\u001b[1;33m\u001b[0m\u001b[1;33m\u001b[0m\u001b[0m\n\u001b[0;32m     33\u001b[0m     \"\"\"\n\u001b[1;32m---> 34\u001b[1;33m     dict_df_batpac = parameter_to_batpac(\n\u001b[0m\u001b[0;32m     35\u001b[0m         \u001b[0mbatpac_path\u001b[0m\u001b[1;33m,\u001b[0m \u001b[0mparameter_dict\u001b[0m\u001b[1;33m,\u001b[0m \u001b[0mvisible\u001b[0m\u001b[1;33m=\u001b[0m\u001b[0mvisible\u001b[0m\u001b[1;33m,\u001b[0m \u001b[0mwb\u001b[0m\u001b[1;33m=\u001b[0m\u001b[0mopen_workbook\u001b[0m\u001b[1;33m\u001b[0m\u001b[1;33m\u001b[0m\u001b[0m\n\u001b[0;32m     36\u001b[0m     )  # Send parameters to BatPaC, calculate and return dataframes of results\n",
      "\u001b[1;32m~\\OneDrive - Newcastle University\\Python\\Projects\\Batt_Sust_Model\\batt_sust_model\\battery_design\\batpac_solver.py\u001b[0m in \u001b[0;36mparameter_to_batpac\u001b[1;34m(batpac_path, parameter_dict, visible, wb)\u001b[0m\n\u001b[0;32m     22\u001b[0m     \u001b[1;32melse\u001b[0m\u001b[1;33m:\u001b[0m\u001b[1;33m\u001b[0m\u001b[1;33m\u001b[0m\u001b[0m\n\u001b[0;32m     23\u001b[0m         \u001b[0mwb_batpac\u001b[0m \u001b[1;33m=\u001b[0m \u001b[0mwb\u001b[0m\u001b[1;33m\u001b[0m\u001b[1;33m\u001b[0m\u001b[0m\n\u001b[1;32m---> 24\u001b[1;33m     \u001b[0mwb_batpac\u001b[0m\u001b[1;33m.\u001b[0m\u001b[0mapp\u001b[0m\u001b[1;33m.\u001b[0m\u001b[0mcalculation\u001b[0m \u001b[1;33m=\u001b[0m \u001b[1;34m\"manual\"\u001b[0m  \u001b[1;31m# Suppress calculation after each value input\u001b[0m\u001b[1;33m\u001b[0m\u001b[1;33m\u001b[0m\u001b[0m\n\u001b[0m\u001b[0;32m     25\u001b[0m     \u001b[0msheets\u001b[0m \u001b[1;33m=\u001b[0m \u001b[1;33m[\u001b[0m\u001b[0msheet\u001b[0m\u001b[1;33m.\u001b[0m\u001b[0mname\u001b[0m \u001b[1;32mfor\u001b[0m \u001b[0msheet\u001b[0m \u001b[1;32min\u001b[0m \u001b[0mwb_batpac\u001b[0m\u001b[1;33m.\u001b[0m\u001b[0msheets\u001b[0m\u001b[1;33m]\u001b[0m\u001b[1;33m\u001b[0m\u001b[1;33m\u001b[0m\u001b[0m\n\u001b[0;32m     26\u001b[0m \u001b[1;33m\u001b[0m\u001b[0m\n",
      "\u001b[1;32m~\\Anaconda3\\envs\\bw\\lib\\site-packages\\xlwings\\main.py\u001b[0m in \u001b[0;36mapp\u001b[1;34m(self)\u001b[0m\n\u001b[0;32m    839\u001b[0m         \u001b[1;33m.\u001b[0m\u001b[1;33m.\u001b[0m \u001b[0mversionadded\u001b[0m\u001b[1;33m:\u001b[0m\u001b[1;33m:\u001b[0m \u001b[1;36m0.9\u001b[0m\u001b[1;36m.0\u001b[0m\u001b[1;33m\u001b[0m\u001b[1;33m\u001b[0m\u001b[0m\n\u001b[0;32m    840\u001b[0m         \"\"\"\n\u001b[1;32m--> 841\u001b[1;33m         \u001b[1;32mreturn\u001b[0m \u001b[0mApp\u001b[0m\u001b[1;33m(\u001b[0m\u001b[0mimpl\u001b[0m\u001b[1;33m=\u001b[0m\u001b[0mself\u001b[0m\u001b[1;33m.\u001b[0m\u001b[0mimpl\u001b[0m\u001b[1;33m.\u001b[0m\u001b[0mapp\u001b[0m\u001b[1;33m)\u001b[0m\u001b[1;33m\u001b[0m\u001b[1;33m\u001b[0m\u001b[0m\n\u001b[0m\u001b[0;32m    842\u001b[0m \u001b[1;33m\u001b[0m\u001b[0m\n\u001b[0;32m    843\u001b[0m     \u001b[1;32mdef\u001b[0m \u001b[0mclose\u001b[0m\u001b[1;33m(\u001b[0m\u001b[0mself\u001b[0m\u001b[1;33m)\u001b[0m\u001b[1;33m:\u001b[0m\u001b[1;33m\u001b[0m\u001b[1;33m\u001b[0m\u001b[0m\n",
      "\u001b[1;32m~\\Anaconda3\\envs\\bw\\lib\\site-packages\\xlwings\\_xlwindows.py\u001b[0m in \u001b[0;36mapp\u001b[1;34m(self)\u001b[0m\n\u001b[0;32m    540\u001b[0m     \u001b[1;33m@\u001b[0m\u001b[0mproperty\u001b[0m\u001b[1;33m\u001b[0m\u001b[1;33m\u001b[0m\u001b[0m\n\u001b[0;32m    541\u001b[0m     \u001b[1;32mdef\u001b[0m \u001b[0mapp\u001b[0m\u001b[1;33m(\u001b[0m\u001b[0mself\u001b[0m\u001b[1;33m)\u001b[0m\u001b[1;33m:\u001b[0m\u001b[1;33m\u001b[0m\u001b[1;33m\u001b[0m\u001b[0m\n\u001b[1;32m--> 542\u001b[1;33m         \u001b[1;32mreturn\u001b[0m \u001b[0mApp\u001b[0m\u001b[1;33m(\u001b[0m\u001b[0mxl\u001b[0m\u001b[1;33m=\u001b[0m\u001b[0mself\u001b[0m\u001b[1;33m.\u001b[0m\u001b[0mxl\u001b[0m\u001b[1;33m.\u001b[0m\u001b[0mApplication\u001b[0m\u001b[1;33m)\u001b[0m\u001b[1;33m\u001b[0m\u001b[1;33m\u001b[0m\u001b[0m\n\u001b[0m\u001b[0;32m    543\u001b[0m \u001b[1;33m\u001b[0m\u001b[0m\n\u001b[0;32m    544\u001b[0m     \u001b[1;32mdef\u001b[0m \u001b[0mclose\u001b[0m\u001b[1;33m(\u001b[0m\u001b[0mself\u001b[0m\u001b[1;33m)\u001b[0m\u001b[1;33m:\u001b[0m\u001b[1;33m\u001b[0m\u001b[1;33m\u001b[0m\u001b[0m\n",
      "\u001b[1;31mAttributeError\u001b[0m: 'NoneType' object has no attribute 'Application'"
     ]
    }
   ],
   "source": [
    "\n",
    "result_dict_all = bd.solve_batpac_battery_system_multiple (batpac_path = path_batpac, parameter_dict_all=dict_design, visible=True)"
   ]
  },
  {
   "cell_type": "code",
   "execution_count": null,
   "id": "be1b3777",
   "metadata": {},
   "outputs": [],
   "source": [
    "data = range(0,5)"
   ]
  },
  {
   "cell_type": "code",
   "execution_count": null,
   "id": "4aa272ba-bfd1-4fb8-9d21-f2ef657163af",
   "metadata": {},
   "outputs": [],
   "source": [
    "\n",
    "s  = [result_dict_all[x]['general_battery_parameters']['specific_energy_cell_Wh/kg'] for x in result_dict_all.keys()]\n",
    "d  = [result_dict_all[x]['general_battery_parameters']['energy_density_cell_Wh/L'] for x in result_dict_all.keys()]\n",
    "    \n"
   ]
  },
  {
   "cell_type": "code",
   "execution_count": null,
   "id": "b010ff17",
   "metadata": {},
   "outputs": [
    {
     "data": {
      "text/plain": [
       "[328.6117544498728,\n",
       " 327.3815524393312,\n",
       " 324.3567105956372,\n",
       " 323.1542204951903,\n",
       " 351.909430483573,\n",
       " 350.64695466113983,\n",
       " 347.52996729758473,\n",
       " 346.30102107304566]"
      ]
     },
     "execution_count": 31,
     "metadata": {},
     "output_type": "execute_result"
    }
   ],
   "source": [
    "s"
   ]
  },
  {
   "cell_type": "code",
   "execution_count": null,
   "id": "9a482fe4",
   "metadata": {},
   "outputs": [
    {
     "data": {
      "text/plain": [
       "[653.315176490761,\n",
       " 650.7420686292885,\n",
       " 650.701170647415,\n",
       " 648.0372177306646,\n",
       " 685.1025541411351,\n",
       " 682.4503814488081,\n",
       " 682.408860825856,\n",
       " 679.8937159567159]"
      ]
     },
     "execution_count": 32,
     "metadata": {},
     "output_type": "execute_result"
    }
   ],
   "source": [
    "d"
   ]
  },
  {
   "cell_type": "code",
   "execution_count": null,
   "id": "2bede456",
   "metadata": {},
   "outputs": [
    {
     "data": {
      "text/plain": [
       "<matplotlib.collections.PathCollection at 0x1edbbd08b80>"
      ]
     },
     "execution_count": 33,
     "metadata": {},
     "output_type": "execute_result"
    },
    {
     "data": {
      "image/png": "[encoded data removed]",
      "text/plain": [
       "<Figure size 432x288 with 1 Axes>"
      ]
     },
     "metadata": {
      "needs_background": "light"
     },
     "output_type": "display_data"
    }
   ],
   "source": [
    "plt.scatter(d,s)"
   ]
  },
  {
   "cell_type": "code",
   "execution_count": null,
   "id": "54bea023-a26d-492e-aa11-4434a9c10706",
   "metadata": {
    "tags": []
   },
   "outputs": [
    {
     "ename": "TypeError",
     "evalue": "'int' object does not support item assignment",
     "output_type": "error",
     "traceback": [
      "\u001b[1;31m---------------------------------------------------------------------------\u001b[0m",
      "\u001b[1;31mTypeError\u001b[0m                                 Traceback (most recent call last)",
      "\u001b[1;32m~\\AppData\\Local\\Temp/ipykernel_92896/2723514246.py\u001b[0m in \u001b[0;36m<module>\u001b[1;34m\u001b[0m\n\u001b[0;32m     15\u001b[0m     \u001b[0mdensity\u001b[0m\u001b[1;33m.\u001b[0m\u001b[0mappend\u001b[0m\u001b[1;33m(\u001b[0m\u001b[0mresult_dict_all\u001b[0m\u001b[1;33m[\u001b[0m\u001b[0mx\u001b[0m\u001b[1;33m]\u001b[0m\u001b[1;33m[\u001b[0m\u001b[1;34m'general_battery_parameters'\u001b[0m\u001b[1;33m]\u001b[0m\u001b[1;33m[\u001b[0m\u001b[1;34m'specific_energy_cell_Wh/kg'\u001b[0m\u001b[1;33m]\u001b[0m\u001b[1;33m)\u001b[0m\u001b[1;33m\u001b[0m\u001b[1;33m\u001b[0m\u001b[0m\n\u001b[0;32m     16\u001b[0m \u001b[1;33m\u001b[0m\u001b[0m\n\u001b[1;32m---> 17\u001b[1;33m \u001b[0mdata\u001b[0m\u001b[1;33m[\u001b[0m\u001b[1;36m0\u001b[0m\u001b[1;33m]\u001b[0m\u001b[1;33m[\u001b[0m\u001b[1;36m1\u001b[0m\u001b[1;33m:\u001b[0m\u001b[1;36m1\u001b[0m\u001b[1;33m]\u001b[0m\u001b[1;33m=\u001b[0m\u001b[0mcapacity\u001b[0m\u001b[1;33m\u001b[0m\u001b[1;33m\u001b[0m\u001b[0m\n\u001b[0m\u001b[0;32m     18\u001b[0m \u001b[0mdata\u001b[0m\u001b[1;33m[\u001b[0m\u001b[1;36m1\u001b[0m\u001b[1;33m]\u001b[0m\u001b[1;33m[\u001b[0m\u001b[1;36m1\u001b[0m\u001b[1;33m:\u001b[0m\u001b[1;36m1\u001b[0m\u001b[1;33m]\u001b[0m\u001b[1;33m=\u001b[0m\u001b[0mwt_cell\u001b[0m\u001b[1;33m\u001b[0m\u001b[1;33m\u001b[0m\u001b[0m\n\u001b[0;32m     19\u001b[0m \u001b[0mdata\u001b[0m\u001b[1;33m[\u001b[0m\u001b[1;36m2\u001b[0m\u001b[1;33m]\u001b[0m\u001b[1;33m[\u001b[0m\u001b[1;36m1\u001b[0m\u001b[1;33m:\u001b[0m\u001b[1;36m1\u001b[0m\u001b[1;33m]\u001b[0m\u001b[1;33m=\u001b[0m\u001b[0mcap_cell\u001b[0m\u001b[1;33m\u001b[0m\u001b[1;33m\u001b[0m\u001b[0m\n",
      "\u001b[1;31mTypeError\u001b[0m: 'int' object does not support item assignment"
     ]
    }
   ],
   "source": [
    "headers = ['Example 1',*result_dict_all.keys(), 'VW ID3.']\n",
    "\n",
    "import matplotlib.pyplot as plt\n",
    "\n",
    "capacity = []\n",
    "wt_cell = []\n",
    "cap_cell= []\n",
    "total_cell = []\n",
    "density = []\n",
    "for x in result_dict_all.keys():\n",
    "    capacity.append(result_dict_all[x]['general_battery_parameters']['pack_usable_energy_kWh'])\n",
    "    wt_cell.append(round(result_dict_all[x]['material_content_pack']['cell']/result_dict_all[x]['general_battery_parameters']['cells_per_pack'],3))\n",
    "    cap_cell.append(round(result_dict_all[x]['general_battery_parameters']['cell_capacity_ah'], 2))\n",
    "    total_cell.append(result_dict_all[x]['general_battery_parameters']['cells_per_pack'])\n",
    "    density.append(result_dict_all[x]['general_battery_parameters']['specific_energy_cell_Wh/kg'])\n",
    "\n",
    "data[0][1:1]=capacity\n",
    "data[1][1:1]=wt_cell\n",
    "data[2][1:1]=cap_cell\n",
    "data[3][1:1]=total_cell\n",
    "data[4][1:1]=density\n",
    "\n",
    "\n",
    "headers = ['Baseline',*[str(k) for k in result_dict_all.keys()], 'VW ID3.']\n",
    "\n",
    "print ('Results modelled pack versus VW3 ID3. pack as reported by PushEVS:\\n')\n",
    "print(tabulate(data, headers=headers, numalign=\"right\"))"
   ]
  },
  {
   "cell_type": "code",
   "execution_count": null,
   "id": "bd8721d4-1981-4380-b825-e9df0d96359c",
   "metadata": {},
   "outputs": [],
   "source": []
  },
  {
   "cell_type": "code",
   "execution_count": null,
   "id": "79bfe772-60ce-466f-b16b-7dd1fd99aae3",
   "metadata": {},
   "outputs": [
    {
     "data": {
      "text/plain": [
       "<AxesSubplot:>"
      ]
     },
     "execution_count": 98,
     "metadata": {},
     "output_type": "execute_result"
    },
    {
     "data": {
      "image/png": "[encoded data removed]",
      "text/plain": [
       "<Figure size 432x288 with 1 Axes>"
      ]
     },
     "metadata": {
      "needs_background": "light"
     },
     "output_type": "display_data"
    }
   ],
   "source": [
    "df.T.plot(kind='barh', stacked=True)"
   ]
  },
  {
   "cell_type": "code",
   "execution_count": null,
   "id": "75031fbc-ee7f-42d3-bd66-af9de2bb25b6",
   "metadata": {},
   "outputs": [
    {
     "ename": "ValueError",
     "evalue": "Invalid file path or buffer object type: <class 'NoneType'>",
     "output_type": "error",
     "traceback": [
      "\u001b[1;31m---------------------------------------------------------------------------\u001b[0m",
      "\u001b[1;31mValueError\u001b[0m                                Traceback (most recent call last)",
      "\u001b[1;32m<ipython-input-108-1750f009bd65>\u001b[0m in \u001b[0;36m<module>\u001b[1;34m\u001b[0m\n\u001b[0;32m      1\u001b[0m \u001b[0mdic\u001b[0m \u001b[1;33m=\u001b[0m \u001b[1;33m{\u001b[0m\u001b[1;33m}\u001b[0m\u001b[1;33m\u001b[0m\u001b[1;33m\u001b[0m\u001b[0m\n\u001b[0;32m      2\u001b[0m \u001b[1;32mfor\u001b[0m \u001b[0mx\u001b[0m \u001b[1;32min\u001b[0m \u001b[0mresult_dict_all\u001b[0m\u001b[1;33m.\u001b[0m\u001b[0mkeys\u001b[0m\u001b[1;33m(\u001b[0m\u001b[1;33m)\u001b[0m\u001b[1;33m:\u001b[0m\u001b[1;33m\u001b[0m\u001b[1;33m\u001b[0m\u001b[0m\n\u001b[1;32m----> 3\u001b[1;33m     \u001b[0mdic\u001b[0m\u001b[1;33m[\u001b[0m\u001b[0mx\u001b[0m\u001b[1;33m]\u001b[0m \u001b[1;33m=\u001b[0m \u001b[0mplot_bar_chart\u001b[0m\u001b[1;33m(\u001b[0m\u001b[0mresult_dict_all\u001b[0m\u001b[1;33m[\u001b[0m\u001b[0mx\u001b[0m\u001b[1;33m]\u001b[0m\u001b[1;33m,\u001b[0m \u001b[0mname\u001b[0m\u001b[1;33m=\u001b[0m\u001b[0mx\u001b[0m\u001b[1;33m)\u001b[0m\u001b[1;33m\u001b[0m\u001b[1;33m\u001b[0m\u001b[0m\n\u001b[0m\u001b[0;32m      4\u001b[0m \u001b[1;33m\u001b[0m\u001b[0m\n",
      "\u001b[1;32m<ipython-input-106-5eda8844bbe4>\u001b[0m in \u001b[0;36mplot_bar_chart\u001b[1;34m(result_dict, path_comp_type_linkage, save, name)\u001b[0m\n\u001b[0;32m      8\u001b[0m         \u001b[0mcomp_type_linkage\u001b[0m \u001b[1;33m(\u001b[0m\u001b[0mstr\u001b[0m\u001b[1;33m)\u001b[0m\u001b[1;33m:\u001b[0m \u001b[0mPath\u001b[0m \u001b[0mto\u001b[0m \u001b[0mExcel\u001b[0m \u001b[0msheet\u001b[0m \u001b[1;32mwith\u001b[0m \u001b[0mbattery\u001b[0m \u001b[0mcomponents\u001b[0m \u001b[0mby\u001b[0m \u001b[0mtype\u001b[0m\u001b[1;33m.\u001b[0m \u001b[0mDefault\u001b[0m \u001b[0mlocation\u001b[0m \u001b[1;32mis\u001b[0m \u001b[1;36m1\u001b[0m\u001b[0m_battery_design_module\u001b[0m\u001b[1;33m\u001b[0m\u001b[1;33m\u001b[0m\u001b[0m\n\u001b[0;32m      9\u001b[0m     \"\"\"   \n\u001b[1;32m---> 10\u001b[1;33m     \u001b[0mdf_types\u001b[0m \u001b[1;33m=\u001b[0m \u001b[0mpd\u001b[0m\u001b[1;33m.\u001b[0m\u001b[0mread_excel\u001b[0m\u001b[1;33m(\u001b[0m\u001b[0mpath_comp_type_linkage\u001b[0m\u001b[1;33m,\u001b[0m \u001b[0mindex_col\u001b[0m\u001b[1;33m=\u001b[0m\u001b[1;34m'component'\u001b[0m\u001b[1;33m)\u001b[0m\u001b[1;33m\u001b[0m\u001b[1;33m\u001b[0m\u001b[0m\n\u001b[0m\u001b[0;32m     11\u001b[0m \u001b[1;33m\u001b[0m\u001b[0m\n\u001b[0;32m     12\u001b[0m     \u001b[0mresult\u001b[0m \u001b[1;33m=\u001b[0m \u001b[0mresult_dict\u001b[0m\u001b[1;33m[\u001b[0m\u001b[1;34m'material_content_pack'\u001b[0m\u001b[1;33m]\u001b[0m\u001b[1;33m\u001b[0m\u001b[1;33m\u001b[0m\u001b[0m\n",
      "\u001b[1;32m~\\Anaconda3\\envs\\bw\\lib\\site-packages\\pandas\\util\\_decorators.py\u001b[0m in \u001b[0;36mwrapper\u001b[1;34m(*args, **kwargs)\u001b[0m\n\u001b[0;32m    309\u001b[0m                     \u001b[0mstacklevel\u001b[0m\u001b[1;33m=\u001b[0m\u001b[0mstacklevel\u001b[0m\u001b[1;33m,\u001b[0m\u001b[1;33m\u001b[0m\u001b[1;33m\u001b[0m\u001b[0m\n\u001b[0;32m    310\u001b[0m                 )\n\u001b[1;32m--> 311\u001b[1;33m             \u001b[1;32mreturn\u001b[0m \u001b[0mfunc\u001b[0m\u001b[1;33m(\u001b[0m\u001b[1;33m*\u001b[0m\u001b[0margs\u001b[0m\u001b[1;33m,\u001b[0m \u001b[1;33m**\u001b[0m\u001b[0mkwargs\u001b[0m\u001b[1;33m)\u001b[0m\u001b[1;33m\u001b[0m\u001b[1;33m\u001b[0m\u001b[0m\n\u001b[0m\u001b[0;32m    312\u001b[0m \u001b[1;33m\u001b[0m\u001b[0m\n\u001b[0;32m    313\u001b[0m         \u001b[1;32mreturn\u001b[0m \u001b[0mwrapper\u001b[0m\u001b[1;33m\u001b[0m\u001b[1;33m\u001b[0m\u001b[0m\n",
      "\u001b[1;32m~\\Anaconda3\\envs\\bw\\lib\\site-packages\\pandas\\io\\excel\\_base.py\u001b[0m in \u001b[0;36mread_excel\u001b[1;34m(io, sheet_name, header, names, index_col, usecols, squeeze, dtype, engine, converters, true_values, false_values, skiprows, nrows, na_values, keep_default_na, na_filter, verbose, parse_dates, date_parser, thousands, comment, skipfooter, convert_float, mangle_dupe_cols, storage_options)\u001b[0m\n\u001b[0;32m    362\u001b[0m     \u001b[1;32mif\u001b[0m \u001b[1;32mnot\u001b[0m \u001b[0misinstance\u001b[0m\u001b[1;33m(\u001b[0m\u001b[0mio\u001b[0m\u001b[1;33m,\u001b[0m \u001b[0mExcelFile\u001b[0m\u001b[1;33m)\u001b[0m\u001b[1;33m:\u001b[0m\u001b[1;33m\u001b[0m\u001b[1;33m\u001b[0m\u001b[0m\n\u001b[0;32m    363\u001b[0m         \u001b[0mshould_close\u001b[0m \u001b[1;33m=\u001b[0m \u001b[1;32mTrue\u001b[0m\u001b[1;33m\u001b[0m\u001b[1;33m\u001b[0m\u001b[0m\n\u001b[1;32m--> 364\u001b[1;33m         \u001b[0mio\u001b[0m \u001b[1;33m=\u001b[0m \u001b[0mExcelFile\u001b[0m\u001b[1;33m(\u001b[0m\u001b[0mio\u001b[0m\u001b[1;33m,\u001b[0m \u001b[0mstorage_options\u001b[0m\u001b[1;33m=\u001b[0m\u001b[0mstorage_options\u001b[0m\u001b[1;33m,\u001b[0m \u001b[0mengine\u001b[0m\u001b[1;33m=\u001b[0m\u001b[0mengine\u001b[0m\u001b[1;33m)\u001b[0m\u001b[1;33m\u001b[0m\u001b[1;33m\u001b[0m\u001b[0m\n\u001b[0m\u001b[0;32m    365\u001b[0m     \u001b[1;32melif\u001b[0m \u001b[0mengine\u001b[0m \u001b[1;32mand\u001b[0m \u001b[0mengine\u001b[0m \u001b[1;33m!=\u001b[0m \u001b[0mio\u001b[0m\u001b[1;33m.\u001b[0m\u001b[0mengine\u001b[0m\u001b[1;33m:\u001b[0m\u001b[1;33m\u001b[0m\u001b[1;33m\u001b[0m\u001b[0m\n\u001b[0;32m    366\u001b[0m         raise ValueError(\n",
      "\u001b[1;32m~\\Anaconda3\\envs\\bw\\lib\\site-packages\\pandas\\io\\excel\\_base.py\u001b[0m in \u001b[0;36m__init__\u001b[1;34m(self, path_or_buffer, engine, storage_options)\u001b[0m\n\u001b[0;32m   1189\u001b[0m                 \u001b[0mext\u001b[0m \u001b[1;33m=\u001b[0m \u001b[1;34m\"xls\"\u001b[0m\u001b[1;33m\u001b[0m\u001b[1;33m\u001b[0m\u001b[0m\n\u001b[0;32m   1190\u001b[0m             \u001b[1;32melse\u001b[0m\u001b[1;33m:\u001b[0m\u001b[1;33m\u001b[0m\u001b[1;33m\u001b[0m\u001b[0m\n\u001b[1;32m-> 1191\u001b[1;33m                 ext = inspect_excel_format(\n\u001b[0m\u001b[0;32m   1192\u001b[0m                     \u001b[0mcontent_or_path\u001b[0m\u001b[1;33m=\u001b[0m\u001b[0mpath_or_buffer\u001b[0m\u001b[1;33m,\u001b[0m \u001b[0mstorage_options\u001b[0m\u001b[1;33m=\u001b[0m\u001b[0mstorage_options\u001b[0m\u001b[1;33m\u001b[0m\u001b[1;33m\u001b[0m\u001b[0m\n\u001b[0;32m   1193\u001b[0m                 )\n",
      "\u001b[1;32m~\\Anaconda3\\envs\\bw\\lib\\site-packages\\pandas\\io\\excel\\_base.py\u001b[0m in \u001b[0;36minspect_excel_format\u001b[1;34m(content_or_path, storage_options)\u001b[0m\n\u001b[0;32m   1068\u001b[0m         \u001b[0mcontent_or_path\u001b[0m \u001b[1;33m=\u001b[0m \u001b[0mBytesIO\u001b[0m\u001b[1;33m(\u001b[0m\u001b[0mcontent_or_path\u001b[0m\u001b[1;33m)\u001b[0m\u001b[1;33m\u001b[0m\u001b[1;33m\u001b[0m\u001b[0m\n\u001b[0;32m   1069\u001b[0m \u001b[1;33m\u001b[0m\u001b[0m\n\u001b[1;32m-> 1070\u001b[1;33m     with get_handle(\n\u001b[0m\u001b[0;32m   1071\u001b[0m         \u001b[0mcontent_or_path\u001b[0m\u001b[1;33m,\u001b[0m \u001b[1;34m\"rb\"\u001b[0m\u001b[1;33m,\u001b[0m \u001b[0mstorage_options\u001b[0m\u001b[1;33m=\u001b[0m\u001b[0mstorage_options\u001b[0m\u001b[1;33m,\u001b[0m \u001b[0mis_text\u001b[0m\u001b[1;33m=\u001b[0m\u001b[1;32mFalse\u001b[0m\u001b[1;33m\u001b[0m\u001b[1;33m\u001b[0m\u001b[0m\n\u001b[0;32m   1072\u001b[0m     ) as handle:\n",
      "\u001b[1;32m~\\Anaconda3\\envs\\bw\\lib\\site-packages\\pandas\\io\\common.py\u001b[0m in \u001b[0;36mget_handle\u001b[1;34m(path_or_buf, mode, encoding, compression, memory_map, is_text, errors, storage_options)\u001b[0m\n\u001b[0;32m    606\u001b[0m \u001b[1;33m\u001b[0m\u001b[0m\n\u001b[0;32m    607\u001b[0m     \u001b[1;31m# open URLs\u001b[0m\u001b[1;33m\u001b[0m\u001b[1;33m\u001b[0m\u001b[1;33m\u001b[0m\u001b[0m\n\u001b[1;32m--> 608\u001b[1;33m     ioargs = _get_filepath_or_buffer(\n\u001b[0m\u001b[0;32m    609\u001b[0m         \u001b[0mpath_or_buf\u001b[0m\u001b[1;33m,\u001b[0m\u001b[1;33m\u001b[0m\u001b[1;33m\u001b[0m\u001b[0m\n\u001b[0;32m    610\u001b[0m         \u001b[0mencoding\u001b[0m\u001b[1;33m=\u001b[0m\u001b[0mencoding\u001b[0m\u001b[1;33m,\u001b[0m\u001b[1;33m\u001b[0m\u001b[1;33m\u001b[0m\u001b[0m\n",
      "\u001b[1;32m~\\Anaconda3\\envs\\bw\\lib\\site-packages\\pandas\\io\\common.py\u001b[0m in \u001b[0;36m_get_filepath_or_buffer\u001b[1;34m(filepath_or_buffer, encoding, compression, mode, storage_options)\u001b[0m\n\u001b[0;32m    393\u001b[0m     \u001b[1;32mif\u001b[0m \u001b[1;32mnot\u001b[0m \u001b[0mis_file_like\u001b[0m\u001b[1;33m(\u001b[0m\u001b[0mfilepath_or_buffer\u001b[0m\u001b[1;33m)\u001b[0m\u001b[1;33m:\u001b[0m\u001b[1;33m\u001b[0m\u001b[1;33m\u001b[0m\u001b[0m\n\u001b[0;32m    394\u001b[0m         \u001b[0mmsg\u001b[0m \u001b[1;33m=\u001b[0m \u001b[1;34mf\"Invalid file path or buffer object type: {type(filepath_or_buffer)}\"\u001b[0m\u001b[1;33m\u001b[0m\u001b[1;33m\u001b[0m\u001b[0m\n\u001b[1;32m--> 395\u001b[1;33m         \u001b[1;32mraise\u001b[0m \u001b[0mValueError\u001b[0m\u001b[1;33m(\u001b[0m\u001b[0mmsg\u001b[0m\u001b[1;33m)\u001b[0m\u001b[1;33m\u001b[0m\u001b[1;33m\u001b[0m\u001b[0m\n\u001b[0m\u001b[0;32m    396\u001b[0m \u001b[1;33m\u001b[0m\u001b[0m\n\u001b[0;32m    397\u001b[0m     return IOArgs(\n",
      "\u001b[1;31mValueError\u001b[0m: Invalid file path or buffer object type: <class 'NoneType'>"
     ]
    }
   ],
   "source": [
    "dic = {}\n",
    "for x in result_dict_all.keys():\n",
    "    dic[x] = plot_bar_chart(result_dict_all[x], name=x)\n",
    "    "
   ]
  },
  {
   "cell_type": "code",
   "execution_count": null,
   "id": "ae5f4113-d770-4daa-8427-56d8e21c3ae8",
   "metadata": {},
   "outputs": [],
   "source": [
    "from pathlib import Path\n",
    "import numpy as np\n",
    "\n",
    "def plot_bar_chart (result_dict, path_comp_type_linkage=None, save=True, name=None):\n",
    "    \"\"\" Plots a donut diagram of the battery bills of material\n",
    "    Args:\n",
    "        result_dict (dict): dictionary of battery design module output by name\n",
    "        comp_type_linkage (str): Path to Excel sheet with battery components by type. Default location is 1_battery_design_module\n",
    "    \"\"\"   \n",
    "    df_types = pd.read_excel(path_comp_type_linkage, index_col='component')\n",
    "\n",
    "    result = result_dict['material_content_pack']\n",
    "\n",
    "    df_types[name] = df_types.index.map(result).fillna(0)\n",
    "    df_types = df_types[(df_types != 0).all(1)]\n",
    "    df_types = df_types.groupby(['component_type', 'part_off']).sum()\n",
    "    df_types.sort_values(by='part_off', ascending=True, inplace=True)\n",
    "    df_types = df_types.reset_index(level=[1])\n",
    "    df_types.drop('part_off', axis=1, inplace=True)\n",
    "    labels = list(df_types.index)\n",
    "    values = list(df_types['result'])\n",
    "\n",
    "    return df_types\n"
   ]
  },
  {
   "cell_type": "code",
   "execution_count": null,
   "id": "7850c762-61a4-4f14-bac4-147a4f62aa66",
   "metadata": {},
   "outputs": [
    {
     "ename": "NameError",
     "evalue": "name 'result_dict' is not defined",
     "output_type": "error",
     "traceback": [
      "\u001b[1;31m---------------------------------------------------------------------------\u001b[0m",
      "\u001b[1;31mNameError\u001b[0m                                 Traceback (most recent call last)",
      "\u001b[1;32m<ipython-input-5-24701a844412>\u001b[0m in \u001b[0;36m<module>\u001b[1;34m\u001b[0m\n\u001b[1;32m----> 1\u001b[1;33m \u001b[0mresult_dict\u001b[0m\u001b[1;33m\u001b[0m\u001b[1;33m\u001b[0m\u001b[0m\n\u001b[0m",
      "\u001b[1;31mNameError\u001b[0m: name 'result_dict' is not defined"
     ]
    }
   ],
   "source": [
    "else:\n",
    "        df_types = pd.read_excel(path_comp_type_linkage, index_col='component')\n",
    "\n",
    "    result = result_dict['material_content_pack']\n",
    "\n",
    "    df_types['result'] = df_types.index.map(result).fillna(0)\n",
    "    df_types = df_types[(df_types != 0).all(1)]\n",
    "    df_types = df_types.groupby(['component_type', 'part_off']).sum()\n",
    "    df_types.sort_values(by='part_off', ascending=True, inplace=True)\n",
    "    df_types = df_types.reset_index(level=[1])\n",
    "    labels = list(df_types.index)\n",
    "    values = list(df_types['result'])\n",
    "    fig, ax = plt.subplots(figsize=(8, 8))\n",
    "    centre_circle = plt.Circle((0, 0), 0.70, fc='white')\n",
    "    fig = plt.gcf()\n",
    "    fig.gca().add_artist(centre_circle)\n",
    "\n",
    "    label_kg = []\n",
    "    for x in range(len(labels)):\n",
    "        label_kg.append(f'{labels[x]} {round(values[x])}kg')\n",
    "\n",
    "    cmap = plt.get_cmap(\"tab20c\")\n",
    "    inner_colors = cmap([0, 1, 2, 5, 6, 7, 8, 9, 10, 11, 13, 16, 17, 18, 19])\n",
    "\n",
    "    def autopct_format(values):\n",
    "        def my_format(pct):\n",
    "            total = sum(values)\n",
    "            val = int(round(pct * total / 100.0, 1))\n",
    "            return '{v:d}'.format(v=val)\n",
    "\n",
    "        return my_format\n",
    "\n",
    "    wedges, texts = ax.pie(values, wedgeprops=dict(width=0.5), startangle=180, colors=inner_colors)\n",
    "\n",
    "    bbox_props = dict(boxstyle=\"square,pad=0.2\", fc=\"w\", ec=\"k\", lw=0.72)\n",
    "    kw = dict(arrowprops=dict(arrowstyle=\"-\"),\n",
    "              # bbox=bbox_props,\n",
    "              zorder=0, va=\"center\")\n",
    "\n",
    "    for i, p in enumerate(wedges):\n",
    "        ang = (p.theta2 - p.theta1) / 2. + p.theta1\n",
    "        y = np.sin(np.deg2rad(ang))\n",
    "        x = np.cos(np.deg2rad(ang))\n",
    "        horizontalalignment = {-1: \"right\", 1: \"left\"}[int(np.sign(x))]\n",
    "        connectionstyle = \"angle,angleA=0,angleB={}\".format(ang)\n",
    "        kw[\"arrowprops\"].update({\"connectionstyle\": connectionstyle})\n",
    "        ax.annotate(label_kg[i], xy=(x, y), xytext=(1.1 * np.sign(x), 1.2 * y),\n",
    "                    horizontalalignment=horizontalalignment, **kw, fontsize=13)\n",
    "\n",
    "    capacity = round(result_dict['general_battery_parameters']['pack_energy_kWh'])\n",
    "    electrode = result_dict['general_battery_parameters']['electrode_pair']\n",
    "    weight = round(result_dict['material_content_pack']['battery pack'])\n",
    "    plt.suptitle(f'{electrode} {capacity} kWh, {weight} kg', fontsize=20)\n",
    "\n",
    "    ax.axis('equal')\n",
    "    # plt.tight_layout()\n",
    "    if save is False:\n",
    "        return plt.show()\n",
    "    if save is True:\n",
    "        if name is False:\n",
    "            plt.savefig(f'material content {electrode} {capacity} kWh.png', bbox_inches = \"tight\")\n",
    "        plt.savefig(f'{name}.png', bbox_inches = \"tight\")\n",
    "        return plt.show()"
   ]
  },
  {
   "cell_type": "markdown",
   "id": "6d2fde0f-e7b5-4f61-9a7f-2381f49a9891",
   "metadata": {
    "tags": []
   },
   "source": [
    "# "
   ]
  }
 ],
 "metadata": {
  "kernelspec": {
   "display_name": "Python 3 (ipykernel)",
   "language": "python",
   "name": "python3"
  },
  "language_info": {
   "codemirror_mode": {
    "name": "ipython",
    "version": 3
   },
   "file_extension": ".py",
   "mimetype": "text/x-python",
   "name": "python",
   "nbconvert_exporter": "python",
   "pygments_lexer": "ipython3",
   "version": "3.9.7"
  }
 },
 "nbformat": 4,
 "nbformat_minor": 5
}
